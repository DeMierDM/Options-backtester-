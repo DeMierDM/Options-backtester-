{
 "cells": [
  {
   "cell_type": "markdown",
   "metadata": {
    "ExecuteTime": {
     "end_time": "2019-05-04T14:05:49.413270Z",
     "start_time": "2019-05-04T14:05:48.782154Z"
    },
    "run_control": {
     "frozen": false,
     "read_only": false
    }
   },
   "source": [
    "## Trading a Delta Hedged Straddle\n",
    "\n",
    "1.  Buy 10 contracts of puts and calls at the strike closest to current stock price every morning\n",
    "    a. Expiry that is closest to today but at least 5 trading days out.\n",
    "    b. Hedge remaining delta\n",
    "2.  Re-hedge if residual delta > 2 contracts\n",
    "2.  Exit the trade at EOD.\n",
    "5.  We assume no slippage (i.e. entry and exit at mid price) and commission of 1/2 a cent for stock trades and 1 dollar for option trades"
   ]
  },
  {
   "cell_type": "markdown",
   "metadata": {},
   "source": [
    "First lets generate some option prices based on the underlying stock price.  We will generate some random volatility numbers, and use Black Scholes to generate prices.  We will add all this data to a strategy context that we can later use from our strategy and avoid excessive global variables."
   ]
  },
  {
   "cell_type": "code",
   "execution_count": 1,
   "metadata": {
    "ExecuteTime": {
     "end_time": "2023-10-24T01:27:36.797882Z",
     "start_time": "2023-10-24T01:27:23.932007Z"
    },
    "run_control": {
     "frozen": false,
     "read_only": false
    }
   },
   "outputs": [
    {
     "name": "stdout",
     "output_type": "stream",
     "text": [
      "running typecheck\n",
      "\u001b[1m\u001b[32mSuccess: no issues found in 1 source file\u001b[m\n",
      "\n",
      "running flake8\n",
      "flake8 success\n",
      "[2023-10-23 20:27:36.767 __call__] ORDER: 2023-01-03T09:35 P-3900-2023-01-20_C-3900-2023-01-20 2023-01-03 09:35:00 qty: 10 ENTER_STRADDLE  OrderStatus.OPEN\n",
      "[2023-10-23 20:27:36.767 __call__] TRADE: 2023-01-03T09:40 P-3900-2023-01-20_C-3900-2023-01-20  2023-01-03 09:40:00 qty: 10 prc: 143.65   order: P-3900-2023-01-20_C-3900-2023-01-20 2023-01-03 09:35:00 qty: 10 ENTER_STRADDLE  OrderStatus.OPEN \n",
      "[2023-10-23 20:27:36.768 __call__] ORDER: 2023-01-03T10:00 SPX 2023-01-03 10:00:00 qty: 228 REHEDGE  OrderStatus.OPEN\n",
      "[2023-10-23 20:27:36.768 __call__] TRADE: 2023-01-03T10:05 SPX  2023-01-03 10:05:00 qty: 228 prc: 3835.12   order: SPX 2023-01-03 10:00:00 qty: 228 REHEDGE  OrderStatus.OPEN \n",
      "[2023-10-23 20:27:36.768 __call__] ORDER: 2023-01-03T11:00 SPX 2023-01-03 11:00:00 qty: -228 REHEDGE  OrderStatus.OPEN\n",
      "[2023-10-23 20:27:36.769 __call__] TRADE: 2023-01-03T11:05 SPX  2023-01-03 11:05:00 qty: -228 prc: 3830.81   order: SPX 2023-01-03 11:00:00 qty: -228 REHEDGE  OrderStatus.OPEN \n",
      "[2023-10-23 20:27:36.769 __call__] ORDER: 2023-01-03T14:00 SPX 2023-01-03 14:00:00 qty: 343 REHEDGE  OrderStatus.OPEN\n",
      "[2023-10-23 20:27:36.769 __call__] TRADE: 2023-01-03T14:05 SPX  2023-01-03 14:05:00 qty: 343 prc: 3810.89   order: SPX 2023-01-03 14:00:00 qty: 343 REHEDGE  OrderStatus.OPEN \n",
      "[2023-10-23 20:27:36.770 __call__] ORDER: 2023-01-03T15:00 SPX 2023-01-03 15:00:00 qty: -343 REHEDGE  OrderStatus.OPEN\n",
      "[2023-10-23 20:27:36.770 __call__] TRADE: 2023-01-03T15:05 SPX  2023-01-03 15:05:00 qty: -343 prc: 3814.55   order: SPX 2023-01-03 15:00:00 qty: -343 REHEDGE  OrderStatus.OPEN \n",
      "[2023-10-23 20:27:36.770 __call__] ORDER: 2023-01-03T15:25 P-3900-2023-01-20_C-3900-2023-01-20 2023-01-03 15:25:00 qty: -10 EOD  OrderStatus.OPEN\n",
      "[2023-10-23 20:27:36.770 __call__] ORDER: 2023-01-03T15:30 P-3900-2023-01-20_C-3900-2023-01-20 2023-01-03 15:30:00 qty: -10 EOD  OrderStatus.OPEN\n",
      "[2023-10-23 20:27:36.771 __call__] TRADE: 2023-01-03T15:35 P-3900-2023-01-20_C-3900-2023-01-20  2023-01-03 15:35:00 qty: -10 prc: 147.8   order: P-3900-2023-01-20_C-3900-2023-01-20 2023-01-03 15:30:00 qty: -10 EOD  OrderStatus.OPEN \n",
      "[2023-10-23 20:27:36.771 __call__] ORDER: 2023-01-04T09:35 P-3500-2023-02-17_C-4100-2023-02-17 2023-01-04 09:35:00 qty: 10 ENTER_STRADDLE  OrderStatus.OPEN\n",
      "[2023-10-23 20:27:36.771 __call__] ORDER: 2023-01-04T09:40 P-3400-2023-02-17_C-4200-2023-02-17 2023-01-04 09:40:00 qty: 10 ENTER_STRADDLE  OrderStatus.OPEN\n",
      "[2023-10-23 20:27:36.772 __call__] ORDER: 2023-01-04T09:55 P-3600-2023-02-17_C-4000-2023-02-17 2023-01-04 09:55:00 qty: 10 ENTER_STRADDLE  OrderStatus.OPEN\n",
      "[2023-10-23 20:27:36.773 __call__] ORDER: 2023-01-04T10:00 P-3500-2023-02-17_C-4100-2023-02-17 2023-01-04 10:00:00 qty: 10 ENTER_STRADDLE  OrderStatus.OPEN\n",
      "[2023-10-23 20:27:36.773 __call__] TRADE: 2023-01-04T10:05 P-3500-2023-02-17_C-4100-2023-02-17  2023-01-04 10:05:00 qty: 10 prc: 45.3   order: P-3500-2023-02-17_C-4100-2023-02-17 2023-01-04 10:00:00 qty: 10 ENTER_STRADDLE  OrderStatus.OPEN \n",
      "[2023-10-23 20:27:36.773 __call__] ORDER: 2023-01-04T15:00 SPX 2023-01-04 15:00:00 qty: -78 REHEDGE  OrderStatus.OPEN\n",
      "[2023-10-23 20:27:36.774 __call__] TRADE: 2023-01-04T15:05 SPX  2023-01-04 15:05:00 qty: -78 prc: 3845.29   order: SPX 2023-01-04 15:00:00 qty: -78 REHEDGE  OrderStatus.OPEN \n",
      "[2023-10-23 20:27:36.774 __call__] ORDER: 2023-01-04T15:25 P-3500-2023-02-17_C-4100-2023-02-17 2023-01-04 15:25:00 qty: -10 EOD  OrderStatus.OPEN\n",
      "[2023-10-23 20:27:36.774 __call__] ORDER: 2023-01-04T15:25 SPX 2023-01-04 15:25:00 qty: 78 EOD  OrderStatus.OPEN\n",
      "[2023-10-23 20:27:36.775 __call__] TRADE: 2023-01-04T15:30 SPX  2023-01-04 15:30:00 qty: 78 prc: 3839.81   order: SPX 2023-01-04 15:25:00 qty: 78 EOD  OrderStatus.OPEN \n",
      "[2023-10-23 20:27:36.775 __call__] ORDER: 2023-01-04T15:30 P-3500-2023-02-17_C-4100-2023-02-17 2023-01-04 15:30:00 qty: -10 EOD  OrderStatus.OPEN\n",
      "[2023-10-23 20:27:36.775 __call__] TRADE: 2023-01-04T15:35 P-3500-2023-02-17_C-4100-2023-02-17  2023-01-04 15:35:00 qty: -10 prc: 44.27   order: P-3500-2023-02-17_C-4100-2023-02-17 2023-01-04 15:30:00 qty: -10 EOD  OrderStatus.OPEN \n",
      "[2023-10-23 20:27:36.776 __call__] ORDER: 2023-01-05T09:35 P-3600-2023-02-17_C-4000-2023-02-17 2023-01-05 09:35:00 qty: 10 ENTER_STRADDLE  OrderStatus.OPEN\n",
      "[2023-10-23 20:27:36.776 __call__] TRADE: 2023-01-05T09:40 P-3600-2023-02-17_C-4000-2023-02-17  2023-01-05 09:40:00 qty: 10 prc: 81.01   order: P-3600-2023-02-17_C-4000-2023-02-17 2023-01-05 09:35:00 qty: 10 ENTER_STRADDLE  OrderStatus.OPEN \n",
      "[2023-10-23 20:27:36.777 __call__] ORDER: 2023-01-05T10:00 SPX 2023-01-05 10:00:00 qty: -50 REHEDGE  OrderStatus.OPEN\n",
      "[2023-10-23 20:27:36.777 __call__] TRADE: 2023-01-05T10:05 SPX  2023-01-05 10:05:00 qty: -50 prc: 3831.41   order: SPX 2023-01-05 10:00:00 qty: -50 REHEDGE  OrderStatus.OPEN \n",
      "[2023-10-23 20:27:36.777 __call__] ORDER: 2023-01-05T11:00 SPX 2023-01-05 11:00:00 qty: 50 REHEDGE  OrderStatus.OPEN\n",
      "[2023-10-23 20:27:36.778 __call__] TRADE: 2023-01-05T11:05 SPX  2023-01-05 11:05:00 qty: 50 prc: 3809.61   order: SPX 2023-01-05 11:00:00 qty: 50 REHEDGE  OrderStatus.OPEN \n",
      "[2023-10-23 20:27:36.778 __call__] ORDER: 2023-01-05T14:00 SPX 2023-01-05 14:00:00 qty: -67 REHEDGE  OrderStatus.OPEN\n",
      "[2023-10-23 20:27:36.779 __call__] TRADE: 2023-01-05T14:05 SPX  2023-01-05 14:05:00 qty: -67 prc: 3821.97   order: SPX 2023-01-05 14:00:00 qty: -67 REHEDGE  OrderStatus.OPEN \n",
      "[2023-10-23 20:27:36.779 __call__] ORDER: 2023-01-05T15:00 SPX 2023-01-05 15:00:00 qty: 67 REHEDGE  OrderStatus.OPEN\n",
      "[2023-10-23 20:27:36.779 __call__] TRADE: 2023-01-05T15:05 SPX  2023-01-05 15:05:00 qty: 67 prc: 3817.47   order: SPX 2023-01-05 15:00:00 qty: 67 REHEDGE  OrderStatus.OPEN \n",
      "[2023-10-23 20:27:36.780 __call__] ORDER: 2023-01-05T15:25 P-3600-2023-02-17_C-4000-2023-02-17 2023-01-05 15:25:00 qty: -10 EOD  OrderStatus.OPEN\n",
      "[2023-10-23 20:27:36.780 __call__] ORDER: 2023-01-05T15:30 P-3600-2023-02-17_C-4000-2023-02-17 2023-01-05 15:30:00 qty: -10 EOD  OrderStatus.OPEN\n",
      "[2023-10-23 20:27:36.780 __call__] ORDER: 2023-01-05T15:35 P-3600-2023-02-17_C-4000-2023-02-17 2023-01-05 15:35:00 qty: -10 EOD  OrderStatus.OPEN\n",
      "[2023-10-23 20:27:36.781 __call__] ORDER: 2023-01-05T15:40 P-3600-2023-02-17_C-4000-2023-02-17 2023-01-05 15:40:00 qty: -10 EOD  OrderStatus.OPEN\n",
      "[2023-10-23 20:27:36.781 __call__] ORDER: 2023-01-05T15:45 P-3600-2023-02-17_C-4000-2023-02-17 2023-01-05 15:45:00 qty: -10 EOD  OrderStatus.OPEN\n",
      "[2023-10-23 20:27:36.781 __call__] ORDER: 2023-01-05T15:50 P-3600-2023-02-17_C-4000-2023-02-17 2023-01-05 15:50:00 qty: -10 EOD  OrderStatus.OPEN\n",
      "[2023-10-23 20:27:36.782 __call__] TRADE: 2023-01-05T15:55 P-3600-2023-02-17_C-4000-2023-02-17  2023-01-05 15:55:00 qty: -10 prc: 77.7   order: P-3600-2023-02-17_C-4000-2023-02-17 2023-01-05 15:50:00 qty: -10 EOD  OrderStatus.OPEN \n",
      "[2023-10-23 20:27:36.782 __call__] ORDER: 2023-01-06T09:35 P-3800-2023-02-17_C-3800-2023-02-17 2023-01-06 09:35:00 qty: 10 ENTER_STRADDLE  OrderStatus.OPEN\n",
      "[2023-10-23 20:27:36.783 __call__] ORDER: 2023-01-06T09:40 P-3600-2023-02-17_C-4000-2023-02-17 2023-01-06 09:40:00 qty: 10 ENTER_STRADDLE  OrderStatus.OPEN\n",
      "[2023-10-23 20:27:36.783 __call__] TRADE: 2023-01-06T09:45 P-3600-2023-02-17_C-4000-2023-02-17  2023-01-06 09:45:00 qty: 10 prc: 75.82   order: P-3600-2023-02-17_C-4000-2023-02-17 2023-01-06 09:40:00 qty: 10 ENTER_STRADDLE  OrderStatus.OPEN \n",
      "[2023-10-23 20:27:36.784 __call__] ORDER: 2023-01-06T10:00 SPX 2023-01-06 10:00:00 qty: -95 REHEDGE  OrderStatus.OPEN\n",
      "[2023-10-23 20:27:36.784 __call__] TRADE: 2023-01-06T10:05 SPX  2023-01-06 10:05:00 qty: -95 prc: 3841.67   order: SPX 2023-01-06 10:00:00 qty: -95 REHEDGE  OrderStatus.OPEN \n",
      "[2023-10-23 20:27:36.784 __call__] ORDER: 2023-01-06T11:00 SPX 2023-01-06 11:00:00 qty: -78 REHEDGE  OrderStatus.OPEN\n",
      "[2023-10-23 20:27:36.785 __call__] TRADE: 2023-01-06T11:05 SPX  2023-01-06 11:05:00 qty: -78 prc: 3870.49   order: SPX 2023-01-06 11:00:00 qty: -78 REHEDGE  OrderStatus.OPEN \n",
      "[2023-10-23 20:27:36.785 __call__] ORDER: 2023-01-06T12:00 SPX 2023-01-06 12:00:00 qty: -21 REHEDGE  OrderStatus.OPEN\n",
      "[2023-10-23 20:27:36.785 __call__] TRADE: 2023-01-06T12:05 SPX  2023-01-06 12:05:00 qty: -21 prc: 3877.28   order: SPX 2023-01-06 12:00:00 qty: -21 REHEDGE  OrderStatus.OPEN \n"
     ]
    },
    {
     "name": "stdout",
     "output_type": "stream",
     "text": [
      "[2023-10-23 20:27:36.786 __call__] ORDER: 2023-01-06T13:00 SPX 2023-01-06 13:00:00 qty: 194 REHEDGE  OrderStatus.OPEN\n",
      "[2023-10-23 20:27:36.786 __call__] TRADE: 2023-01-06T13:05 SPX  2023-01-06 13:05:00 qty: 194 prc: 3871   order: SPX 2023-01-06 13:00:00 qty: 194 REHEDGE  OrderStatus.OPEN \n",
      "[2023-10-23 20:27:36.786 __call__] ORDER: 2023-01-06T15:25 P-3600-2023-02-17_C-4000-2023-02-17 2023-01-06 15:25:00 qty: -10 EOD  OrderStatus.OPEN\n",
      "[2023-10-23 20:27:36.787 __call__] TRADE: 2023-01-06T15:30 P-3600-2023-02-17_C-4000-2023-02-17  2023-01-06 15:30:00 qty: -10 prc: 87.54   order: P-3600-2023-02-17_C-4000-2023-02-17 2023-01-06 15:25:00 qty: -10 EOD  OrderStatus.OPEN \n",
      "[2023-10-23 20:27:36.788 __call__] ORDER: 2023-01-09T09:35 P-3900-2023-02-17_C-3900-2023-02-17 2023-01-09 09:35:00 qty: 10 ENTER_STRADDLE  OrderStatus.OPEN\n",
      "[2023-10-23 20:27:36.788 __call__] ORDER: 2023-01-09T09:40 P-3800-2023-02-17_C-4000-2023-02-17 2023-01-09 09:40:00 qty: 10 ENTER_STRADDLE  OrderStatus.OPEN\n",
      "[2023-10-23 20:27:36.789 __call__] TRADE: 2023-01-09T09:45 P-3800-2023-02-17_C-4000-2023-02-17  2023-01-09 09:45:00 qty: 10 prc: 130.25   order: P-3800-2023-02-17_C-4000-2023-02-17 2023-01-09 09:40:00 qty: 10 ENTER_STRADDLE  OrderStatus.OPEN \n",
      "[2023-10-23 20:27:36.789 __call__] ORDER: 2023-01-09T10:00 SPX 2023-01-09 10:00:00 qty: -133 REHEDGE  OrderStatus.OPEN\n",
      "[2023-10-23 20:27:36.790 __call__] TRADE: 2023-01-09T10:05 SPX  2023-01-09 10:05:00 qty: -133 prc: 3930.94   order: SPX 2023-01-09 10:00:00 qty: -133 REHEDGE  OrderStatus.OPEN \n",
      "[2023-10-23 20:27:36.791 __call__] ORDER: 2023-01-09T11:00 SPX 2023-01-09 11:00:00 qty: 133 REHEDGE  OrderStatus.OPEN\n",
      "[2023-10-23 20:27:36.791 __call__] TRADE: 2023-01-09T11:05 SPX  2023-01-09 11:05:00 qty: 133 prc: 3946   order: SPX 2023-01-09 11:00:00 qty: 133 REHEDGE  OrderStatus.OPEN \n",
      "[2023-10-23 20:27:36.792 __call__] ORDER: 2023-01-09T15:00 SPX 2023-01-09 15:00:00 qty: -58 REHEDGE  OrderStatus.OPEN\n",
      "[2023-10-23 20:27:36.792 __call__] TRADE: 2023-01-09T15:05 SPX  2023-01-09 15:05:00 qty: -58 prc: 3902.06   order: SPX 2023-01-09 15:00:00 qty: -58 REHEDGE  OrderStatus.OPEN \n",
      "[2023-10-23 20:27:36.793 __call__] ORDER: 2023-01-09T15:25 P-3800-2023-02-17_C-4000-2023-02-17 2023-01-09 15:25:00 qty: -10 EOD  OrderStatus.OPEN\n",
      "[2023-10-23 20:27:36.793 __call__] ORDER: 2023-01-09T15:25 SPX 2023-01-09 15:25:00 qty: 58 EOD  OrderStatus.OPEN\n",
      "[2023-10-23 20:27:36.793 __call__] TRADE: 2023-01-09T15:30 SPX  2023-01-09 15:30:00 qty: 58 prc: 3897.61   order: SPX 2023-01-09 15:25:00 qty: 58 EOD  OrderStatus.OPEN \n",
      "[2023-10-23 20:27:36.794 __call__] ORDER: 2023-01-09T15:30 P-3800-2023-02-17_C-4000-2023-02-17 2023-01-09 15:30:00 qty: -10 EOD  OrderStatus.OPEN\n",
      "[2023-10-23 20:27:36.794 __call__] ORDER: 2023-01-09T15:35 P-3800-2023-02-17_C-4000-2023-02-17 2023-01-09 15:35:00 qty: -10 EOD  OrderStatus.OPEN\n",
      "[2023-10-23 20:27:36.794 __call__] ORDER: 2023-01-09T15:40 P-3800-2023-02-17_C-4000-2023-02-17 2023-01-09 15:40:00 qty: -10 EOD  OrderStatus.OPEN\n",
      "[2023-10-23 20:27:36.795 __call__] ORDER: 2023-01-09T15:45 P-3800-2023-02-17_C-4000-2023-02-17 2023-01-09 15:45:00 qty: -10 EOD  OrderStatus.OPEN\n",
      "[2023-10-23 20:27:36.795 __call__] ORDER: 2023-01-09T15:50 P-3800-2023-02-17_C-4000-2023-02-17 2023-01-09 15:50:00 qty: -10 EOD  OrderStatus.OPEN\n"
     ]
    }
   ],
   "source": [
    "%%checkall\n",
    "import numpy as np\n",
    "import pandas as pd\n",
    "from dataclasses import dataclass\n",
    "from typing import Sequence\n",
    "import pyqstrat as pq\n",
    "from types import SimpleNamespace\n",
    "\n",
    "\n",
    "_logger = pq.get_child_logger(__name__)\n",
    "\n",
    "\n",
    "def get_symbol(put_call: str, strike: int, expiry: np.datetime64) -> str:\n",
    "    '''Create option symbol from parameters'''\n",
    "    return f'{put_call}-{strike}-{expiry}'\n",
    "\n",
    "\n",
    "def parse_symbol(symbol: str) -> tuple[str, int, np.datetime64]:\n",
    "    '''Break down option symbol into put_call, strike, expiry'''\n",
    "    split = symbol.split('-', maxsplit=2)\n",
    "    return (split[0], int(split[1]), np.datetime64(split[2]))\n",
    "       \n",
    "\n",
    "@dataclass\n",
    "class StraddleEntryRule:\n",
    "    expiries: dict[np.datetime64, np.ndarray]\n",
    "    strikes: dict[tuple[np.datetime64, str, np.datetime64], np.ndarray]\n",
    "    umids: dict[np.datetime64, float]\n",
    "        \n",
    "    def __call__(self,\n",
    "                 contract_group: pq.ContractGroup,\n",
    "                 i: int,\n",
    "                 timestamps: np.ndarray,\n",
    "                 indicator_values: pq.SimpleNamespace,\n",
    "                 signal_values: np.ndarray,\n",
    "                 account: pq.Account,\n",
    "                 current_orders: Sequence[pq.Order],\n",
    "                 strategy_context: pq.StrategyContextType) -> list[pq.Order]:\n",
    "        timestamp = timestamps[i]\n",
    "        date = timestamp.astype('M8[D]')\n",
    "        expiries = self.expiries[date]\n",
    "        expiry = expiries[pq.np_find_closest(expiries, date + np.timedelta64(30, 'D'))]\n",
    "        put_strikes = self.strikes[(date, 'P', expiry)]\n",
    "        call_strikes = self.strikes[(date, 'C', expiry)]\n",
    "        umid = self.umids[timestamp]\n",
    "        cidx = pq.np_find_closest(call_strikes, umid)\n",
    "        pidx = pq.np_find_closest(put_strikes, umid)\n",
    "        found = False\n",
    "        for j in range(10):\n",
    "            put_strike = put_strikes[pidx]\n",
    "            call_strike = call_strikes[cidx]\n",
    "            put_symbol = get_symbol('P', put_strike, expiry)\n",
    "            call_symbol = get_symbol('C', call_strike, expiry)\n",
    "            if pq.Contract.exists(put_symbol):\n",
    "                put_contract = pq.Contract.get(put_symbol)\n",
    "            else:\n",
    "                put_contract = pq.Contract.create(put_symbol, contract_group, expiry, 100)\n",
    "            if pq.Contract.exists(call_symbol):\n",
    "                call_contract = pq.Contract.get(call_symbol)\n",
    "            else:\n",
    "                call_contract = pq.Contract.create(call_symbol, contract_group, expiry, 100)\n",
    "            put_delta = context.get_delta(put_contract, timestamps, i, context)\n",
    "            call_delta = context.get_delta(call_contract, timestamps, i, context)\n",
    "            if np.isfinite(put_delta) and np.isfinite(call_delta): \n",
    "                found = True\n",
    "                break\n",
    "            cidx += 1\n",
    "            pidx -= 1\n",
    "        if not found: return []\n",
    "        symbol = f'{put_symbol}_{call_symbol}'\n",
    "        if pq.Contract.exists(symbol):\n",
    "            contract = pq.Contract.get(symbol)\n",
    "        else:\n",
    "            assert put_contract is not None\n",
    "            assert call_contract is not None\n",
    "            contract = pq.Contract.create(symbol, \n",
    "                                          contract_group,\n",
    "                                          multiplier=100, \n",
    "                                          components=[(put_contract, 1.), (call_contract, 1.)])\n",
    "        assert contract is not None\n",
    "        order = pq.MarketOrder(contract=contract, timestamp=timestamp, qty=10, reason_code='ENTER_STRADDLE')\n",
    "        _logger.info(f'ORDER: {timestamp} {order}')\n",
    "        return [order]\n",
    "    \n",
    "    \n",
    "@dataclass\n",
    "class RehedgeRule:\n",
    "    '''\n",
    "    A rule to re-hedge deltas on a straddle\n",
    "    Args:\n",
    "        reason_code: the reason for the orders (used for display purposes)\n",
    "        price_func: the function this rule uses to get market prices\n",
    "    '''\n",
    "    reason_code: str\n",
    "    price_func: pq.PriceFunctionType\n",
    "        \n",
    "    def __init__(self, \n",
    "                 reason_code: str, \n",
    "                 price_func: pq.PriceFunctionType) -> None:\n",
    "        self.reason_code = reason_code\n",
    "        self.price_func = price_func\n",
    "        \n",
    "    def __call__(self,\n",
    "                 contract_group: pq.ContractGroup,\n",
    "                 i: int,\n",
    "                 timestamps: np.ndarray,\n",
    "                 indicator_values: SimpleNamespace,\n",
    "                 signal_values: np.ndarray,\n",
    "                 account: pq.Account,\n",
    "                 current_orders: Sequence[pq.Order],\n",
    "                 strategy_context: pq.StrategyContextType) -> list[pq.Order]:\n",
    "        timestamp = timestamps[i]\n",
    "        positions = account.positions(pq.ContractGroup.get('OPTIONS'), timestamp)\n",
    "        \n",
    "        orders: list[pq.Order] = []\n",
    "        for (contract, qty) in positions:\n",
    "            if not contract.is_basket(): continue\n",
    "            put_contract, put_ratio = contract.components[0]\n",
    "            call_contract, call_ratio = contract.components[1]\n",
    "            put_qty = int(round(qty * call_ratio))\n",
    "            call_qty = int(round(qty * put_ratio))\n",
    "            hedge_contract, target_hedge_qty = get_hedge(\n",
    "                put_contract, call_contract, put_qty, call_qty, timestamps, i, context)\n",
    "            if np.isnan(target_hedge_qty): return []  # can have nan deltas sometimes\n",
    "            hedge_positions = account.positions(contract_group, timestamp)\n",
    "            pq.assert_(len(hedge_positions) in [0, 1], f'unexpected num of hedge positions: {hedge_positions}')\n",
    "            curr_hedge_qty = 0\n",
    "            if len(hedge_positions) == 1:\n",
    "                curr_hedge_qty = int(round(hedge_positions[0][1]))\n",
    "            hedge_qty = target_hedge_qty - curr_hedge_qty\n",
    "            if hedge_qty == 0: return []\n",
    "            hedge_order = pq.MarketOrder(contract=hedge_contract, \n",
    "                                         timestamp=timestamp, \n",
    "                                         qty=int(hedge_qty), \n",
    "                                         reason_code='REHEDGE')\n",
    "            orders.append(hedge_order)\n",
    "            _logger.info(f'ORDER: {timestamp} {hedge_order}')\n",
    "        return orders\n",
    "    \n",
    "\n",
    "def get_hedge(put: pq.Contract, \n",
    "              call: pq.Contract, \n",
    "              put_qty: int, \n",
    "              call_qty: int, \n",
    "              timestamps: np.ndarray, \n",
    "              i: int, \n",
    "              context: pq.StrategyContextType) -> tuple[pq.Contract, int]:\n",
    "    delta: float = 0\n",
    "    delta += context.get_delta(put, timestamps, i, context) * put_qty\n",
    "    delta += context.get_delta(call, timestamps, i, context) * call_qty\n",
    "    if np.isnan(delta): delta = 0\n",
    "    hedge_contract = pq.Contract.get('SPX')\n",
    "    assert hedge_contract is not None\n",
    "    hedge_qty = int(np.round(-100 * delta))\n",
    "    return hedge_contract, hedge_qty\n",
    "\n",
    "\n",
    "def get_expiries(prices: pd.DataFrame) -> dict[np.datetime64, np.ndarray]:\n",
    "    _expiries = prices.groupby(['date']).expiry.unique()\n",
    "    expiries = {_expiries.index.values[i].astype('M8[D]'): \n",
    "                np.sort(_expiries.values[i].astype('M8[D]')) for i in range(len(_expiries))}\n",
    "    return expiries\n",
    "\n",
    "\n",
    "def get_strikes(prices: pd.DataFrame) -> dict[tuple[np.datetime64, str, np.datetime64], np.ndarray]:\n",
    "    _strikes = prices.groupby(['date', 'put_call', 'expiry']).strike.unique()\n",
    "    for i in range(len(_strikes)):\n",
    "        _strikes[i] = _strikes[i][_strikes[i] % 100 == 0]\n",
    "    strikes = {(_strikes.index.get_level_values(0).values[i].astype('M8[D]'), \n",
    "                _strikes.index.get_level_values(1)[i], \n",
    "                _strikes.index.get_level_values(2).values[i].astype('M8[D]')): np.sort(_strikes.values[i]) \n",
    "               for i in range(len(_strikes))}\n",
    "    return strikes\n",
    "\n",
    "\n",
    "def get_price_function(prices: pd.DataFrame, field_name: str) -> pq.PriceFunctionType:\n",
    "    price_dict: dict[str, tuple[np.ndarray, np.ndarray]] = {}\n",
    "    for symbol in np.unique(prices.symbol.values):\n",
    "        sym_prc = prices[['timestamp', field_name]][prices.symbol == symbol].sort_values(by='timestamp')\n",
    "        _timestamps = sym_prc.timestamp.values.astype('M8[m]')\n",
    "        _prices = sym_prc[field_name].values\n",
    "        price_dict[symbol] = (_timestamps, _prices)\n",
    "    spx_prices = prices[['timestamp', 'umid']].sort_values(by=['timestamp']).drop_duplicates(subset=['timestamp'])\n",
    "    price_dict['SPX'] = (spx_prices.timestamp.values.astype('M8[m]'), spx_prices.umid.values)\n",
    "    return pq.PriceFuncArrayDict(price_dict=price_dict)\n",
    "\n",
    "\n",
    "if __name__ == '__main__':\n",
    "    pq.set_defaults()\n",
    "\n",
    "    prices = pd.read_csv('./data/spx_options.csv.gz', parse_dates=['timestamp'])\n",
    "    prices = prices[['timestamp', 'symbol', 'umid', 'c', 'delta']]\n",
    "    \n",
    "    prices['date'] = prices.timestamp.values.astype('M8[D]')\n",
    "    # prices = prices[prices.date == \"2023-01-03\"]\n",
    "\n",
    "    # remove prices outside regular trading hours (9:30 am and 4 pm)\n",
    "    minute = (prices.timestamp - prices.date) / np.timedelta64(1, 'm')\n",
    "    prices = prices[(minute > 9 * 60 + 30) & (minute < 16 * 60)]\n",
    "\n",
    "    splits = prices.symbol.str.split('-', n=2, expand=True)\n",
    "    prices['put_call'] = splits[0]\n",
    "    prices['strike'] = splits[1].astype(int)\n",
    "    prices['expiry'] = splits[2].astype(np.datetime64)\n",
    "\n",
    "    data = prices[['timestamp', 'umid']].sort_values(by=['timestamp']).drop_duplicates(subset=['timestamp'])\n",
    "    data['date'] = data.timestamp.values.astype('M8[D]')\n",
    "    data['hour'] = data.timestamp.dt.hour\n",
    "    \n",
    "    # Beginning and end of day and rehedge signals\n",
    "    # Try 6 five-minute periods in case we don't get valid prices (every strike is not traded in every bar)\n",
    "    bod = pd.Series(np.where(data.date != data.date.shift(1), 1, np.nan))\n",
    "    bod = bod.fillna(method='ffill', limit=6)  \n",
    "    data['bod'] = np.where(bod == 1, True, False)\n",
    "    \n",
    "    eod = pd.Series(np.where(data.date != data.date.shift(-1), 1, np.nan))\n",
    "    # Try getting out 30 minutes before close so we have 6 bars to try and get out\n",
    "    eod = eod.fillna(method='bfill', limit=6)  \n",
    "    data['eod'] = np.where(eod == 1, True, False)\n",
    "    \n",
    "    data['rehedge'] = (data.hour != data.hour.shift(1))\n",
    "    \n",
    "    strat_builder = pq.StrategyBuilder(data)\n",
    "    context = pq.StrategyContextType()\n",
    "    price_func = get_price_function(prices, 'c')\n",
    "    delta_func = get_price_function(prices, 'delta')\n",
    "    context.get_price = price_func\n",
    "    context.get_delta = delta_func\n",
    "    strat_builder.set_strategy_context(context)\n",
    "    strat_builder.set_price_function(price_func)\n",
    "    \n",
    "    expiries = get_expiries(prices)\n",
    "    strikes = get_strikes(prices)\n",
    "    umids = {data.timestamp.values[i].astype('M8[m]'): data.umid.values[i] for i in range(len(data))}\n",
    "\n",
    "    opt_cg = pq.ContractGroup.get('OPTIONS')\n",
    "    strat_builder.add_contract_group(opt_cg)\n",
    "\n",
    "    hedge_cg = pq.ContractGroup.get('HEDGES')\n",
    "    spx = pq.Contract.create('SPX', contract_group=hedge_cg)\n",
    "    strat_builder.add_contract_group(hedge_cg)\n",
    "\n",
    "    # add rules to the strategy\n",
    "    straddle_entry_rule = StraddleEntryRule(expiries, strikes, umids)\n",
    "    strat_builder.add_series_rule('bod', straddle_entry_rule, position_filter='zero', contract_groups=[opt_cg])\n",
    "    rehedge_rule = RehedgeRule('REHEDGE', context.get_price)\n",
    "    strat_builder.add_series_rule('rehedge', rehedge_rule, contract_groups=[hedge_cg])\n",
    "    close_rule = pq.ClosePositionExitRule('EOD', context.get_price)\n",
    "    strat_builder.add_series_rule('eod', close_rule, position_filter='nonzero')\n",
    "\n",
    "    # build and run strategy\n",
    "    strategy = strat_builder()\n",
    "    strategy.run()"
   ]
  },
  {
   "cell_type": "code",
   "execution_count": 8,
   "metadata": {
    "ExecuteTime": {
     "end_time": "2023-10-24T01:28:12.763653Z",
     "start_time": "2023-10-24T01:28:12.732392Z"
    }
   },
   "outputs": [
    {
     "data": {
      "text/html": [
       "<div>\n",
       "<style scoped>\n",
       "    .dataframe tbody tr th:only-of-type {\n",
       "        vertical-align: middle;\n",
       "    }\n",
       "\n",
       "    .dataframe tbody tr th {\n",
       "        vertical-align: top;\n",
       "    }\n",
       "\n",
       "    .dataframe thead th {\n",
       "        text-align: right;\n",
       "    }\n",
       "</style>\n",
       "<table border=\"1\" class=\"dataframe\">\n",
       "  <thead>\n",
       "    <tr style=\"text-align: right;\">\n",
       "      <th></th>\n",
       "      <th>symbol</th>\n",
       "      <th>multiplier</th>\n",
       "      <th>entry_timestamp</th>\n",
       "      <th>exit_timestamp</th>\n",
       "      <th>qty</th>\n",
       "      <th>entry_price</th>\n",
       "      <th>exit_price</th>\n",
       "      <th>entry_reason</th>\n",
       "      <th>exit_reason</th>\n",
       "      <th>entry_commission</th>\n",
       "      <th>exit_commission</th>\n",
       "      <th>net_pnl</th>\n",
       "    </tr>\n",
       "  </thead>\n",
       "  <tbody>\n",
       "    <tr>\n",
       "      <th>0</th>\n",
       "      <td>P-3900-2023-01-20_C-3900-2023-01-20</td>\n",
       "      <td>100</td>\n",
       "      <td>2023-01-03 09:40:00</td>\n",
       "      <td>2023-01-03 15:35:00</td>\n",
       "      <td>10</td>\n",
       "      <td>143.65</td>\n",
       "      <td>147.8</td>\n",
       "      <td>ENTER_STRADDLE</td>\n",
       "      <td>EOD</td>\n",
       "      <td>0</td>\n",
       "      <td>0</td>\n",
       "      <td>4150</td>\n",
       "    </tr>\n",
       "    <tr>\n",
       "      <th>1</th>\n",
       "      <td>SPX</td>\n",
       "      <td>1</td>\n",
       "      <td>2023-01-03 10:05:00</td>\n",
       "      <td>2023-01-03 11:05:00</td>\n",
       "      <td>228</td>\n",
       "      <td>3835.11951</td>\n",
       "      <td>3830.80603</td>\n",
       "      <td>REHEDGE</td>\n",
       "      <td>REHEDGE</td>\n",
       "      <td>0</td>\n",
       "      <td>0</td>\n",
       "      <td>-983.472665</td>\n",
       "    </tr>\n",
       "    <tr>\n",
       "      <th>2</th>\n",
       "      <td>SPX</td>\n",
       "      <td>1</td>\n",
       "      <td>2023-01-03 14:05:00</td>\n",
       "      <td>2023-01-03 15:05:00</td>\n",
       "      <td>343</td>\n",
       "      <td>3810.88904</td>\n",
       "      <td>3814.55151</td>\n",
       "      <td>REHEDGE</td>\n",
       "      <td>REHEDGE</td>\n",
       "      <td>0</td>\n",
       "      <td>0</td>\n",
       "      <td>1256.22911</td>\n",
       "    </tr>\n",
       "    <tr>\n",
       "      <th>3</th>\n",
       "      <td>P-3500-2023-02-17_C-4100-2023-02-17</td>\n",
       "      <td>100</td>\n",
       "      <td>2023-01-04 10:05:00</td>\n",
       "      <td>2023-01-04 15:35:00</td>\n",
       "      <td>10</td>\n",
       "      <td>45.3</td>\n",
       "      <td>44.27</td>\n",
       "      <td>ENTER_STRADDLE</td>\n",
       "      <td>EOD</td>\n",
       "      <td>0</td>\n",
       "      <td>0</td>\n",
       "      <td>-1030</td>\n",
       "    </tr>\n",
       "    <tr>\n",
       "      <th>4</th>\n",
       "      <td>SPX</td>\n",
       "      <td>1</td>\n",
       "      <td>2023-01-04 15:05:00</td>\n",
       "      <td>2023-01-04 15:30:00</td>\n",
       "      <td>-78</td>\n",
       "      <td>3845.28845</td>\n",
       "      <td>3839.80847</td>\n",
       "      <td>REHEDGE</td>\n",
       "      <td>EOD</td>\n",
       "      <td>0</td>\n",
       "      <td>0</td>\n",
       "      <td>427.438479</td>\n",
       "    </tr>\n",
       "    <tr>\n",
       "      <th>5</th>\n",
       "      <td>P-3600-2023-02-17_C-4000-2023-02-17</td>\n",
       "      <td>100</td>\n",
       "      <td>2023-01-05 09:40:00</td>\n",
       "      <td>2023-01-05 15:55:00</td>\n",
       "      <td>10</td>\n",
       "      <td>81.01</td>\n",
       "      <td>77.7</td>\n",
       "      <td>ENTER_STRADDLE</td>\n",
       "      <td>EOD</td>\n",
       "      <td>0</td>\n",
       "      <td>0</td>\n",
       "      <td>-3310</td>\n",
       "    </tr>\n",
       "    <tr>\n",
       "      <th>6</th>\n",
       "      <td>SPX</td>\n",
       "      <td>1</td>\n",
       "      <td>2023-01-05 10:05:00</td>\n",
       "      <td>2023-01-05 11:05:00</td>\n",
       "      <td>-50</td>\n",
       "      <td>3831.40906</td>\n",
       "      <td>3809.60742</td>\n",
       "      <td>REHEDGE</td>\n",
       "      <td>REHEDGE</td>\n",
       "      <td>0</td>\n",
       "      <td>0</td>\n",
       "      <td>1090.08178</td>\n",
       "    </tr>\n",
       "    <tr>\n",
       "      <th>7</th>\n",
       "      <td>SPX</td>\n",
       "      <td>1</td>\n",
       "      <td>2023-01-05 14:05:00</td>\n",
       "      <td>2023-01-05 15:05:00</td>\n",
       "      <td>-67</td>\n",
       "      <td>3821.97205</td>\n",
       "      <td>3817.46692</td>\n",
       "      <td>REHEDGE</td>\n",
       "      <td>REHEDGE</td>\n",
       "      <td>0</td>\n",
       "      <td>0</td>\n",
       "      <td>301.843506</td>\n",
       "    </tr>\n",
       "    <tr>\n",
       "      <th>8</th>\n",
       "      <td>P-3600-2023-02-17_C-4000-2023-02-17</td>\n",
       "      <td>100</td>\n",
       "      <td>2023-01-06 09:45:00</td>\n",
       "      <td>2023-01-06 15:30:00</td>\n",
       "      <td>10</td>\n",
       "      <td>75.82</td>\n",
       "      <td>87.54</td>\n",
       "      <td>ENTER_STRADDLE</td>\n",
       "      <td>EOD</td>\n",
       "      <td>0</td>\n",
       "      <td>0</td>\n",
       "      <td>11720</td>\n",
       "    </tr>\n",
       "    <tr>\n",
       "      <th>9</th>\n",
       "      <td>SPX</td>\n",
       "      <td>1</td>\n",
       "      <td>2023-01-06 10:05:00</td>\n",
       "      <td>2023-01-06 13:05:00</td>\n",
       "      <td>-95</td>\n",
       "      <td>3841.67346</td>\n",
       "      <td>3870.99707</td>\n",
       "      <td>REHEDGE</td>\n",
       "      <td>REHEDGE</td>\n",
       "      <td>0</td>\n",
       "      <td>0</td>\n",
       "      <td>-2785.7428</td>\n",
       "    </tr>\n",
       "    <tr>\n",
       "      <th>10</th>\n",
       "      <td>SPX</td>\n",
       "      <td>1</td>\n",
       "      <td>2023-01-06 11:05:00</td>\n",
       "      <td>2023-01-06 13:05:00</td>\n",
       "      <td>-78</td>\n",
       "      <td>3870.48596</td>\n",
       "      <td>3870.99707</td>\n",
       "      <td>REHEDGE</td>\n",
       "      <td>REHEDGE</td>\n",
       "      <td>0</td>\n",
       "      <td>0</td>\n",
       "      <td>-39.8664513</td>\n",
       "    </tr>\n",
       "    <tr>\n",
       "      <th>11</th>\n",
       "      <td>SPX</td>\n",
       "      <td>1</td>\n",
       "      <td>2023-01-06 12:05:00</td>\n",
       "      <td>2023-01-06 13:05:00</td>\n",
       "      <td>-21</td>\n",
       "      <td>3877.27551</td>\n",
       "      <td>3870.99707</td>\n",
       "      <td>REHEDGE</td>\n",
       "      <td>REHEDGE</td>\n",
       "      <td>0</td>\n",
       "      <td>0</td>\n",
       "      <td>131.84729</td>\n",
       "    </tr>\n",
       "    <tr>\n",
       "      <th>12</th>\n",
       "      <td>P-3800-2023-02-17_C-4000-2023-02-17</td>\n",
       "      <td>100</td>\n",
       "      <td>2023-01-09 09:45:00</td>\n",
       "      <td>NaT</td>\n",
       "      <td>10</td>\n",
       "      <td>130.25</td>\n",
       "      <td>NaN</td>\n",
       "      <td>ENTER_STRADDLE</td>\n",
       "      <td>None</td>\n",
       "      <td>0</td>\n",
       "      <td>NaN</td>\n",
       "      <td>0</td>\n",
       "    </tr>\n",
       "    <tr>\n",
       "      <th>13</th>\n",
       "      <td>SPX</td>\n",
       "      <td>1</td>\n",
       "      <td>2023-01-09 10:05:00</td>\n",
       "      <td>2023-01-09 11:05:00</td>\n",
       "      <td>-133</td>\n",
       "      <td>3930.94104</td>\n",
       "      <td>3945.99744</td>\n",
       "      <td>REHEDGE</td>\n",
       "      <td>REHEDGE</td>\n",
       "      <td>0</td>\n",
       "      <td>0</td>\n",
       "      <td>-2002.50073</td>\n",
       "    </tr>\n",
       "    <tr>\n",
       "      <th>14</th>\n",
       "      <td>SPX</td>\n",
       "      <td>1</td>\n",
       "      <td>2023-01-09 15:05:00</td>\n",
       "      <td>2023-01-09 15:30:00</td>\n",
       "      <td>-58</td>\n",
       "      <td>3902.05847</td>\n",
       "      <td>3897.60645</td>\n",
       "      <td>REHEDGE</td>\n",
       "      <td>EOD</td>\n",
       "      <td>0</td>\n",
       "      <td>0</td>\n",
       "      <td>258.217528</td>\n",
       "    </tr>\n",
       "  </tbody>\n",
       "</table>\n",
       "</div>"
      ],
      "text/plain": [
       "                                 symbol  multiplier     entry_timestamp  \\\n",
       "0   P-3900-2023-01-20_C-3900-2023-01-20         100 2023-01-03 09:40:00   \n",
       "1                                   SPX           1 2023-01-03 10:05:00   \n",
       "2                                   SPX           1 2023-01-03 14:05:00   \n",
       "3   P-3500-2023-02-17_C-4100-2023-02-17         100 2023-01-04 10:05:00   \n",
       "4                                   SPX           1 2023-01-04 15:05:00   \n",
       "5   P-3600-2023-02-17_C-4000-2023-02-17         100 2023-01-05 09:40:00   \n",
       "6                                   SPX           1 2023-01-05 10:05:00   \n",
       "7                                   SPX           1 2023-01-05 14:05:00   \n",
       "8   P-3600-2023-02-17_C-4000-2023-02-17         100 2023-01-06 09:45:00   \n",
       "9                                   SPX           1 2023-01-06 10:05:00   \n",
       "10                                  SPX           1 2023-01-06 11:05:00   \n",
       "11                                  SPX           1 2023-01-06 12:05:00   \n",
       "12  P-3800-2023-02-17_C-4000-2023-02-17         100 2023-01-09 09:45:00   \n",
       "13                                  SPX           1 2023-01-09 10:05:00   \n",
       "14                                  SPX           1 2023-01-09 15:05:00   \n",
       "\n",
       "        exit_timestamp  qty  entry_price  exit_price    entry_reason  \\\n",
       "0  2023-01-03 15:35:00   10       143.65       147.8  ENTER_STRADDLE   \n",
       "1  2023-01-03 11:05:00  228   3835.11951  3830.80603         REHEDGE   \n",
       "2  2023-01-03 15:05:00  343   3810.88904  3814.55151         REHEDGE   \n",
       "3  2023-01-04 15:35:00   10         45.3       44.27  ENTER_STRADDLE   \n",
       "4  2023-01-04 15:30:00  -78   3845.28845  3839.80847         REHEDGE   \n",
       "5  2023-01-05 15:55:00   10        81.01        77.7  ENTER_STRADDLE   \n",
       "6  2023-01-05 11:05:00  -50   3831.40906  3809.60742         REHEDGE   \n",
       "7  2023-01-05 15:05:00  -67   3821.97205  3817.46692         REHEDGE   \n",
       "8  2023-01-06 15:30:00   10        75.82       87.54  ENTER_STRADDLE   \n",
       "9  2023-01-06 13:05:00  -95   3841.67346  3870.99707         REHEDGE   \n",
       "10 2023-01-06 13:05:00  -78   3870.48596  3870.99707         REHEDGE   \n",
       "11 2023-01-06 13:05:00  -21   3877.27551  3870.99707         REHEDGE   \n",
       "12                 NaT   10       130.25         NaN  ENTER_STRADDLE   \n",
       "13 2023-01-09 11:05:00 -133   3930.94104  3945.99744         REHEDGE   \n",
       "14 2023-01-09 15:30:00  -58   3902.05847  3897.60645         REHEDGE   \n",
       "\n",
       "   exit_reason  entry_commission  exit_commission     net_pnl  \n",
       "0          EOD                 0                0        4150  \n",
       "1      REHEDGE                 0                0 -983.472665  \n",
       "2      REHEDGE                 0                0  1256.22911  \n",
       "3          EOD                 0                0       -1030  \n",
       "4          EOD                 0                0  427.438479  \n",
       "5          EOD                 0                0       -3310  \n",
       "6      REHEDGE                 0                0  1090.08178  \n",
       "7      REHEDGE                 0                0  301.843506  \n",
       "8          EOD                 0                0       11720  \n",
       "9      REHEDGE                 0                0  -2785.7428  \n",
       "10     REHEDGE                 0                0 -39.8664513  \n",
       "11     REHEDGE                 0                0   131.84729  \n",
       "12        None                 0              NaN           0  \n",
       "13     REHEDGE                 0                0 -2002.50073  \n",
       "14         EOD                 0                0  258.217528  "
      ]
     },
     "execution_count": 8,
     "metadata": {},
     "output_type": "execute_result"
    }
   ],
   "source": [
    "strategy.df_roundtrip_trades()"
   ]
  },
  {
   "cell_type": "code",
   "execution_count": 11,
   "metadata": {
    "ExecuteTime": {
     "end_time": "2023-10-24T01:29:38.101933Z",
     "start_time": "2023-10-24T01:29:38.036034Z"
    }
   },
   "outputs": [
    {
     "data": {
      "text/html": [
       "<div>\n",
       "<style scoped>\n",
       "    .dataframe tbody tr th:only-of-type {\n",
       "        vertical-align: middle;\n",
       "    }\n",
       "\n",
       "    .dataframe tbody tr th {\n",
       "        vertical-align: top;\n",
       "    }\n",
       "\n",
       "    .dataframe thead th {\n",
       "        text-align: right;\n",
       "    }\n",
       "</style>\n",
       "<table border=\"1\" class=\"dataframe\">\n",
       "  <thead>\n",
       "    <tr style=\"text-align: right;\">\n",
       "      <th></th>\n",
       "      <th>gmean</th>\n",
       "      <th>amean</th>\n",
       "      <th>std</th>\n",
       "      <th>shrp</th>\n",
       "      <th>srt</th>\n",
       "      <th>k</th>\n",
       "      <th>calmar</th>\n",
       "      <th>mar</th>\n",
       "      <th>mdd_pct</th>\n",
       "      <th>mdd_dates</th>\n",
       "      <th>dd_3y_pct</th>\n",
       "      <th>dd_3y_timestamps</th>\n",
       "      <th>up_dwn</th>\n",
       "      <th>2023</th>\n",
       "    </tr>\n",
       "  </thead>\n",
       "  <tbody>\n",
       "    <tr>\n",
       "      <th></th>\n",
       "      <td>0.5853</td>\n",
       "      <td>0.3862</td>\n",
       "      <td>0.00395</td>\n",
       "      <td>6.159</td>\n",
       "      <td>29.81</td>\n",
       "      <td>8.664</td>\n",
       "      <td>153.9</td>\n",
       "      <td>153.9</td>\n",
       "      <td>0.00251</td>\n",
       "      <td>2023-01-03/2023-01-05</td>\n",
       "      <td>0.00251</td>\n",
       "      <td>2023-01-03/2023-01-05</td>\n",
       "      <td>2/3/0.4</td>\n",
       "      <td>0.5853</td>\n",
       "    </tr>\n",
       "  </tbody>\n",
       "</table>\n",
       "</div>"
      ],
      "text/plain": [
       "   gmean   amean      std   shrp    srt      k calmar    mar  mdd_pct  \\\n",
       "  0.5853  0.3862  0.00395  6.159  29.81  8.664  153.9  153.9  0.00251   \n",
       "\n",
       "              mdd_dates dd_3y_pct       dd_3y_timestamps   up_dwn    2023  \n",
       "  2023-01-03/2023-01-05   0.00251  2023-01-03/2023-01-05  2/3/0.4  0.5853  "
      ]
     },
     "metadata": {},
     "output_type": "display_data"
    },
    {
     "name": "stdout",
     "output_type": "stream",
     "text": [
      "2023-01-03T00:00 2023-01-05T00:00\n"
     ]
    },
    {
     "data": {
      "application/vnd.plotly.v1+json": {
       "config": {
        "plotlyServerURL": "https://plot.ly"
       },
       "data": [
        {
         "mode": "lines",
         "type": "scatter",
         "x": [
          "2023-01-02T00:00:00.000000000",
          "2023-01-03T00:00:00.000000000",
          "2023-01-04T00:00:00.000000000",
          "2023-01-05T00:00:00.000000000",
          "2023-01-06T00:00:00.000000000",
          "2023-01-09T00:00:00.000000000"
         ],
         "xaxis": "x",
         "y": [
          1000000,
          1004422.7564488497,
          1003820.1949278498,
          1001902.1202184999,
          1010928.3582596,
          1009184.0750533998
         ],
         "yaxis": "y"
        },
        {
         "mode": "lines",
         "type": "scatter",
         "x": [
          "2023-01-02T00:00:00.000000000",
          "2023-01-03T00:00:00.000000000",
          "2023-01-04T00:00:00.000000000",
          "2023-01-05T00:00:00.000000000",
          "2023-01-06T00:00:00.000000000",
          "2023-01-09T00:00:00.000000000"
         ],
         "xaxis": "x2",
         "y": [
          0,
          0,
          0.0005999082728175574,
          0.002509537158697516,
          0,
          0.0017254271204768263
         ],
         "yaxis": "y2"
        },
        {
         "boxmean": true,
         "boxpoints": "all",
         "jitter": 0.1,
         "line": {
          "color": "gray"
         },
         "marker": {
          "color": "gray"
         },
         "name": "2023",
         "type": "box",
         "x": [
          0,
          0.004422756448849707,
          -0.0005999082728176397,
          -0.0019107751757153624,
          0.009009101646707318,
          -0.0017254271204767413
         ],
         "xaxis": "x3",
         "yaxis": "y3"
        },
        {
         "boxmean": true,
         "boxpoints": "all",
         "jitter": 0.1,
         "line": {
          "color": "blue"
         },
         "marker": {
          "color": "blue"
         },
         "name": "All",
         "type": "box",
         "x": [
          0,
          0.004422756448849707,
          -0.0005999082728176397,
          -0.0019107751757153624,
          0.009009101646707318,
          -0.0017254271204767413
         ],
         "xaxis": "x3",
         "yaxis": "y3"
        }
       ],
       "layout": {
        "annotations": [
         {
          "font": {
           "size": 15
          },
          "showarrow": false,
          "text": "max dd",
          "x": "2023-01-03T00:00:00",
          "xanchor": "left",
          "xref": "x",
          "y": 1,
          "yanchor": "top",
          "yref": "y domain"
         }
        ],
        "height": 1000,
        "shapes": [
         {
          "fillcolor": "red",
          "line": {
           "width": 0
          },
          "opacity": 0.25,
          "type": "rect",
          "x0": "2023-01-03T00:00:00",
          "x1": "2023-01-05T00:00:00",
          "xref": "x",
          "y0": 0,
          "y1": 1,
          "yref": "y domain"
         },
         {
          "opacity": 0.25,
          "type": "line",
          "x0": 0,
          "x1": 1,
          "xref": "x domain",
          "y0": 1000000,
          "y1": 1000000,
          "yref": "y"
         },
         {
          "fillcolor": "red",
          "line": {
           "width": 0
          },
          "opacity": 0.25,
          "type": "rect",
          "x0": "2023-01-03T00:00:00",
          "x1": "2023-01-05T00:00:00",
          "xref": "x2",
          "y0": 0,
          "y1": 1,
          "yref": "y2 domain"
         }
        ],
        "showlegend": false,
        "template": {
         "data": {
          "bar": [
           {
            "error_x": {
             "color": "#2a3f5f"
            },
            "error_y": {
             "color": "#2a3f5f"
            },
            "marker": {
             "line": {
              "color": "#E5ECF6",
              "width": 0.5
             },
             "pattern": {
              "fillmode": "overlay",
              "size": 10,
              "solidity": 0.2
             }
            },
            "type": "bar"
           }
          ],
          "barpolar": [
           {
            "marker": {
             "line": {
              "color": "#E5ECF6",
              "width": 0.5
             },
             "pattern": {
              "fillmode": "overlay",
              "size": 10,
              "solidity": 0.2
             }
            },
            "type": "barpolar"
           }
          ],
          "carpet": [
           {
            "aaxis": {
             "endlinecolor": "#2a3f5f",
             "gridcolor": "white",
             "linecolor": "white",
             "minorgridcolor": "white",
             "startlinecolor": "#2a3f5f"
            },
            "baxis": {
             "endlinecolor": "#2a3f5f",
             "gridcolor": "white",
             "linecolor": "white",
             "minorgridcolor": "white",
             "startlinecolor": "#2a3f5f"
            },
            "type": "carpet"
           }
          ],
          "choropleth": [
           {
            "colorbar": {
             "outlinewidth": 0,
             "ticks": ""
            },
            "type": "choropleth"
           }
          ],
          "contour": [
           {
            "colorbar": {
             "outlinewidth": 0,
             "ticks": ""
            },
            "colorscale": [
             [
              0,
              "#0d0887"
             ],
             [
              0.1111111111111111,
              "#46039f"
             ],
             [
              0.2222222222222222,
              "#7201a8"
             ],
             [
              0.3333333333333333,
              "#9c179e"
             ],
             [
              0.4444444444444444,
              "#bd3786"
             ],
             [
              0.5555555555555556,
              "#d8576b"
             ],
             [
              0.6666666666666666,
              "#ed7953"
             ],
             [
              0.7777777777777778,
              "#fb9f3a"
             ],
             [
              0.8888888888888888,
              "#fdca26"
             ],
             [
              1,
              "#f0f921"
             ]
            ],
            "type": "contour"
           }
          ],
          "contourcarpet": [
           {
            "colorbar": {
             "outlinewidth": 0,
             "ticks": ""
            },
            "type": "contourcarpet"
           }
          ],
          "heatmap": [
           {
            "colorbar": {
             "outlinewidth": 0,
             "ticks": ""
            },
            "colorscale": [
             [
              0,
              "#0d0887"
             ],
             [
              0.1111111111111111,
              "#46039f"
             ],
             [
              0.2222222222222222,
              "#7201a8"
             ],
             [
              0.3333333333333333,
              "#9c179e"
             ],
             [
              0.4444444444444444,
              "#bd3786"
             ],
             [
              0.5555555555555556,
              "#d8576b"
             ],
             [
              0.6666666666666666,
              "#ed7953"
             ],
             [
              0.7777777777777778,
              "#fb9f3a"
             ],
             [
              0.8888888888888888,
              "#fdca26"
             ],
             [
              1,
              "#f0f921"
             ]
            ],
            "type": "heatmap"
           }
          ],
          "heatmapgl": [
           {
            "colorbar": {
             "outlinewidth": 0,
             "ticks": ""
            },
            "colorscale": [
             [
              0,
              "#0d0887"
             ],
             [
              0.1111111111111111,
              "#46039f"
             ],
             [
              0.2222222222222222,
              "#7201a8"
             ],
             [
              0.3333333333333333,
              "#9c179e"
             ],
             [
              0.4444444444444444,
              "#bd3786"
             ],
             [
              0.5555555555555556,
              "#d8576b"
             ],
             [
              0.6666666666666666,
              "#ed7953"
             ],
             [
              0.7777777777777778,
              "#fb9f3a"
             ],
             [
              0.8888888888888888,
              "#fdca26"
             ],
             [
              1,
              "#f0f921"
             ]
            ],
            "type": "heatmapgl"
           }
          ],
          "histogram": [
           {
            "marker": {
             "pattern": {
              "fillmode": "overlay",
              "size": 10,
              "solidity": 0.2
             }
            },
            "type": "histogram"
           }
          ],
          "histogram2d": [
           {
            "colorbar": {
             "outlinewidth": 0,
             "ticks": ""
            },
            "colorscale": [
             [
              0,
              "#0d0887"
             ],
             [
              0.1111111111111111,
              "#46039f"
             ],
             [
              0.2222222222222222,
              "#7201a8"
             ],
             [
              0.3333333333333333,
              "#9c179e"
             ],
             [
              0.4444444444444444,
              "#bd3786"
             ],
             [
              0.5555555555555556,
              "#d8576b"
             ],
             [
              0.6666666666666666,
              "#ed7953"
             ],
             [
              0.7777777777777778,
              "#fb9f3a"
             ],
             [
              0.8888888888888888,
              "#fdca26"
             ],
             [
              1,
              "#f0f921"
             ]
            ],
            "type": "histogram2d"
           }
          ],
          "histogram2dcontour": [
           {
            "colorbar": {
             "outlinewidth": 0,
             "ticks": ""
            },
            "colorscale": [
             [
              0,
              "#0d0887"
             ],
             [
              0.1111111111111111,
              "#46039f"
             ],
             [
              0.2222222222222222,
              "#7201a8"
             ],
             [
              0.3333333333333333,
              "#9c179e"
             ],
             [
              0.4444444444444444,
              "#bd3786"
             ],
             [
              0.5555555555555556,
              "#d8576b"
             ],
             [
              0.6666666666666666,
              "#ed7953"
             ],
             [
              0.7777777777777778,
              "#fb9f3a"
             ],
             [
              0.8888888888888888,
              "#fdca26"
             ],
             [
              1,
              "#f0f921"
             ]
            ],
            "type": "histogram2dcontour"
           }
          ],
          "mesh3d": [
           {
            "colorbar": {
             "outlinewidth": 0,
             "ticks": ""
            },
            "type": "mesh3d"
           }
          ],
          "parcoords": [
           {
            "line": {
             "colorbar": {
              "outlinewidth": 0,
              "ticks": ""
             }
            },
            "type": "parcoords"
           }
          ],
          "pie": [
           {
            "automargin": true,
            "type": "pie"
           }
          ],
          "scatter": [
           {
            "fillpattern": {
             "fillmode": "overlay",
             "size": 10,
             "solidity": 0.2
            },
            "type": "scatter"
           }
          ],
          "scatter3d": [
           {
            "line": {
             "colorbar": {
              "outlinewidth": 0,
              "ticks": ""
             }
            },
            "marker": {
             "colorbar": {
              "outlinewidth": 0,
              "ticks": ""
             }
            },
            "type": "scatter3d"
           }
          ],
          "scattercarpet": [
           {
            "marker": {
             "colorbar": {
              "outlinewidth": 0,
              "ticks": ""
             }
            },
            "type": "scattercarpet"
           }
          ],
          "scattergeo": [
           {
            "marker": {
             "colorbar": {
              "outlinewidth": 0,
              "ticks": ""
             }
            },
            "type": "scattergeo"
           }
          ],
          "scattergl": [
           {
            "marker": {
             "colorbar": {
              "outlinewidth": 0,
              "ticks": ""
             }
            },
            "type": "scattergl"
           }
          ],
          "scattermapbox": [
           {
            "marker": {
             "colorbar": {
              "outlinewidth": 0,
              "ticks": ""
             }
            },
            "type": "scattermapbox"
           }
          ],
          "scatterpolar": [
           {
            "marker": {
             "colorbar": {
              "outlinewidth": 0,
              "ticks": ""
             }
            },
            "type": "scatterpolar"
           }
          ],
          "scatterpolargl": [
           {
            "marker": {
             "colorbar": {
              "outlinewidth": 0,
              "ticks": ""
             }
            },
            "type": "scatterpolargl"
           }
          ],
          "scatterternary": [
           {
            "marker": {
             "colorbar": {
              "outlinewidth": 0,
              "ticks": ""
             }
            },
            "type": "scatterternary"
           }
          ],
          "surface": [
           {
            "colorbar": {
             "outlinewidth": 0,
             "ticks": ""
            },
            "colorscale": [
             [
              0,
              "#0d0887"
             ],
             [
              0.1111111111111111,
              "#46039f"
             ],
             [
              0.2222222222222222,
              "#7201a8"
             ],
             [
              0.3333333333333333,
              "#9c179e"
             ],
             [
              0.4444444444444444,
              "#bd3786"
             ],
             [
              0.5555555555555556,
              "#d8576b"
             ],
             [
              0.6666666666666666,
              "#ed7953"
             ],
             [
              0.7777777777777778,
              "#fb9f3a"
             ],
             [
              0.8888888888888888,
              "#fdca26"
             ],
             [
              1,
              "#f0f921"
             ]
            ],
            "type": "surface"
           }
          ],
          "table": [
           {
            "cells": {
             "fill": {
              "color": "#EBF0F8"
             },
             "line": {
              "color": "white"
             }
            },
            "header": {
             "fill": {
              "color": "#C8D4E3"
             },
             "line": {
              "color": "white"
             }
            },
            "type": "table"
           }
          ]
         },
         "layout": {
          "annotationdefaults": {
           "arrowcolor": "#2a3f5f",
           "arrowhead": 0,
           "arrowwidth": 1
          },
          "autotypenumbers": "strict",
          "coloraxis": {
           "colorbar": {
            "outlinewidth": 0,
            "ticks": ""
           }
          },
          "colorscale": {
           "diverging": [
            [
             0,
             "#8e0152"
            ],
            [
             0.1,
             "#c51b7d"
            ],
            [
             0.2,
             "#de77ae"
            ],
            [
             0.3,
             "#f1b6da"
            ],
            [
             0.4,
             "#fde0ef"
            ],
            [
             0.5,
             "#f7f7f7"
            ],
            [
             0.6,
             "#e6f5d0"
            ],
            [
             0.7,
             "#b8e186"
            ],
            [
             0.8,
             "#7fbc41"
            ],
            [
             0.9,
             "#4d9221"
            ],
            [
             1,
             "#276419"
            ]
           ],
           "sequential": [
            [
             0,
             "#0d0887"
            ],
            [
             0.1111111111111111,
             "#46039f"
            ],
            [
             0.2222222222222222,
             "#7201a8"
            ],
            [
             0.3333333333333333,
             "#9c179e"
            ],
            [
             0.4444444444444444,
             "#bd3786"
            ],
            [
             0.5555555555555556,
             "#d8576b"
            ],
            [
             0.6666666666666666,
             "#ed7953"
            ],
            [
             0.7777777777777778,
             "#fb9f3a"
            ],
            [
             0.8888888888888888,
             "#fdca26"
            ],
            [
             1,
             "#f0f921"
            ]
           ],
           "sequentialminus": [
            [
             0,
             "#0d0887"
            ],
            [
             0.1111111111111111,
             "#46039f"
            ],
            [
             0.2222222222222222,
             "#7201a8"
            ],
            [
             0.3333333333333333,
             "#9c179e"
            ],
            [
             0.4444444444444444,
             "#bd3786"
            ],
            [
             0.5555555555555556,
             "#d8576b"
            ],
            [
             0.6666666666666666,
             "#ed7953"
            ],
            [
             0.7777777777777778,
             "#fb9f3a"
            ],
            [
             0.8888888888888888,
             "#fdca26"
            ],
            [
             1,
             "#f0f921"
            ]
           ]
          },
          "colorway": [
           "#636efa",
           "#EF553B",
           "#00cc96",
           "#ab63fa",
           "#FFA15A",
           "#19d3f3",
           "#FF6692",
           "#B6E880",
           "#FF97FF",
           "#FECB52"
          ],
          "font": {
           "color": "#2a3f5f"
          },
          "geo": {
           "bgcolor": "white",
           "lakecolor": "white",
           "landcolor": "#E5ECF6",
           "showlakes": true,
           "showland": true,
           "subunitcolor": "white"
          },
          "hoverlabel": {
           "align": "left"
          },
          "hovermode": "closest",
          "mapbox": {
           "style": "light"
          },
          "paper_bgcolor": "white",
          "plot_bgcolor": "#E5ECF6",
          "polar": {
           "angularaxis": {
            "gridcolor": "white",
            "linecolor": "white",
            "ticks": ""
           },
           "bgcolor": "#E5ECF6",
           "radialaxis": {
            "gridcolor": "white",
            "linecolor": "white",
            "ticks": ""
           }
          },
          "scene": {
           "xaxis": {
            "backgroundcolor": "#E5ECF6",
            "gridcolor": "white",
            "gridwidth": 2,
            "linecolor": "white",
            "showbackground": true,
            "ticks": "",
            "zerolinecolor": "white"
           },
           "yaxis": {
            "backgroundcolor": "#E5ECF6",
            "gridcolor": "white",
            "gridwidth": 2,
            "linecolor": "white",
            "showbackground": true,
            "ticks": "",
            "zerolinecolor": "white"
           },
           "zaxis": {
            "backgroundcolor": "#E5ECF6",
            "gridcolor": "white",
            "gridwidth": 2,
            "linecolor": "white",
            "showbackground": true,
            "ticks": "",
            "zerolinecolor": "white"
           }
          },
          "shapedefaults": {
           "line": {
            "color": "#2a3f5f"
           }
          },
          "ternary": {
           "aaxis": {
            "gridcolor": "white",
            "linecolor": "white",
            "ticks": ""
           },
           "baxis": {
            "gridcolor": "white",
            "linecolor": "white",
            "ticks": ""
           },
           "bgcolor": "#E5ECF6",
           "caxis": {
            "gridcolor": "white",
            "linecolor": "white",
            "ticks": ""
           }
          },
          "title": {
           "x": 0.05
          },
          "xaxis": {
           "automargin": true,
           "gridcolor": "white",
           "linecolor": "white",
           "ticks": "",
           "title": {
            "standoff": 15
           },
           "zerolinecolor": "white",
           "zerolinewidth": 2
          },
          "yaxis": {
           "automargin": true,
           "gridcolor": "white",
           "linecolor": "white",
           "ticks": "",
           "title": {
            "standoff": 15
           },
           "zerolinecolor": "white",
           "zerolinewidth": 2
          }
         }
        },
        "title": {
         "text": ""
        },
        "xaxis": {
         "anchor": "y",
         "domain": [
          0,
          1
         ]
        },
        "xaxis2": {
         "anchor": "y2",
         "domain": [
          0,
          1
         ]
        },
        "xaxis3": {
         "anchor": "y3",
         "domain": [
          0,
          1
         ]
        },
        "yaxis": {
         "anchor": "x",
         "domain": [
          0.7333333333333333,
          1
         ],
         "title": {
          "text": "Equity"
         },
         "type": "log"
        },
        "yaxis2": {
         "anchor": "x2",
         "domain": [
          0.36666666666666664,
          0.6333333333333333
         ],
         "title": {
          "text": "Drawdown"
         }
        },
        "yaxis3": {
         "anchor": "x3",
         "domain": [
          0,
          0.26666666666666666
         ],
         "title": {
          "text": "Return"
         }
        }
       }
      },
      "text/html": [
       "<div>                            <div id=\"345512a2-f9bf-467b-9e6a-93f3829da4a9\" class=\"plotly-graph-div\" style=\"height:1000px; width:100%;\"></div>            <script type=\"text/javascript\">                require([\"plotly\"], function(Plotly) {                    window.PLOTLYENV=window.PLOTLYENV || {};                                    if (document.getElementById(\"345512a2-f9bf-467b-9e6a-93f3829da4a9\")) {                    Plotly.newPlot(                        \"345512a2-f9bf-467b-9e6a-93f3829da4a9\",                        [{\"mode\":\"lines\",\"x\":[\"2023-01-02T00:00:00.000000000\",\"2023-01-03T00:00:00.000000000\",\"2023-01-04T00:00:00.000000000\",\"2023-01-05T00:00:00.000000000\",\"2023-01-06T00:00:00.000000000\",\"2023-01-09T00:00:00.000000000\"],\"y\":[1000000.0,1004422.7564488497,1003820.1949278498,1001902.1202184999,1010928.3582596,1009184.0750533998],\"type\":\"scatter\",\"xaxis\":\"x\",\"yaxis\":\"y\"},{\"mode\":\"lines\",\"x\":[\"2023-01-02T00:00:00.000000000\",\"2023-01-03T00:00:00.000000000\",\"2023-01-04T00:00:00.000000000\",\"2023-01-05T00:00:00.000000000\",\"2023-01-06T00:00:00.000000000\",\"2023-01-09T00:00:00.000000000\"],\"y\":[0.0,0.0,0.0005999082728175574,0.002509537158697516,0.0,0.0017254271204768263],\"type\":\"scatter\",\"xaxis\":\"x2\",\"yaxis\":\"y2\"},{\"boxmean\":true,\"line\":{\"color\":\"gray\"},\"marker\":{\"color\":\"gray\"},\"name\":\"2023\",\"x\":[0.0,0.004422756448849707,-0.0005999082728176397,-0.0019107751757153624,0.009009101646707318,-0.0017254271204767413],\"type\":\"box\",\"xaxis\":\"x3\",\"yaxis\":\"y3\",\"boxpoints\":\"all\",\"jitter\":0.1},{\"boxmean\":true,\"line\":{\"color\":\"blue\"},\"marker\":{\"color\":\"blue\"},\"name\":\"All\",\"x\":[0.0,0.004422756448849707,-0.0005999082728176397,-0.0019107751757153624,0.009009101646707318,-0.0017254271204767413],\"type\":\"box\",\"xaxis\":\"x3\",\"yaxis\":\"y3\",\"boxpoints\":\"all\",\"jitter\":0.1}],                        {\"template\":{\"data\":{\"histogram2dcontour\":[{\"type\":\"histogram2dcontour\",\"colorbar\":{\"outlinewidth\":0,\"ticks\":\"\"},\"colorscale\":[[0.0,\"#0d0887\"],[0.1111111111111111,\"#46039f\"],[0.2222222222222222,\"#7201a8\"],[0.3333333333333333,\"#9c179e\"],[0.4444444444444444,\"#bd3786\"],[0.5555555555555556,\"#d8576b\"],[0.6666666666666666,\"#ed7953\"],[0.7777777777777778,\"#fb9f3a\"],[0.8888888888888888,\"#fdca26\"],[1.0,\"#f0f921\"]]}],\"choropleth\":[{\"type\":\"choropleth\",\"colorbar\":{\"outlinewidth\":0,\"ticks\":\"\"}}],\"histogram2d\":[{\"type\":\"histogram2d\",\"colorbar\":{\"outlinewidth\":0,\"ticks\":\"\"},\"colorscale\":[[0.0,\"#0d0887\"],[0.1111111111111111,\"#46039f\"],[0.2222222222222222,\"#7201a8\"],[0.3333333333333333,\"#9c179e\"],[0.4444444444444444,\"#bd3786\"],[0.5555555555555556,\"#d8576b\"],[0.6666666666666666,\"#ed7953\"],[0.7777777777777778,\"#fb9f3a\"],[0.8888888888888888,\"#fdca26\"],[1.0,\"#f0f921\"]]}],\"heatmap\":[{\"type\":\"heatmap\",\"colorbar\":{\"outlinewidth\":0,\"ticks\":\"\"},\"colorscale\":[[0.0,\"#0d0887\"],[0.1111111111111111,\"#46039f\"],[0.2222222222222222,\"#7201a8\"],[0.3333333333333333,\"#9c179e\"],[0.4444444444444444,\"#bd3786\"],[0.5555555555555556,\"#d8576b\"],[0.6666666666666666,\"#ed7953\"],[0.7777777777777778,\"#fb9f3a\"],[0.8888888888888888,\"#fdca26\"],[1.0,\"#f0f921\"]]}],\"heatmapgl\":[{\"type\":\"heatmapgl\",\"colorbar\":{\"outlinewidth\":0,\"ticks\":\"\"},\"colorscale\":[[0.0,\"#0d0887\"],[0.1111111111111111,\"#46039f\"],[0.2222222222222222,\"#7201a8\"],[0.3333333333333333,\"#9c179e\"],[0.4444444444444444,\"#bd3786\"],[0.5555555555555556,\"#d8576b\"],[0.6666666666666666,\"#ed7953\"],[0.7777777777777778,\"#fb9f3a\"],[0.8888888888888888,\"#fdca26\"],[1.0,\"#f0f921\"]]}],\"contourcarpet\":[{\"type\":\"contourcarpet\",\"colorbar\":{\"outlinewidth\":0,\"ticks\":\"\"}}],\"contour\":[{\"type\":\"contour\",\"colorbar\":{\"outlinewidth\":0,\"ticks\":\"\"},\"colorscale\":[[0.0,\"#0d0887\"],[0.1111111111111111,\"#46039f\"],[0.2222222222222222,\"#7201a8\"],[0.3333333333333333,\"#9c179e\"],[0.4444444444444444,\"#bd3786\"],[0.5555555555555556,\"#d8576b\"],[0.6666666666666666,\"#ed7953\"],[0.7777777777777778,\"#fb9f3a\"],[0.8888888888888888,\"#fdca26\"],[1.0,\"#f0f921\"]]}],\"surface\":[{\"type\":\"surface\",\"colorbar\":{\"outlinewidth\":0,\"ticks\":\"\"},\"colorscale\":[[0.0,\"#0d0887\"],[0.1111111111111111,\"#46039f\"],[0.2222222222222222,\"#7201a8\"],[0.3333333333333333,\"#9c179e\"],[0.4444444444444444,\"#bd3786\"],[0.5555555555555556,\"#d8576b\"],[0.6666666666666666,\"#ed7953\"],[0.7777777777777778,\"#fb9f3a\"],[0.8888888888888888,\"#fdca26\"],[1.0,\"#f0f921\"]]}],\"mesh3d\":[{\"type\":\"mesh3d\",\"colorbar\":{\"outlinewidth\":0,\"ticks\":\"\"}}],\"scatter\":[{\"fillpattern\":{\"fillmode\":\"overlay\",\"size\":10,\"solidity\":0.2},\"type\":\"scatter\"}],\"parcoords\":[{\"type\":\"parcoords\",\"line\":{\"colorbar\":{\"outlinewidth\":0,\"ticks\":\"\"}}}],\"scatterpolargl\":[{\"type\":\"scatterpolargl\",\"marker\":{\"colorbar\":{\"outlinewidth\":0,\"ticks\":\"\"}}}],\"bar\":[{\"error_x\":{\"color\":\"#2a3f5f\"},\"error_y\":{\"color\":\"#2a3f5f\"},\"marker\":{\"line\":{\"color\":\"#E5ECF6\",\"width\":0.5},\"pattern\":{\"fillmode\":\"overlay\",\"size\":10,\"solidity\":0.2}},\"type\":\"bar\"}],\"scattergeo\":[{\"type\":\"scattergeo\",\"marker\":{\"colorbar\":{\"outlinewidth\":0,\"ticks\":\"\"}}}],\"scatterpolar\":[{\"type\":\"scatterpolar\",\"marker\":{\"colorbar\":{\"outlinewidth\":0,\"ticks\":\"\"}}}],\"histogram\":[{\"marker\":{\"pattern\":{\"fillmode\":\"overlay\",\"size\":10,\"solidity\":0.2}},\"type\":\"histogram\"}],\"scattergl\":[{\"type\":\"scattergl\",\"marker\":{\"colorbar\":{\"outlinewidth\":0,\"ticks\":\"\"}}}],\"scatter3d\":[{\"type\":\"scatter3d\",\"line\":{\"colorbar\":{\"outlinewidth\":0,\"ticks\":\"\"}},\"marker\":{\"colorbar\":{\"outlinewidth\":0,\"ticks\":\"\"}}}],\"scattermapbox\":[{\"type\":\"scattermapbox\",\"marker\":{\"colorbar\":{\"outlinewidth\":0,\"ticks\":\"\"}}}],\"scatterternary\":[{\"type\":\"scatterternary\",\"marker\":{\"colorbar\":{\"outlinewidth\":0,\"ticks\":\"\"}}}],\"scattercarpet\":[{\"type\":\"scattercarpet\",\"marker\":{\"colorbar\":{\"outlinewidth\":0,\"ticks\":\"\"}}}],\"carpet\":[{\"aaxis\":{\"endlinecolor\":\"#2a3f5f\",\"gridcolor\":\"white\",\"linecolor\":\"white\",\"minorgridcolor\":\"white\",\"startlinecolor\":\"#2a3f5f\"},\"baxis\":{\"endlinecolor\":\"#2a3f5f\",\"gridcolor\":\"white\",\"linecolor\":\"white\",\"minorgridcolor\":\"white\",\"startlinecolor\":\"#2a3f5f\"},\"type\":\"carpet\"}],\"table\":[{\"cells\":{\"fill\":{\"color\":\"#EBF0F8\"},\"line\":{\"color\":\"white\"}},\"header\":{\"fill\":{\"color\":\"#C8D4E3\"},\"line\":{\"color\":\"white\"}},\"type\":\"table\"}],\"barpolar\":[{\"marker\":{\"line\":{\"color\":\"#E5ECF6\",\"width\":0.5},\"pattern\":{\"fillmode\":\"overlay\",\"size\":10,\"solidity\":0.2}},\"type\":\"barpolar\"}],\"pie\":[{\"automargin\":true,\"type\":\"pie\"}]},\"layout\":{\"autotypenumbers\":\"strict\",\"colorway\":[\"#636efa\",\"#EF553B\",\"#00cc96\",\"#ab63fa\",\"#FFA15A\",\"#19d3f3\",\"#FF6692\",\"#B6E880\",\"#FF97FF\",\"#FECB52\"],\"font\":{\"color\":\"#2a3f5f\"},\"hovermode\":\"closest\",\"hoverlabel\":{\"align\":\"left\"},\"paper_bgcolor\":\"white\",\"plot_bgcolor\":\"#E5ECF6\",\"polar\":{\"bgcolor\":\"#E5ECF6\",\"angularaxis\":{\"gridcolor\":\"white\",\"linecolor\":\"white\",\"ticks\":\"\"},\"radialaxis\":{\"gridcolor\":\"white\",\"linecolor\":\"white\",\"ticks\":\"\"}},\"ternary\":{\"bgcolor\":\"#E5ECF6\",\"aaxis\":{\"gridcolor\":\"white\",\"linecolor\":\"white\",\"ticks\":\"\"},\"baxis\":{\"gridcolor\":\"white\",\"linecolor\":\"white\",\"ticks\":\"\"},\"caxis\":{\"gridcolor\":\"white\",\"linecolor\":\"white\",\"ticks\":\"\"}},\"coloraxis\":{\"colorbar\":{\"outlinewidth\":0,\"ticks\":\"\"}},\"colorscale\":{\"sequential\":[[0.0,\"#0d0887\"],[0.1111111111111111,\"#46039f\"],[0.2222222222222222,\"#7201a8\"],[0.3333333333333333,\"#9c179e\"],[0.4444444444444444,\"#bd3786\"],[0.5555555555555556,\"#d8576b\"],[0.6666666666666666,\"#ed7953\"],[0.7777777777777778,\"#fb9f3a\"],[0.8888888888888888,\"#fdca26\"],[1.0,\"#f0f921\"]],\"sequentialminus\":[[0.0,\"#0d0887\"],[0.1111111111111111,\"#46039f\"],[0.2222222222222222,\"#7201a8\"],[0.3333333333333333,\"#9c179e\"],[0.4444444444444444,\"#bd3786\"],[0.5555555555555556,\"#d8576b\"],[0.6666666666666666,\"#ed7953\"],[0.7777777777777778,\"#fb9f3a\"],[0.8888888888888888,\"#fdca26\"],[1.0,\"#f0f921\"]],\"diverging\":[[0,\"#8e0152\"],[0.1,\"#c51b7d\"],[0.2,\"#de77ae\"],[0.3,\"#f1b6da\"],[0.4,\"#fde0ef\"],[0.5,\"#f7f7f7\"],[0.6,\"#e6f5d0\"],[0.7,\"#b8e186\"],[0.8,\"#7fbc41\"],[0.9,\"#4d9221\"],[1,\"#276419\"]]},\"xaxis\":{\"gridcolor\":\"white\",\"linecolor\":\"white\",\"ticks\":\"\",\"title\":{\"standoff\":15},\"zerolinecolor\":\"white\",\"automargin\":true,\"zerolinewidth\":2},\"yaxis\":{\"gridcolor\":\"white\",\"linecolor\":\"white\",\"ticks\":\"\",\"title\":{\"standoff\":15},\"zerolinecolor\":\"white\",\"automargin\":true,\"zerolinewidth\":2},\"scene\":{\"xaxis\":{\"backgroundcolor\":\"#E5ECF6\",\"gridcolor\":\"white\",\"linecolor\":\"white\",\"showbackground\":true,\"ticks\":\"\",\"zerolinecolor\":\"white\",\"gridwidth\":2},\"yaxis\":{\"backgroundcolor\":\"#E5ECF6\",\"gridcolor\":\"white\",\"linecolor\":\"white\",\"showbackground\":true,\"ticks\":\"\",\"zerolinecolor\":\"white\",\"gridwidth\":2},\"zaxis\":{\"backgroundcolor\":\"#E5ECF6\",\"gridcolor\":\"white\",\"linecolor\":\"white\",\"showbackground\":true,\"ticks\":\"\",\"zerolinecolor\":\"white\",\"gridwidth\":2}},\"shapedefaults\":{\"line\":{\"color\":\"#2a3f5f\"}},\"annotationdefaults\":{\"arrowcolor\":\"#2a3f5f\",\"arrowhead\":0,\"arrowwidth\":1},\"geo\":{\"bgcolor\":\"white\",\"landcolor\":\"#E5ECF6\",\"subunitcolor\":\"white\",\"showland\":true,\"showlakes\":true,\"lakecolor\":\"white\"},\"title\":{\"x\":0.05},\"mapbox\":{\"style\":\"light\"}}},\"xaxis\":{\"anchor\":\"y\",\"domain\":[0.0,1.0]},\"yaxis\":{\"anchor\":\"x\",\"domain\":[0.7333333333333333,1.0],\"title\":{\"text\":\"Equity\"},\"type\":\"log\"},\"xaxis2\":{\"anchor\":\"y2\",\"domain\":[0.0,1.0]},\"yaxis2\":{\"anchor\":\"x2\",\"domain\":[0.36666666666666664,0.6333333333333333],\"title\":{\"text\":\"Drawdown\"}},\"xaxis3\":{\"anchor\":\"y3\",\"domain\":[0.0,1.0]},\"yaxis3\":{\"anchor\":\"x3\",\"domain\":[0.0,0.26666666666666666],\"title\":{\"text\":\"Return\"}},\"title\":{\"text\":\"\"},\"shapes\":[{\"fillcolor\":\"red\",\"line\":{\"width\":0},\"opacity\":0.25,\"type\":\"rect\",\"x0\":\"2023-01-03T00:00:00\",\"x1\":\"2023-01-05T00:00:00\",\"xref\":\"x\",\"y0\":0,\"y1\":1,\"yref\":\"y domain\"},{\"opacity\":0.25,\"type\":\"line\",\"x0\":0,\"x1\":1,\"xref\":\"x domain\",\"y0\":1000000.0,\"y1\":1000000.0,\"yref\":\"y\"},{\"fillcolor\":\"red\",\"line\":{\"width\":0},\"opacity\":0.25,\"type\":\"rect\",\"x0\":\"2023-01-03T00:00:00\",\"x1\":\"2023-01-05T00:00:00\",\"xref\":\"x2\",\"y0\":0,\"y1\":1,\"yref\":\"y2 domain\"}],\"annotations\":[{\"font\":{\"size\":15},\"showarrow\":false,\"text\":\"max dd\",\"x\":\"2023-01-03T00:00:00\",\"xanchor\":\"left\",\"xref\":\"x\",\"y\":1,\"yanchor\":\"top\",\"yref\":\"y domain\"}],\"showlegend\":false,\"height\":1000},                        {\"responsive\": true}                    ).then(function(){\n",
       "                            \n",
       "var gd = document.getElementById('345512a2-f9bf-467b-9e6a-93f3829da4a9');\n",
       "var x = new MutationObserver(function (mutations, observer) {{\n",
       "        var display = window.getComputedStyle(gd).display;\n",
       "        if (!display || display === 'none') {{\n",
       "            console.log([gd, 'removed!']);\n",
       "            Plotly.purge(gd);\n",
       "            observer.disconnect();\n",
       "        }}\n",
       "}});\n",
       "\n",
       "// Listen for the removal of the full notebook cells\n",
       "var notebookContainer = gd.closest('#notebook-container');\n",
       "if (notebookContainer) {{\n",
       "    x.observe(notebookContainer, {childList: true});\n",
       "}}\n",
       "\n",
       "// Listen for the clearing of the current output cell\n",
       "var outputEl = gd.closest('.output');\n",
       "if (outputEl) {{\n",
       "    x.observe(outputEl, {childList: true});\n",
       "}}\n",
       "\n",
       "                        })                };                });            </script>        </div>"
      ]
     },
     "metadata": {},
     "output_type": "display_data"
    }
   ],
   "source": [
    "strategy.evaluate_returns();"
   ]
  },
  {
   "cell_type": "code",
   "execution_count": 12,
   "metadata": {
    "ExecuteTime": {
     "end_time": "2023-10-24T01:30:34.901456Z",
     "start_time": "2023-10-24T01:30:34.865181Z"
    }
   },
   "outputs": [
    {
     "ename": "AttributeError",
     "evalue": "'ContractGroup' object has no attribute 'df_returns'",
     "output_type": "error",
     "traceback": [
      "\u001b[0;31m---------------------------------------------------------------------------\u001b[0m",
      "\u001b[0;31mAttributeError\u001b[0m                            Traceback (most recent call last)",
      "Cell \u001b[0;32mIn[12], line 1\u001b[0m\n\u001b[0;32m----> 1\u001b[0m \u001b[101mpq\u001b[49m\u001b[38;5;241;101m.\u001b[39;49m\u001b[101mStrategy\u001b[49m\u001b[38;5;241;101m.\u001b[39;49m\u001b[101mevaluate_returns\u001b[49m\u001b[101m(\u001b[49m\u001b[101mpq\u001b[49m\u001b[38;5;241;101m.\u001b[39;49m\u001b[101mContractGroup\u001b[49m\u001b[38;5;241;101m.\u001b[39;49m\u001b[101mget\u001b[49m\u001b[101m(\u001b[49m\u001b[38;5;124;101m'\u001b[39;49m\u001b[38;5;124;101mHEDGES\u001b[39;49m\u001b[38;5;124;101m'\u001b[39;49m\u001b[101m)\u001b[49m\u001b[101m)\u001b[49m\n",
      "File \u001b[0;32m~/mambaforge/envs/py310/lib/python3.10/site-packages/pyqstrat/strategy.py:669\u001b[0m, in \u001b[0;36mStrategy.evaluate_returns\u001b[0;34m(self, contract_group, periods_per_year, plot, display_summary, float_precision, return_metrics)\u001b[0m\n\u001b[1;32m    651\u001b[0m \u001b[38;5;28;01mdef\u001b[39;00m \u001b[38;5;21mevaluate_returns\u001b[39m(\u001b[38;5;28mself\u001b[39m, \n\u001b[1;32m    652\u001b[0m                      contract_group: ContractGroup \u001b[38;5;241m|\u001b[39m \u001b[38;5;28;01mNone\u001b[39;00m \u001b[38;5;241m=\u001b[39m \u001b[38;5;28;01mNone\u001b[39;00m, \n\u001b[1;32m    653\u001b[0m                      periods_per_year: \u001b[38;5;28mint\u001b[39m \u001b[38;5;241m=\u001b[39m \u001b[38;5;241m0\u001b[39m,\n\u001b[0;32m   (...)\u001b[0m\n\u001b[1;32m    656\u001b[0m                      float_precision: \u001b[38;5;28mint\u001b[39m \u001b[38;5;241m=\u001b[39m \u001b[38;5;241m4\u001b[39m, \n\u001b[1;32m    657\u001b[0m                      return_metrics: \u001b[38;5;28mbool\u001b[39m \u001b[38;5;241m=\u001b[39m \u001b[38;5;28;01mTrue\u001b[39;00m) \u001b[38;5;241m-\u001b[39m\u001b[38;5;241m>\u001b[39m \u001b[38;5;28mdict\u001b[39m[\u001b[38;5;28mstr\u001b[39m, Any] \u001b[38;5;241m|\u001b[39m \u001b[38;5;28;01mNone\u001b[39;00m:\n\u001b[1;32m    658\u001b[0m \u001b[38;5;250m    \u001b[39m\u001b[38;5;124;03m'''Computes return metrics and does or more of plotting, displaying or returning them.\u001b[39;00m\n\u001b[1;32m    659\u001b[0m \u001b[38;5;124;03m    \u001b[39;00m\n\u001b[1;32m    660\u001b[0m \u001b[38;5;124;03m    Args:\u001b[39;00m\n\u001b[0;32m   (...)\u001b[0m\n\u001b[1;32m    667\u001b[0m \u001b[38;5;124;03m        return_metrics (bool, optional): If set, we return the computed metrics as a dictionary\u001b[39;00m\n\u001b[1;32m    668\u001b[0m \u001b[38;5;124;03m    '''\u001b[39;00m\n\u001b[0;32m--> 669\u001b[0m     returns \u001b[38;5;241m=\u001b[39m \u001b[38;5;28;101mself\u001b[39;49m\u001b[38;5;241;101m.\u001b[39;49m\u001b[101mdf_returns\u001b[49m(contract_group)\n\u001b[1;32m    670\u001b[0m     ev \u001b[38;5;241m=\u001b[39m compute_return_metrics(returns\u001b[38;5;241m.\u001b[39mtimestamp\u001b[38;5;241m.\u001b[39mvalues, returns\u001b[38;5;241m.\u001b[39mret\u001b[38;5;241m.\u001b[39mvalues, \n\u001b[1;32m    671\u001b[0m                                 \u001b[38;5;28mself\u001b[39m\u001b[38;5;241m.\u001b[39maccount\u001b[38;5;241m.\u001b[39mstarting_equity, periods_per_year\u001b[38;5;241m=\u001b[39mperiods_per_year)\n\u001b[1;32m    672\u001b[0m     \u001b[38;5;28;01mif\u001b[39;00m display_summary:\n",
      "\u001b[0;31mAttributeError\u001b[0m: 'ContractGroup' object has no attribute 'df_returns'"
     ]
    }
   ],
   "source": [
    "pq.Strategy.evaluate_returns(pq.ContractGroup.get('HEDGES'))"
   ]
  },
  {
   "cell_type": "code",
   "execution_count": null,
   "metadata": {},
   "outputs": [],
   "source": []
  }
 ],
 "metadata": {
  "kernelspec": {
   "display_name": "Python 3 (ipykernel)",
   "language": "python",
   "name": "python3"
  },
  "language_info": {
   "codemirror_mode": {
    "name": "ipython",
    "version": 3
   },
   "file_extension": ".py",
   "mimetype": "text/x-python",
   "name": "python",
   "nbconvert_exporter": "python",
   "pygments_lexer": "ipython3",
   "version": "3.10.12"
  },
  "latex_envs": {
   "LaTeX_envs_menu_present": true,
   "autoclose": false,
   "autocomplete": true,
   "bibliofile": "biblio.bib",
   "cite_by": "apalike",
   "current_citInitial": 1,
   "eqLabelWithNumbers": true,
   "eqNumInitial": 1,
   "hotkeys": {
    "equation": "Ctrl-E",
    "itemize": "Ctrl-I"
   },
   "labels_anchors": false,
   "latex_user_defs": false,
   "report_style_numbering": false,
   "user_envs_cfg": false
  }
 },
 "nbformat": 4,
 "nbformat_minor": 2
}
