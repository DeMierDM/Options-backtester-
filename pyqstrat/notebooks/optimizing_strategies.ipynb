{
 "cells": [
  {
   "cell_type": "markdown",
   "metadata": {
    "run_control": {
     "frozen": false,
     "read_only": false
    }
   },
   "source": [
    "Please go through the \"building_strategies\" notebook before looking at this notebook.\n",
    "\n",
    "Lets work on optimizing our strategy parameters for the Bollinger Band&copy; we previously built.  We will include a function from the examples folder called build_example_strategy which builds this strategy."
   ]
  },
  {
   "cell_type": "code",
   "execution_count": 1,
   "metadata": {
    "ExecuteTime": {
     "end_time": "2023-10-14T20:54:53.678493Z",
     "start_time": "2023-10-14T20:54:53.287402Z"
    },
    "run_control": {
     "frozen": false,
     "read_only": false
    }
   },
   "outputs": [],
   "source": [
    "import math\n",
    "from types import SimpleNamespace\n",
    "import pandas as pd\n",
    "import numpy as np\n",
    "import pyqstrat as pq\n",
    "from pyqstrat.evaluator import compute_sharpe, compute_sortino, compute_maxdd_pct, compute_amean, compute_rolling_dd\n",
    "from pyqstrat.evaluator import compute_periods_per_year\n",
    "from pyqstrat.notebooks.support.build_example_strategy import build_example_strategy\n",
    "\n",
    "pq.ContractGroup.clear()"
   ]
  },
  {
   "cell_type": "markdown",
   "metadata": {
    "ExecuteTime": {
     "end_time": "2018-08-08T19:42:38.091850Z",
     "start_time": "2018-08-08T19:42:38.015962Z"
    }
   },
   "source": [
    "Lets try to optimize the the lookback period for the moving average and the number of standard deviations for the bands.\n",
    "\n",
    "We will try to optimize the sharpe ratio but also look at the sortino and max drawdown as we optimize the sharpe.\n",
    "\n",
    "To do this, we have to write a generator function and a cost function.  The generator produces all the combinations of parameters you want to optimize.  The cost function will run the strategy for each parameter combination provided by the generator and return whatever metric you want to optimize, as well as any other metrics you want to see at the same time.\n",
    "\n",
    "In this case, our cost metric will be the sharpe ratio of the strategy but we will also look at sortino and drawdowns at the same time. We also look at the number of trades generate and ignore results as unreliable if the number of trades is less than 10.\n",
    "\n",
    "The optimizer uses multiple processes to run as fast as possible.  You can set the number of processes you want to use using the max_processes argument to the Optimizer constructor.  If you don't set this, the optimizer will the same number of processes as the CPU cores on your machine.  You may want to increase this number if your backtesting is I/O bound, and the CPU cores are often idle waiting for disk or other resources.\n",
    "\n",
    "In this case, we are optimizing 2 parameters at the same time, but we can optimize 1 parameter or more than 2 as well."
   ]
  },
  {
   "cell_type": "code",
   "execution_count": 3,
   "metadata": {
    "ExecuteTime": {
     "end_time": "2023-10-14T20:55:04.921496Z",
     "start_time": "2023-10-14T20:55:04.319085Z"
    },
    "run_control": {
     "frozen": false,
     "read_only": false
    }
   },
   "outputs": [
    {
     "ename": "ValueError",
     "evalue": "\n    Invalid value of type 'builtins.list' received for the 'colorscale' property of contour\n        Received value: [[0, 'rgba(237, 100, 90, 0.85)'], [-0.06021398351934537, 'white'], [1, 'rgba(17, 165, 21, 0.85)']]\n\n    The 'colorscale' property is a colorscale and may be\n    specified as:\n      - A list of colors that will be spaced evenly to create the colorscale.\n        Many predefined colorscale lists are included in the sequential, diverging,\n        and cyclical modules in the plotly.colors package.\n      - A list of 2-element lists where the first element is the\n        normalized color level value (starting at 0 and ending at 1),\n        and the second item is a valid color string.\n        (e.g. [[0, 'green'], [0.5, 'red'], [1.0, 'rgb(0, 0, 255)']])\n      - One of the following named colorscales:\n            ['aggrnyl', 'agsunset', 'algae', 'amp', 'armyrose', 'balance',\n             'blackbody', 'bluered', 'blues', 'blugrn', 'bluyl', 'brbg',\n             'brwnyl', 'bugn', 'bupu', 'burg', 'burgyl', 'cividis', 'curl',\n             'darkmint', 'deep', 'delta', 'dense', 'earth', 'edge', 'electric',\n             'emrld', 'fall', 'geyser', 'gnbu', 'gray', 'greens', 'greys',\n             'haline', 'hot', 'hsv', 'ice', 'icefire', 'inferno', 'jet',\n             'magenta', 'magma', 'matter', 'mint', 'mrybm', 'mygbm', 'oranges',\n             'orrd', 'oryel', 'oxy', 'peach', 'phase', 'picnic', 'pinkyl',\n             'piyg', 'plasma', 'plotly3', 'portland', 'prgn', 'pubu', 'pubugn',\n             'puor', 'purd', 'purp', 'purples', 'purpor', 'rainbow', 'rdbu',\n             'rdgy', 'rdpu', 'rdylbu', 'rdylgn', 'redor', 'reds', 'solar',\n             'spectral', 'speed', 'sunset', 'sunsetdark', 'teal', 'tealgrn',\n             'tealrose', 'tempo', 'temps', 'thermal', 'tropic', 'turbid',\n             'turbo', 'twilight', 'viridis', 'ylgn', 'ylgnbu', 'ylorbr',\n             'ylorrd'].\n        Appending '_r' to a named colorscale reverses it.\n",
     "output_type": "error",
     "traceback": [
      "\u001b[0;31m---------------------------------------------------------------------------\u001b[0m",
      "\u001b[0;31mValueError\u001b[0m                                Traceback (most recent call last)",
      "Cell \u001b[0;32mIn[3], line 36\u001b[0m\n\u001b[1;32m     33\u001b[0m optimizer \u001b[38;5;241m=\u001b[39m pq\u001b[38;5;241m.\u001b[39mOptimizer(\u001b[38;5;124m'\u001b[39m\u001b[38;5;124mexample\u001b[39m\u001b[38;5;124m'\u001b[39m, generator(), cost_func, max_processes \u001b[38;5;241m=\u001b[39m \u001b[38;5;241m8\u001b[39m)\n\u001b[1;32m     34\u001b[0m optimizer\u001b[38;5;241m.\u001b[39mrun(raise_on_error \u001b[38;5;241m=\u001b[39m \u001b[38;5;28;01mTrue\u001b[39;00m)\n\u001b[0;32m---> 36\u001b[0m \u001b[101moptimizer\u001b[49m\u001b[38;5;241;101m.\u001b[39;49m\u001b[101mplot_3d\u001b[49m\u001b[101m(\u001b[49m\u001b[101mx\u001b[49m\u001b[101m \u001b[49m\u001b[38;5;241;101m=\u001b[39;49m\u001b[101m \u001b[49m\u001b[38;5;124;101m'\u001b[39;49m\u001b[38;5;124;101mlookback_period\u001b[39;49m\u001b[38;5;124;101m'\u001b[39;49m\u001b[101m,\u001b[49m\u001b[101m \u001b[49m\u001b[101my\u001b[49m\u001b[101m \u001b[49m\u001b[38;5;241;101m=\u001b[39;49m\u001b[101m \u001b[49m\u001b[38;5;124;101m'\u001b[39;49m\u001b[38;5;124;101mnum_std\u001b[39;49m\u001b[38;5;124;101m'\u001b[39;49m\u001b[101m)\u001b[49m;\n",
      "File \u001b[0;32m~/mambaforge/envs/py310/lib/python3.10/site-packages/pyqstrat/optimize.py:250\u001b[0m, in \u001b[0;36mOptimizer.plot_3d\u001b[0;34m(self, x, y, z, markers, filter_func, height, width, xlim, ylim, vertical_spacing, show)\u001b[0m\n\u001b[1;32m    245\u001b[0m colorscale \u001b[38;5;241m=\u001b[39m [\n\u001b[1;32m    246\u001b[0m     [\u001b[38;5;241m0\u001b[39m, \u001b[38;5;124m'\u001b[39m\u001b[38;5;124mrgba(237, 100, 90, 0.85)\u001b[39m\u001b[38;5;124m'\u001b[39m],   \n\u001b[1;32m    247\u001b[0m     [zero, \u001b[38;5;124m'\u001b[39m\u001b[38;5;124mwhite\u001b[39m\u001b[38;5;124m'\u001b[39m],  \n\u001b[1;32m    248\u001b[0m     [\u001b[38;5;241m1\u001b[39m, \u001b[38;5;124m'\u001b[39m\u001b[38;5;124mrgba(17, 165, 21, 0.85)\u001b[39m\u001b[38;5;124m'\u001b[39m]]  \n\u001b[1;32m    249\u001b[0m colorbar_y \u001b[38;5;241m=\u001b[39m \u001b[38;5;241m1\u001b[39m \u001b[38;5;241m-\u001b[39m (i \u001b[38;5;241m+\u001b[39m \u001b[38;5;241m1\u001b[39m) \u001b[38;5;241m*\u001b[39m colorbar_height\n\u001b[0;32m--> 250\u001b[0m trace \u001b[38;5;241m=\u001b[39m \u001b[101mgo\u001b[49m\u001b[38;5;241;101m.\u001b[39;49m\u001b[101mContour\u001b[49m\u001b[101m(\u001b[49m\u001b[101mx\u001b[49m\u001b[38;5;241;101m=\u001b[39;49m\u001b[101mx\u001b[49m\u001b[101m,\u001b[49m\u001b[101m \u001b[49m\n\u001b[1;32m    251\u001b[0m \u001b[101m                   \u001b[49m\u001b[101my\u001b[49m\u001b[38;5;241;101m=\u001b[39;49m\u001b[101my\u001b[49m\u001b[101m,\u001b[49m\u001b[101m \u001b[49m\n\u001b[1;32m    252\u001b[0m \u001b[101m                   \u001b[49m\u001b[101mz\u001b[49m\u001b[38;5;241;101m=\u001b[39;49m\u001b[101mzmatrix\u001b[49m\u001b[101m,\u001b[49m\u001b[101m \u001b[49m\n\u001b[1;32m    253\u001b[0m \u001b[101m                   \u001b[49m\u001b[101mname\u001b[49m\u001b[38;5;241;101m=\u001b[39;49m\u001b[101mmetric\u001b[49m\u001b[101m,\u001b[49m\u001b[101m \u001b[49m\n\u001b[1;32m    254\u001b[0m \u001b[101m                   \u001b[49m\u001b[101mcolorscale\u001b[49m\u001b[38;5;241;101m=\u001b[39;49m\u001b[101mcolorscale\u001b[49m\u001b[101m,\u001b[49m\u001b[101m \u001b[49m\n\u001b[1;32m    255\u001b[0m \u001b[101m                   \u001b[49m\u001b[101mcolorbar\u001b[49m\u001b[38;5;241;101m=\u001b[39;49m\u001b[38;5;28;101mdict\u001b[39;49m\u001b[101m(\u001b[49m\u001b[38;5;28;101mlen\u001b[39;49m\u001b[38;5;241;101m=\u001b[39;49m\u001b[101mcolorbar_height\u001b[49m\u001b[101m,\u001b[49m\u001b[101m \u001b[49m\u001b[101my\u001b[49m\u001b[38;5;241;101m=\u001b[39;49m\u001b[101mcolorbar_y\u001b[49m\u001b[101m)\u001b[49m\u001b[101m,\u001b[49m\n\u001b[1;32m    256\u001b[0m \u001b[101m                   \u001b[49m\u001b[101mconnectgaps\u001b[49m\u001b[38;5;241;101m=\u001b[39;49m\u001b[38;5;28;101;01mTrue\u001b[39;49;00m\u001b[101m,\u001b[49m\n\u001b[1;32m    257\u001b[0m \u001b[101m                   \u001b[49m\u001b[101mcontours\u001b[49m\u001b[38;5;241;101m=\u001b[39;49m\u001b[38;5;28;101mdict\u001b[39;49m\u001b[101m(\u001b[49m\u001b[101mshowlabels\u001b[49m\u001b[38;5;241;101m=\u001b[39;49m\u001b[38;5;28;101;01mTrue\u001b[39;49;00m\u001b[101m,\u001b[49m\u001b[101m \u001b[49m\u001b[101mlabelfont\u001b[49m\u001b[38;5;241;101m=\u001b[39;49m\u001b[38;5;28;101mdict\u001b[39;49m\u001b[101m(\u001b[49m\u001b[101mcolor\u001b[49m\u001b[38;5;241;101m=\u001b[39;49m\u001b[38;5;124;101m'\u001b[39;49m\u001b[38;5;124;101mwhite\u001b[39;49m\u001b[38;5;124;101m'\u001b[39;49m\u001b[101m)\u001b[49m\u001b[101m)\u001b[49m\u001b[101m)\u001b[49m\n\u001b[1;32m    258\u001b[0m \u001b[38;5;28;01mif\u001b[39;00m markers:\n\u001b[1;32m    259\u001b[0m     scatter \u001b[38;5;241m=\u001b[39m go\u001b[38;5;241m.\u001b[39mScatter(x\u001b[38;5;241m=\u001b[39mdf\u001b[38;5;241m.\u001b[39mx, y\u001b[38;5;241m=\u001b[39mdf\u001b[38;5;241m.\u001b[39my, marker\u001b[38;5;241m=\u001b[39m\u001b[38;5;28mdict\u001b[39m(color\u001b[38;5;241m=\u001b[39mdf[metric]\u001b[38;5;241m.\u001b[39mvalues), mode\u001b[38;5;241m=\u001b[39m\u001b[38;5;124m'\u001b[39m\u001b[38;5;124mmarkers\u001b[39m\u001b[38;5;124m'\u001b[39m)\n",
      "File \u001b[0;32m~/mambaforge/envs/py310/lib/python3.10/site-packages/plotly/graph_objs/_contour.py:3082\u001b[0m, in \u001b[0;36mContour.__init__\u001b[0;34m(self, arg, autocolorscale, autocontour, coloraxis, colorbar, colorscale, connectgaps, contours, customdata, customdatasrc, dx, dy, fillcolor, hoverinfo, hoverinfosrc, hoverlabel, hoverongaps, hovertemplate, hovertemplatesrc, hovertext, hovertextsrc, ids, idssrc, legendgroup, legendgrouptitle, legendrank, legendwidth, line, meta, metasrc, name, ncontours, opacity, reversescale, showlegend, showscale, stream, text, textfont, textsrc, texttemplate, transpose, uid, uirevision, visible, x, x0, xaxis, xcalendar, xhoverformat, xperiod, xperiod0, xperiodalignment, xsrc, xtype, y, y0, yaxis, ycalendar, yhoverformat, yperiod, yperiod0, yperiodalignment, ysrc, ytype, z, zauto, zhoverformat, zmax, zmid, zmin, zsrc, **kwargs)\u001b[0m\n\u001b[1;32m   3080\u001b[0m _v \u001b[38;5;241m=\u001b[39m colorscale \u001b[38;5;28;01mif\u001b[39;00m colorscale \u001b[38;5;129;01mis\u001b[39;00m \u001b[38;5;129;01mnot\u001b[39;00m \u001b[38;5;28;01mNone\u001b[39;00m \u001b[38;5;28;01melse\u001b[39;00m _v\n\u001b[1;32m   3081\u001b[0m \u001b[38;5;28;01mif\u001b[39;00m _v \u001b[38;5;129;01mis\u001b[39;00m \u001b[38;5;129;01mnot\u001b[39;00m \u001b[38;5;28;01mNone\u001b[39;00m:\n\u001b[0;32m-> 3082\u001b[0m     \u001b[38;5;28;101mself\u001b[39;49m\u001b[101m[\u001b[49m\u001b[38;5;124;101m\"\u001b[39;49m\u001b[38;5;124;101mcolorscale\u001b[39;49m\u001b[38;5;124;101m\"\u001b[39;49m\u001b[101m]\u001b[49m \u001b[38;5;241m=\u001b[39m _v\n\u001b[1;32m   3083\u001b[0m _v \u001b[38;5;241m=\u001b[39m arg\u001b[38;5;241m.\u001b[39mpop(\u001b[38;5;124m\"\u001b[39m\u001b[38;5;124mconnectgaps\u001b[39m\u001b[38;5;124m\"\u001b[39m, \u001b[38;5;28;01mNone\u001b[39;00m)\n\u001b[1;32m   3084\u001b[0m _v \u001b[38;5;241m=\u001b[39m connectgaps \u001b[38;5;28;01mif\u001b[39;00m connectgaps \u001b[38;5;129;01mis\u001b[39;00m \u001b[38;5;129;01mnot\u001b[39;00m \u001b[38;5;28;01mNone\u001b[39;00m \u001b[38;5;28;01melse\u001b[39;00m _v\n",
      "File \u001b[0;32m~/mambaforge/envs/py310/lib/python3.10/site-packages/plotly/basedatatypes.py:4851\u001b[0m, in \u001b[0;36mBasePlotlyType.__setitem__\u001b[0;34m(self, prop, value)\u001b[0m\n\u001b[1;32m   4847\u001b[0m         \u001b[38;5;28mself\u001b[39m\u001b[38;5;241m.\u001b[39m_set_array_prop(prop, value)\n\u001b[1;32m   4849\u001b[0m     \u001b[38;5;66;03m# ### Handle simple property ###\u001b[39;00m\n\u001b[1;32m   4850\u001b[0m     \u001b[38;5;28;01melse\u001b[39;00m:\n\u001b[0;32m-> 4851\u001b[0m         \u001b[38;5;28;101mself\u001b[39;49m\u001b[38;5;241;101m.\u001b[39;49m\u001b[101m_set_prop\u001b[49m\u001b[101m(\u001b[49m\u001b[101mprop\u001b[49m\u001b[101m,\u001b[49m\u001b[101m \u001b[49m\u001b[101mvalue\u001b[49m\u001b[101m)\u001b[49m\n\u001b[1;32m   4852\u001b[0m \u001b[38;5;28;01melse\u001b[39;00m:\n\u001b[1;32m   4853\u001b[0m     \u001b[38;5;66;03m# Make sure properties dict is initialized\u001b[39;00m\n\u001b[1;32m   4854\u001b[0m     \u001b[38;5;28mself\u001b[39m\u001b[38;5;241m.\u001b[39m_init_props()\n",
      "File \u001b[0;32m~/mambaforge/envs/py310/lib/python3.10/site-packages/plotly/basedatatypes.py:5195\u001b[0m, in \u001b[0;36mBasePlotlyType._set_prop\u001b[0;34m(self, prop, val)\u001b[0m\n\u001b[1;32m   5193\u001b[0m         \u001b[38;5;28;01mreturn\u001b[39;00m\n\u001b[1;32m   5194\u001b[0m     \u001b[38;5;28;01melse\u001b[39;00m:\n\u001b[0;32m-> 5195\u001b[0m         \u001b[38;5;28;01mraise\u001b[39;00m err\n\u001b[1;32m   5197\u001b[0m \u001b[38;5;66;03m# val is None\u001b[39;00m\n\u001b[1;32m   5198\u001b[0m \u001b[38;5;66;03m# -----------\u001b[39;00m\n\u001b[1;32m   5199\u001b[0m \u001b[38;5;28;01mif\u001b[39;00m val \u001b[38;5;129;01mis\u001b[39;00m \u001b[38;5;28;01mNone\u001b[39;00m:\n\u001b[1;32m   5200\u001b[0m     \u001b[38;5;66;03m# Check if we should send null update\u001b[39;00m\n",
      "File \u001b[0;32m~/mambaforge/envs/py310/lib/python3.10/site-packages/plotly/basedatatypes.py:5190\u001b[0m, in \u001b[0;36mBasePlotlyType._set_prop\u001b[0;34m(self, prop, val)\u001b[0m\n\u001b[1;32m   5187\u001b[0m validator \u001b[38;5;241m=\u001b[39m \u001b[38;5;28mself\u001b[39m\u001b[38;5;241m.\u001b[39m_get_validator(prop)\n\u001b[1;32m   5189\u001b[0m \u001b[38;5;28;01mtry\u001b[39;00m:\n\u001b[0;32m-> 5190\u001b[0m     val \u001b[38;5;241m=\u001b[39m \u001b[101mvalidator\u001b[49m\u001b[38;5;241;101m.\u001b[39;49m\u001b[101mvalidate_coerce\u001b[49m\u001b[101m(\u001b[49m\u001b[101mval\u001b[49m\u001b[101m)\u001b[49m\n\u001b[1;32m   5191\u001b[0m \u001b[38;5;28;01mexcept\u001b[39;00m \u001b[38;5;167;01mValueError\u001b[39;00m \u001b[38;5;28;01mas\u001b[39;00m err:\n\u001b[1;32m   5192\u001b[0m     \u001b[38;5;28;01mif\u001b[39;00m \u001b[38;5;28mself\u001b[39m\u001b[38;5;241m.\u001b[39m_skip_invalid:\n",
      "File \u001b[0;32m~/mambaforge/envs/py310/lib/python3.10/site-packages/_plotly_utils/basevalidators.py:1643\u001b[0m, in \u001b[0;36mColorscaleValidator.validate_coerce\u001b[0;34m(self, v)\u001b[0m\n\u001b[1;32m   1638\u001b[0m             v \u001b[38;5;241m=\u001b[39m [\n\u001b[1;32m   1639\u001b[0m                 [e[\u001b[38;5;241m0\u001b[39m], ColorValidator\u001b[38;5;241m.\u001b[39mperform_validate_coerce(e[\u001b[38;5;241m1\u001b[39m])] \u001b[38;5;28;01mfor\u001b[39;00m e \u001b[38;5;129;01min\u001b[39;00m v\n\u001b[1;32m   1640\u001b[0m             ]\n\u001b[1;32m   1642\u001b[0m \u001b[38;5;28;01mif\u001b[39;00m \u001b[38;5;129;01mnot\u001b[39;00m v_valid:\n\u001b[0;32m-> 1643\u001b[0m     \u001b[38;5;28;101mself\u001b[39;49m\u001b[38;5;241;101m.\u001b[39;49m\u001b[101mraise_invalid_val\u001b[49m\u001b[101m(\u001b[49m\u001b[101mv\u001b[49m\u001b[101m)\u001b[49m\n\u001b[1;32m   1645\u001b[0m \u001b[38;5;28;01mreturn\u001b[39;00m v\n",
      "File \u001b[0;32m~/mambaforge/envs/py310/lib/python3.10/site-packages/_plotly_utils/basevalidators.py:288\u001b[0m, in \u001b[0;36mBaseValidator.raise_invalid_val\u001b[0;34m(self, v, inds)\u001b[0m\n\u001b[1;32m    285\u001b[0m             \u001b[38;5;28;01mfor\u001b[39;00m i \u001b[38;5;129;01min\u001b[39;00m inds:\n\u001b[1;32m    286\u001b[0m                 name \u001b[38;5;241m+\u001b[39m\u001b[38;5;241m=\u001b[39m \u001b[38;5;124m\"\u001b[39m\u001b[38;5;124m[\u001b[39m\u001b[38;5;124m\"\u001b[39m \u001b[38;5;241m+\u001b[39m \u001b[38;5;28mstr\u001b[39m(i) \u001b[38;5;241m+\u001b[39m \u001b[38;5;124m\"\u001b[39m\u001b[38;5;124m]\u001b[39m\u001b[38;5;124m\"\u001b[39m\n\u001b[0;32m--> 288\u001b[0m         \u001b[38;5;28;01mraise\u001b[39;00m \u001b[38;5;167;01mValueError\u001b[39;00m(\n\u001b[1;32m    289\u001b[0m \u001b[38;5;250m            \u001b[39m\u001b[38;5;124;03m\"\"\"\u001b[39;00m\n\u001b[1;32m    290\u001b[0m \u001b[38;5;124;03m    Invalid value of type {typ} received for the '{name}' property of {pname}\u001b[39;00m\n\u001b[1;32m    291\u001b[0m \u001b[38;5;124;03m        Received value: {v}\u001b[39;00m\n\u001b[1;32m    292\u001b[0m \n\u001b[1;32m    293\u001b[0m \u001b[38;5;124;03m{valid_clr_desc}\"\"\"\u001b[39;00m\u001b[38;5;241m.\u001b[39mformat(\n\u001b[1;32m    294\u001b[0m                 name\u001b[38;5;241m=\u001b[39mname,\n\u001b[1;32m    295\u001b[0m                 pname\u001b[38;5;241m=\u001b[39m\u001b[38;5;28mself\u001b[39m\u001b[38;5;241m.\u001b[39mparent_name,\n\u001b[1;32m    296\u001b[0m                 typ\u001b[38;5;241m=\u001b[39mtype_str(v),\n\u001b[1;32m    297\u001b[0m                 v\u001b[38;5;241m=\u001b[39m\u001b[38;5;28mrepr\u001b[39m(v),\n\u001b[1;32m    298\u001b[0m                 valid_clr_desc\u001b[38;5;241m=\u001b[39m\u001b[38;5;28mself\u001b[39m\u001b[38;5;241m.\u001b[39mdescription(),\n\u001b[1;32m    299\u001b[0m             )\n\u001b[1;32m    300\u001b[0m         )\n",
      "\u001b[0;31mValueError\u001b[0m: \n    Invalid value of type 'builtins.list' received for the 'colorscale' property of contour\n        Received value: [[0, 'rgba(237, 100, 90, 0.85)'], [-0.06021398351934537, 'white'], [1, 'rgba(17, 165, 21, 0.85)']]\n\n    The 'colorscale' property is a colorscale and may be\n    specified as:\n      - A list of colors that will be spaced evenly to create the colorscale.\n        Many predefined colorscale lists are included in the sequential, diverging,\n        and cyclical modules in the plotly.colors package.\n      - A list of 2-element lists where the first element is the\n        normalized color level value (starting at 0 and ending at 1),\n        and the second item is a valid color string.\n        (e.g. [[0, 'green'], [0.5, 'red'], [1.0, 'rgb(0, 0, 255)']])\n      - One of the following named colorscales:\n            ['aggrnyl', 'agsunset', 'algae', 'amp', 'armyrose', 'balance',\n             'blackbody', 'bluered', 'blues', 'blugrn', 'bluyl', 'brbg',\n             'brwnyl', 'bugn', 'bupu', 'burg', 'burgyl', 'cividis', 'curl',\n             'darkmint', 'deep', 'delta', 'dense', 'earth', 'edge', 'electric',\n             'emrld', 'fall', 'geyser', 'gnbu', 'gray', 'greens', 'greys',\n             'haline', 'hot', 'hsv', 'ice', 'icefire', 'inferno', 'jet',\n             'magenta', 'magma', 'matter', 'mint', 'mrybm', 'mygbm', 'oranges',\n             'orrd', 'oryel', 'oxy', 'peach', 'phase', 'picnic', 'pinkyl',\n             'piyg', 'plasma', 'plotly3', 'portland', 'prgn', 'pubu', 'pubugn',\n             'puor', 'purd', 'purp', 'purples', 'purpor', 'rainbow', 'rdbu',\n             'rdgy', 'rdpu', 'rdylbu', 'rdylgn', 'redor', 'reds', 'solar',\n             'spectral', 'speed', 'sunset', 'sunsetdark', 'teal', 'tealgrn',\n             'tealrose', 'tempo', 'temps', 'thermal', 'tropic', 'turbid',\n             'turbo', 'twilight', 'viridis', 'ylgn', 'ylgnbu', 'ylorbr',\n             'ylorrd'].\n        Appending '_r' to a named colorscale reverses it.\n"
     ]
    }
   ],
   "source": [
    "def generator():\n",
    "    for lookback_period in np.arange(5, 50, 10): \n",
    "        for num_std in np.arange(1, 5, 0.5): # number of standard deviations the bands are away from the SMA\n",
    "            costs = (yield {'lookback_period' : lookback_period, 'num_std' : num_std})\n",
    "            yield\n",
    "            \n",
    "def cost_func(suggestion):\n",
    "    strategy_context = SimpleNamespace(lookback_period = suggestion['lookback_period'], num_std = suggestion['num_std'])\n",
    "    \n",
    "    strategy = build_example_strategy(strategy_context)\n",
    "    strategy.run()\n",
    "    \n",
    "    returns_df = strategy.df_returns().set_index('timestamp')\n",
    "    \n",
    "    num_trades = len(strategy.df_trades())\n",
    "    \n",
    "    if num_trades < 10: return np.nan, {}\n",
    "    \n",
    "    returns = returns_df.ret.values\n",
    "    equity = returns_df.equity.values\n",
    "    dates = returns_df.index.values\n",
    "    \n",
    "    periods_per_year = compute_periods_per_year(dates)\n",
    "    \n",
    "    amean = compute_amean(returns, periods_per_year)\n",
    "    sharpe = compute_sharpe(returns, amean, periods_per_year)\n",
    "    sortino = compute_sortino(returns, amean, periods_per_year)\n",
    "    rolling_dd = compute_rolling_dd(dates, equity)\n",
    "    maxdd = compute_maxdd_pct(rolling_dd[1])\n",
    "    \n",
    "    return sharpe, {'sortino' : sortino, 'maxdd' : maxdd, 'num_trades' : num_trades}\n",
    "\n",
    "optimizer = pq.Optimizer('example', generator(), cost_func, max_processes = 8)\n",
    "optimizer.run(raise_on_error = True)\n",
    "\n",
    "optimizer.plot_3d(x = 'lookback_period', y = 'num_std');"
   ]
  },
  {
   "cell_type": "markdown",
   "metadata": {
    "ExecuteTime": {
     "end_time": "2018-08-08T21:07:31.910358Z",
     "start_time": "2018-08-08T21:07:30.926588Z"
    }
   },
   "source": [
    "There seems to be a region around a lookback period of 35 bars and 3 standard deviations that has a positive sharpe and sortino.  The actual points you provided to the plot are shown with red X markers.\n",
    "\n",
    "Let's build a contour plot to see the same data in a different view."
   ]
  },
  {
   "cell_type": "code",
   "execution_count": null,
   "metadata": {
    "ExecuteTime": {
     "end_time": "2023-10-14T20:54:54.085779Z",
     "start_time": "2023-10-14T20:54:54.085773Z"
    },
    "run_control": {
     "frozen": false,
     "read_only": false
    }
   },
   "outputs": [],
   "source": [
    "optimizer.plot_3d(x = 'lookback_period', y = 'num_std', plot_type = 'contour', hspace = 0.5, );"
   ]
  },
  {
   "cell_type": "markdown",
   "metadata": {},
   "source": [
    "Lets look at the actual values of the sharpes, sortinos and drawdowns"
   ]
  },
  {
   "cell_type": "code",
   "execution_count": null,
   "metadata": {
    "ExecuteTime": {
     "end_time": "2023-10-14T20:54:54.086394Z",
     "start_time": "2023-10-14T20:54:54.086387Z"
    },
    "run_control": {
     "frozen": false,
     "read_only": false
    }
   },
   "outputs": [],
   "source": [
    "optimizer.df_experiments(ascending = False)"
   ]
  },
  {
   "cell_type": "code",
   "execution_count": null,
   "metadata": {
    "ExecuteTime": {
     "end_time": "2023-10-14T20:54:54.087109Z",
     "start_time": "2023-10-14T20:54:54.087103Z"
    },
    "run_control": {
     "frozen": false,
     "read_only": false
    }
   },
   "outputs": [],
   "source": [
    "optimizer.df_experiments(sort_column = 'maxdd', ascending = False)"
   ]
  },
  {
   "cell_type": "markdown",
   "metadata": {},
   "source": [
    "Let's run the strategy at a lookback period of 35 bars with 3 standard deviations to verify the results"
   ]
  },
  {
   "cell_type": "code",
   "execution_count": null,
   "metadata": {
    "ExecuteTime": {
     "end_time": "2023-10-14T20:54:54.087629Z",
     "start_time": "2023-10-14T20:54:54.087623Z"
    },
    "run_control": {
     "frozen": false,
     "read_only": false
    }
   },
   "outputs": [],
   "source": [
    "strategy = build_example_strategy(SimpleNamespace(lookback_period = 35, num_std = 3))\n",
    "strategy.run()\n",
    "strategy.evaluate_returns();"
   ]
  },
  {
   "cell_type": "markdown",
   "metadata": {},
   "source": [
    "This confirms that lookback period somewhere around 35 bars with 3 standard deviations gives us a positive sharpe and sortino and lower drawdowns.  This is a toy example, and in real life you would want to run with a lot more data, look at the stability of this region and do other out of sample testing before you can use this strategy with real money."
   ]
  },
  {
   "cell_type": "code",
   "execution_count": null,
   "metadata": {
    "ExecuteTime": {
     "end_time": "2023-10-14T20:54:54.088429Z",
     "start_time": "2023-10-14T20:54:54.088423Z"
    }
   },
   "outputs": [],
   "source": [
    "optimizer.df_experiments()"
   ]
  }
 ],
 "metadata": {
  "kernelspec": {
   "display_name": "Python 3 (ipykernel)",
   "language": "python",
   "name": "python3"
  },
  "language_info": {
   "codemirror_mode": {
    "name": "ipython",
    "version": 3
   },
   "file_extension": ".py",
   "mimetype": "text/x-python",
   "name": "python",
   "nbconvert_exporter": "python",
   "pygments_lexer": "ipython3",
   "version": "3.10.12"
  },
  "latex_envs": {
   "LaTeX_envs_menu_present": true,
   "autoclose": false,
   "autocomplete": true,
   "bibliofile": "biblio.bib",
   "cite_by": "apalike",
   "current_citInitial": 1,
   "eqLabelWithNumbers": true,
   "eqNumInitial": 1,
   "hotkeys": {
    "equation": "Ctrl-E",
    "itemize": "Ctrl-I"
   },
   "labels_anchors": false,
   "latex_user_defs": false,
   "report_style_numbering": false,
   "user_envs_cfg": false
  }
 },
 "nbformat": 4,
 "nbformat_minor": 2
}
