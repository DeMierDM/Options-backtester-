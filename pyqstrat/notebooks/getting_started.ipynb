{
 "cells": [
  {
   "cell_type": "markdown",
   "id": "c4d78a44",
   "metadata": {},
   "source": [
    "## Getting started\n",
    "\n",
    "We build a simple strategy that goes long when overnight return is negative and exits by the end of the day. If price moves against us, we use a stop loss to get out. We have 15 minute bars of Pepsi (PEP) stock prices"
   ]
  },
  {
   "cell_type": "code",
   "execution_count": 10,
   "id": "ae11c9aa",
   "metadata": {
    "ExecuteTime": {
     "end_time": "2023-10-15T23:51:34.908079Z",
     "start_time": "2023-10-15T23:51:34.857031Z"
    }
   },
   "outputs": [
    {
     "name": "stdout",
     "output_type": "stream",
     "text": [
      "[2023-10-15 18:51:34.887 __call__] Trade: 27 2019-01-15T10:00 PEP 2019-01-15 10:00:00 qty: 185563 prc: 108.12 order: PEP 2019-01-15 09:45:00 qty: 185563 POS_OVERNIGHT_RETURN OrderStatus.OPEN\n",
      "[2023-10-15 18:51:34.888 __call__] Trade: 51 2019-01-15T16:00 PEP 2019-01-15 16:00:00 qty: -185563 prc: 108.98 order: PEP 2019-01-15 15:45:00 qty: -185563 EOD OrderStatus.OPEN\n",
      "[2023-10-15 18:51:34.889 __call__] Trade: 79 2019-01-17T10:00 PEP 2019-01-17 10:00:00 qty: 213590 prc: 108.75 order: PEP 2019-01-17 09:45:00 qty: 213590 POS_OVERNIGHT_RETURN OrderStatus.OPEN\n",
      "[2023-10-15 18:51:34.889 __call__] Trade: 103 2019-01-17T16:00 PEP 2019-01-17 16:00:00 qty: -213590 prc: 109.22 order: PEP 2019-01-17 15:45:00 qty: -213590 EOD OrderStatus.OPEN\n",
      "[2023-10-15 18:51:34.890 __call__] Trade: 105 2019-01-18T10:00 PEP 2019-01-18 10:00:00 qty: 229628 prc: 109.75 order: PEP 2019-01-18 09:45:00 qty: 229628 POS_OVERNIGHT_RETURN OrderStatus.OPEN\n",
      "[2023-10-15 18:51:34.890 __call__] Trade: 129 2019-01-18T16:00 PEP 2019-01-18 16:00:00 qty: -229628 prc: 110.04 order: PEP 2019-01-18 15:45:00 qty: -229628 EOD OrderStatus.OPEN\n",
      "[2023-10-15 18:51:34.891 __call__] Trade: 209 2019-01-25T10:00 PEP 2019-01-25 10:00:00 qty: 240930 prc: 110.23 order: PEP 2019-01-25 09:45:00 qty: 240930 POS_OVERNIGHT_RETURN OrderStatus.OPEN\n",
      "[2023-10-15 18:51:34.892 __call__] Trade: 222 2019-01-25T13:15 PEP 2019-01-25 13:15:00 qty: -240930 prc: 109.35 order: PEP 2019-01-25 13:00:00 qty: -240930 STOPPED_OUT OrderStatus.OPEN\n",
      "[2023-10-15 18:51:34.893 __call__] Trade: 261 2019-01-29T10:00 PEP 2019-01-29 10:00:00 qty: 203476 prc: 109.5 order: PEP 2019-01-29 09:45:00 qty: 203476 POS_OVERNIGHT_RETURN OrderStatus.OPEN\n",
      "[2023-10-15 18:51:34.894 __call__] Trade: 266 2019-01-29T11:15 PEP 2019-01-29 11:15:00 qty: -203476 prc: 108.698 order: PEP 2019-01-29 11:00:00 qty: -203476 STOPPED_OUT OrderStatus.OPEN\n",
      "[2023-10-15 18:51:34.894 __call__] Trade: 287 2019-01-30T10:00 PEP 2019-01-30 10:00:00 qty: 173238 prc: 110.3 order: PEP 2019-01-30 09:45:00 qty: 173238 POS_OVERNIGHT_RETURN OrderStatus.OPEN\n",
      "[2023-10-15 18:51:34.895 __call__] Trade: 311 2019-01-30T16:00 PEP 2019-01-30 16:00:00 qty: -173238 prc: 110.81 order: PEP 2019-01-30 15:45:00 qty: -173238 EOD OrderStatus.OPEN\n",
      "[2023-10-15 18:51:34.896 __call__] Trade: 365 2019-02-04T10:00 PEP 2019-02-04 10:00:00 qty: 184718 prc: 112.68 order: PEP 2019-02-04 09:45:00 qty: 184718 POS_OVERNIGHT_RETURN OrderStatus.OPEN\n",
      "[2023-10-15 18:51:34.896 __call__] Trade: 368 2019-02-04T10:45 PEP 2019-02-04 10:45:00 qty: -184718 prc: 112.06 order: PEP 2019-02-04 10:30:00 qty: -184718 STOPPED_OUT OrderStatus.OPEN\n",
      "[2023-10-15 18:51:34.897 __call__] Trade: 495 2019-02-11T10:00 PEP 2019-02-11 10:00:00 qty: 162938 prc: 113.32 order: PEP 2019-02-11 09:45:00 qty: 162938 POS_OVERNIGHT_RETURN OrderStatus.OPEN\n",
      "[2023-10-15 18:51:34.898 __call__] Trade: 497 2019-02-11T10:30 PEP 2019-02-11 10:30:00 qty: -162938 prc: 112.93 order: PEP 2019-02-11 10:15:00 qty: -162938 STOPPED_OUT OrderStatus.OPEN\n",
      "[2023-10-15 18:51:34.899 __call__] Trade: 521 2019-02-12T10:00 PEP 2019-02-12 10:00:00 qty: 152498 prc: 112.56 order: PEP 2019-02-12 09:45:00 qty: 152498 POS_OVERNIGHT_RETURN OrderStatus.OPEN\n",
      "[2023-10-15 18:51:34.899 __call__] Trade: 545 2019-02-12T16:00 PEP 2019-02-12 16:00:00 qty: -152498 prc: 113.77 order: PEP 2019-02-12 15:45:00 qty: -152498 EOD OrderStatus.OPEN\n",
      "[2023-10-15 18:51:34.900 __call__] Trade: 547 2019-02-13T10:00 PEP 2019-02-13 10:00:00 qty: 182540 prc: 114.19 order: PEP 2019-02-13 09:45:00 qty: 182540 POS_OVERNIGHT_RETURN OrderStatus.OPEN\n",
      "[2023-10-15 18:51:34.901 __call__] Trade: 550 2019-02-13T10:45 PEP 2019-02-13 10:45:00 qty: -182540 prc: 113.74 order: PEP 2019-02-13 10:30:00 qty: -182540 STOPPED_OUT OrderStatus.OPEN\n",
      "[2023-10-15 18:51:34.902 __call__] Trade: 599 2019-02-15T10:00 PEP 2019-02-15 10:00:00 qty: 168648 prc: 115.24 order: PEP 2019-02-15 09:45:00 qty: 168648 POS_OVERNIGHT_RETURN OrderStatus.OPEN\n",
      "[2023-10-15 18:51:34.903 __call__] Trade: 623 2019-02-15T16:00 PEP 2019-02-15 16:00:00 qty: -168648 prc: 115.93 order: PEP 2019-02-15 15:45:00 qty: -168648 EOD OrderStatus.OPEN\n",
      "[2023-10-15 18:51:34.904 __call__] Trade: 625 2019-02-19T10:00 PEP 2019-02-19 10:00:00 qty: 186221 prc: 115.52 order: PEP 2019-02-19 09:45:00 qty: 186221 POS_OVERNIGHT_RETURN OrderStatus.OPEN\n",
      "[2023-10-15 18:51:34.904 __call__] Trade: 627 2019-02-19T10:30 PEP 2019-02-19 10:30:00 qty: -186221 prc: 115.63 order: PEP 2019-02-19 10:15:00 qty: -186221 STOPPED_OUT OrderStatus.OPEN\n",
      "[2023-10-15 18:51:34.905 __call__] Trade: 651 2019-02-20T10:00 PEP 2019-02-20 10:00:00 qty: 189401 prc: 116.39 order: PEP 2019-02-20 09:45:00 qty: 189401 POS_OVERNIGHT_RETURN OrderStatus.OPEN\n",
      "[2023-10-15 18:51:34.906 __call__] Trade: 657 2019-02-20T11:45 PEP 2019-02-20 11:45:00 qty: -189401 prc: 115.83 order: PEP 2019-02-20 11:30:00 qty: -189401 STOPPED_OUT OrderStatus.OPEN\n"
     ]
    }
   ],
   "source": [
    "# %%checkall\n",
    "import pandas as pd\n",
    "import pyqstrat as pq\n",
    "import numpy as np\n",
    "\n",
    "# read 15 minute price bars\n",
    "pepsi = pd.read_csv('support/pepsi_15_min_prices.csv.gz')[['date', 'c']]\n",
    "pepsi.columns = ['timestamp', 'c'] \n",
    "# the date corresponding to each 15 minute timestamp\n",
    "pepsi['date'] = pepsi.timestamp.values.astype('M8[D]') \n",
    "# compute overnight return\n",
    "pepsi['overnight_ret'] = np.where(pepsi.date > pepsi.date.shift(1), pepsi.c / pepsi.c.shift(1) - 1, np.nan)\n",
    "pepsi['overnight_ret_positive'] = (pepsi.overnight_ret > 0)  # whether overnight return is positive\n",
    "# mark points just before EOD. We enter a marker order at these points so we have one bar to get filled\n",
    "pepsi['eod'] = np.where(pepsi.date.shift(-2) > pepsi.date, True, False)   \n",
    "# if the price drops by 0.5% after we enter in the morning take our loss and get out\n",
    "pepsi['stop_price'] = np.where(np.isfinite(pepsi.overnight_ret), pepsi.c * 0.995, np.nan) \n",
    "pepsi['stop_price'] = pepsi.stop_price.fillna(method='ffill')  # fill in the stop price for the rest of the day\n",
    "pepsi['stop'] = np.where(pepsi.c < pepsi.stop_price, True, False)  # whether we should exit because we are stopped out\n",
    "\n",
    "strat_builder = pq.StrategyBuilder(data=pepsi)   \n",
    "strat_builder.add_contract('PEP')\n",
    "# add the stop price so we can refer to it in\n",
    "strat_builder.add_indicator('stop_price', pepsi.stop_price.values) \n",
    "# convert timestamps from nanoseconds (pandas convention) to minutes so they are easier to view\n",
    "timestamps = pepsi.timestamp.values.astype('M8[m]')  \n",
    "prices = pepsi.c.values\n",
    "# create a dictionary from contract name=>timestamp => price for use in the price function\n",
    "price_dict = {'PEP': {timestamps[i]: prices[i] for i in range(len(timestamps))}}\n",
    "# create the price function that the strategy will use for looking up prices \n",
    "price_function = pq.PriceFuncDict(price_dict=price_dict)\n",
    "# strat_builder.set_timestamps(timestamps)  # \n",
    "strat_builder.set_price_function(price_function)\n",
    "\n",
    "# FiniteRiskEntryRule allows us to enter trades and get out with a limited loss when a stop is hit.\n",
    "# This enters market orders, if you want to use limit orders, set the limit_increment argument\n",
    "entry_rule = pq.FiniteRiskEntryRule(\n",
    "    reason_code='POS_OVERNIGHT_RETURN',  # this is useful to know why we entered a trade\n",
    "    price_func=price_function, \n",
    "    long=True,  # whether we enter a long or short position\n",
    "    percent_of_equity=0.1,  # set the position size so that if the stop is hit, we lose no more than this\n",
    "    # stop price is used for position sizing.  Also, we will not enter if the price is already below \n",
    "    # stop price for long trades and vice versa\n",
    "    stop_price_ind='stop_price', \n",
    "    single_entry_per_day=True)  # if we are stopped out, do we allow re-entry later in the day\n",
    "\n",
    "# ClosePositionExitRule fully exits a position using either a market or limit order\n",
    "# In this case, we want to exit at EOD so we are flat overnight\n",
    "exit_rule_stop = pq.ClosePositionExitRule(   \n",
    "    reason_code='STOPPED_OUT',\n",
    "    price_func=price_function)\n",
    "\n",
    "# Exit when the stop price is reached\n",
    "exit_rule_eod = pq.ClosePositionExitRule(\n",
    "    reason_code='EOD',\n",
    "    price_func=price_function)\n",
    "\n",
    "# Setup the rules we setup above so they are only called when the columns below in our data dataframe are true\n",
    "strat_builder.add_series_rule('overnight_ret_positive', entry_rule, position_filter='zero')\n",
    "strat_builder.add_series_rule('eod', exit_rule_eod, position_filter='positive')\n",
    "strat_builder.add_series_rule('stop', exit_rule_stop, position_filter='positive')\n",
    "\n",
    "# create the strategy and run it\n",
    "strategy = strat_builder()\n",
    "strategy.run()"
   ]
  },
  {
   "cell_type": "code",
   "execution_count": 12,
   "id": "f8e52bdd",
   "metadata": {
    "ExecuteTime": {
     "end_time": "2023-10-15T23:51:42.244400Z",
     "start_time": "2023-10-15T23:51:42.208376Z"
    }
   },
   "outputs": [
    {
     "data": {
      "text/html": [
       "<div>\n",
       "<style scoped>\n",
       "    .dataframe tbody tr th:only-of-type {\n",
       "        vertical-align: middle;\n",
       "    }\n",
       "\n",
       "    .dataframe tbody tr th {\n",
       "        vertical-align: top;\n",
       "    }\n",
       "\n",
       "    .dataframe thead th {\n",
       "        text-align: right;\n",
       "    }\n",
       "</style>\n",
       "<table border=\"1\" class=\"dataframe\">\n",
       "  <thead>\n",
       "    <tr style=\"text-align: right;\">\n",
       "      <th></th>\n",
       "      <th>symbol</th>\n",
       "      <th>multiplier</th>\n",
       "      <th>entry_timestamp</th>\n",
       "      <th>exit_timestamp</th>\n",
       "      <th>qty</th>\n",
       "      <th>entry_price</th>\n",
       "      <th>exit_price</th>\n",
       "      <th>entry_reason</th>\n",
       "      <th>exit_reason</th>\n",
       "      <th>entry_commission</th>\n",
       "      <th>exit_commission</th>\n",
       "      <th>net_pnl</th>\n",
       "    </tr>\n",
       "  </thead>\n",
       "  <tbody>\n",
       "    <tr>\n",
       "      <th>0</th>\n",
       "      <td>PEP</td>\n",
       "      <td>1.0</td>\n",
       "      <td>2019-01-15 10:00:00</td>\n",
       "      <td>2019-01-15 16:00:00</td>\n",
       "      <td>185563</td>\n",
       "      <td>108.12</td>\n",
       "      <td>108.9800</td>\n",
       "      <td>POS_OVERNIGHT_RETURN</td>\n",
       "      <td>EOD</td>\n",
       "      <td>0.0</td>\n",
       "      <td>0.0</td>\n",
       "      <td>159584.1800</td>\n",
       "    </tr>\n",
       "    <tr>\n",
       "      <th>1</th>\n",
       "      <td>PEP</td>\n",
       "      <td>1.0</td>\n",
       "      <td>2019-01-17 10:00:00</td>\n",
       "      <td>2019-01-17 16:00:00</td>\n",
       "      <td>213590</td>\n",
       "      <td>108.75</td>\n",
       "      <td>109.2200</td>\n",
       "      <td>POS_OVERNIGHT_RETURN</td>\n",
       "      <td>EOD</td>\n",
       "      <td>0.0</td>\n",
       "      <td>0.0</td>\n",
       "      <td>100387.3000</td>\n",
       "    </tr>\n",
       "    <tr>\n",
       "      <th>2</th>\n",
       "      <td>PEP</td>\n",
       "      <td>1.0</td>\n",
       "      <td>2019-01-18 10:00:00</td>\n",
       "      <td>2019-01-18 16:00:00</td>\n",
       "      <td>229628</td>\n",
       "      <td>109.75</td>\n",
       "      <td>110.0400</td>\n",
       "      <td>POS_OVERNIGHT_RETURN</td>\n",
       "      <td>EOD</td>\n",
       "      <td>0.0</td>\n",
       "      <td>0.0</td>\n",
       "      <td>66592.1200</td>\n",
       "    </tr>\n",
       "    <tr>\n",
       "      <th>3</th>\n",
       "      <td>PEP</td>\n",
       "      <td>1.0</td>\n",
       "      <td>2019-01-25 10:00:00</td>\n",
       "      <td>2019-01-25 13:15:00</td>\n",
       "      <td>240930</td>\n",
       "      <td>110.23</td>\n",
       "      <td>109.3500</td>\n",
       "      <td>POS_OVERNIGHT_RETURN</td>\n",
       "      <td>STOPPED_OUT</td>\n",
       "      <td>0.0</td>\n",
       "      <td>0.0</td>\n",
       "      <td>-212018.4000</td>\n",
       "    </tr>\n",
       "    <tr>\n",
       "      <th>4</th>\n",
       "      <td>PEP</td>\n",
       "      <td>1.0</td>\n",
       "      <td>2019-01-29 10:00:00</td>\n",
       "      <td>2019-01-29 11:15:00</td>\n",
       "      <td>203476</td>\n",
       "      <td>109.50</td>\n",
       "      <td>108.6979</td>\n",
       "      <td>POS_OVERNIGHT_RETURN</td>\n",
       "      <td>STOPPED_OUT</td>\n",
       "      <td>0.0</td>\n",
       "      <td>0.0</td>\n",
       "      <td>-163208.0996</td>\n",
       "    </tr>\n",
       "    <tr>\n",
       "      <th>5</th>\n",
       "      <td>PEP</td>\n",
       "      <td>1.0</td>\n",
       "      <td>2019-01-30 10:00:00</td>\n",
       "      <td>2019-01-30 16:00:00</td>\n",
       "      <td>173238</td>\n",
       "      <td>110.30</td>\n",
       "      <td>110.8100</td>\n",
       "      <td>POS_OVERNIGHT_RETURN</td>\n",
       "      <td>EOD</td>\n",
       "      <td>0.0</td>\n",
       "      <td>0.0</td>\n",
       "      <td>88351.3800</td>\n",
       "    </tr>\n",
       "    <tr>\n",
       "      <th>6</th>\n",
       "      <td>PEP</td>\n",
       "      <td>1.0</td>\n",
       "      <td>2019-02-04 10:00:00</td>\n",
       "      <td>2019-02-04 10:45:00</td>\n",
       "      <td>184718</td>\n",
       "      <td>112.68</td>\n",
       "      <td>112.0600</td>\n",
       "      <td>POS_OVERNIGHT_RETURN</td>\n",
       "      <td>STOPPED_OUT</td>\n",
       "      <td>0.0</td>\n",
       "      <td>0.0</td>\n",
       "      <td>-114525.1600</td>\n",
       "    </tr>\n",
       "    <tr>\n",
       "      <th>7</th>\n",
       "      <td>PEP</td>\n",
       "      <td>1.0</td>\n",
       "      <td>2019-02-11 10:00:00</td>\n",
       "      <td>2019-02-11 10:30:00</td>\n",
       "      <td>162938</td>\n",
       "      <td>113.32</td>\n",
       "      <td>112.9300</td>\n",
       "      <td>POS_OVERNIGHT_RETURN</td>\n",
       "      <td>STOPPED_OUT</td>\n",
       "      <td>0.0</td>\n",
       "      <td>0.0</td>\n",
       "      <td>-63545.8200</td>\n",
       "    </tr>\n",
       "    <tr>\n",
       "      <th>8</th>\n",
       "      <td>PEP</td>\n",
       "      <td>1.0</td>\n",
       "      <td>2019-02-12 10:00:00</td>\n",
       "      <td>2019-02-12 16:00:00</td>\n",
       "      <td>152498</td>\n",
       "      <td>112.56</td>\n",
       "      <td>113.7700</td>\n",
       "      <td>POS_OVERNIGHT_RETURN</td>\n",
       "      <td>EOD</td>\n",
       "      <td>0.0</td>\n",
       "      <td>0.0</td>\n",
       "      <td>184522.5800</td>\n",
       "    </tr>\n",
       "    <tr>\n",
       "      <th>9</th>\n",
       "      <td>PEP</td>\n",
       "      <td>1.0</td>\n",
       "      <td>2019-02-13 10:00:00</td>\n",
       "      <td>2019-02-13 10:45:00</td>\n",
       "      <td>182540</td>\n",
       "      <td>114.19</td>\n",
       "      <td>113.7400</td>\n",
       "      <td>POS_OVERNIGHT_RETURN</td>\n",
       "      <td>STOPPED_OUT</td>\n",
       "      <td>0.0</td>\n",
       "      <td>0.0</td>\n",
       "      <td>-82143.0000</td>\n",
       "    </tr>\n",
       "    <tr>\n",
       "      <th>10</th>\n",
       "      <td>PEP</td>\n",
       "      <td>1.0</td>\n",
       "      <td>2019-02-15 10:00:00</td>\n",
       "      <td>2019-02-15 16:00:00</td>\n",
       "      <td>168648</td>\n",
       "      <td>115.24</td>\n",
       "      <td>115.9300</td>\n",
       "      <td>POS_OVERNIGHT_RETURN</td>\n",
       "      <td>EOD</td>\n",
       "      <td>0.0</td>\n",
       "      <td>0.0</td>\n",
       "      <td>116367.1200</td>\n",
       "    </tr>\n",
       "    <tr>\n",
       "      <th>11</th>\n",
       "      <td>PEP</td>\n",
       "      <td>1.0</td>\n",
       "      <td>2019-02-19 10:00:00</td>\n",
       "      <td>2019-02-19 10:30:00</td>\n",
       "      <td>186221</td>\n",
       "      <td>115.52</td>\n",
       "      <td>115.6300</td>\n",
       "      <td>POS_OVERNIGHT_RETURN</td>\n",
       "      <td>STOPPED_OUT</td>\n",
       "      <td>0.0</td>\n",
       "      <td>0.0</td>\n",
       "      <td>20484.3100</td>\n",
       "    </tr>\n",
       "    <tr>\n",
       "      <th>12</th>\n",
       "      <td>PEP</td>\n",
       "      <td>1.0</td>\n",
       "      <td>2019-02-20 10:00:00</td>\n",
       "      <td>2019-02-20 11:45:00</td>\n",
       "      <td>189401</td>\n",
       "      <td>116.39</td>\n",
       "      <td>115.8300</td>\n",
       "      <td>POS_OVERNIGHT_RETURN</td>\n",
       "      <td>STOPPED_OUT</td>\n",
       "      <td>0.0</td>\n",
       "      <td>0.0</td>\n",
       "      <td>-106064.5600</td>\n",
       "    </tr>\n",
       "  </tbody>\n",
       "</table>\n",
       "</div>"
      ],
      "text/plain": [
       "   symbol  multiplier     entry_timestamp      exit_timestamp     qty  \\\n",
       "0     PEP         1.0 2019-01-15 10:00:00 2019-01-15 16:00:00  185563   \n",
       "1     PEP         1.0 2019-01-17 10:00:00 2019-01-17 16:00:00  213590   \n",
       "2     PEP         1.0 2019-01-18 10:00:00 2019-01-18 16:00:00  229628   \n",
       "3     PEP         1.0 2019-01-25 10:00:00 2019-01-25 13:15:00  240930   \n",
       "4     PEP         1.0 2019-01-29 10:00:00 2019-01-29 11:15:00  203476   \n",
       "5     PEP         1.0 2019-01-30 10:00:00 2019-01-30 16:00:00  173238   \n",
       "6     PEP         1.0 2019-02-04 10:00:00 2019-02-04 10:45:00  184718   \n",
       "7     PEP         1.0 2019-02-11 10:00:00 2019-02-11 10:30:00  162938   \n",
       "8     PEP         1.0 2019-02-12 10:00:00 2019-02-12 16:00:00  152498   \n",
       "9     PEP         1.0 2019-02-13 10:00:00 2019-02-13 10:45:00  182540   \n",
       "10    PEP         1.0 2019-02-15 10:00:00 2019-02-15 16:00:00  168648   \n",
       "11    PEP         1.0 2019-02-19 10:00:00 2019-02-19 10:30:00  186221   \n",
       "12    PEP         1.0 2019-02-20 10:00:00 2019-02-20 11:45:00  189401   \n",
       "\n",
       "    entry_price  exit_price          entry_reason  exit_reason  \\\n",
       "0        108.12    108.9800  POS_OVERNIGHT_RETURN          EOD   \n",
       "1        108.75    109.2200  POS_OVERNIGHT_RETURN          EOD   \n",
       "2        109.75    110.0400  POS_OVERNIGHT_RETURN          EOD   \n",
       "3        110.23    109.3500  POS_OVERNIGHT_RETURN  STOPPED_OUT   \n",
       "4        109.50    108.6979  POS_OVERNIGHT_RETURN  STOPPED_OUT   \n",
       "5        110.30    110.8100  POS_OVERNIGHT_RETURN          EOD   \n",
       "6        112.68    112.0600  POS_OVERNIGHT_RETURN  STOPPED_OUT   \n",
       "7        113.32    112.9300  POS_OVERNIGHT_RETURN  STOPPED_OUT   \n",
       "8        112.56    113.7700  POS_OVERNIGHT_RETURN          EOD   \n",
       "9        114.19    113.7400  POS_OVERNIGHT_RETURN  STOPPED_OUT   \n",
       "10       115.24    115.9300  POS_OVERNIGHT_RETURN          EOD   \n",
       "11       115.52    115.6300  POS_OVERNIGHT_RETURN  STOPPED_OUT   \n",
       "12       116.39    115.8300  POS_OVERNIGHT_RETURN  STOPPED_OUT   \n",
       "\n",
       "    entry_commission  exit_commission      net_pnl  \n",
       "0                0.0              0.0  159584.1800  \n",
       "1                0.0              0.0  100387.3000  \n",
       "2                0.0              0.0   66592.1200  \n",
       "3                0.0              0.0 -212018.4000  \n",
       "4                0.0              0.0 -163208.0996  \n",
       "5                0.0              0.0   88351.3800  \n",
       "6                0.0              0.0 -114525.1600  \n",
       "7                0.0              0.0  -63545.8200  \n",
       "8                0.0              0.0  184522.5800  \n",
       "9                0.0              0.0  -82143.0000  \n",
       "10               0.0              0.0  116367.1200  \n",
       "11               0.0              0.0   20484.3100  \n",
       "12               0.0              0.0 -106064.5600  "
      ]
     },
     "execution_count": 12,
     "metadata": {},
     "output_type": "execute_result"
    }
   ],
   "source": [
    "# Lets evaluate how the strategy did\n",
    "strategy.df_roundtrip_trades()  "
   ]
  },
  {
   "cell_type": "code",
   "execution_count": 13,
   "id": "dc0b16b1",
   "metadata": {
    "ExecuteTime": {
     "end_time": "2023-10-15T23:51:43.084792Z",
     "start_time": "2023-10-15T23:51:43.018041Z"
    }
   },
   "outputs": [
    {
     "data": {
      "text/html": [
       "<div>\n",
       "<style scoped>\n",
       "    .dataframe tbody tr th:only-of-type {\n",
       "        vertical-align: middle;\n",
       "    }\n",
       "\n",
       "    .dataframe tbody tr th {\n",
       "        vertical-align: top;\n",
       "    }\n",
       "\n",
       "    .dataframe thead th {\n",
       "        text-align: right;\n",
       "    }\n",
       "</style>\n",
       "<table border=\"1\" class=\"dataframe\">\n",
       "  <thead>\n",
       "    <tr style=\"text-align: right;\">\n",
       "      <th></th>\n",
       "      <th>gmean</th>\n",
       "      <th>amean</th>\n",
       "      <th>std</th>\n",
       "      <th>shrp</th>\n",
       "      <th>srt</th>\n",
       "      <th>k</th>\n",
       "      <th>calmar</th>\n",
       "      <th>mar</th>\n",
       "      <th>mdd_pct</th>\n",
       "      <th>mdd_dates</th>\n",
       "      <th>dd_3y_pct</th>\n",
       "      <th>dd_3y_timestamps</th>\n",
       "      <th>up_dwn</th>\n",
       "      <th>2019</th>\n",
       "    </tr>\n",
       "  </thead>\n",
       "  <tbody>\n",
       "    <tr>\n",
       "      <th></th>\n",
       "      <td>-0.04298</td>\n",
       "      <td>0.7202</td>\n",
       "      <td>0.07836</td>\n",
       "      <td>0.579</td>\n",
       "      <td>0.9765</td>\n",
       "      <td>4.719</td>\n",
       "      <td>2.055</td>\n",
       "      <td>2.055</td>\n",
       "      <td>0.3505</td>\n",
       "      <td>2019-01-24/2019-02-11</td>\n",
       "      <td>0.3505</td>\n",
       "      <td>2019-01-24/2019-02-11</td>\n",
       "      <td>7/6/0.538</td>\n",
       "      <td>-0.04298</td>\n",
       "    </tr>\n",
       "  </tbody>\n",
       "</table>\n",
       "</div>"
      ],
      "text/plain": [
       "     gmean   amean      std   shrp     srt      k calmar    mar mdd_pct  \\\n",
       "  -0.04298  0.7202  0.07836  0.579  0.9765  4.719  2.055  2.055  0.3505   \n",
       "\n",
       "              mdd_dates dd_3y_pct       dd_3y_timestamps     up_dwn      2019  \n",
       "  2019-01-24/2019-02-11    0.3505  2019-01-24/2019-02-11  7/6/0.538  -0.04298  "
      ]
     },
     "metadata": {},
     "output_type": "display_data"
    },
    {
     "name": "stdout",
     "output_type": "stream",
     "text": [
      "2019-01-24T00:00 2019-02-11T00:00\n"
     ]
    },
    {
     "data": {
      "application/vnd.plotly.v1+json": {
       "config": {
        "plotlyServerURL": "https://plot.ly"
       },
       "data": [
        {
         "mode": "lines",
         "type": "scatter",
         "x": [
          "2019-01-14T00:00:00.000000000",
          "2019-01-15T00:00:00.000000000",
          "2019-01-16T00:00:00.000000000",
          "2019-01-17T00:00:00.000000000",
          "2019-01-18T00:00:00.000000000",
          "2019-01-22T00:00:00.000000000",
          "2019-01-23T00:00:00.000000000",
          "2019-01-24T00:00:00.000000000",
          "2019-01-25T00:00:00.000000000",
          "2019-01-28T00:00:00.000000000",
          "2019-01-29T00:00:00.000000000",
          "2019-01-30T00:00:00.000000000",
          "2019-01-31T00:00:00.000000000",
          "2019-02-01T00:00:00.000000000",
          "2019-02-04T00:00:00.000000000",
          "2019-02-05T00:00:00.000000000",
          "2019-02-06T00:00:00.000000000",
          "2019-02-07T00:00:00.000000000",
          "2019-02-08T00:00:00.000000000",
          "2019-02-11T00:00:00.000000000",
          "2019-02-12T00:00:00.000000000",
          "2019-02-13T00:00:00.000000000",
          "2019-02-14T00:00:00.000000000",
          "2019-02-15T00:00:00.000000000",
          "2019-02-19T00:00:00.000000000",
          "2019-02-20T00:00:00.000000000",
          "2019-02-21T00:00:00.000000000",
          "2019-02-22T00:00:00.000000000",
          "2019-02-25T00:00:00.000000000",
          "2019-02-26T00:00:00.000000000"
         ],
         "xaxis": "x",
         "y": [
          1000000,
          1159584.18,
          1159584.18,
          1259971.4799999997,
          1326563.600000001,
          1326563.600000001,
          1326563.600000001,
          1326563.600000001,
          1114545.1999999988,
          1114545.1999999988,
          951337.1003999995,
          1039688.4804000003,
          1039688.4804000003,
          1039688.4804000003,
          925163.3203999995,
          925163.3203999995,
          925163.3203999995,
          925163.3203999995,
          925163.3203999995,
          861617.5004000019,
          1046140.0804000007,
          963997.0804000003,
          963997.0804000003,
          1080364.2004000025,
          1100848.5104000024,
          994783.9504000018,
          994783.9504000018,
          994783.9504000018,
          994783.9504000018,
          994783.9504000018
         ],
         "yaxis": "y"
        },
        {
         "mode": "lines",
         "type": "scatter",
         "x": [
          "2019-01-14T00:00:00.000000000",
          "2019-01-15T00:00:00.000000000",
          "2019-01-16T00:00:00.000000000",
          "2019-01-17T00:00:00.000000000",
          "2019-01-18T00:00:00.000000000",
          "2019-01-22T00:00:00.000000000",
          "2019-01-23T00:00:00.000000000",
          "2019-01-24T00:00:00.000000000",
          "2019-01-25T00:00:00.000000000",
          "2019-01-28T00:00:00.000000000",
          "2019-01-29T00:00:00.000000000",
          "2019-01-30T00:00:00.000000000",
          "2019-01-31T00:00:00.000000000",
          "2019-02-01T00:00:00.000000000",
          "2019-02-04T00:00:00.000000000",
          "2019-02-05T00:00:00.000000000",
          "2019-02-06T00:00:00.000000000",
          "2019-02-07T00:00:00.000000000",
          "2019-02-08T00:00:00.000000000",
          "2019-02-11T00:00:00.000000000",
          "2019-02-12T00:00:00.000000000",
          "2019-02-13T00:00:00.000000000",
          "2019-02-14T00:00:00.000000000",
          "2019-02-15T00:00:00.000000000",
          "2019-02-19T00:00:00.000000000",
          "2019-02-20T00:00:00.000000000",
          "2019-02-21T00:00:00.000000000",
          "2019-02-22T00:00:00.000000000",
          "2019-02-25T00:00:00.000000000",
          "2019-02-26T00:00:00.000000000"
         ],
         "xaxis": "x2",
         "y": [
          0,
          0,
          0,
          0,
          0,
          0,
          0,
          0,
          0.15982528089870857,
          0.15982528089870857,
          0.2828560195681543,
          0.21625432779853182,
          0.21625432779853182,
          0.21625432779853182,
          0.30258653230044996,
          0.30258653230044996,
          0.30258653230044996,
          0.30258653230044996,
          0.30258653230044996,
          0.35048911307380876,
          0.21139093489373606,
          0.27331257966071165,
          0.27331257966071165,
          0.18559185522654045,
          0.17015022091665902,
          0.2501045932513141,
          0.2501045932513141,
          0.2501045932513141,
          0.2501045932513141,
          0.2501045932513141
         ],
         "yaxis": "y2"
        },
        {
         "boxmean": true,
         "boxpoints": "all",
         "jitter": 0.1,
         "line": {
          "color": "gray"
         },
         "marker": {
          "color": "gray"
         },
         "name": "2019",
         "type": "box",
         "x": [
          0,
          0.15958417999999996,
          0,
          0.08657180887031402,
          0.05285208519164364,
          0,
          0,
          0,
          -0.15982528089870862,
          0,
          -0.146434706820324,
          0.09287073947063829,
          0,
          0,
          -0.11015334127385878,
          0,
          0,
          0,
          0,
          -0.06868605639545167,
          0.21415834742717643,
          -0.07852007731946598,
          0,
          0.12071314567852931,
          0.018960559774579222,
          -0.09634800701275514,
          0,
          0,
          0,
          0
         ],
         "xaxis": "x3",
         "yaxis": "y3"
        },
        {
         "boxmean": true,
         "boxpoints": "all",
         "jitter": 0.1,
         "line": {
          "color": "blue"
         },
         "marker": {
          "color": "blue"
         },
         "name": "All",
         "type": "box",
         "x": [
          0,
          0.15958417999999996,
          0,
          0.08657180887031402,
          0.05285208519164364,
          0,
          0,
          0,
          -0.15982528089870862,
          0,
          -0.146434706820324,
          0.09287073947063829,
          0,
          0,
          -0.11015334127385878,
          0,
          0,
          0,
          0,
          -0.06868605639545167,
          0.21415834742717643,
          -0.07852007731946598,
          0,
          0.12071314567852931,
          0.018960559774579222,
          -0.09634800701275514,
          0,
          0,
          0,
          0
         ],
         "xaxis": "x3",
         "yaxis": "y3"
        }
       ],
       "layout": {
        "annotations": [
         {
          "font": {
           "size": 15
          },
          "showarrow": false,
          "text": "max dd",
          "x": "2019-01-24T00:00:00",
          "xanchor": "left",
          "xref": "x",
          "y": 1,
          "yanchor": "top",
          "yref": "y domain"
         }
        ],
        "height": 1000,
        "shapes": [
         {
          "fillcolor": "red",
          "line": {
           "width": 0
          },
          "opacity": 0.25,
          "type": "rect",
          "x0": "2019-01-24T00:00:00",
          "x1": "2019-02-11T00:00:00",
          "xref": "x",
          "y0": 0,
          "y1": 1,
          "yref": "y domain"
         },
         {
          "opacity": 0.25,
          "type": "line",
          "x0": 0,
          "x1": 1,
          "xref": "x domain",
          "y0": 1000000,
          "y1": 1000000,
          "yref": "y"
         },
         {
          "fillcolor": "red",
          "line": {
           "width": 0
          },
          "opacity": 0.25,
          "type": "rect",
          "x0": "2019-01-24T00:00:00",
          "x1": "2019-02-11T00:00:00",
          "xref": "x2",
          "y0": 0,
          "y1": 1,
          "yref": "y2 domain"
         }
        ],
        "showlegend": false,
        "template": {
         "data": {
          "bar": [
           {
            "error_x": {
             "color": "#2a3f5f"
            },
            "error_y": {
             "color": "#2a3f5f"
            },
            "marker": {
             "line": {
              "color": "#E5ECF6",
              "width": 0.5
             },
             "pattern": {
              "fillmode": "overlay",
              "size": 10,
              "solidity": 0.2
             }
            },
            "type": "bar"
           }
          ],
          "barpolar": [
           {
            "marker": {
             "line": {
              "color": "#E5ECF6",
              "width": 0.5
             },
             "pattern": {
              "fillmode": "overlay",
              "size": 10,
              "solidity": 0.2
             }
            },
            "type": "barpolar"
           }
          ],
          "carpet": [
           {
            "aaxis": {
             "endlinecolor": "#2a3f5f",
             "gridcolor": "white",
             "linecolor": "white",
             "minorgridcolor": "white",
             "startlinecolor": "#2a3f5f"
            },
            "baxis": {
             "endlinecolor": "#2a3f5f",
             "gridcolor": "white",
             "linecolor": "white",
             "minorgridcolor": "white",
             "startlinecolor": "#2a3f5f"
            },
            "type": "carpet"
           }
          ],
          "choropleth": [
           {
            "colorbar": {
             "outlinewidth": 0,
             "ticks": ""
            },
            "type": "choropleth"
           }
          ],
          "contour": [
           {
            "colorbar": {
             "outlinewidth": 0,
             "ticks": ""
            },
            "colorscale": [
             [
              0,
              "#0d0887"
             ],
             [
              0.1111111111111111,
              "#46039f"
             ],
             [
              0.2222222222222222,
              "#7201a8"
             ],
             [
              0.3333333333333333,
              "#9c179e"
             ],
             [
              0.4444444444444444,
              "#bd3786"
             ],
             [
              0.5555555555555556,
              "#d8576b"
             ],
             [
              0.6666666666666666,
              "#ed7953"
             ],
             [
              0.7777777777777778,
              "#fb9f3a"
             ],
             [
              0.8888888888888888,
              "#fdca26"
             ],
             [
              1,
              "#f0f921"
             ]
            ],
            "type": "contour"
           }
          ],
          "contourcarpet": [
           {
            "colorbar": {
             "outlinewidth": 0,
             "ticks": ""
            },
            "type": "contourcarpet"
           }
          ],
          "heatmap": [
           {
            "colorbar": {
             "outlinewidth": 0,
             "ticks": ""
            },
            "colorscale": [
             [
              0,
              "#0d0887"
             ],
             [
              0.1111111111111111,
              "#46039f"
             ],
             [
              0.2222222222222222,
              "#7201a8"
             ],
             [
              0.3333333333333333,
              "#9c179e"
             ],
             [
              0.4444444444444444,
              "#bd3786"
             ],
             [
              0.5555555555555556,
              "#d8576b"
             ],
             [
              0.6666666666666666,
              "#ed7953"
             ],
             [
              0.7777777777777778,
              "#fb9f3a"
             ],
             [
              0.8888888888888888,
              "#fdca26"
             ],
             [
              1,
              "#f0f921"
             ]
            ],
            "type": "heatmap"
           }
          ],
          "heatmapgl": [
           {
            "colorbar": {
             "outlinewidth": 0,
             "ticks": ""
            },
            "colorscale": [
             [
              0,
              "#0d0887"
             ],
             [
              0.1111111111111111,
              "#46039f"
             ],
             [
              0.2222222222222222,
              "#7201a8"
             ],
             [
              0.3333333333333333,
              "#9c179e"
             ],
             [
              0.4444444444444444,
              "#bd3786"
             ],
             [
              0.5555555555555556,
              "#d8576b"
             ],
             [
              0.6666666666666666,
              "#ed7953"
             ],
             [
              0.7777777777777778,
              "#fb9f3a"
             ],
             [
              0.8888888888888888,
              "#fdca26"
             ],
             [
              1,
              "#f0f921"
             ]
            ],
            "type": "heatmapgl"
           }
          ],
          "histogram": [
           {
            "marker": {
             "pattern": {
              "fillmode": "overlay",
              "size": 10,
              "solidity": 0.2
             }
            },
            "type": "histogram"
           }
          ],
          "histogram2d": [
           {
            "colorbar": {
             "outlinewidth": 0,
             "ticks": ""
            },
            "colorscale": [
             [
              0,
              "#0d0887"
             ],
             [
              0.1111111111111111,
              "#46039f"
             ],
             [
              0.2222222222222222,
              "#7201a8"
             ],
             [
              0.3333333333333333,
              "#9c179e"
             ],
             [
              0.4444444444444444,
              "#bd3786"
             ],
             [
              0.5555555555555556,
              "#d8576b"
             ],
             [
              0.6666666666666666,
              "#ed7953"
             ],
             [
              0.7777777777777778,
              "#fb9f3a"
             ],
             [
              0.8888888888888888,
              "#fdca26"
             ],
             [
              1,
              "#f0f921"
             ]
            ],
            "type": "histogram2d"
           }
          ],
          "histogram2dcontour": [
           {
            "colorbar": {
             "outlinewidth": 0,
             "ticks": ""
            },
            "colorscale": [
             [
              0,
              "#0d0887"
             ],
             [
              0.1111111111111111,
              "#46039f"
             ],
             [
              0.2222222222222222,
              "#7201a8"
             ],
             [
              0.3333333333333333,
              "#9c179e"
             ],
             [
              0.4444444444444444,
              "#bd3786"
             ],
             [
              0.5555555555555556,
              "#d8576b"
             ],
             [
              0.6666666666666666,
              "#ed7953"
             ],
             [
              0.7777777777777778,
              "#fb9f3a"
             ],
             [
              0.8888888888888888,
              "#fdca26"
             ],
             [
              1,
              "#f0f921"
             ]
            ],
            "type": "histogram2dcontour"
           }
          ],
          "mesh3d": [
           {
            "colorbar": {
             "outlinewidth": 0,
             "ticks": ""
            },
            "type": "mesh3d"
           }
          ],
          "parcoords": [
           {
            "line": {
             "colorbar": {
              "outlinewidth": 0,
              "ticks": ""
             }
            },
            "type": "parcoords"
           }
          ],
          "pie": [
           {
            "automargin": true,
            "type": "pie"
           }
          ],
          "scatter": [
           {
            "fillpattern": {
             "fillmode": "overlay",
             "size": 10,
             "solidity": 0.2
            },
            "type": "scatter"
           }
          ],
          "scatter3d": [
           {
            "line": {
             "colorbar": {
              "outlinewidth": 0,
              "ticks": ""
             }
            },
            "marker": {
             "colorbar": {
              "outlinewidth": 0,
              "ticks": ""
             }
            },
            "type": "scatter3d"
           }
          ],
          "scattercarpet": [
           {
            "marker": {
             "colorbar": {
              "outlinewidth": 0,
              "ticks": ""
             }
            },
            "type": "scattercarpet"
           }
          ],
          "scattergeo": [
           {
            "marker": {
             "colorbar": {
              "outlinewidth": 0,
              "ticks": ""
             }
            },
            "type": "scattergeo"
           }
          ],
          "scattergl": [
           {
            "marker": {
             "colorbar": {
              "outlinewidth": 0,
              "ticks": ""
             }
            },
            "type": "scattergl"
           }
          ],
          "scattermapbox": [
           {
            "marker": {
             "colorbar": {
              "outlinewidth": 0,
              "ticks": ""
             }
            },
            "type": "scattermapbox"
           }
          ],
          "scatterpolar": [
           {
            "marker": {
             "colorbar": {
              "outlinewidth": 0,
              "ticks": ""
             }
            },
            "type": "scatterpolar"
           }
          ],
          "scatterpolargl": [
           {
            "marker": {
             "colorbar": {
              "outlinewidth": 0,
              "ticks": ""
             }
            },
            "type": "scatterpolargl"
           }
          ],
          "scatterternary": [
           {
            "marker": {
             "colorbar": {
              "outlinewidth": 0,
              "ticks": ""
             }
            },
            "type": "scatterternary"
           }
          ],
          "surface": [
           {
            "colorbar": {
             "outlinewidth": 0,
             "ticks": ""
            },
            "colorscale": [
             [
              0,
              "#0d0887"
             ],
             [
              0.1111111111111111,
              "#46039f"
             ],
             [
              0.2222222222222222,
              "#7201a8"
             ],
             [
              0.3333333333333333,
              "#9c179e"
             ],
             [
              0.4444444444444444,
              "#bd3786"
             ],
             [
              0.5555555555555556,
              "#d8576b"
             ],
             [
              0.6666666666666666,
              "#ed7953"
             ],
             [
              0.7777777777777778,
              "#fb9f3a"
             ],
             [
              0.8888888888888888,
              "#fdca26"
             ],
             [
              1,
              "#f0f921"
             ]
            ],
            "type": "surface"
           }
          ],
          "table": [
           {
            "cells": {
             "fill": {
              "color": "#EBF0F8"
             },
             "line": {
              "color": "white"
             }
            },
            "header": {
             "fill": {
              "color": "#C8D4E3"
             },
             "line": {
              "color": "white"
             }
            },
            "type": "table"
           }
          ]
         },
         "layout": {
          "annotationdefaults": {
           "arrowcolor": "#2a3f5f",
           "arrowhead": 0,
           "arrowwidth": 1
          },
          "autotypenumbers": "strict",
          "coloraxis": {
           "colorbar": {
            "outlinewidth": 0,
            "ticks": ""
           }
          },
          "colorscale": {
           "diverging": [
            [
             0,
             "#8e0152"
            ],
            [
             0.1,
             "#c51b7d"
            ],
            [
             0.2,
             "#de77ae"
            ],
            [
             0.3,
             "#f1b6da"
            ],
            [
             0.4,
             "#fde0ef"
            ],
            [
             0.5,
             "#f7f7f7"
            ],
            [
             0.6,
             "#e6f5d0"
            ],
            [
             0.7,
             "#b8e186"
            ],
            [
             0.8,
             "#7fbc41"
            ],
            [
             0.9,
             "#4d9221"
            ],
            [
             1,
             "#276419"
            ]
           ],
           "sequential": [
            [
             0,
             "#0d0887"
            ],
            [
             0.1111111111111111,
             "#46039f"
            ],
            [
             0.2222222222222222,
             "#7201a8"
            ],
            [
             0.3333333333333333,
             "#9c179e"
            ],
            [
             0.4444444444444444,
             "#bd3786"
            ],
            [
             0.5555555555555556,
             "#d8576b"
            ],
            [
             0.6666666666666666,
             "#ed7953"
            ],
            [
             0.7777777777777778,
             "#fb9f3a"
            ],
            [
             0.8888888888888888,
             "#fdca26"
            ],
            [
             1,
             "#f0f921"
            ]
           ],
           "sequentialminus": [
            [
             0,
             "#0d0887"
            ],
            [
             0.1111111111111111,
             "#46039f"
            ],
            [
             0.2222222222222222,
             "#7201a8"
            ],
            [
             0.3333333333333333,
             "#9c179e"
            ],
            [
             0.4444444444444444,
             "#bd3786"
            ],
            [
             0.5555555555555556,
             "#d8576b"
            ],
            [
             0.6666666666666666,
             "#ed7953"
            ],
            [
             0.7777777777777778,
             "#fb9f3a"
            ],
            [
             0.8888888888888888,
             "#fdca26"
            ],
            [
             1,
             "#f0f921"
            ]
           ]
          },
          "colorway": [
           "#636efa",
           "#EF553B",
           "#00cc96",
           "#ab63fa",
           "#FFA15A",
           "#19d3f3",
           "#FF6692",
           "#B6E880",
           "#FF97FF",
           "#FECB52"
          ],
          "font": {
           "color": "#2a3f5f"
          },
          "geo": {
           "bgcolor": "white",
           "lakecolor": "white",
           "landcolor": "#E5ECF6",
           "showlakes": true,
           "showland": true,
           "subunitcolor": "white"
          },
          "hoverlabel": {
           "align": "left"
          },
          "hovermode": "closest",
          "mapbox": {
           "style": "light"
          },
          "paper_bgcolor": "white",
          "plot_bgcolor": "#E5ECF6",
          "polar": {
           "angularaxis": {
            "gridcolor": "white",
            "linecolor": "white",
            "ticks": ""
           },
           "bgcolor": "#E5ECF6",
           "radialaxis": {
            "gridcolor": "white",
            "linecolor": "white",
            "ticks": ""
           }
          },
          "scene": {
           "xaxis": {
            "backgroundcolor": "#E5ECF6",
            "gridcolor": "white",
            "gridwidth": 2,
            "linecolor": "white",
            "showbackground": true,
            "ticks": "",
            "zerolinecolor": "white"
           },
           "yaxis": {
            "backgroundcolor": "#E5ECF6",
            "gridcolor": "white",
            "gridwidth": 2,
            "linecolor": "white",
            "showbackground": true,
            "ticks": "",
            "zerolinecolor": "white"
           },
           "zaxis": {
            "backgroundcolor": "#E5ECF6",
            "gridcolor": "white",
            "gridwidth": 2,
            "linecolor": "white",
            "showbackground": true,
            "ticks": "",
            "zerolinecolor": "white"
           }
          },
          "shapedefaults": {
           "line": {
            "color": "#2a3f5f"
           }
          },
          "ternary": {
           "aaxis": {
            "gridcolor": "white",
            "linecolor": "white",
            "ticks": ""
           },
           "baxis": {
            "gridcolor": "white",
            "linecolor": "white",
            "ticks": ""
           },
           "bgcolor": "#E5ECF6",
           "caxis": {
            "gridcolor": "white",
            "linecolor": "white",
            "ticks": ""
           }
          },
          "title": {
           "x": 0.05
          },
          "xaxis": {
           "automargin": true,
           "gridcolor": "white",
           "linecolor": "white",
           "ticks": "",
           "title": {
            "standoff": 15
           },
           "zerolinecolor": "white",
           "zerolinewidth": 2
          },
          "yaxis": {
           "automargin": true,
           "gridcolor": "white",
           "linecolor": "white",
           "ticks": "",
           "title": {
            "standoff": 15
           },
           "zerolinecolor": "white",
           "zerolinewidth": 2
          }
         }
        },
        "title": {
         "text": ""
        },
        "xaxis": {
         "anchor": "y",
         "domain": [
          0,
          1
         ]
        },
        "xaxis2": {
         "anchor": "y2",
         "domain": [
          0,
          1
         ]
        },
        "xaxis3": {
         "anchor": "y3",
         "domain": [
          0,
          1
         ]
        },
        "yaxis": {
         "anchor": "x",
         "domain": [
          0.7333333333333333,
          1
         ],
         "title": {
          "text": "Equity"
         },
         "type": "log"
        },
        "yaxis2": {
         "anchor": "x2",
         "domain": [
          0.36666666666666664,
          0.6333333333333333
         ],
         "title": {
          "text": "Drawdown"
         }
        },
        "yaxis3": {
         "anchor": "x3",
         "domain": [
          0,
          0.26666666666666666
         ],
         "title": {
          "text": "Return"
         }
        }
       }
      },
      "text/html": [
       "<div>                            <div id=\"da4a2e3a-d033-43f5-867a-b1441cda01d3\" class=\"plotly-graph-div\" style=\"height:1000px; width:100%;\"></div>            <script type=\"text/javascript\">                require([\"plotly\"], function(Plotly) {                    window.PLOTLYENV=window.PLOTLYENV || {};                                    if (document.getElementById(\"da4a2e3a-d033-43f5-867a-b1441cda01d3\")) {                    Plotly.newPlot(                        \"da4a2e3a-d033-43f5-867a-b1441cda01d3\",                        [{\"mode\":\"lines\",\"x\":[\"2019-01-14T00:00:00.000000000\",\"2019-01-15T00:00:00.000000000\",\"2019-01-16T00:00:00.000000000\",\"2019-01-17T00:00:00.000000000\",\"2019-01-18T00:00:00.000000000\",\"2019-01-22T00:00:00.000000000\",\"2019-01-23T00:00:00.000000000\",\"2019-01-24T00:00:00.000000000\",\"2019-01-25T00:00:00.000000000\",\"2019-01-28T00:00:00.000000000\",\"2019-01-29T00:00:00.000000000\",\"2019-01-30T00:00:00.000000000\",\"2019-01-31T00:00:00.000000000\",\"2019-02-01T00:00:00.000000000\",\"2019-02-04T00:00:00.000000000\",\"2019-02-05T00:00:00.000000000\",\"2019-02-06T00:00:00.000000000\",\"2019-02-07T00:00:00.000000000\",\"2019-02-08T00:00:00.000000000\",\"2019-02-11T00:00:00.000000000\",\"2019-02-12T00:00:00.000000000\",\"2019-02-13T00:00:00.000000000\",\"2019-02-14T00:00:00.000000000\",\"2019-02-15T00:00:00.000000000\",\"2019-02-19T00:00:00.000000000\",\"2019-02-20T00:00:00.000000000\",\"2019-02-21T00:00:00.000000000\",\"2019-02-22T00:00:00.000000000\",\"2019-02-25T00:00:00.000000000\",\"2019-02-26T00:00:00.000000000\"],\"y\":[1000000.0,1159584.18,1159584.18,1259971.4799999997,1326563.600000001,1326563.600000001,1326563.600000001,1326563.600000001,1114545.1999999988,1114545.1999999988,951337.1003999995,1039688.4804000003,1039688.4804000003,1039688.4804000003,925163.3203999995,925163.3203999995,925163.3203999995,925163.3203999995,925163.3203999995,861617.5004000019,1046140.0804000007,963997.0804000003,963997.0804000003,1080364.2004000025,1100848.5104000024,994783.9504000018,994783.9504000018,994783.9504000018,994783.9504000018,994783.9504000018],\"type\":\"scatter\",\"xaxis\":\"x\",\"yaxis\":\"y\"},{\"mode\":\"lines\",\"x\":[\"2019-01-14T00:00:00.000000000\",\"2019-01-15T00:00:00.000000000\",\"2019-01-16T00:00:00.000000000\",\"2019-01-17T00:00:00.000000000\",\"2019-01-18T00:00:00.000000000\",\"2019-01-22T00:00:00.000000000\",\"2019-01-23T00:00:00.000000000\",\"2019-01-24T00:00:00.000000000\",\"2019-01-25T00:00:00.000000000\",\"2019-01-28T00:00:00.000000000\",\"2019-01-29T00:00:00.000000000\",\"2019-01-30T00:00:00.000000000\",\"2019-01-31T00:00:00.000000000\",\"2019-02-01T00:00:00.000000000\",\"2019-02-04T00:00:00.000000000\",\"2019-02-05T00:00:00.000000000\",\"2019-02-06T00:00:00.000000000\",\"2019-02-07T00:00:00.000000000\",\"2019-02-08T00:00:00.000000000\",\"2019-02-11T00:00:00.000000000\",\"2019-02-12T00:00:00.000000000\",\"2019-02-13T00:00:00.000000000\",\"2019-02-14T00:00:00.000000000\",\"2019-02-15T00:00:00.000000000\",\"2019-02-19T00:00:00.000000000\",\"2019-02-20T00:00:00.000000000\",\"2019-02-21T00:00:00.000000000\",\"2019-02-22T00:00:00.000000000\",\"2019-02-25T00:00:00.000000000\",\"2019-02-26T00:00:00.000000000\"],\"y\":[0.0,0.0,0.0,0.0,0.0,0.0,0.0,0.0,0.15982528089870857,0.15982528089870857,0.2828560195681543,0.21625432779853182,0.21625432779853182,0.21625432779853182,0.30258653230044996,0.30258653230044996,0.30258653230044996,0.30258653230044996,0.30258653230044996,0.35048911307380876,0.21139093489373606,0.27331257966071165,0.27331257966071165,0.18559185522654045,0.17015022091665902,0.2501045932513141,0.2501045932513141,0.2501045932513141,0.2501045932513141,0.2501045932513141],\"type\":\"scatter\",\"xaxis\":\"x2\",\"yaxis\":\"y2\"},{\"boxmean\":true,\"line\":{\"color\":\"gray\"},\"marker\":{\"color\":\"gray\"},\"name\":\"2019\",\"x\":[0.0,0.15958417999999996,0.0,0.08657180887031402,0.05285208519164364,0.0,0.0,0.0,-0.15982528089870862,0.0,-0.146434706820324,0.09287073947063829,0.0,0.0,-0.11015334127385878,0.0,0.0,0.0,0.0,-0.06868605639545167,0.21415834742717643,-0.07852007731946598,0.0,0.12071314567852931,0.018960559774579222,-0.09634800701275514,0.0,0.0,0.0,0.0],\"type\":\"box\",\"xaxis\":\"x3\",\"yaxis\":\"y3\",\"boxpoints\":\"all\",\"jitter\":0.1},{\"boxmean\":true,\"line\":{\"color\":\"blue\"},\"marker\":{\"color\":\"blue\"},\"name\":\"All\",\"x\":[0.0,0.15958417999999996,0.0,0.08657180887031402,0.05285208519164364,0.0,0.0,0.0,-0.15982528089870862,0.0,-0.146434706820324,0.09287073947063829,0.0,0.0,-0.11015334127385878,0.0,0.0,0.0,0.0,-0.06868605639545167,0.21415834742717643,-0.07852007731946598,0.0,0.12071314567852931,0.018960559774579222,-0.09634800701275514,0.0,0.0,0.0,0.0],\"type\":\"box\",\"xaxis\":\"x3\",\"yaxis\":\"y3\",\"boxpoints\":\"all\",\"jitter\":0.1}],                        {\"template\":{\"data\":{\"histogram2dcontour\":[{\"type\":\"histogram2dcontour\",\"colorbar\":{\"outlinewidth\":0,\"ticks\":\"\"},\"colorscale\":[[0.0,\"#0d0887\"],[0.1111111111111111,\"#46039f\"],[0.2222222222222222,\"#7201a8\"],[0.3333333333333333,\"#9c179e\"],[0.4444444444444444,\"#bd3786\"],[0.5555555555555556,\"#d8576b\"],[0.6666666666666666,\"#ed7953\"],[0.7777777777777778,\"#fb9f3a\"],[0.8888888888888888,\"#fdca26\"],[1.0,\"#f0f921\"]]}],\"choropleth\":[{\"type\":\"choropleth\",\"colorbar\":{\"outlinewidth\":0,\"ticks\":\"\"}}],\"histogram2d\":[{\"type\":\"histogram2d\",\"colorbar\":{\"outlinewidth\":0,\"ticks\":\"\"},\"colorscale\":[[0.0,\"#0d0887\"],[0.1111111111111111,\"#46039f\"],[0.2222222222222222,\"#7201a8\"],[0.3333333333333333,\"#9c179e\"],[0.4444444444444444,\"#bd3786\"],[0.5555555555555556,\"#d8576b\"],[0.6666666666666666,\"#ed7953\"],[0.7777777777777778,\"#fb9f3a\"],[0.8888888888888888,\"#fdca26\"],[1.0,\"#f0f921\"]]}],\"heatmap\":[{\"type\":\"heatmap\",\"colorbar\":{\"outlinewidth\":0,\"ticks\":\"\"},\"colorscale\":[[0.0,\"#0d0887\"],[0.1111111111111111,\"#46039f\"],[0.2222222222222222,\"#7201a8\"],[0.3333333333333333,\"#9c179e\"],[0.4444444444444444,\"#bd3786\"],[0.5555555555555556,\"#d8576b\"],[0.6666666666666666,\"#ed7953\"],[0.7777777777777778,\"#fb9f3a\"],[0.8888888888888888,\"#fdca26\"],[1.0,\"#f0f921\"]]}],\"heatmapgl\":[{\"type\":\"heatmapgl\",\"colorbar\":{\"outlinewidth\":0,\"ticks\":\"\"},\"colorscale\":[[0.0,\"#0d0887\"],[0.1111111111111111,\"#46039f\"],[0.2222222222222222,\"#7201a8\"],[0.3333333333333333,\"#9c179e\"],[0.4444444444444444,\"#bd3786\"],[0.5555555555555556,\"#d8576b\"],[0.6666666666666666,\"#ed7953\"],[0.7777777777777778,\"#fb9f3a\"],[0.8888888888888888,\"#fdca26\"],[1.0,\"#f0f921\"]]}],\"contourcarpet\":[{\"type\":\"contourcarpet\",\"colorbar\":{\"outlinewidth\":0,\"ticks\":\"\"}}],\"contour\":[{\"type\":\"contour\",\"colorbar\":{\"outlinewidth\":0,\"ticks\":\"\"},\"colorscale\":[[0.0,\"#0d0887\"],[0.1111111111111111,\"#46039f\"],[0.2222222222222222,\"#7201a8\"],[0.3333333333333333,\"#9c179e\"],[0.4444444444444444,\"#bd3786\"],[0.5555555555555556,\"#d8576b\"],[0.6666666666666666,\"#ed7953\"],[0.7777777777777778,\"#fb9f3a\"],[0.8888888888888888,\"#fdca26\"],[1.0,\"#f0f921\"]]}],\"surface\":[{\"type\":\"surface\",\"colorbar\":{\"outlinewidth\":0,\"ticks\":\"\"},\"colorscale\":[[0.0,\"#0d0887\"],[0.1111111111111111,\"#46039f\"],[0.2222222222222222,\"#7201a8\"],[0.3333333333333333,\"#9c179e\"],[0.4444444444444444,\"#bd3786\"],[0.5555555555555556,\"#d8576b\"],[0.6666666666666666,\"#ed7953\"],[0.7777777777777778,\"#fb9f3a\"],[0.8888888888888888,\"#fdca26\"],[1.0,\"#f0f921\"]]}],\"mesh3d\":[{\"type\":\"mesh3d\",\"colorbar\":{\"outlinewidth\":0,\"ticks\":\"\"}}],\"scatter\":[{\"fillpattern\":{\"fillmode\":\"overlay\",\"size\":10,\"solidity\":0.2},\"type\":\"scatter\"}],\"parcoords\":[{\"type\":\"parcoords\",\"line\":{\"colorbar\":{\"outlinewidth\":0,\"ticks\":\"\"}}}],\"scatterpolargl\":[{\"type\":\"scatterpolargl\",\"marker\":{\"colorbar\":{\"outlinewidth\":0,\"ticks\":\"\"}}}],\"bar\":[{\"error_x\":{\"color\":\"#2a3f5f\"},\"error_y\":{\"color\":\"#2a3f5f\"},\"marker\":{\"line\":{\"color\":\"#E5ECF6\",\"width\":0.5},\"pattern\":{\"fillmode\":\"overlay\",\"size\":10,\"solidity\":0.2}},\"type\":\"bar\"}],\"scattergeo\":[{\"type\":\"scattergeo\",\"marker\":{\"colorbar\":{\"outlinewidth\":0,\"ticks\":\"\"}}}],\"scatterpolar\":[{\"type\":\"scatterpolar\",\"marker\":{\"colorbar\":{\"outlinewidth\":0,\"ticks\":\"\"}}}],\"histogram\":[{\"marker\":{\"pattern\":{\"fillmode\":\"overlay\",\"size\":10,\"solidity\":0.2}},\"type\":\"histogram\"}],\"scattergl\":[{\"type\":\"scattergl\",\"marker\":{\"colorbar\":{\"outlinewidth\":0,\"ticks\":\"\"}}}],\"scatter3d\":[{\"type\":\"scatter3d\",\"line\":{\"colorbar\":{\"outlinewidth\":0,\"ticks\":\"\"}},\"marker\":{\"colorbar\":{\"outlinewidth\":0,\"ticks\":\"\"}}}],\"scattermapbox\":[{\"type\":\"scattermapbox\",\"marker\":{\"colorbar\":{\"outlinewidth\":0,\"ticks\":\"\"}}}],\"scatterternary\":[{\"type\":\"scatterternary\",\"marker\":{\"colorbar\":{\"outlinewidth\":0,\"ticks\":\"\"}}}],\"scattercarpet\":[{\"type\":\"scattercarpet\",\"marker\":{\"colorbar\":{\"outlinewidth\":0,\"ticks\":\"\"}}}],\"carpet\":[{\"aaxis\":{\"endlinecolor\":\"#2a3f5f\",\"gridcolor\":\"white\",\"linecolor\":\"white\",\"minorgridcolor\":\"white\",\"startlinecolor\":\"#2a3f5f\"},\"baxis\":{\"endlinecolor\":\"#2a3f5f\",\"gridcolor\":\"white\",\"linecolor\":\"white\",\"minorgridcolor\":\"white\",\"startlinecolor\":\"#2a3f5f\"},\"type\":\"carpet\"}],\"table\":[{\"cells\":{\"fill\":{\"color\":\"#EBF0F8\"},\"line\":{\"color\":\"white\"}},\"header\":{\"fill\":{\"color\":\"#C8D4E3\"},\"line\":{\"color\":\"white\"}},\"type\":\"table\"}],\"barpolar\":[{\"marker\":{\"line\":{\"color\":\"#E5ECF6\",\"width\":0.5},\"pattern\":{\"fillmode\":\"overlay\",\"size\":10,\"solidity\":0.2}},\"type\":\"barpolar\"}],\"pie\":[{\"automargin\":true,\"type\":\"pie\"}]},\"layout\":{\"autotypenumbers\":\"strict\",\"colorway\":[\"#636efa\",\"#EF553B\",\"#00cc96\",\"#ab63fa\",\"#FFA15A\",\"#19d3f3\",\"#FF6692\",\"#B6E880\",\"#FF97FF\",\"#FECB52\"],\"font\":{\"color\":\"#2a3f5f\"},\"hovermode\":\"closest\",\"hoverlabel\":{\"align\":\"left\"},\"paper_bgcolor\":\"white\",\"plot_bgcolor\":\"#E5ECF6\",\"polar\":{\"bgcolor\":\"#E5ECF6\",\"angularaxis\":{\"gridcolor\":\"white\",\"linecolor\":\"white\",\"ticks\":\"\"},\"radialaxis\":{\"gridcolor\":\"white\",\"linecolor\":\"white\",\"ticks\":\"\"}},\"ternary\":{\"bgcolor\":\"#E5ECF6\",\"aaxis\":{\"gridcolor\":\"white\",\"linecolor\":\"white\",\"ticks\":\"\"},\"baxis\":{\"gridcolor\":\"white\",\"linecolor\":\"white\",\"ticks\":\"\"},\"caxis\":{\"gridcolor\":\"white\",\"linecolor\":\"white\",\"ticks\":\"\"}},\"coloraxis\":{\"colorbar\":{\"outlinewidth\":0,\"ticks\":\"\"}},\"colorscale\":{\"sequential\":[[0.0,\"#0d0887\"],[0.1111111111111111,\"#46039f\"],[0.2222222222222222,\"#7201a8\"],[0.3333333333333333,\"#9c179e\"],[0.4444444444444444,\"#bd3786\"],[0.5555555555555556,\"#d8576b\"],[0.6666666666666666,\"#ed7953\"],[0.7777777777777778,\"#fb9f3a\"],[0.8888888888888888,\"#fdca26\"],[1.0,\"#f0f921\"]],\"sequentialminus\":[[0.0,\"#0d0887\"],[0.1111111111111111,\"#46039f\"],[0.2222222222222222,\"#7201a8\"],[0.3333333333333333,\"#9c179e\"],[0.4444444444444444,\"#bd3786\"],[0.5555555555555556,\"#d8576b\"],[0.6666666666666666,\"#ed7953\"],[0.7777777777777778,\"#fb9f3a\"],[0.8888888888888888,\"#fdca26\"],[1.0,\"#f0f921\"]],\"diverging\":[[0,\"#8e0152\"],[0.1,\"#c51b7d\"],[0.2,\"#de77ae\"],[0.3,\"#f1b6da\"],[0.4,\"#fde0ef\"],[0.5,\"#f7f7f7\"],[0.6,\"#e6f5d0\"],[0.7,\"#b8e186\"],[0.8,\"#7fbc41\"],[0.9,\"#4d9221\"],[1,\"#276419\"]]},\"xaxis\":{\"gridcolor\":\"white\",\"linecolor\":\"white\",\"ticks\":\"\",\"title\":{\"standoff\":15},\"zerolinecolor\":\"white\",\"automargin\":true,\"zerolinewidth\":2},\"yaxis\":{\"gridcolor\":\"white\",\"linecolor\":\"white\",\"ticks\":\"\",\"title\":{\"standoff\":15},\"zerolinecolor\":\"white\",\"automargin\":true,\"zerolinewidth\":2},\"scene\":{\"xaxis\":{\"backgroundcolor\":\"#E5ECF6\",\"gridcolor\":\"white\",\"linecolor\":\"white\",\"showbackground\":true,\"ticks\":\"\",\"zerolinecolor\":\"white\",\"gridwidth\":2},\"yaxis\":{\"backgroundcolor\":\"#E5ECF6\",\"gridcolor\":\"white\",\"linecolor\":\"white\",\"showbackground\":true,\"ticks\":\"\",\"zerolinecolor\":\"white\",\"gridwidth\":2},\"zaxis\":{\"backgroundcolor\":\"#E5ECF6\",\"gridcolor\":\"white\",\"linecolor\":\"white\",\"showbackground\":true,\"ticks\":\"\",\"zerolinecolor\":\"white\",\"gridwidth\":2}},\"shapedefaults\":{\"line\":{\"color\":\"#2a3f5f\"}},\"annotationdefaults\":{\"arrowcolor\":\"#2a3f5f\",\"arrowhead\":0,\"arrowwidth\":1},\"geo\":{\"bgcolor\":\"white\",\"landcolor\":\"#E5ECF6\",\"subunitcolor\":\"white\",\"showland\":true,\"showlakes\":true,\"lakecolor\":\"white\"},\"title\":{\"x\":0.05},\"mapbox\":{\"style\":\"light\"}}},\"xaxis\":{\"anchor\":\"y\",\"domain\":[0.0,1.0]},\"yaxis\":{\"anchor\":\"x\",\"domain\":[0.7333333333333333,1.0],\"title\":{\"text\":\"Equity\"},\"type\":\"log\"},\"xaxis2\":{\"anchor\":\"y2\",\"domain\":[0.0,1.0]},\"yaxis2\":{\"anchor\":\"x2\",\"domain\":[0.36666666666666664,0.6333333333333333],\"title\":{\"text\":\"Drawdown\"}},\"xaxis3\":{\"anchor\":\"y3\",\"domain\":[0.0,1.0]},\"yaxis3\":{\"anchor\":\"x3\",\"domain\":[0.0,0.26666666666666666],\"title\":{\"text\":\"Return\"}},\"title\":{\"text\":\"\"},\"shapes\":[{\"fillcolor\":\"red\",\"line\":{\"width\":0},\"opacity\":0.25,\"type\":\"rect\",\"x0\":\"2019-01-24T00:00:00\",\"x1\":\"2019-02-11T00:00:00\",\"xref\":\"x\",\"y0\":0,\"y1\":1,\"yref\":\"y domain\"},{\"opacity\":0.25,\"type\":\"line\",\"x0\":0,\"x1\":1,\"xref\":\"x domain\",\"y0\":1000000.0,\"y1\":1000000.0,\"yref\":\"y\"},{\"fillcolor\":\"red\",\"line\":{\"width\":0},\"opacity\":0.25,\"type\":\"rect\",\"x0\":\"2019-01-24T00:00:00\",\"x1\":\"2019-02-11T00:00:00\",\"xref\":\"x2\",\"y0\":0,\"y1\":1,\"yref\":\"y2 domain\"}],\"annotations\":[{\"font\":{\"size\":15},\"showarrow\":false,\"text\":\"max dd\",\"x\":\"2019-01-24T00:00:00\",\"xanchor\":\"left\",\"xref\":\"x\",\"y\":1,\"yanchor\":\"top\",\"yref\":\"y domain\"}],\"showlegend\":false,\"height\":1000},                        {\"responsive\": true}                    ).then(function(){\n",
       "                            \n",
       "var gd = document.getElementById('da4a2e3a-d033-43f5-867a-b1441cda01d3');\n",
       "var x = new MutationObserver(function (mutations, observer) {{\n",
       "        var display = window.getComputedStyle(gd).display;\n",
       "        if (!display || display === 'none') {{\n",
       "            console.log([gd, 'removed!']);\n",
       "            Plotly.purge(gd);\n",
       "            observer.disconnect();\n",
       "        }}\n",
       "}});\n",
       "\n",
       "// Listen for the removal of the full notebook cells\n",
       "var notebookContainer = gd.closest('#notebook-container');\n",
       "if (notebookContainer) {{\n",
       "    x.observe(notebookContainer, {childList: true});\n",
       "}}\n",
       "\n",
       "// Listen for the clearing of the current output cell\n",
       "var outputEl = gd.closest('.output');\n",
       "if (outputEl) {{\n",
       "    x.observe(outputEl, {childList: true});\n",
       "}}\n",
       "\n",
       "                        })                };                });            </script>        </div>"
      ]
     },
     "metadata": {},
     "output_type": "display_data"
    }
   ],
   "source": [
    "# Lets evaluate how the strategy did\n",
    "metrics = strategy.evaluate_returns()"
   ]
  },
  {
   "cell_type": "code",
   "execution_count": null,
   "id": "cb94d4dc",
   "metadata": {},
   "outputs": [],
   "source": []
  }
 ],
 "metadata": {
  "kernelspec": {
   "display_name": "Python 3 (ipykernel)",
   "language": "python",
   "name": "python3"
  },
  "language_info": {
   "codemirror_mode": {
    "name": "ipython",
    "version": 3
   },
   "file_extension": ".py",
   "mimetype": "text/x-python",
   "name": "python",
   "nbconvert_exporter": "python",
   "pygments_lexer": "ipython3",
   "version": "3.10.12"
  }
 },
 "nbformat": 4,
 "nbformat_minor": 5
}
