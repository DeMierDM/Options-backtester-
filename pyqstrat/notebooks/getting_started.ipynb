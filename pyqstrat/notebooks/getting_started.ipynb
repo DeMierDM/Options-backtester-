{
 "cells": [
  {
   "cell_type": "markdown",
   "id": "c4d78a44",
   "metadata": {},
   "source": [
    "## Getting started\n",
    "\n",
    "We build a simple strategy that goes long when overnight return is negative and exits by the end of the day. If price moves against us, we use a stop loss to get out. We have 15 minute bars of Pepsi (PEP) stock prices"
   ]
  },
  {
   "cell_type": "code",
   "execution_count": 1,
   "id": "ae11c9aa",
   "metadata": {
    "ExecuteTime": {
     "end_time": "2023-10-16T23:18:56.391568Z",
     "start_time": "2023-10-16T23:18:56.146602Z"
    }
   },
   "outputs": [
    {
     "ename": "SyntaxError",
     "evalue": "invalid syntax. Perhaps you forgot a comma? (strategy.py, line 665)",
     "output_type": "error",
     "traceback": [
      "Traceback \u001b[0;36m(most recent call last)\u001b[0m:\n",
      "\u001b[0m  File \u001b[1;32m~/mambaforge/envs/py310/lib/python3.10/site-packages/IPython/core/interactiveshell.py:3460\u001b[0m in \u001b[1;35mrun_code\u001b[0m\n    exec(code_obj, self.user_global_ns, self.user_ns)\u001b[0m\n",
      "\u001b[0m  Cell \u001b[1;32mIn[1], line 3\u001b[0m\n    import pyqstrat as pq\u001b[0m\n",
      "\u001b[0;36m  File \u001b[0;32m~/mambaforge/envs/py310/lib/python3.10/site-packages/pyqstrat/__init__.py:9\u001b[0;36m\n\u001b[0;31m    from pyqstrat.strategy import *\u001b[0;36m\n",
      "\u001b[0;36m  File \u001b[0;32m~/mambaforge/envs/py310/lib/python3.10/site-packages/pyqstrat/strategy.py:665\u001b[0;36m\u001b[0m\n\u001b[0;31m    periods_per_year: int = 0\u001b[0m\n\u001b[0m                            ^\u001b[0m\n\u001b[0;31mSyntaxError\u001b[0m\u001b[0;31m:\u001b[0m invalid syntax. Perhaps you forgot a comma?\n"
     ]
    }
   ],
   "source": [
    "# %%checkall\n",
    "import pandas as pd\n",
    "import pyqstrat as pq\n",
    "import numpy as np\n",
    "\n",
    "# read 15 minute price bars\n",
    "pepsi = pd.read_csv('support/pepsi_15_min_prices.csv.gz')[['date', 'c']]\n",
    "pepsi.columns = ['timestamp', 'c'] \n",
    "# the date corresponding to each 15 minute timestamp\n",
    "pepsi['date'] = pepsi.timestamp.values.astype('M8[D]') \n",
    "# compute overnight return\n",
    "pepsi['overnight_ret'] = np.where(pepsi.date > pepsi.date.shift(1), pepsi.c / pepsi.c.shift(1) - 1, np.nan)\n",
    "pepsi['overnight_ret_positive'] = (pepsi.overnight_ret > 0)  # whether overnight return is positive\n",
    "# mark points just before EOD. We enter a marker order at these points so we have one bar to get filled\n",
    "pepsi['eod'] = np.where(pepsi.date.shift(-2) > pepsi.date, True, False)   \n",
    "# if the price drops by 0.5% after we enter in the morning take our loss and get out\n",
    "pepsi['stop_price'] = np.where(np.isfinite(pepsi.overnight_ret), pepsi.c * 0.995, np.nan) \n",
    "pepsi['stop_price'] = pepsi.stop_price.fillna(method='ffill')  # fill in the stop price for the rest of the day\n",
    "pepsi['stop'] = np.where(pepsi.c < pepsi.stop_price, True, False)  # whether we should exit because we are stopped out\n",
    "\n",
    "strat_builder = pq.StrategyBuilder(data=pepsi)   \n",
    "strat_builder.add_contract('PEP')\n",
    "# add the stop price so we can refer to it in\n",
    "strat_builder.add_indicator('stop_price', pepsi.stop_price.values) \n",
    "# convert timestamps from nanoseconds (pandas convention) to minutes so they are easier to view\n",
    "timestamps = pepsi.timestamp.values.astype('M8[m]')  \n",
    "prices = pepsi.c.values\n",
    "# create a dictionary from contract name=>timestamp => price for use in the price function\n",
    "price_dict = {'PEP': {timestamps[i]: prices[i] for i in range(len(timestamps))}}\n",
    "# create the price function that the strategy will use for looking up prices \n",
    "price_function = pq.PriceFuncDict(price_dict=price_dict)\n",
    "strat_builder.set_price_function(price_function)\n",
    "\n",
    "# FiniteRiskEntryRule allows us to enter trades and get out with a limited loss when a stop is hit.\n",
    "# This enters market orders, if you want to use limit orders, set the limit_increment argument\n",
    "entry_rule = pq.FiniteRiskEntryRule(\n",
    "    reason_code='POS_OVERNIGHT_RETURN',  # this is useful to know why we entered a trade\n",
    "    price_func=price_function, \n",
    "    long=True,  # whether we enter a long or short position\n",
    "    percent_of_equity=0.1,  # set the position size so that if the stop is hit, we lose no more than this\n",
    "    # stop price is used for position sizing.  Also, we will not enter if the price is already below \n",
    "    # stop price for long trades and vice versa\n",
    "    stop_price_ind='stop_price', \n",
    "    single_entry_per_day=True)  # if we are stopped out, do we allow re-entry later in the day\n",
    "\n",
    "# ClosePositionExitRule fully exits a position using either a market or limit order\n",
    "# In this case, we want to exit at EOD so we are flat overnight\n",
    "exit_rule_stop = pq.ClosePositionExitRule(   \n",
    "    reason_code='STOPPED_OUT',\n",
    "    price_func=price_function)\n",
    "\n",
    "# Exit when the stop price is reached\n",
    "exit_rule_eod = pq.ClosePositionExitRule(\n",
    "    reason_code='EOD',\n",
    "    price_func=price_function)\n",
    "\n",
    "# Setup the rules we setup above so they are only called when the columns below in our data dataframe are true\n",
    "strat_builder.add_series_rule('overnight_ret_positive', entry_rule, position_filter='zero')\n",
    "strat_builder.add_series_rule('eod', exit_rule_eod, position_filter='positive')\n",
    "strat_builder.add_series_rule('stop', exit_rule_stop, position_filter='positive')\n",
    "\n",
    "# create the strategy and run it\n",
    "strategy = strat_builder()\n",
    "strategy.run()"
   ]
  },
  {
   "cell_type": "code",
   "execution_count": null,
   "id": "f8e52bdd",
   "metadata": {
    "ExecuteTime": {
     "end_time": "2023-10-16T23:18:56.392504Z",
     "start_time": "2023-10-16T23:18:56.392498Z"
    }
   },
   "outputs": [],
   "source": [
    "# Lets evaluate how the strategy did\n",
    "strategy.df_roundtrip_trades()  "
   ]
  },
  {
   "cell_type": "code",
   "execution_count": null,
   "id": "dc0b16b1",
   "metadata": {
    "ExecuteTime": {
     "end_time": "2023-10-16T23:18:56.393055Z",
     "start_time": "2023-10-16T23:18:56.393049Z"
    }
   },
   "outputs": [],
   "source": [
    "# Lets evaluate how the strategy did\n",
    "metrics = strategy.evaluate_returns()"
   ]
  },
  {
   "cell_type": "code",
   "execution_count": null,
   "id": "cb94d4dc",
   "metadata": {
    "ExecuteTime": {
     "end_time": "2023-10-16T23:18:56.393927Z",
     "start_time": "2023-10-16T23:18:56.393920Z"
    }
   },
   "outputs": [],
   "source": [
    "np.__file__"
   ]
  },
  {
   "cell_type": "code",
   "execution_count": null,
   "id": "912c5cea",
   "metadata": {},
   "outputs": [],
   "source": []
  }
 ],
 "metadata": {
  "kernelspec": {
   "display_name": "Python 3 (ipykernel)",
   "language": "python",
   "name": "python3"
  },
  "language_info": {
   "codemirror_mode": {
    "name": "ipython",
    "version": 3
   },
   "file_extension": ".py",
   "mimetype": "text/x-python",
   "name": "python",
   "nbconvert_exporter": "python",
   "pygments_lexer": "ipython3",
   "version": "3.10.12"
  }
 },
 "nbformat": 4,
 "nbformat_minor": 5
}
