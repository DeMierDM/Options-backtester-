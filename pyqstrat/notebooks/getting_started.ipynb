{
 "cells": [
  {
   "cell_type": "markdown",
   "id": "c4d78a44",
   "metadata": {},
   "source": [
    "## Getting started\n",
    "\n",
    "We build a simple strategy that goes long when overnight return is negative and exits by the end of the day. If price moves against us, we use a stop loss to get out. We have 15 minute bars of Pepsi (PEP) stock prices"
   ]
  },
  {
   "cell_type": "code",
   "execution_count": 1,
   "id": "ae11c9aa",
   "metadata": {
    "ExecuteTime": {
     "end_time": "2023-10-25T04:04:07.744797Z",
     "start_time": "2023-10-25T04:04:07.241780Z"
    }
   },
   "outputs": [
    {
     "name": "stdout",
     "output_type": "stream",
     "text": [
      "[2023-10-24 23:04:07.730 __call__] TRADE: 2023-01-13T09:32 AAPL  2023-01-13 09:32:00 qty: 75735 prc: 131.77   order: AAPL 2023-01-13 09:31:00 qty: 75735 POS_OVERNIGHT_RETURN  OrderStatus.OPEN \n",
      "[2023-10-24 23:04:07.730 __call__] ORDER: 2023-01-13T15:59 AAPL 2023-01-13 15:59:00 qty: -75735 EOD  OrderStatus.OPEN\n",
      "[2023-10-24 23:04:07.731 __call__] TRADE: 2023-01-13T16:00 AAPL  2023-01-13 16:00:00 qty: -75735 prc: 134.74   order: AAPL 2023-01-13 15:59:00 qty: -75735 EOD  OrderStatus.OPEN \n",
      "[2023-10-24 23:04:07.732 __call__] TRADE: 2023-01-19T09:32 AAPL  2023-01-19 09:32:00 qty: 91096 prc: 134.77   order: AAPL 2023-01-19 09:31:00 qty: 91096 POS_OVERNIGHT_RETURN  OrderStatus.OPEN \n",
      "[2023-10-24 23:04:07.733 __call__] ORDER: 2023-01-19T15:59 AAPL 2023-01-19 15:59:00 qty: -91096 EOD  OrderStatus.OPEN\n",
      "[2023-10-24 23:04:07.733 __call__] TRADE: 2023-01-19T16:00 AAPL  2023-01-19 16:00:00 qty: -91096 prc: 135.59   order: AAPL 2023-01-19 15:59:00 qty: -91096 EOD  OrderStatus.OPEN \n",
      "[2023-10-24 23:04:07.734 __call__] TRADE: 2023-01-20T09:32 AAPL  2023-01-20 09:32:00 qty: 96311 prc: 134.575   order: AAPL 2023-01-20 09:31:00 qty: 96311 POS_OVERNIGHT_RETURN  OrderStatus.OPEN \n",
      "[2023-10-24 23:04:07.734 __call__] ORDER: 2023-01-20T15:59 AAPL 2023-01-20 15:59:00 qty: -96311 EOD  OrderStatus.OPEN\n",
      "[2023-10-24 23:04:07.735 __call__] TRADE: 2023-01-20T16:00 AAPL  2023-01-20 16:00:00 qty: -96311 prc: 137.87   order: AAPL 2023-01-20 15:59:00 qty: -96311 EOD  OrderStatus.OPEN \n",
      "[2023-10-24 23:04:07.735 __call__] TRADE: 2023-01-24T09:32 AAPL  2023-01-24 09:32:00 qty: 114948 prc: 141.151   order: AAPL 2023-01-24 09:31:00 qty: 114948 POS_OVERNIGHT_RETURN  OrderStatus.OPEN \n",
      "[2023-10-24 23:04:07.736 __call__] ORDER: 2023-01-24T15:59 AAPL 2023-01-24 15:59:00 qty: -114948 EOD  OrderStatus.OPEN\n",
      "[2023-10-24 23:04:07.737 __call__] TRADE: 2023-01-24T16:00 AAPL  2023-01-24 16:00:00 qty: -114948 prc: 142.66   order: AAPL 2023-01-24 15:59:00 qty: -114948 EOD  OrderStatus.OPEN \n",
      "[2023-10-24 23:04:07.737 __call__] TRADE: 2023-01-25T09:32 AAPL  2023-01-25 09:32:00 qty: 128153 prc: 139.56   order: AAPL 2023-01-25 09:31:00 qty: 128153 POS_OVERNIGHT_RETURN  OrderStatus.OPEN \n",
      "[2023-10-24 23:04:07.738 __call__] ORDER: 2023-01-25T15:59 AAPL 2023-01-25 15:59:00 qty: -128153 EOD  OrderStatus.OPEN\n",
      "[2023-10-24 23:04:07.738 __call__] TRADE: 2023-01-25T16:00 AAPL  2023-01-25 16:00:00 qty: -128153 prc: 141.79   order: AAPL 2023-01-25 15:59:00 qty: -128153 EOD  OrderStatus.OPEN \n",
      "[2023-10-24 23:04:07.739 __call__] TRADE: 2023-01-27T09:32 AAPL  2023-01-27 09:32:00 qty: 144281 prc: 144.24   order: AAPL 2023-01-27 09:31:00 qty: 144281 POS_OVERNIGHT_RETURN  OrderStatus.OPEN \n",
      "[2023-10-24 23:04:07.740 __call__] ORDER: 2023-01-27T15:59 AAPL 2023-01-27 15:59:00 qty: -144281 EOD  OrderStatus.OPEN\n",
      "[2023-10-24 23:04:07.740 __call__] TRADE: 2023-01-27T16:00 AAPL  2023-01-27 16:00:00 qty: -144281 prc: 145.93   order: AAPL 2023-01-27 15:59:00 qty: -144281 EOD  OrderStatus.OPEN \n",
      "[2023-10-24 23:04:07.741 __call__] TRADE: 2023-01-30T09:32 AAPL  2023-01-30 09:32:00 qty: 159650 prc: 145.345   order: AAPL 2023-01-30 09:31:00 qty: 159650 POS_OVERNIGHT_RETURN  OrderStatus.OPEN \n",
      "[2023-10-24 23:04:07.741 __call__] ORDER: 2023-01-30T10:36 AAPL 2023-01-30 10:36:00 qty: -159650 STOPPED_OUT  OrderStatus.OPEN\n",
      "[2023-10-24 23:04:07.742 __call__] TRADE: 2023-01-30T10:37 AAPL  2023-01-30 10:37:00 qty: -159650 prc: 143.65   order: AAPL 2023-01-30 10:36:00 qty: -159650 STOPPED_OUT  OrderStatus.OPEN \n"
     ]
    }
   ],
   "source": [
    "# %%checkall\n",
    "import pandas as pd\n",
    "import pyqstrat as pq\n",
    "import numpy as np\n",
    "\n",
    "# read 1 minute price bars\n",
    "aapl_file = pq.find_in_subdir('.', 'AAPL.csv.gz')\n",
    "aapl = pd.read_csv(aapl_file)[['timestamp', 'c']]\n",
    "aapl.timestamp = pd.to_datetime(aapl.timestamp)\n",
    "# the date corresponding to each 1minute timestamp\n",
    "aapl['date'] = aapl.timestamp.values.astype('M8[D]') \n",
    "# compute overnight return\n",
    "aapl['overnight_ret'] = np.where(aapl.date > aapl.date.shift(1), aapl.c / aapl.c.shift(1) - 1, np.nan)\n",
    "aapl['overnight_ret_negative'] = (aapl.overnight_ret < 0)  # whether overnight return is negative\n",
    "# mark points just before EOD. We enter a marker order at these points so we have one bar to get filled\n",
    "aapl['eod'] = np.where(aapl.date.shift(-2) > aapl.date, True, False)   \n",
    "# if the price drops by 1% after we enter in the morning take our loss and get out\n",
    "aapl['stop_price'] = np.where(np.isfinite(aapl.overnight_ret), aapl.c * 0.99, np.nan) \n",
    "aapl['stop_price'] = aapl.stop_price.fillna(method='ffill')  # fill in the stop price for the rest of the day\n",
    "aapl['stop'] = np.where(aapl.c < aapl.stop_price, True, False)  # whether we should exit because we are stopped out\n",
    "\n",
    "strat_builder = pq.StrategyBuilder(data=aapl)   \n",
    "strat_builder.add_contract('AAPL')\n",
    "# add the stop price so we can refer to it in\n",
    "strat_builder.add_series_indicator('stop_price', 'stop_price') \n",
    "# convert timestamps from nanoseconds (pandas convention) to minutes so they are easier to view\n",
    "timestamps = aapl.timestamp.values.astype('M8[m]')  \n",
    "prices = aapl.c.values\n",
    "# create a dictionary from contract name=>timestamp => price for use in the price function\n",
    "price_dict = {'AAPL': {timestamps[i]: prices[i] for i in range(len(timestamps))}}\n",
    "# create the price function that the strategy will use for looking up prices \n",
    "price_function = pq.PriceFuncDict(price_dict=price_dict)\n",
    "strat_builder.set_price_function(price_function)\n",
    "\n",
    "# FiniteRiskEntryRule allows us to enter trades and get out with a limited loss when a stop is hit.\n",
    "# This enters market orders, if you want to use limit orders, set the limit_increment argument\n",
    "entry_rule = pq.FiniteRiskEntryRule(\n",
    "    reason_code='POS_OVERNIGHT_RETURN',  # this is useful to know why we entered a trade\n",
    "    price_func=price_function, \n",
    "    long=True,  # whether we enter a long or short position\n",
    "    percent_of_equity=0.1,  # set the position size so that if the stop is hit, we lose no more than this\n",
    "    # stop price is used for position sizing.  Also, we will not enter if the price is already below \n",
    "    # stop price for long trades and vice versa\n",
    "    stop_price_ind='stop_price', \n",
    "    single_entry_per_day=True)  # if we are stopped out, do we allow re-entry later in the day\n",
    "\n",
    "# ClosePositionExitRule fully exits a position using either a market or limit order\n",
    "# In this case, we want to exit at EOD so we are flat overnight\n",
    "exit_rule_stop = pq.ClosePositionExitRule(   \n",
    "    reason_code='STOPPED_OUT',\n",
    "    price_func=price_function)\n",
    "\n",
    "# Exit when the stop price is reached\n",
    "exit_rule_eod = pq.ClosePositionExitRule(\n",
    "    reason_code='EOD',\n",
    "    price_func=price_function)\n",
    "\n",
    "# Setup the rules we setup above so they are only called when the columns below in our data dataframe are true\n",
    "# position filters allow you to choose when the rule runs, \"zero\" orders it to run only when \n",
    "# we don't have a current position, positive and negative similarly run the rule when we\n",
    "# are currently long or short respectively\n",
    "strat_builder.add_series_rule('overnight_ret_negative', entry_rule, position_filter='zero')\n",
    "strat_builder.add_series_rule('eod', exit_rule_eod, position_filter='positive')\n",
    "strat_builder.add_series_rule('stop', exit_rule_stop, position_filter='positive')\n",
    "\n",
    "# create the strategy and run it\n",
    "strategy = strat_builder()\n",
    "strategy.run()"
   ]
  },
  {
   "cell_type": "code",
   "execution_count": 2,
   "id": "f8e52bdd",
   "metadata": {
    "ExecuteTime": {
     "end_time": "2023-10-25T04:04:07.756985Z",
     "start_time": "2023-10-25T04:04:07.746066Z"
    }
   },
   "outputs": [
    {
     "data": {
      "text/html": [
       "<div>\n",
       "<style scoped>\n",
       "    .dataframe tbody tr th:only-of-type {\n",
       "        vertical-align: middle;\n",
       "    }\n",
       "\n",
       "    .dataframe tbody tr th {\n",
       "        vertical-align: top;\n",
       "    }\n",
       "\n",
       "    .dataframe thead th {\n",
       "        text-align: right;\n",
       "    }\n",
       "</style>\n",
       "<table border=\"1\" class=\"dataframe\">\n",
       "  <thead>\n",
       "    <tr style=\"text-align: right;\">\n",
       "      <th></th>\n",
       "      <th>symbol</th>\n",
       "      <th>multiplier</th>\n",
       "      <th>entry_timestamp</th>\n",
       "      <th>exit_timestamp</th>\n",
       "      <th>qty</th>\n",
       "      <th>entry_price</th>\n",
       "      <th>exit_price</th>\n",
       "      <th>entry_reason</th>\n",
       "      <th>exit_reason</th>\n",
       "      <th>entry_commission</th>\n",
       "      <th>exit_commission</th>\n",
       "      <th>net_pnl</th>\n",
       "    </tr>\n",
       "  </thead>\n",
       "  <tbody>\n",
       "    <tr>\n",
       "      <th>0</th>\n",
       "      <td>AAPL</td>\n",
       "      <td>1.0</td>\n",
       "      <td>2023-01-13 09:32:00</td>\n",
       "      <td>2023-01-13 16:00:00</td>\n",
       "      <td>75735</td>\n",
       "      <td>131.77000</td>\n",
       "      <td>134.73999</td>\n",
       "      <td>POS_OVERNIGHT_RETURN</td>\n",
       "      <td>EOD</td>\n",
       "      <td>0.0</td>\n",
       "      <td>0.0</td>\n",
       "      <td>224932.19265</td>\n",
       "    </tr>\n",
       "    <tr>\n",
       "      <th>1</th>\n",
       "      <td>AAPL</td>\n",
       "      <td>1.0</td>\n",
       "      <td>2023-01-19 09:32:00</td>\n",
       "      <td>2023-01-19 16:00:00</td>\n",
       "      <td>91096</td>\n",
       "      <td>134.77000</td>\n",
       "      <td>135.59000</td>\n",
       "      <td>POS_OVERNIGHT_RETURN</td>\n",
       "      <td>EOD</td>\n",
       "      <td>0.0</td>\n",
       "      <td>0.0</td>\n",
       "      <td>74698.72000</td>\n",
       "    </tr>\n",
       "    <tr>\n",
       "      <th>2</th>\n",
       "      <td>AAPL</td>\n",
       "      <td>1.0</td>\n",
       "      <td>2023-01-20 09:32:00</td>\n",
       "      <td>2023-01-20 16:00:00</td>\n",
       "      <td>96311</td>\n",
       "      <td>134.57501</td>\n",
       "      <td>137.87001</td>\n",
       "      <td>POS_OVERNIGHT_RETURN</td>\n",
       "      <td>EOD</td>\n",
       "      <td>0.0</td>\n",
       "      <td>0.0</td>\n",
       "      <td>317344.74500</td>\n",
       "    </tr>\n",
       "    <tr>\n",
       "      <th>3</th>\n",
       "      <td>AAPL</td>\n",
       "      <td>1.0</td>\n",
       "      <td>2023-01-24 09:32:00</td>\n",
       "      <td>2023-01-24 16:00:00</td>\n",
       "      <td>114948</td>\n",
       "      <td>141.15102</td>\n",
       "      <td>142.66000</td>\n",
       "      <td>POS_OVERNIGHT_RETURN</td>\n",
       "      <td>EOD</td>\n",
       "      <td>0.0</td>\n",
       "      <td>0.0</td>\n",
       "      <td>173454.23304</td>\n",
       "    </tr>\n",
       "    <tr>\n",
       "      <th>4</th>\n",
       "      <td>AAPL</td>\n",
       "      <td>1.0</td>\n",
       "      <td>2023-01-25 09:32:00</td>\n",
       "      <td>2023-01-25 16:00:00</td>\n",
       "      <td>128153</td>\n",
       "      <td>139.56000</td>\n",
       "      <td>141.79000</td>\n",
       "      <td>POS_OVERNIGHT_RETURN</td>\n",
       "      <td>EOD</td>\n",
       "      <td>0.0</td>\n",
       "      <td>0.0</td>\n",
       "      <td>285781.19000</td>\n",
       "    </tr>\n",
       "    <tr>\n",
       "      <th>5</th>\n",
       "      <td>AAPL</td>\n",
       "      <td>1.0</td>\n",
       "      <td>2023-01-27 09:32:00</td>\n",
       "      <td>2023-01-27 16:00:00</td>\n",
       "      <td>144281</td>\n",
       "      <td>144.23999</td>\n",
       "      <td>145.93000</td>\n",
       "      <td>POS_OVERNIGHT_RETURN</td>\n",
       "      <td>EOD</td>\n",
       "      <td>0.0</td>\n",
       "      <td>0.0</td>\n",
       "      <td>243836.33281</td>\n",
       "    </tr>\n",
       "    <tr>\n",
       "      <th>6</th>\n",
       "      <td>AAPL</td>\n",
       "      <td>1.0</td>\n",
       "      <td>2023-01-30 09:32:00</td>\n",
       "      <td>2023-01-30 10:37:00</td>\n",
       "      <td>159650</td>\n",
       "      <td>145.34500</td>\n",
       "      <td>143.65001</td>\n",
       "      <td>POS_OVERNIGHT_RETURN</td>\n",
       "      <td>STOPPED_OUT</td>\n",
       "      <td>0.0</td>\n",
       "      <td>0.0</td>\n",
       "      <td>-270605.15350</td>\n",
       "    </tr>\n",
       "  </tbody>\n",
       "</table>\n",
       "</div>"
      ],
      "text/plain": [
       "  symbol  multiplier     entry_timestamp      exit_timestamp     qty  \\\n",
       "0   AAPL         1.0 2023-01-13 09:32:00 2023-01-13 16:00:00   75735   \n",
       "1   AAPL         1.0 2023-01-19 09:32:00 2023-01-19 16:00:00   91096   \n",
       "2   AAPL         1.0 2023-01-20 09:32:00 2023-01-20 16:00:00   96311   \n",
       "3   AAPL         1.0 2023-01-24 09:32:00 2023-01-24 16:00:00  114948   \n",
       "4   AAPL         1.0 2023-01-25 09:32:00 2023-01-25 16:00:00  128153   \n",
       "5   AAPL         1.0 2023-01-27 09:32:00 2023-01-27 16:00:00  144281   \n",
       "6   AAPL         1.0 2023-01-30 09:32:00 2023-01-30 10:37:00  159650   \n",
       "\n",
       "   entry_price  exit_price          entry_reason  exit_reason  \\\n",
       "0    131.77000   134.73999  POS_OVERNIGHT_RETURN          EOD   \n",
       "1    134.77000   135.59000  POS_OVERNIGHT_RETURN          EOD   \n",
       "2    134.57501   137.87001  POS_OVERNIGHT_RETURN          EOD   \n",
       "3    141.15102   142.66000  POS_OVERNIGHT_RETURN          EOD   \n",
       "4    139.56000   141.79000  POS_OVERNIGHT_RETURN          EOD   \n",
       "5    144.23999   145.93000  POS_OVERNIGHT_RETURN          EOD   \n",
       "6    145.34500   143.65001  POS_OVERNIGHT_RETURN  STOPPED_OUT   \n",
       "\n",
       "   entry_commission  exit_commission       net_pnl  \n",
       "0               0.0              0.0  224932.19265  \n",
       "1               0.0              0.0   74698.72000  \n",
       "2               0.0              0.0  317344.74500  \n",
       "3               0.0              0.0  173454.23304  \n",
       "4               0.0              0.0  285781.19000  \n",
       "5               0.0              0.0  243836.33281  \n",
       "6               0.0              0.0 -270605.15350  "
      ]
     },
     "execution_count": 2,
     "metadata": {},
     "output_type": "execute_result"
    }
   ],
   "source": [
    "# Lets evaluate how the strategy did\n",
    "strategy.df_roundtrip_trades()  "
   ]
  },
  {
   "cell_type": "code",
   "execution_count": 4,
   "id": "dc0b16b1",
   "metadata": {
    "ExecuteTime": {
     "end_time": "2023-10-25T04:04:27.483202Z",
     "start_time": "2023-10-25T04:04:27.414479Z"
    }
   },
   "outputs": [
    {
     "data": {
      "text/html": [
       "<div>\n",
       "<style scoped>\n",
       "    .dataframe tbody tr th:only-of-type {\n",
       "        vertical-align: middle;\n",
       "    }\n",
       "\n",
       "    .dataframe tbody tr th {\n",
       "        vertical-align: top;\n",
       "    }\n",
       "\n",
       "    .dataframe thead th {\n",
       "        text-align: right;\n",
       "    }\n",
       "</style>\n",
       "<table border=\"1\" class=\"dataframe\">\n",
       "  <thead>\n",
       "    <tr style=\"text-align: right;\">\n",
       "      <th></th>\n",
       "      <th>gmean</th>\n",
       "      <th>amean</th>\n",
       "      <th>std</th>\n",
       "      <th>shrp</th>\n",
       "      <th>srt</th>\n",
       "      <th>k</th>\n",
       "      <th>calmar</th>\n",
       "      <th>mar</th>\n",
       "      <th>mdd_pct</th>\n",
       "      <th>mdd_dates</th>\n",
       "      <th>dd_3y_pct</th>\n",
       "      <th>dd_3y_timestamps</th>\n",
       "      <th>up_dwn</th>\n",
       "      <th>2023</th>\n",
       "    </tr>\n",
       "  </thead>\n",
       "  <tbody>\n",
       "    <tr>\n",
       "      <th></th>\n",
       "      <td>1.359e+04</td>\n",
       "      <td>10.05</td>\n",
       "      <td>0.08558</td>\n",
       "      <td>7.399</td>\n",
       "      <td>24.91</td>\n",
       "      <td>5.963</td>\n",
       "      <td>86.18</td>\n",
       "      <td>86.18</td>\n",
       "      <td>0.1166</td>\n",
       "      <td>2023-01-27/2023-01-30</td>\n",
       "      <td>0.1166</td>\n",
       "      <td>2023-01-27/2023-01-30</td>\n",
       "      <td>6/1/0.857</td>\n",
       "      <td>1.359e+04</td>\n",
       "    </tr>\n",
       "  </tbody>\n",
       "</table>\n",
       "</div>"
      ],
      "text/plain": [
       "      gmean  amean      std   shrp    srt      k calmar    mar mdd_pct  \\\n",
       "  1.359e+04  10.05  0.08558  7.399  24.91  5.963  86.18  86.18  0.1166   \n",
       "\n",
       "              mdd_dates dd_3y_pct       dd_3y_timestamps     up_dwn       2023  \n",
       "  2023-01-27/2023-01-30    0.1166  2023-01-27/2023-01-30  6/1/0.857  1.359e+04  "
      ]
     },
     "metadata": {},
     "output_type": "display_data"
    },
    {
     "name": "stdout",
     "output_type": "stream",
     "text": [
      "2023-01-27T00:00 2023-01-30T00:00\n"
     ]
    },
    {
     "data": {
      "application/vnd.plotly.v1+json": {
       "config": {
        "plotlyServerURL": "https://plot.ly"
       },
       "data": [
        {
         "mode": "lines",
         "type": "scatter",
         "x": [
          "2023-01-02T00:00:00.000000000",
          "2023-01-03T00:00:00.000000000",
          "2023-01-04T00:00:00.000000000",
          "2023-01-05T00:00:00.000000000",
          "2023-01-06T00:00:00.000000000",
          "2023-01-09T00:00:00.000000000",
          "2023-01-10T00:00:00.000000000",
          "2023-01-11T00:00:00.000000000",
          "2023-01-12T00:00:00.000000000",
          "2023-01-13T00:00:00.000000000",
          "2023-01-17T00:00:00.000000000",
          "2023-01-18T00:00:00.000000000",
          "2023-01-19T00:00:00.000000000",
          "2023-01-20T00:00:00.000000000",
          "2023-01-23T00:00:00.000000000",
          "2023-01-24T00:00:00.000000000",
          "2023-01-25T00:00:00.000000000",
          "2023-01-26T00:00:00.000000000",
          "2023-01-27T00:00:00.000000000",
          "2023-01-30T00:00:00.000000000"
         ],
         "xaxis": "x",
         "y": [
          1000000,
          1000000,
          1000000,
          1000000,
          1000000,
          1000000,
          1000000,
          1000000,
          1000000,
          1224932.1926499996,
          1224932.1926499996,
          1224932.1926499996,
          1299630.912649999,
          1616975.6576500004,
          1616975.6576500004,
          1790429.8906900017,
          2076211.0806900007,
          2076211.0806900007,
          2320047.413500001,
          2049442.2600000023
         ],
         "yaxis": "y"
        },
        {
         "mode": "lines",
         "type": "scatter",
         "x": [
          "2023-01-02T00:00:00.000000000",
          "2023-01-03T00:00:00.000000000",
          "2023-01-04T00:00:00.000000000",
          "2023-01-05T00:00:00.000000000",
          "2023-01-06T00:00:00.000000000",
          "2023-01-09T00:00:00.000000000",
          "2023-01-10T00:00:00.000000000",
          "2023-01-11T00:00:00.000000000",
          "2023-01-12T00:00:00.000000000",
          "2023-01-13T00:00:00.000000000",
          "2023-01-17T00:00:00.000000000",
          "2023-01-18T00:00:00.000000000",
          "2023-01-19T00:00:00.000000000",
          "2023-01-20T00:00:00.000000000",
          "2023-01-23T00:00:00.000000000",
          "2023-01-24T00:00:00.000000000",
          "2023-01-25T00:00:00.000000000",
          "2023-01-26T00:00:00.000000000",
          "2023-01-27T00:00:00.000000000",
          "2023-01-30T00:00:00.000000000"
         ],
         "xaxis": "x2",
         "y": [
          0,
          0,
          0,
          0,
          0,
          0,
          0,
          0,
          0,
          0,
          0,
          0,
          0,
          0,
          0,
          0,
          0,
          0,
          0,
          0.11663776866170443
         ],
         "yaxis": "y2"
        },
        {
         "boxmean": true,
         "boxpoints": "all",
         "jitter": 0.1,
         "line": {
          "color": "gray"
         },
         "marker": {
          "color": "gray"
         },
         "name": "2023",
         "type": "box",
         "x": [
          0,
          0,
          0,
          0,
          0,
          0,
          0,
          0,
          0,
          0.22493219264999964,
          0,
          0,
          0.060981922467395755,
          0.24418066845834185,
          0,
          0.10727077567270693,
          0.15961596233732656,
          0,
          0.1174429397269976,
          -0.11663776866170428
         ],
         "xaxis": "x3",
         "yaxis": "y3"
        },
        {
         "boxmean": true,
         "boxpoints": "all",
         "jitter": 0.1,
         "line": {
          "color": "blue"
         },
         "marker": {
          "color": "blue"
         },
         "name": "All",
         "type": "box",
         "x": [
          0,
          0,
          0,
          0,
          0,
          0,
          0,
          0,
          0,
          0.22493219264999964,
          0,
          0,
          0.060981922467395755,
          0.24418066845834185,
          0,
          0.10727077567270693,
          0.15961596233732656,
          0,
          0.1174429397269976,
          -0.11663776866170428
         ],
         "xaxis": "x3",
         "yaxis": "y3"
        }
       ],
       "layout": {
        "annotations": [
         {
          "font": {
           "size": 15
          },
          "showarrow": false,
          "text": "max dd",
          "x": "2023-01-27T00:00:00",
          "xanchor": "left",
          "xref": "x",
          "y": 1,
          "yanchor": "top",
          "yref": "y domain"
         }
        ],
        "height": 1000,
        "shapes": [
         {
          "fillcolor": "red",
          "line": {
           "width": 0
          },
          "opacity": 0.25,
          "type": "rect",
          "x0": "2023-01-27T00:00:00",
          "x1": "2023-01-30T00:00:00",
          "xref": "x",
          "y0": 0,
          "y1": 1,
          "yref": "y domain"
         },
         {
          "opacity": 0.25,
          "type": "line",
          "x0": 0,
          "x1": 1,
          "xref": "x domain",
          "y0": 1000000,
          "y1": 1000000,
          "yref": "y"
         },
         {
          "fillcolor": "red",
          "line": {
           "width": 0
          },
          "opacity": 0.25,
          "type": "rect",
          "x0": "2023-01-27T00:00:00",
          "x1": "2023-01-30T00:00:00",
          "xref": "x2",
          "y0": 0,
          "y1": 1,
          "yref": "y2 domain"
         }
        ],
        "showlegend": false,
        "template": {
         "data": {
          "bar": [
           {
            "error_x": {
             "color": "#2a3f5f"
            },
            "error_y": {
             "color": "#2a3f5f"
            },
            "marker": {
             "line": {
              "color": "#E5ECF6",
              "width": 0.5
             },
             "pattern": {
              "fillmode": "overlay",
              "size": 10,
              "solidity": 0.2
             }
            },
            "type": "bar"
           }
          ],
          "barpolar": [
           {
            "marker": {
             "line": {
              "color": "#E5ECF6",
              "width": 0.5
             },
             "pattern": {
              "fillmode": "overlay",
              "size": 10,
              "solidity": 0.2
             }
            },
            "type": "barpolar"
           }
          ],
          "carpet": [
           {
            "aaxis": {
             "endlinecolor": "#2a3f5f",
             "gridcolor": "white",
             "linecolor": "white",
             "minorgridcolor": "white",
             "startlinecolor": "#2a3f5f"
            },
            "baxis": {
             "endlinecolor": "#2a3f5f",
             "gridcolor": "white",
             "linecolor": "white",
             "minorgridcolor": "white",
             "startlinecolor": "#2a3f5f"
            },
            "type": "carpet"
           }
          ],
          "choropleth": [
           {
            "colorbar": {
             "outlinewidth": 0,
             "ticks": ""
            },
            "type": "choropleth"
           }
          ],
          "contour": [
           {
            "colorbar": {
             "outlinewidth": 0,
             "ticks": ""
            },
            "colorscale": [
             [
              0,
              "#0d0887"
             ],
             [
              0.1111111111111111,
              "#46039f"
             ],
             [
              0.2222222222222222,
              "#7201a8"
             ],
             [
              0.3333333333333333,
              "#9c179e"
             ],
             [
              0.4444444444444444,
              "#bd3786"
             ],
             [
              0.5555555555555556,
              "#d8576b"
             ],
             [
              0.6666666666666666,
              "#ed7953"
             ],
             [
              0.7777777777777778,
              "#fb9f3a"
             ],
             [
              0.8888888888888888,
              "#fdca26"
             ],
             [
              1,
              "#f0f921"
             ]
            ],
            "type": "contour"
           }
          ],
          "contourcarpet": [
           {
            "colorbar": {
             "outlinewidth": 0,
             "ticks": ""
            },
            "type": "contourcarpet"
           }
          ],
          "heatmap": [
           {
            "colorbar": {
             "outlinewidth": 0,
             "ticks": ""
            },
            "colorscale": [
             [
              0,
              "#0d0887"
             ],
             [
              0.1111111111111111,
              "#46039f"
             ],
             [
              0.2222222222222222,
              "#7201a8"
             ],
             [
              0.3333333333333333,
              "#9c179e"
             ],
             [
              0.4444444444444444,
              "#bd3786"
             ],
             [
              0.5555555555555556,
              "#d8576b"
             ],
             [
              0.6666666666666666,
              "#ed7953"
             ],
             [
              0.7777777777777778,
              "#fb9f3a"
             ],
             [
              0.8888888888888888,
              "#fdca26"
             ],
             [
              1,
              "#f0f921"
             ]
            ],
            "type": "heatmap"
           }
          ],
          "heatmapgl": [
           {
            "colorbar": {
             "outlinewidth": 0,
             "ticks": ""
            },
            "colorscale": [
             [
              0,
              "#0d0887"
             ],
             [
              0.1111111111111111,
              "#46039f"
             ],
             [
              0.2222222222222222,
              "#7201a8"
             ],
             [
              0.3333333333333333,
              "#9c179e"
             ],
             [
              0.4444444444444444,
              "#bd3786"
             ],
             [
              0.5555555555555556,
              "#d8576b"
             ],
             [
              0.6666666666666666,
              "#ed7953"
             ],
             [
              0.7777777777777778,
              "#fb9f3a"
             ],
             [
              0.8888888888888888,
              "#fdca26"
             ],
             [
              1,
              "#f0f921"
             ]
            ],
            "type": "heatmapgl"
           }
          ],
          "histogram": [
           {
            "marker": {
             "pattern": {
              "fillmode": "overlay",
              "size": 10,
              "solidity": 0.2
             }
            },
            "type": "histogram"
           }
          ],
          "histogram2d": [
           {
            "colorbar": {
             "outlinewidth": 0,
             "ticks": ""
            },
            "colorscale": [
             [
              0,
              "#0d0887"
             ],
             [
              0.1111111111111111,
              "#46039f"
             ],
             [
              0.2222222222222222,
              "#7201a8"
             ],
             [
              0.3333333333333333,
              "#9c179e"
             ],
             [
              0.4444444444444444,
              "#bd3786"
             ],
             [
              0.5555555555555556,
              "#d8576b"
             ],
             [
              0.6666666666666666,
              "#ed7953"
             ],
             [
              0.7777777777777778,
              "#fb9f3a"
             ],
             [
              0.8888888888888888,
              "#fdca26"
             ],
             [
              1,
              "#f0f921"
             ]
            ],
            "type": "histogram2d"
           }
          ],
          "histogram2dcontour": [
           {
            "colorbar": {
             "outlinewidth": 0,
             "ticks": ""
            },
            "colorscale": [
             [
              0,
              "#0d0887"
             ],
             [
              0.1111111111111111,
              "#46039f"
             ],
             [
              0.2222222222222222,
              "#7201a8"
             ],
             [
              0.3333333333333333,
              "#9c179e"
             ],
             [
              0.4444444444444444,
              "#bd3786"
             ],
             [
              0.5555555555555556,
              "#d8576b"
             ],
             [
              0.6666666666666666,
              "#ed7953"
             ],
             [
              0.7777777777777778,
              "#fb9f3a"
             ],
             [
              0.8888888888888888,
              "#fdca26"
             ],
             [
              1,
              "#f0f921"
             ]
            ],
            "type": "histogram2dcontour"
           }
          ],
          "mesh3d": [
           {
            "colorbar": {
             "outlinewidth": 0,
             "ticks": ""
            },
            "type": "mesh3d"
           }
          ],
          "parcoords": [
           {
            "line": {
             "colorbar": {
              "outlinewidth": 0,
              "ticks": ""
             }
            },
            "type": "parcoords"
           }
          ],
          "pie": [
           {
            "automargin": true,
            "type": "pie"
           }
          ],
          "scatter": [
           {
            "fillpattern": {
             "fillmode": "overlay",
             "size": 10,
             "solidity": 0.2
            },
            "type": "scatter"
           }
          ],
          "scatter3d": [
           {
            "line": {
             "colorbar": {
              "outlinewidth": 0,
              "ticks": ""
             }
            },
            "marker": {
             "colorbar": {
              "outlinewidth": 0,
              "ticks": ""
             }
            },
            "type": "scatter3d"
           }
          ],
          "scattercarpet": [
           {
            "marker": {
             "colorbar": {
              "outlinewidth": 0,
              "ticks": ""
             }
            },
            "type": "scattercarpet"
           }
          ],
          "scattergeo": [
           {
            "marker": {
             "colorbar": {
              "outlinewidth": 0,
              "ticks": ""
             }
            },
            "type": "scattergeo"
           }
          ],
          "scattergl": [
           {
            "marker": {
             "colorbar": {
              "outlinewidth": 0,
              "ticks": ""
             }
            },
            "type": "scattergl"
           }
          ],
          "scattermapbox": [
           {
            "marker": {
             "colorbar": {
              "outlinewidth": 0,
              "ticks": ""
             }
            },
            "type": "scattermapbox"
           }
          ],
          "scatterpolar": [
           {
            "marker": {
             "colorbar": {
              "outlinewidth": 0,
              "ticks": ""
             }
            },
            "type": "scatterpolar"
           }
          ],
          "scatterpolargl": [
           {
            "marker": {
             "colorbar": {
              "outlinewidth": 0,
              "ticks": ""
             }
            },
            "type": "scatterpolargl"
           }
          ],
          "scatterternary": [
           {
            "marker": {
             "colorbar": {
              "outlinewidth": 0,
              "ticks": ""
             }
            },
            "type": "scatterternary"
           }
          ],
          "surface": [
           {
            "colorbar": {
             "outlinewidth": 0,
             "ticks": ""
            },
            "colorscale": [
             [
              0,
              "#0d0887"
             ],
             [
              0.1111111111111111,
              "#46039f"
             ],
             [
              0.2222222222222222,
              "#7201a8"
             ],
             [
              0.3333333333333333,
              "#9c179e"
             ],
             [
              0.4444444444444444,
              "#bd3786"
             ],
             [
              0.5555555555555556,
              "#d8576b"
             ],
             [
              0.6666666666666666,
              "#ed7953"
             ],
             [
              0.7777777777777778,
              "#fb9f3a"
             ],
             [
              0.8888888888888888,
              "#fdca26"
             ],
             [
              1,
              "#f0f921"
             ]
            ],
            "type": "surface"
           }
          ],
          "table": [
           {
            "cells": {
             "fill": {
              "color": "#EBF0F8"
             },
             "line": {
              "color": "white"
             }
            },
            "header": {
             "fill": {
              "color": "#C8D4E3"
             },
             "line": {
              "color": "white"
             }
            },
            "type": "table"
           }
          ]
         },
         "layout": {
          "annotationdefaults": {
           "arrowcolor": "#2a3f5f",
           "arrowhead": 0,
           "arrowwidth": 1
          },
          "autotypenumbers": "strict",
          "coloraxis": {
           "colorbar": {
            "outlinewidth": 0,
            "ticks": ""
           }
          },
          "colorscale": {
           "diverging": [
            [
             0,
             "#8e0152"
            ],
            [
             0.1,
             "#c51b7d"
            ],
            [
             0.2,
             "#de77ae"
            ],
            [
             0.3,
             "#f1b6da"
            ],
            [
             0.4,
             "#fde0ef"
            ],
            [
             0.5,
             "#f7f7f7"
            ],
            [
             0.6,
             "#e6f5d0"
            ],
            [
             0.7,
             "#b8e186"
            ],
            [
             0.8,
             "#7fbc41"
            ],
            [
             0.9,
             "#4d9221"
            ],
            [
             1,
             "#276419"
            ]
           ],
           "sequential": [
            [
             0,
             "#0d0887"
            ],
            [
             0.1111111111111111,
             "#46039f"
            ],
            [
             0.2222222222222222,
             "#7201a8"
            ],
            [
             0.3333333333333333,
             "#9c179e"
            ],
            [
             0.4444444444444444,
             "#bd3786"
            ],
            [
             0.5555555555555556,
             "#d8576b"
            ],
            [
             0.6666666666666666,
             "#ed7953"
            ],
            [
             0.7777777777777778,
             "#fb9f3a"
            ],
            [
             0.8888888888888888,
             "#fdca26"
            ],
            [
             1,
             "#f0f921"
            ]
           ],
           "sequentialminus": [
            [
             0,
             "#0d0887"
            ],
            [
             0.1111111111111111,
             "#46039f"
            ],
            [
             0.2222222222222222,
             "#7201a8"
            ],
            [
             0.3333333333333333,
             "#9c179e"
            ],
            [
             0.4444444444444444,
             "#bd3786"
            ],
            [
             0.5555555555555556,
             "#d8576b"
            ],
            [
             0.6666666666666666,
             "#ed7953"
            ],
            [
             0.7777777777777778,
             "#fb9f3a"
            ],
            [
             0.8888888888888888,
             "#fdca26"
            ],
            [
             1,
             "#f0f921"
            ]
           ]
          },
          "colorway": [
           "#636efa",
           "#EF553B",
           "#00cc96",
           "#ab63fa",
           "#FFA15A",
           "#19d3f3",
           "#FF6692",
           "#B6E880",
           "#FF97FF",
           "#FECB52"
          ],
          "font": {
           "color": "#2a3f5f"
          },
          "geo": {
           "bgcolor": "white",
           "lakecolor": "white",
           "landcolor": "#E5ECF6",
           "showlakes": true,
           "showland": true,
           "subunitcolor": "white"
          },
          "hoverlabel": {
           "align": "left"
          },
          "hovermode": "closest",
          "mapbox": {
           "style": "light"
          },
          "paper_bgcolor": "white",
          "plot_bgcolor": "#E5ECF6",
          "polar": {
           "angularaxis": {
            "gridcolor": "white",
            "linecolor": "white",
            "ticks": ""
           },
           "bgcolor": "#E5ECF6",
           "radialaxis": {
            "gridcolor": "white",
            "linecolor": "white",
            "ticks": ""
           }
          },
          "scene": {
           "xaxis": {
            "backgroundcolor": "#E5ECF6",
            "gridcolor": "white",
            "gridwidth": 2,
            "linecolor": "white",
            "showbackground": true,
            "ticks": "",
            "zerolinecolor": "white"
           },
           "yaxis": {
            "backgroundcolor": "#E5ECF6",
            "gridcolor": "white",
            "gridwidth": 2,
            "linecolor": "white",
            "showbackground": true,
            "ticks": "",
            "zerolinecolor": "white"
           },
           "zaxis": {
            "backgroundcolor": "#E5ECF6",
            "gridcolor": "white",
            "gridwidth": 2,
            "linecolor": "white",
            "showbackground": true,
            "ticks": "",
            "zerolinecolor": "white"
           }
          },
          "shapedefaults": {
           "line": {
            "color": "#2a3f5f"
           }
          },
          "ternary": {
           "aaxis": {
            "gridcolor": "white",
            "linecolor": "white",
            "ticks": ""
           },
           "baxis": {
            "gridcolor": "white",
            "linecolor": "white",
            "ticks": ""
           },
           "bgcolor": "#E5ECF6",
           "caxis": {
            "gridcolor": "white",
            "linecolor": "white",
            "ticks": ""
           }
          },
          "title": {
           "x": 0.05
          },
          "xaxis": {
           "automargin": true,
           "gridcolor": "white",
           "linecolor": "white",
           "ticks": "",
           "title": {
            "standoff": 15
           },
           "zerolinecolor": "white",
           "zerolinewidth": 2
          },
          "yaxis": {
           "automargin": true,
           "gridcolor": "white",
           "linecolor": "white",
           "ticks": "",
           "title": {
            "standoff": 15
           },
           "zerolinecolor": "white",
           "zerolinewidth": 2
          }
         }
        },
        "title": {
         "text": ""
        },
        "xaxis": {
         "anchor": "y",
         "domain": [
          0,
          1
         ]
        },
        "xaxis2": {
         "anchor": "y2",
         "domain": [
          0,
          1
         ]
        },
        "xaxis3": {
         "anchor": "y3",
         "domain": [
          0,
          1
         ]
        },
        "yaxis": {
         "anchor": "x",
         "domain": [
          0.7333333333333333,
          1
         ],
         "title": {
          "text": "Equity"
         },
         "type": "log"
        },
        "yaxis2": {
         "anchor": "x2",
         "domain": [
          0.36666666666666664,
          0.6333333333333333
         ],
         "title": {
          "text": "Drawdown"
         }
        },
        "yaxis3": {
         "anchor": "x3",
         "domain": [
          0,
          0.26666666666666666
         ],
         "title": {
          "text": "Return"
         }
        }
       }
      },
      "text/html": [
       "<div>                            <div id=\"54c9434b-5627-4eb5-bbac-8038a162380c\" class=\"plotly-graph-div\" style=\"height:1000px; width:100%;\"></div>            <script type=\"text/javascript\">                require([\"plotly\"], function(Plotly) {                    window.PLOTLYENV=window.PLOTLYENV || {};                                    if (document.getElementById(\"54c9434b-5627-4eb5-bbac-8038a162380c\")) {                    Plotly.newPlot(                        \"54c9434b-5627-4eb5-bbac-8038a162380c\",                        [{\"mode\":\"lines\",\"x\":[\"2023-01-02T00:00:00.000000000\",\"2023-01-03T00:00:00.000000000\",\"2023-01-04T00:00:00.000000000\",\"2023-01-05T00:00:00.000000000\",\"2023-01-06T00:00:00.000000000\",\"2023-01-09T00:00:00.000000000\",\"2023-01-10T00:00:00.000000000\",\"2023-01-11T00:00:00.000000000\",\"2023-01-12T00:00:00.000000000\",\"2023-01-13T00:00:00.000000000\",\"2023-01-17T00:00:00.000000000\",\"2023-01-18T00:00:00.000000000\",\"2023-01-19T00:00:00.000000000\",\"2023-01-20T00:00:00.000000000\",\"2023-01-23T00:00:00.000000000\",\"2023-01-24T00:00:00.000000000\",\"2023-01-25T00:00:00.000000000\",\"2023-01-26T00:00:00.000000000\",\"2023-01-27T00:00:00.000000000\",\"2023-01-30T00:00:00.000000000\"],\"y\":[1000000.0,1000000.0,1000000.0,1000000.0,1000000.0,1000000.0,1000000.0,1000000.0,1000000.0,1224932.1926499996,1224932.1926499996,1224932.1926499996,1299630.912649999,1616975.6576500004,1616975.6576500004,1790429.8906900017,2076211.0806900007,2076211.0806900007,2320047.413500001,2049442.2600000023],\"type\":\"scatter\",\"xaxis\":\"x\",\"yaxis\":\"y\"},{\"mode\":\"lines\",\"x\":[\"2023-01-02T00:00:00.000000000\",\"2023-01-03T00:00:00.000000000\",\"2023-01-04T00:00:00.000000000\",\"2023-01-05T00:00:00.000000000\",\"2023-01-06T00:00:00.000000000\",\"2023-01-09T00:00:00.000000000\",\"2023-01-10T00:00:00.000000000\",\"2023-01-11T00:00:00.000000000\",\"2023-01-12T00:00:00.000000000\",\"2023-01-13T00:00:00.000000000\",\"2023-01-17T00:00:00.000000000\",\"2023-01-18T00:00:00.000000000\",\"2023-01-19T00:00:00.000000000\",\"2023-01-20T00:00:00.000000000\",\"2023-01-23T00:00:00.000000000\",\"2023-01-24T00:00:00.000000000\",\"2023-01-25T00:00:00.000000000\",\"2023-01-26T00:00:00.000000000\",\"2023-01-27T00:00:00.000000000\",\"2023-01-30T00:00:00.000000000\"],\"y\":[0.0,0.0,0.0,0.0,0.0,0.0,0.0,0.0,0.0,0.0,0.0,0.0,0.0,0.0,0.0,0.0,0.0,0.0,0.0,0.11663776866170443],\"type\":\"scatter\",\"xaxis\":\"x2\",\"yaxis\":\"y2\"},{\"boxmean\":true,\"line\":{\"color\":\"gray\"},\"marker\":{\"color\":\"gray\"},\"name\":\"2023\",\"x\":[0.0,0.0,0.0,0.0,0.0,0.0,0.0,0.0,0.0,0.22493219264999964,0.0,0.0,0.060981922467395755,0.24418066845834185,0.0,0.10727077567270693,0.15961596233732656,0.0,0.1174429397269976,-0.11663776866170428],\"type\":\"box\",\"xaxis\":\"x3\",\"yaxis\":\"y3\",\"boxpoints\":\"all\",\"jitter\":0.1},{\"boxmean\":true,\"line\":{\"color\":\"blue\"},\"marker\":{\"color\":\"blue\"},\"name\":\"All\",\"x\":[0.0,0.0,0.0,0.0,0.0,0.0,0.0,0.0,0.0,0.22493219264999964,0.0,0.0,0.060981922467395755,0.24418066845834185,0.0,0.10727077567270693,0.15961596233732656,0.0,0.1174429397269976,-0.11663776866170428],\"type\":\"box\",\"xaxis\":\"x3\",\"yaxis\":\"y3\",\"boxpoints\":\"all\",\"jitter\":0.1}],                        {\"template\":{\"data\":{\"histogram2dcontour\":[{\"type\":\"histogram2dcontour\",\"colorbar\":{\"outlinewidth\":0,\"ticks\":\"\"},\"colorscale\":[[0.0,\"#0d0887\"],[0.1111111111111111,\"#46039f\"],[0.2222222222222222,\"#7201a8\"],[0.3333333333333333,\"#9c179e\"],[0.4444444444444444,\"#bd3786\"],[0.5555555555555556,\"#d8576b\"],[0.6666666666666666,\"#ed7953\"],[0.7777777777777778,\"#fb9f3a\"],[0.8888888888888888,\"#fdca26\"],[1.0,\"#f0f921\"]]}],\"choropleth\":[{\"type\":\"choropleth\",\"colorbar\":{\"outlinewidth\":0,\"ticks\":\"\"}}],\"histogram2d\":[{\"type\":\"histogram2d\",\"colorbar\":{\"outlinewidth\":0,\"ticks\":\"\"},\"colorscale\":[[0.0,\"#0d0887\"],[0.1111111111111111,\"#46039f\"],[0.2222222222222222,\"#7201a8\"],[0.3333333333333333,\"#9c179e\"],[0.4444444444444444,\"#bd3786\"],[0.5555555555555556,\"#d8576b\"],[0.6666666666666666,\"#ed7953\"],[0.7777777777777778,\"#fb9f3a\"],[0.8888888888888888,\"#fdca26\"],[1.0,\"#f0f921\"]]}],\"heatmap\":[{\"type\":\"heatmap\",\"colorbar\":{\"outlinewidth\":0,\"ticks\":\"\"},\"colorscale\":[[0.0,\"#0d0887\"],[0.1111111111111111,\"#46039f\"],[0.2222222222222222,\"#7201a8\"],[0.3333333333333333,\"#9c179e\"],[0.4444444444444444,\"#bd3786\"],[0.5555555555555556,\"#d8576b\"],[0.6666666666666666,\"#ed7953\"],[0.7777777777777778,\"#fb9f3a\"],[0.8888888888888888,\"#fdca26\"],[1.0,\"#f0f921\"]]}],\"heatmapgl\":[{\"type\":\"heatmapgl\",\"colorbar\":{\"outlinewidth\":0,\"ticks\":\"\"},\"colorscale\":[[0.0,\"#0d0887\"],[0.1111111111111111,\"#46039f\"],[0.2222222222222222,\"#7201a8\"],[0.3333333333333333,\"#9c179e\"],[0.4444444444444444,\"#bd3786\"],[0.5555555555555556,\"#d8576b\"],[0.6666666666666666,\"#ed7953\"],[0.7777777777777778,\"#fb9f3a\"],[0.8888888888888888,\"#fdca26\"],[1.0,\"#f0f921\"]]}],\"contourcarpet\":[{\"type\":\"contourcarpet\",\"colorbar\":{\"outlinewidth\":0,\"ticks\":\"\"}}],\"contour\":[{\"type\":\"contour\",\"colorbar\":{\"outlinewidth\":0,\"ticks\":\"\"},\"colorscale\":[[0.0,\"#0d0887\"],[0.1111111111111111,\"#46039f\"],[0.2222222222222222,\"#7201a8\"],[0.3333333333333333,\"#9c179e\"],[0.4444444444444444,\"#bd3786\"],[0.5555555555555556,\"#d8576b\"],[0.6666666666666666,\"#ed7953\"],[0.7777777777777778,\"#fb9f3a\"],[0.8888888888888888,\"#fdca26\"],[1.0,\"#f0f921\"]]}],\"surface\":[{\"type\":\"surface\",\"colorbar\":{\"outlinewidth\":0,\"ticks\":\"\"},\"colorscale\":[[0.0,\"#0d0887\"],[0.1111111111111111,\"#46039f\"],[0.2222222222222222,\"#7201a8\"],[0.3333333333333333,\"#9c179e\"],[0.4444444444444444,\"#bd3786\"],[0.5555555555555556,\"#d8576b\"],[0.6666666666666666,\"#ed7953\"],[0.7777777777777778,\"#fb9f3a\"],[0.8888888888888888,\"#fdca26\"],[1.0,\"#f0f921\"]]}],\"mesh3d\":[{\"type\":\"mesh3d\",\"colorbar\":{\"outlinewidth\":0,\"ticks\":\"\"}}],\"scatter\":[{\"fillpattern\":{\"fillmode\":\"overlay\",\"size\":10,\"solidity\":0.2},\"type\":\"scatter\"}],\"parcoords\":[{\"type\":\"parcoords\",\"line\":{\"colorbar\":{\"outlinewidth\":0,\"ticks\":\"\"}}}],\"scatterpolargl\":[{\"type\":\"scatterpolargl\",\"marker\":{\"colorbar\":{\"outlinewidth\":0,\"ticks\":\"\"}}}],\"bar\":[{\"error_x\":{\"color\":\"#2a3f5f\"},\"error_y\":{\"color\":\"#2a3f5f\"},\"marker\":{\"line\":{\"color\":\"#E5ECF6\",\"width\":0.5},\"pattern\":{\"fillmode\":\"overlay\",\"size\":10,\"solidity\":0.2}},\"type\":\"bar\"}],\"scattergeo\":[{\"type\":\"scattergeo\",\"marker\":{\"colorbar\":{\"outlinewidth\":0,\"ticks\":\"\"}}}],\"scatterpolar\":[{\"type\":\"scatterpolar\",\"marker\":{\"colorbar\":{\"outlinewidth\":0,\"ticks\":\"\"}}}],\"histogram\":[{\"marker\":{\"pattern\":{\"fillmode\":\"overlay\",\"size\":10,\"solidity\":0.2}},\"type\":\"histogram\"}],\"scattergl\":[{\"type\":\"scattergl\",\"marker\":{\"colorbar\":{\"outlinewidth\":0,\"ticks\":\"\"}}}],\"scatter3d\":[{\"type\":\"scatter3d\",\"line\":{\"colorbar\":{\"outlinewidth\":0,\"ticks\":\"\"}},\"marker\":{\"colorbar\":{\"outlinewidth\":0,\"ticks\":\"\"}}}],\"scattermapbox\":[{\"type\":\"scattermapbox\",\"marker\":{\"colorbar\":{\"outlinewidth\":0,\"ticks\":\"\"}}}],\"scatterternary\":[{\"type\":\"scatterternary\",\"marker\":{\"colorbar\":{\"outlinewidth\":0,\"ticks\":\"\"}}}],\"scattercarpet\":[{\"type\":\"scattercarpet\",\"marker\":{\"colorbar\":{\"outlinewidth\":0,\"ticks\":\"\"}}}],\"carpet\":[{\"aaxis\":{\"endlinecolor\":\"#2a3f5f\",\"gridcolor\":\"white\",\"linecolor\":\"white\",\"minorgridcolor\":\"white\",\"startlinecolor\":\"#2a3f5f\"},\"baxis\":{\"endlinecolor\":\"#2a3f5f\",\"gridcolor\":\"white\",\"linecolor\":\"white\",\"minorgridcolor\":\"white\",\"startlinecolor\":\"#2a3f5f\"},\"type\":\"carpet\"}],\"table\":[{\"cells\":{\"fill\":{\"color\":\"#EBF0F8\"},\"line\":{\"color\":\"white\"}},\"header\":{\"fill\":{\"color\":\"#C8D4E3\"},\"line\":{\"color\":\"white\"}},\"type\":\"table\"}],\"barpolar\":[{\"marker\":{\"line\":{\"color\":\"#E5ECF6\",\"width\":0.5},\"pattern\":{\"fillmode\":\"overlay\",\"size\":10,\"solidity\":0.2}},\"type\":\"barpolar\"}],\"pie\":[{\"automargin\":true,\"type\":\"pie\"}]},\"layout\":{\"autotypenumbers\":\"strict\",\"colorway\":[\"#636efa\",\"#EF553B\",\"#00cc96\",\"#ab63fa\",\"#FFA15A\",\"#19d3f3\",\"#FF6692\",\"#B6E880\",\"#FF97FF\",\"#FECB52\"],\"font\":{\"color\":\"#2a3f5f\"},\"hovermode\":\"closest\",\"hoverlabel\":{\"align\":\"left\"},\"paper_bgcolor\":\"white\",\"plot_bgcolor\":\"#E5ECF6\",\"polar\":{\"bgcolor\":\"#E5ECF6\",\"angularaxis\":{\"gridcolor\":\"white\",\"linecolor\":\"white\",\"ticks\":\"\"},\"radialaxis\":{\"gridcolor\":\"white\",\"linecolor\":\"white\",\"ticks\":\"\"}},\"ternary\":{\"bgcolor\":\"#E5ECF6\",\"aaxis\":{\"gridcolor\":\"white\",\"linecolor\":\"white\",\"ticks\":\"\"},\"baxis\":{\"gridcolor\":\"white\",\"linecolor\":\"white\",\"ticks\":\"\"},\"caxis\":{\"gridcolor\":\"white\",\"linecolor\":\"white\",\"ticks\":\"\"}},\"coloraxis\":{\"colorbar\":{\"outlinewidth\":0,\"ticks\":\"\"}},\"colorscale\":{\"sequential\":[[0.0,\"#0d0887\"],[0.1111111111111111,\"#46039f\"],[0.2222222222222222,\"#7201a8\"],[0.3333333333333333,\"#9c179e\"],[0.4444444444444444,\"#bd3786\"],[0.5555555555555556,\"#d8576b\"],[0.6666666666666666,\"#ed7953\"],[0.7777777777777778,\"#fb9f3a\"],[0.8888888888888888,\"#fdca26\"],[1.0,\"#f0f921\"]],\"sequentialminus\":[[0.0,\"#0d0887\"],[0.1111111111111111,\"#46039f\"],[0.2222222222222222,\"#7201a8\"],[0.3333333333333333,\"#9c179e\"],[0.4444444444444444,\"#bd3786\"],[0.5555555555555556,\"#d8576b\"],[0.6666666666666666,\"#ed7953\"],[0.7777777777777778,\"#fb9f3a\"],[0.8888888888888888,\"#fdca26\"],[1.0,\"#f0f921\"]],\"diverging\":[[0,\"#8e0152\"],[0.1,\"#c51b7d\"],[0.2,\"#de77ae\"],[0.3,\"#f1b6da\"],[0.4,\"#fde0ef\"],[0.5,\"#f7f7f7\"],[0.6,\"#e6f5d0\"],[0.7,\"#b8e186\"],[0.8,\"#7fbc41\"],[0.9,\"#4d9221\"],[1,\"#276419\"]]},\"xaxis\":{\"gridcolor\":\"white\",\"linecolor\":\"white\",\"ticks\":\"\",\"title\":{\"standoff\":15},\"zerolinecolor\":\"white\",\"automargin\":true,\"zerolinewidth\":2},\"yaxis\":{\"gridcolor\":\"white\",\"linecolor\":\"white\",\"ticks\":\"\",\"title\":{\"standoff\":15},\"zerolinecolor\":\"white\",\"automargin\":true,\"zerolinewidth\":2},\"scene\":{\"xaxis\":{\"backgroundcolor\":\"#E5ECF6\",\"gridcolor\":\"white\",\"linecolor\":\"white\",\"showbackground\":true,\"ticks\":\"\",\"zerolinecolor\":\"white\",\"gridwidth\":2},\"yaxis\":{\"backgroundcolor\":\"#E5ECF6\",\"gridcolor\":\"white\",\"linecolor\":\"white\",\"showbackground\":true,\"ticks\":\"\",\"zerolinecolor\":\"white\",\"gridwidth\":2},\"zaxis\":{\"backgroundcolor\":\"#E5ECF6\",\"gridcolor\":\"white\",\"linecolor\":\"white\",\"showbackground\":true,\"ticks\":\"\",\"zerolinecolor\":\"white\",\"gridwidth\":2}},\"shapedefaults\":{\"line\":{\"color\":\"#2a3f5f\"}},\"annotationdefaults\":{\"arrowcolor\":\"#2a3f5f\",\"arrowhead\":0,\"arrowwidth\":1},\"geo\":{\"bgcolor\":\"white\",\"landcolor\":\"#E5ECF6\",\"subunitcolor\":\"white\",\"showland\":true,\"showlakes\":true,\"lakecolor\":\"white\"},\"title\":{\"x\":0.05},\"mapbox\":{\"style\":\"light\"}}},\"xaxis\":{\"anchor\":\"y\",\"domain\":[0.0,1.0]},\"yaxis\":{\"anchor\":\"x\",\"domain\":[0.7333333333333333,1.0],\"title\":{\"text\":\"Equity\"},\"type\":\"log\"},\"xaxis2\":{\"anchor\":\"y2\",\"domain\":[0.0,1.0]},\"yaxis2\":{\"anchor\":\"x2\",\"domain\":[0.36666666666666664,0.6333333333333333],\"title\":{\"text\":\"Drawdown\"}},\"xaxis3\":{\"anchor\":\"y3\",\"domain\":[0.0,1.0]},\"yaxis3\":{\"anchor\":\"x3\",\"domain\":[0.0,0.26666666666666666],\"title\":{\"text\":\"Return\"}},\"title\":{\"text\":\"\"},\"shapes\":[{\"fillcolor\":\"red\",\"line\":{\"width\":0},\"opacity\":0.25,\"type\":\"rect\",\"x0\":\"2023-01-27T00:00:00\",\"x1\":\"2023-01-30T00:00:00\",\"xref\":\"x\",\"y0\":0,\"y1\":1,\"yref\":\"y domain\"},{\"opacity\":0.25,\"type\":\"line\",\"x0\":0,\"x1\":1,\"xref\":\"x domain\",\"y0\":1000000.0,\"y1\":1000000.0,\"yref\":\"y\"},{\"fillcolor\":\"red\",\"line\":{\"width\":0},\"opacity\":0.25,\"type\":\"rect\",\"x0\":\"2023-01-27T00:00:00\",\"x1\":\"2023-01-30T00:00:00\",\"xref\":\"x2\",\"y0\":0,\"y1\":1,\"yref\":\"y2 domain\"}],\"annotations\":[{\"font\":{\"size\":15},\"showarrow\":false,\"text\":\"max dd\",\"x\":\"2023-01-27T00:00:00\",\"xanchor\":\"left\",\"xref\":\"x\",\"y\":1,\"yanchor\":\"top\",\"yref\":\"y domain\"}],\"showlegend\":false,\"height\":1000},                        {\"responsive\": true}                    ).then(function(){\n",
       "                            \n",
       "var gd = document.getElementById('54c9434b-5627-4eb5-bbac-8038a162380c');\n",
       "var x = new MutationObserver(function (mutations, observer) {{\n",
       "        var display = window.getComputedStyle(gd).display;\n",
       "        if (!display || display === 'none') {{\n",
       "            console.log([gd, 'removed!']);\n",
       "            Plotly.purge(gd);\n",
       "            observer.disconnect();\n",
       "        }}\n",
       "}});\n",
       "\n",
       "// Listen for the removal of the full notebook cells\n",
       "var notebookContainer = gd.closest('#notebook-container');\n",
       "if (notebookContainer) {{\n",
       "    x.observe(notebookContainer, {childList: true});\n",
       "}}\n",
       "\n",
       "// Listen for the clearing of the current output cell\n",
       "var outputEl = gd.closest('.output');\n",
       "if (outputEl) {{\n",
       "    x.observe(outputEl, {childList: true});\n",
       "}}\n",
       "\n",
       "                        })                };                });            </script>        </div>"
      ]
     },
     "metadata": {},
     "output_type": "display_data"
    }
   ],
   "source": [
    "# Lets evaluate how the strategy did\n",
    "metrics = strategy.evaluate_returns(plot=pq.has_display())"
   ]
  },
  {
   "cell_type": "code",
   "execution_count": null,
   "id": "ab17930d",
   "metadata": {},
   "outputs": [],
   "source": []
  }
 ],
 "metadata": {
  "kernelspec": {
   "display_name": "Python 3 (ipykernel)",
   "language": "python",
   "name": "python3"
  },
  "language_info": {
   "codemirror_mode": {
    "name": "ipython",
    "version": 3
   },
   "file_extension": ".py",
   "mimetype": "text/x-python",
   "name": "python",
   "nbconvert_exporter": "python",
   "pygments_lexer": "ipython3",
   "version": "3.10.12"
  }
 },
 "nbformat": 4,
 "nbformat_minor": 5
}
