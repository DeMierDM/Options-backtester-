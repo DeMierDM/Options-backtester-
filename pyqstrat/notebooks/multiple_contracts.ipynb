{
 "cells": [
  {
   "cell_type": "markdown",
   "id": "c4d78a44",
   "metadata": {},
   "source": [
    "## Multiple Contracts\n",
    "\n",
    "To demonstrate how we can use multiple contracts, we will create a strategy that looks at overnight price gaps for 3 contracts\n",
    "It chooses the name that has the largest percentage overnight gap and goes long that name. The strategy exits by the end of the day\n",
    "If price moves against us, we use a stop loss to get out. We use 1 minute bars for AAPL, NVDA and IBM"
   ]
  },
  {
   "cell_type": "code",
   "execution_count": 1,
   "id": "ae11c9aa",
   "metadata": {
    "ExecuteTime": {
     "end_time": "2023-10-29T01:09:55.592212Z",
     "start_time": "2023-10-29T01:09:54.832986Z"
    },
    "scrolled": true
   },
   "outputs": [
    {
     "ename": "TypeError",
     "evalue": "FiniteRiskEntryRule.__init__() got an unexpected keyword argument 'stop_price_ind'",
     "output_type": "error",
     "traceback": [
      "\u001b[0;31m---------------------------------------------------------------------------\u001b[0m",
      "\u001b[0;31mTypeError\u001b[0m                                 Traceback (most recent call last)",
      "Cell \u001b[0;32mIn[1], line 115\u001b[0m\n\u001b[1;32m    113\u001b[0m \u001b[38;5;66;03m# This rule allows us to enter trades and get out with a limited loss when a stop is hit.\u001b[39;00m\n\u001b[1;32m    114\u001b[0m entry_contracts \u001b[38;5;241m=\u001b[39m {date: on_ret\u001b[38;5;241m.\u001b[39mname \u001b[38;5;28;01mfor\u001b[39;00m date, on_ret \u001b[38;5;129;01min\u001b[39;00m on_rets\u001b[38;5;241m.\u001b[39mitems()}\n\u001b[0;32m--> 115\u001b[0m entry_rule \u001b[38;5;241m=\u001b[39m \u001b[101mpq\u001b[49m\u001b[38;5;241;101m.\u001b[39;49m\u001b[101mFiniteRiskEntryRule\u001b[49m\u001b[101m(\u001b[49m\n\u001b[1;32m    116\u001b[0m \u001b[101m    \u001b[49m\u001b[101mreason_code\u001b[49m\u001b[38;5;241;101m=\u001b[39;49m\u001b[38;5;124;101m'\u001b[39;49m\u001b[38;5;124;101mOVERNIGHT_RETURN\u001b[39;49m\u001b[38;5;124;101m'\u001b[39;49m\u001b[101m,\u001b[49m\u001b[101m  \u001b[49m\u001b[38;5;66;101;03m# this is useful to know why we entered a trade\u001b[39;49;00m\n\u001b[1;32m    117\u001b[0m \u001b[101m    \u001b[49m\u001b[101mcontract_filter\u001b[49m\u001b[38;5;241;101m=\u001b[39;49m\u001b[101mContractFilter\u001b[49m\u001b[101m(\u001b[49m\u001b[101mentry_contracts\u001b[49m\u001b[101m)\u001b[49m\u001b[101m,\u001b[49m\n\u001b[1;32m    118\u001b[0m \u001b[101m    \u001b[49m\u001b[101mprice_func\u001b[49m\u001b[38;5;241;101m=\u001b[39;49m\u001b[101mprice_function\u001b[49m\u001b[101m,\u001b[49m\u001b[101m \u001b[49m\n\u001b[1;32m    119\u001b[0m \u001b[101m    \u001b[49m\u001b[101mlong\u001b[49m\u001b[38;5;241;101m=\u001b[39;49m\u001b[38;5;28;101;01mTrue\u001b[39;49;00m\u001b[101m,\u001b[49m\u001b[101m  \u001b[49m\u001b[38;5;66;101;03m# whether we enter a long or short position\u001b[39;49;00m\n\u001b[1;32m    120\u001b[0m \u001b[101m    \u001b[49m\u001b[101mpercent_of_equity\u001b[49m\u001b[38;5;241;101m=\u001b[39;49m\u001b[38;5;241;101m0.1\u001b[39;49m\u001b[101m,\u001b[49m\u001b[101m  \u001b[49m\u001b[38;5;66;101;03m# set the position size so that if the stop is hit, we lose no more than this\u001b[39;49;00m\n\u001b[1;32m    121\u001b[0m \u001b[101m    \u001b[49m\u001b[38;5;66;101;03m# stop price is used for position sizing.  Also, we will not enter if the price is already below \u001b[39;49;00m\n\u001b[1;32m    122\u001b[0m \u001b[101m    \u001b[49m\u001b[38;5;66;101;03m# stop price for long trades and vice versa\u001b[39;49;00m\n\u001b[1;32m    123\u001b[0m \u001b[101m    \u001b[49m\u001b[101mstop_price_ind\u001b[49m\u001b[38;5;241;101m=\u001b[39;49m\u001b[38;5;124;101m'\u001b[39;49m\u001b[38;5;124;101mstop_price\u001b[39;49m\u001b[38;5;124;101m'\u001b[39;49m\u001b[101m,\u001b[49m\n\u001b[1;32m    124\u001b[0m \u001b[101m    \u001b[49m\u001b[101msingle_entry_per_day\u001b[49m\u001b[38;5;241;101m=\u001b[39;49m\u001b[38;5;28;101;01mTrue\u001b[39;49;00m\u001b[101m)\u001b[49m  \u001b[38;5;66;03m# if we are stopped out, do we allow re-entry later in the day\u001b[39;00m\n\u001b[1;32m    126\u001b[0m \u001b[38;5;66;03m# ClosePositionExitRule fully exits a position using either a market or limit order\u001b[39;00m\n\u001b[1;32m    127\u001b[0m \u001b[38;5;66;03m# In this case, we want to exit at EOD so we are flat overnight\u001b[39;00m\n\u001b[1;32m    128\u001b[0m exit_rule_stop \u001b[38;5;241m=\u001b[39m pq\u001b[38;5;241m.\u001b[39mClosePositionExitRule(   \n\u001b[1;32m    129\u001b[0m     reason_code\u001b[38;5;241m=\u001b[39m\u001b[38;5;124m'\u001b[39m\u001b[38;5;124mSTOPPED_OUT\u001b[39m\u001b[38;5;124m'\u001b[39m,\n\u001b[1;32m    130\u001b[0m     price_func\u001b[38;5;241m=\u001b[39mprice_function)\n",
      "\u001b[0;31mTypeError\u001b[0m: FiniteRiskEntryRule.__init__() got an unexpected keyword argument 'stop_price_ind'"
     ]
    }
   ],
   "source": [
    "# %%checkall\n",
    "import pandas as pd\n",
    "import math\n",
    "import pyqstrat as pq\n",
    "import numpy as np\n",
    "from collections import defaultdict\n",
    "from dataclasses import dataclass\n",
    "from types import SimpleNamespace\n",
    "from typing import Sequence\n",
    "from dataclasses import dataclass\n",
    "\n",
    "_logger = pq.get_child_logger(__name__)\n",
    "\n",
    "\n",
    "@dataclass\n",
    "class OvernightReturn:\n",
    "    name: str\n",
    "    on_ret: float  # overnight return\n",
    "    timestamps: np.ndarray\n",
    "    prices: np.ndarray\n",
    "\n",
    "    \n",
    "def create_overnight_returns(contracts: list[str]) -> dict[np.datetime64, OvernightReturn]:\n",
    "    on_rets: dict[np.datetime64, OvernightReturn] = {}\n",
    "    for name in contract_names:\n",
    "        filename = pq.find_in_subdir('.', f'{name}.csv.gz')\n",
    "        prices = pd.read_csv(filename, usecols=['timestamp', 'c'])\n",
    "        prices.timestamp = pd.to_datetime(prices.timestamp)\n",
    "        prices['date'] = prices.timestamp.values.astype('M8[D]')\n",
    "        prices['on_ret'] = np.where(prices.date > prices.date.shift(1), prices.c / prices.c.shift(1) - 1, np.nan)\n",
    "        date_rets = prices[np.isfinite(prices.on_ret) & (prices.on_ret > 0)]\n",
    "        dates = date_rets.date.values.astype('M8[D]')\n",
    "        on_ret = date_rets.on_ret.values\n",
    "        for i, date in enumerate(dates):\n",
    "            if date not in on_rets or on_ret[i] > on_rets[date].on_ret:\n",
    "                date_prices = prices[prices.date == date]\n",
    "                on_rets[date] = OvernightReturn(name, on_ret[i], date_prices.timestamp.values.astype('M8[m]'), date_prices.c.values)\n",
    "    return on_rets\n",
    "\n",
    "\n",
    "def create_price_dataframe(on_rets: dict[np.datetime64, OvernightReturn]) -> pd.DataFrame:\n",
    "    dfs: list[pd.DataFrame] = []\n",
    "    for date, on_ret in on_rets.items():\n",
    "        df = pd.DataFrame({'timestamp': on_ret.timestamps, 'price': on_ret.prices})\n",
    "        df['date'] = df.timestamp.values.astype('M8[D]')\n",
    "        df['contract'] = on_ret.name\n",
    "        df['stop_price'] = df.groupby('date').price.first()\n",
    "        dfs.append(df)\n",
    "    prices = pd.concat(dfs)\n",
    "    prices = prices[['timestamp', 'contract', 'date', 'price']]  # re-order columns\n",
    "    prices = prices.sort_values(by=['timestamp'])\n",
    "    return prices\n",
    "\n",
    "\n",
    "def add_signals(prices: pd.DataFrame) -> pd.DataFrame:\n",
    "    first = prices.sort_values(by=['timestamp']).drop_duplicates(subset=['contract', 'date'])\n",
    "    first['enter'] = True\n",
    "    first['stop_ret'] = -0.01\n",
    "    first = first[['timestamp', 'contract', 'stop_ret', 'enter']]\n",
    "    \n",
    "    prices = pd.merge(prices, first, on=['timestamp', 'contract'], how='left')\n",
    "    prices['stop_ret'] = prices.stop_ret.ffill()\n",
    "    prices['stop'] = (prices.price <= prices.stop_price) \n",
    "    prices.enter = prices.enter.fillna(False)\n",
    "    prices['eod'] = np.where(prices.date.shift(-2) > prices.date, True, False)   \n",
    "    return prices\n",
    "\n",
    "\n",
    "def create_price_function(on_rets: dict[np.datetime64, OvernightReturn]) -> pq.PriceFunctionType:\n",
    "    price_dict: dict[str, dict[np.datetime64, float]] = defaultdict(dict)\n",
    "    for on_ret in on_rets.values():\n",
    "        price_dict[on_ret.name].update({on_ret.timestamps[i]: on_ret.prices[i] for i in range(len(on_ret.timestamps))})\n",
    "    price_function = pq.PriceFuncDict(price_dict=price_dict)\n",
    "    return price_function\n",
    "\n",
    "\n",
    "@dataclass\n",
    "class ContractFilter:\n",
    "    '''\n",
    "    For each day we want to trade only one symbol. So don't allow trade entry for all others\n",
    "    '''\n",
    "    def __init__(self, entry_contracts: dict[np.datetime64, list[str]]) -> None:\n",
    "        self.entry_contracts = entry_contracts\n",
    "        \n",
    "    def __call__(self,\n",
    "                 contract_group: pq.ContractGroup,\n",
    "                 i: int,\n",
    "                 timestamps: np.ndarray,\n",
    "                 indicator_values: SimpleNamespace,\n",
    "                 signal_values: np.ndarray,\n",
    "                 account: pq.Account,\n",
    "                 current_orders: Sequence[pq.Order],\n",
    "                 strategy_context: pq.StrategyContextType) -> list[str]:\n",
    "        date = timestamps[i].astype('M8[D]')\n",
    "        return self.entry_contracts[date]\n",
    "\n",
    "\n",
    "if __name__ == '__main__':\n",
    "    contract_names = ['AAPL', 'NVDA', 'IBM']\n",
    "    on_rets: dict[np.datetime64, OvernightReturn] = create_overnight_returns(contract_names)\n",
    "    prices = create_price_dataframe(on_rets)\n",
    "    prices = add_signals(prices)\n",
    "\n",
    "    strat_builder = pq.StrategyBuilder(data=prices)\n",
    "    for contract in contract_names:\n",
    "        strat_builder.add_contract(contract)\n",
    "    # add the stop price so we can refer to it in\n",
    "    strat_builder.add_series_indicator('stop_price', 'stop_price') \n",
    "    price_function = create_price_function(on_rets)\n",
    "    strat_builder.set_price_function(price_function)\n",
    "\n",
    "    # This rule allows us to enter trades and get out with a limited loss when a stop is hit.\n",
    "    entry_contracts = {date: on_ret.name for date, on_ret in on_rets.items()}\n",
    "    entry_rule = pq.FiniteRiskEntryRule(\n",
    "        reason_code='OVERNIGHT_RETURN',  # this is useful to know why we entered a trade\n",
    "        contract_filter=ContractFilter(entry_contracts),\n",
    "        price_func=price_function, \n",
    "        long=True,  # whether we enter a long or short position\n",
    "        percent_of_equity=0.1,  # set the position size so that if the stop is hit, we lose no more than this\n",
    "        # stop price is used for position sizing.  Also, we will not enter if the price is already below \n",
    "        # stop price for long trades and vice versa\n",
    "        stop_price_ind='stop_price',\n",
    "        single_entry_per_day=True)  # if we are stopped out, do we allow re-entry later in the day\n",
    "\n",
    "    # ClosePositionExitRule fully exits a position using either a market or limit order\n",
    "    # In this case, we want to exit at EOD so we are flat overnight\n",
    "    exit_rule_stop = pq.ClosePositionExitRule(   \n",
    "        reason_code='STOPPED_OUT',\n",
    "        price_func=price_function)\n",
    "\n",
    "    # Exit when the stop price is reached\n",
    "    exit_rule_eod = pq.ClosePositionExitRule(\n",
    "        reason_code='EOD',\n",
    "        price_func=price_function)\n",
    "\n",
    "    # Setup the rules we setup above so they are only called when the columns below in our data dataframe are true\n",
    "    strat_builder.add_series_rule('enter', entry_rule, position_filter='zero')\n",
    "    strat_builder.add_series_rule('eod', exit_rule_eod, position_filter='positive')\n",
    "    strat_builder.add_series_rule('stop', exit_rule_stop, position_filter='positive')\n",
    "\n",
    "    # create the strategy and run it\n",
    "    strategy = strat_builder()\n",
    "    strategy.run()\n"
   ]
  },
  {
   "cell_type": "code",
   "execution_count": null,
   "id": "25e018db",
   "metadata": {
    "ExecuteTime": {
     "end_time": "2023-10-29T01:09:55.593230Z",
     "start_time": "2023-10-29T01:09:55.593224Z"
    }
   },
   "outputs": [],
   "source": [
    "# Lets look at the trades\n",
    "strategy.df_trades()"
   ]
  },
  {
   "cell_type": "code",
   "execution_count": null,
   "id": "8f6ecf75",
   "metadata": {
    "ExecuteTime": {
     "end_time": "2023-10-29T01:09:55.593778Z",
     "start_time": "2023-10-29T01:09:55.593772Z"
    }
   },
   "outputs": [],
   "source": [
    "# Evaluate the returns\n",
    "strategy.evaluate_returns(periods_per_year=252, plot=pq.has_display());"
   ]
  },
  {
   "cell_type": "code",
   "execution_count": null,
   "id": "a5cae58b",
   "metadata": {
    "ExecuteTime": {
     "end_time": "2023-10-29T01:09:55.594508Z",
     "start_time": "2023-10-29T01:09:55.594502Z"
    }
   },
   "outputs": [],
   "source": [
    "strategy.df_roundtrip_trades()"
   ]
  }
 ],
 "metadata": {
  "kernelspec": {
   "display_name": "Python 3 (ipykernel)",
   "language": "python",
   "name": "python3"
  },
  "language_info": {
   "codemirror_mode": {
    "name": "ipython",
    "version": 3
   },
   "file_extension": ".py",
   "mimetype": "text/x-python",
   "name": "python",
   "nbconvert_exporter": "python",
   "pygments_lexer": "ipython3",
   "version": "3.10.12"
  }
 },
 "nbformat": 4,
 "nbformat_minor": 5
}
