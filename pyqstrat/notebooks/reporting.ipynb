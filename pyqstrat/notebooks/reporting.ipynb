{
 "cells": [
  {
   "cell_type": "markdown",
   "metadata": {
    "run_control": {
     "frozen": false,
     "read_only": false
    }
   },
   "source": [
    "Please go through the \"building_strategies\" notebook first before you go through this notebook\n"
   ]
  },
  {
   "cell_type": "markdown",
   "metadata": {},
   "source": [
    "## Some Prebuilt Reporting ##\n",
    "\n",
    "Lets first build the strategy described in that notebook, add it to a portfolio and run the portfolio"
   ]
  },
  {
   "cell_type": "code",
   "execution_count": 1,
   "metadata": {
    "ExecuteTime": {
     "end_time": "2023-10-29T17:05:28.487949Z",
     "start_time": "2023-10-29T17:05:27.989859Z"
    },
    "run_control": {
     "frozen": false,
     "read_only": false
    }
   },
   "outputs": [
    {
     "name": "stdout",
     "output_type": "stream",
     "text": [
      "[2023-10-29 12:05:28.465 _sim_market] TRADE: AAPL  2023-01-05 09:32:00 qty: 7901 prc: 126.505   order: AAPL 2023-01-05 09:31:00 qty: 0 POS_OVERNIGHT_RETURN  OrderStatus.FILLED \n",
      "[2023-10-29 12:05:28.465 _sim_market] TRADE: AAPL  2023-01-05 09:34:00 qty: -7901 prc: 125.67   order: AAPL 2023-01-05 09:33:00 qty: 0 STOPPED_OUT  OrderStatus.FILLED \n",
      "[2023-10-29 12:05:28.469 _sim_market] TRADE: AAPL  2023-01-12 09:32:00 qty: 7443 prc: 132.945   order: AAPL 2023-01-12 09:31:00 qty: 0 POS_OVERNIGHT_RETURN  OrderStatus.FILLED \n",
      "[2023-10-29 12:05:28.470 _sim_market] TRADE: AAPL  2023-01-12 09:33:00 qty: -7443 prc: 132.81   order: AAPL 2023-01-12 09:32:00 qty: 0 STOPPED_OUT  OrderStatus.FILLED \n",
      "[2023-10-29 12:05:28.471 _sim_market] TRADE: AAPL  2023-01-13 09:32:00 qty: 7515 prc: 131.77   order: AAPL 2023-01-13 09:31:00 qty: 0 POS_OVERNIGHT_RETURN  OrderStatus.FILLED \n",
      "[2023-10-29 12:05:28.472 _sim_market] TRADE: AAPL  2023-01-13 09:33:00 qty: -7515 prc: 132.031   order: AAPL 2023-01-13 09:32:00 qty: 0 STOPPED_OUT  OrderStatus.FILLED \n",
      "[2023-10-29 12:05:28.472 _sim_market] TRADE: AAPL  2023-01-17 09:32:00 qty: 7371 prc: 134.99   order: AAPL 2023-01-17 09:31:00 qty: 0 POS_OVERNIGHT_RETURN  OrderStatus.FILLED \n",
      "[2023-10-29 12:05:28.473 _sim_market] TRADE: AAPL  2023-01-17 09:39:00 qty: -7371 prc: 134.62   order: AAPL 2023-01-17 09:38:00 qty: 0 STOPPED_OUT  OrderStatus.FILLED \n",
      "[2023-10-29 12:05:28.475 _sim_market] TRADE: AAPL  2023-01-19 09:32:00 qty: 7374 prc: 134.77   order: AAPL 2023-01-19 09:31:00 qty: 0 POS_OVERNIGHT_RETURN  OrderStatus.FILLED \n",
      "[2023-10-29 12:05:28.475 _sim_market] TRADE: AAPL  2023-01-19 09:46:00 qty: -7374 prc: 134.31   order: AAPL 2023-01-19 09:45:00 qty: 0 STOPPED_OUT  OrderStatus.FILLED \n",
      "[2023-10-29 12:05:28.476 _sim_market] TRADE: AAPL  2023-01-20 09:32:00 qty: 7323 prc: 134.575   order: AAPL 2023-01-20 09:31:00 qty: 0 POS_OVERNIGHT_RETURN  OrderStatus.FILLED \n",
      "[2023-10-29 12:05:28.477 _sim_market] TRADE: AAPL  2023-01-20 09:33:00 qty: -7323 prc: 134.46   order: AAPL 2023-01-20 09:32:00 qty: 0 STOPPED_OUT  OrderStatus.FILLED \n",
      "[2023-10-29 12:05:28.478 _sim_market] TRADE: AAPL  2023-01-24 09:32:00 qty: 7019 prc: 141.151   order: AAPL 2023-01-24 09:31:00 qty: 0 POS_OVERNIGHT_RETURN  OrderStatus.FILLED \n",
      "[2023-10-29 12:05:28.479 _sim_market] TRADE: AAPL  2023-01-24 16:00:00 qty: -7019 prc: 142.66   order: AAPL 2023-01-24 15:59:00 qty: 0 EOD  OrderStatus.FILLED \n",
      "[2023-10-29 12:05:28.479 _sim_market] TRADE: AAPL  2023-01-25 09:32:00 qty: 7143 prc: 139.56   order: AAPL 2023-01-25 09:31:00 qty: 0 POS_OVERNIGHT_RETURN  OrderStatus.FILLED \n",
      "[2023-10-29 12:05:28.480 _sim_market] TRADE: AAPL  2023-01-25 10:35:00 qty: -7143 prc: 139.285   order: AAPL 2023-01-25 10:34:00 qty: 0 STOPPED_OUT  OrderStatus.FILLED \n",
      "[2023-10-29 12:05:28.482 _sim_market] TRADE: AAPL  2023-01-27 09:32:00 qty: 6921 prc: 144.24   order: AAPL 2023-01-27 09:31:00 qty: 0 POS_OVERNIGHT_RETURN  OrderStatus.FILLED \n",
      "[2023-10-29 12:05:28.483 _sim_market] TRADE: AAPL  2023-01-27 16:00:00 qty: -6921 prc: 145.93   order: AAPL 2023-01-27 15:59:00 qty: 0 EOD  OrderStatus.FILLED \n",
      "[2023-10-29 12:05:28.484 _sim_market] TRADE: AAPL  2023-01-30 09:32:00 qty: 6934 prc: 145.345   order: AAPL 2023-01-30 09:31:00 qty: 0 POS_OVERNIGHT_RETURN  OrderStatus.FILLED \n",
      "[2023-10-29 12:05:28.484 _sim_market] TRADE: AAPL  2023-01-30 09:34:00 qty: -6934 prc: 144.64   order: AAPL 2023-01-30 09:33:00 qty: 0 STOPPED_OUT  OrderStatus.FILLED \n"
     ]
    }
   ],
   "source": [
    "from types import SimpleNamespace\n",
    "import pandas as pd\n",
    "import numpy as np\n",
    "import pyqstrat as pq\n",
    "from build_example_strategy import build_example_strategy\n",
    "\n",
    "strategy = build_example_strategy()\n",
    "strategy.run()"
   ]
  },
  {
   "cell_type": "markdown",
   "metadata": {},
   "source": [
    "Many objects have functions that return pandas dataframes for ease of use.  Any function that returns a dataframe starts with df_ so its easy to tell which dataframes an object returns.\n",
    "\n",
    "df_data is a useful function. This returns the market data, indicators, signal values and P&L at each market data bar.  The last column, i is the integer index of that bar, and can be used to query data in other dataframes or objects for that strategy.\n",
    "\n",
    "Since we have daily pnl but minute bars a lot of the rows will have nans. So lets get EOD data (equity is not NaN in those rows)"
   ]
  },
  {
   "cell_type": "code",
   "execution_count": 2,
   "metadata": {
    "ExecuteTime": {
     "end_time": "2023-10-29T17:05:28.503295Z",
     "start_time": "2023-10-29T17:05:28.488885Z"
    },
    "run_control": {
     "frozen": false,
     "read_only": false
    }
   },
   "outputs": [
    {
     "data": {
      "text/html": [
       "<div>\n",
       "<style scoped>\n",
       "    .dataframe tbody tr th:only-of-type {\n",
       "        vertical-align: middle;\n",
       "    }\n",
       "\n",
       "    .dataframe tbody tr th {\n",
       "        vertical-align: top;\n",
       "    }\n",
       "\n",
       "    .dataframe thead th {\n",
       "        text-align: right;\n",
       "    }\n",
       "</style>\n",
       "<table border=\"1\" class=\"dataframe\">\n",
       "  <thead>\n",
       "    <tr style=\"text-align: right;\">\n",
       "      <th></th>\n",
       "      <th>timestamp</th>\n",
       "      <th>c</th>\n",
       "      <th>eod_sig</th>\n",
       "      <th>overnight_ret_negative_sig</th>\n",
       "      <th>stop_sig</th>\n",
       "      <th>position</th>\n",
       "      <th>unrealized</th>\n",
       "      <th>realized</th>\n",
       "      <th>commission</th>\n",
       "      <th>fee</th>\n",
       "      <th>net_pnl</th>\n",
       "      <th>equity</th>\n",
       "      <th>i</th>\n",
       "    </tr>\n",
       "  </thead>\n",
       "  <tbody>\n",
       "    <tr>\n",
       "      <th>389</th>\n",
       "      <td>2023-01-03 16:00:00</td>\n",
       "      <td>125.000000</td>\n",
       "      <td>True</td>\n",
       "      <td>False</td>\n",
       "      <td>False</td>\n",
       "      <td>0.0</td>\n",
       "      <td>0.0</td>\n",
       "      <td>0.000</td>\n",
       "      <td>0.0</td>\n",
       "      <td>0.0</td>\n",
       "      <td>0.000</td>\n",
       "      <td>1000000.000</td>\n",
       "      <td>389</td>\n",
       "    </tr>\n",
       "    <tr>\n",
       "      <th>779</th>\n",
       "      <td>2023-01-04 16:00:00</td>\n",
       "      <td>126.360000</td>\n",
       "      <td>True</td>\n",
       "      <td>False</td>\n",
       "      <td>False</td>\n",
       "      <td>0.0</td>\n",
       "      <td>0.0</td>\n",
       "      <td>0.000</td>\n",
       "      <td>0.0</td>\n",
       "      <td>0.0</td>\n",
       "      <td>0.000</td>\n",
       "      <td>1000000.000</td>\n",
       "      <td>779</td>\n",
       "    </tr>\n",
       "    <tr>\n",
       "      <th>1169</th>\n",
       "      <td>2023-01-05 16:00:00</td>\n",
       "      <td>125.120094</td>\n",
       "      <td>True</td>\n",
       "      <td>False</td>\n",
       "      <td>True</td>\n",
       "      <td>0.0</td>\n",
       "      <td>0.0</td>\n",
       "      <td>-6597.335</td>\n",
       "      <td>0.0</td>\n",
       "      <td>0.0</td>\n",
       "      <td>-6597.335</td>\n",
       "      <td>993402.665</td>\n",
       "      <td>1169</td>\n",
       "    </tr>\n",
       "    <tr>\n",
       "      <th>1559</th>\n",
       "      <td>2023-01-06 16:00:00</td>\n",
       "      <td>129.459990</td>\n",
       "      <td>True</td>\n",
       "      <td>False</td>\n",
       "      <td>False</td>\n",
       "      <td>0.0</td>\n",
       "      <td>0.0</td>\n",
       "      <td>-6597.335</td>\n",
       "      <td>0.0</td>\n",
       "      <td>0.0</td>\n",
       "      <td>-6597.335</td>\n",
       "      <td>993402.665</td>\n",
       "      <td>1559</td>\n",
       "    </tr>\n",
       "    <tr>\n",
       "      <th>1949</th>\n",
       "      <td>2023-01-09 16:00:00</td>\n",
       "      <td>130.140000</td>\n",
       "      <td>True</td>\n",
       "      <td>False</td>\n",
       "      <td>True</td>\n",
       "      <td>0.0</td>\n",
       "      <td>0.0</td>\n",
       "      <td>-6597.335</td>\n",
       "      <td>0.0</td>\n",
       "      <td>0.0</td>\n",
       "      <td>-6597.335</td>\n",
       "      <td>993402.665</td>\n",
       "      <td>1949</td>\n",
       "    </tr>\n",
       "  </tbody>\n",
       "</table>\n",
       "</div>"
      ],
      "text/plain": [
       "               timestamp           c  eod_sig  overnight_ret_negative_sig  \\\n",
       "389  2023-01-03 16:00:00  125.000000     True                       False   \n",
       "779  2023-01-04 16:00:00  126.360000     True                       False   \n",
       "1169 2023-01-05 16:00:00  125.120094     True                       False   \n",
       "1559 2023-01-06 16:00:00  129.459990     True                       False   \n",
       "1949 2023-01-09 16:00:00  130.140000     True                       False   \n",
       "\n",
       "      stop_sig  position  unrealized  realized  commission  fee   net_pnl  \\\n",
       "389      False       0.0         0.0     0.000         0.0  0.0     0.000   \n",
       "779      False       0.0         0.0     0.000         0.0  0.0     0.000   \n",
       "1169      True       0.0         0.0 -6597.335         0.0  0.0 -6597.335   \n",
       "1559     False       0.0         0.0 -6597.335         0.0  0.0 -6597.335   \n",
       "1949      True       0.0         0.0 -6597.335         0.0  0.0 -6597.335   \n",
       "\n",
       "           equity     i  \n",
       "389   1000000.000   389  \n",
       "779   1000000.000   779  \n",
       "1169   993402.665  1169  \n",
       "1559   993402.665  1559  \n",
       "1949   993402.665  1949  "
      ]
     },
     "execution_count": 2,
     "metadata": {},
     "output_type": "execute_result"
    }
   ],
   "source": [
    "df_data = strategy.df_data()\n",
    "df_data[np.isfinite(df_data.equity)].head()"
   ]
  },
  {
   "cell_type": "markdown",
   "metadata": {},
   "source": [
    "You can also look at just the PNL or just the marketdata by themselves."
   ]
  },
  {
   "cell_type": "code",
   "execution_count": 3,
   "metadata": {
    "ExecuteTime": {
     "end_time": "2023-10-29T17:05:28.512236Z",
     "start_time": "2023-10-29T17:05:28.505581Z"
    },
    "run_control": {
     "frozen": false,
     "read_only": false
    }
   },
   "outputs": [
    {
     "data": {
      "text/html": [
       "<div>\n",
       "<style scoped>\n",
       "    .dataframe tbody tr th:only-of-type {\n",
       "        vertical-align: middle;\n",
       "    }\n",
       "\n",
       "    .dataframe tbody tr th {\n",
       "        vertical-align: top;\n",
       "    }\n",
       "\n",
       "    .dataframe thead th {\n",
       "        text-align: right;\n",
       "    }\n",
       "</style>\n",
       "<table border=\"1\" class=\"dataframe\">\n",
       "  <thead>\n",
       "    <tr style=\"text-align: right;\">\n",
       "      <th></th>\n",
       "      <th>timestamp</th>\n",
       "      <th>position</th>\n",
       "      <th>unrealized</th>\n",
       "      <th>realized</th>\n",
       "      <th>commission</th>\n",
       "      <th>fee</th>\n",
       "      <th>net_pnl</th>\n",
       "      <th>equity</th>\n",
       "    </tr>\n",
       "  </thead>\n",
       "  <tbody>\n",
       "    <tr>\n",
       "      <th>15</th>\n",
       "      <td>2023-01-24 16:00:00</td>\n",
       "      <td>0.0</td>\n",
       "      <td>0.0</td>\n",
       "      <td>-2010.509</td>\n",
       "      <td>0.0</td>\n",
       "      <td>0.0</td>\n",
       "      <td>-2010.509</td>\n",
       "      <td>997989.491</td>\n",
       "    </tr>\n",
       "    <tr>\n",
       "      <th>16</th>\n",
       "      <td>2023-01-25 16:00:00</td>\n",
       "      <td>0.0</td>\n",
       "      <td>0.0</td>\n",
       "      <td>-3974.834</td>\n",
       "      <td>0.0</td>\n",
       "      <td>0.0</td>\n",
       "      <td>-3974.834</td>\n",
       "      <td>996025.166</td>\n",
       "    </tr>\n",
       "    <tr>\n",
       "      <th>17</th>\n",
       "      <td>2023-01-26 16:00:00</td>\n",
       "      <td>0.0</td>\n",
       "      <td>0.0</td>\n",
       "      <td>-3974.834</td>\n",
       "      <td>0.0</td>\n",
       "      <td>0.0</td>\n",
       "      <td>-3974.834</td>\n",
       "      <td>996025.166</td>\n",
       "    </tr>\n",
       "    <tr>\n",
       "      <th>18</th>\n",
       "      <td>2023-01-27 16:00:00</td>\n",
       "      <td>0.0</td>\n",
       "      <td>0.0</td>\n",
       "      <td>7721.656</td>\n",
       "      <td>0.0</td>\n",
       "      <td>0.0</td>\n",
       "      <td>7721.656</td>\n",
       "      <td>1007721.656</td>\n",
       "    </tr>\n",
       "    <tr>\n",
       "      <th>19</th>\n",
       "      <td>2023-01-30 16:00:00</td>\n",
       "      <td>0.0</td>\n",
       "      <td>0.0</td>\n",
       "      <td>2833.186</td>\n",
       "      <td>0.0</td>\n",
       "      <td>0.0</td>\n",
       "      <td>2833.186</td>\n",
       "      <td>1002833.186</td>\n",
       "    </tr>\n",
       "  </tbody>\n",
       "</table>\n",
       "</div>"
      ],
      "text/plain": [
       "             timestamp  position  unrealized  realized  commission  fee  \\\n",
       "15 2023-01-24 16:00:00       0.0         0.0 -2010.509         0.0  0.0   \n",
       "16 2023-01-25 16:00:00       0.0         0.0 -3974.834         0.0  0.0   \n",
       "17 2023-01-26 16:00:00       0.0         0.0 -3974.834         0.0  0.0   \n",
       "18 2023-01-27 16:00:00       0.0         0.0  7721.656         0.0  0.0   \n",
       "19 2023-01-30 16:00:00       0.0         0.0  2833.186         0.0  0.0   \n",
       "\n",
       "     net_pnl       equity  \n",
       "15 -2010.509   997989.491  \n",
       "16 -3974.834   996025.166  \n",
       "17 -3974.834   996025.166  \n",
       "18  7721.656  1007721.656  \n",
       "19  2833.186  1002833.186  "
      ]
     },
     "execution_count": 3,
     "metadata": {},
     "output_type": "execute_result"
    }
   ],
   "source": [
    "strategy.df_pnl().tail()"
   ]
  },
  {
   "cell_type": "markdown",
   "metadata": {},
   "source": [
    "We can look at orders and trades that were created during this run"
   ]
  },
  {
   "cell_type": "code",
   "execution_count": 4,
   "metadata": {
    "ExecuteTime": {
     "end_time": "2023-10-29T17:05:28.517544Z",
     "start_time": "2023-10-29T17:05:28.513220Z"
    },
    "run_control": {
     "frozen": false,
     "read_only": false
    }
   },
   "outputs": [
    {
     "data": {
      "text/html": [
       "<div>\n",
       "<style scoped>\n",
       "    .dataframe tbody tr th:only-of-type {\n",
       "        vertical-align: middle;\n",
       "    }\n",
       "\n",
       "    .dataframe tbody tr th {\n",
       "        vertical-align: top;\n",
       "    }\n",
       "\n",
       "    .dataframe thead th {\n",
       "        text-align: right;\n",
       "    }\n",
       "</style>\n",
       "<table border=\"1\" class=\"dataframe\">\n",
       "  <thead>\n",
       "    <tr style=\"text-align: right;\">\n",
       "      <th></th>\n",
       "      <th>symbol</th>\n",
       "      <th>type</th>\n",
       "      <th>timestamp</th>\n",
       "      <th>qty</th>\n",
       "      <th>reason_code</th>\n",
       "      <th>order_props</th>\n",
       "      <th>contract_props</th>\n",
       "    </tr>\n",
       "  </thead>\n",
       "  <tbody>\n",
       "    <tr>\n",
       "      <th>0</th>\n",
       "      <td>AAPL</td>\n",
       "      <td>MarketOrder</td>\n",
       "      <td>2023-01-05 09:31:00</td>\n",
       "      <td>0</td>\n",
       "      <td>POS_OVERNIGHT_RETURN</td>\n",
       "      <td></td>\n",
       "      <td></td>\n",
       "    </tr>\n",
       "    <tr>\n",
       "      <th>1</th>\n",
       "      <td>AAPL</td>\n",
       "      <td>MarketOrder</td>\n",
       "      <td>2023-01-05 09:33:00</td>\n",
       "      <td>0</td>\n",
       "      <td>STOPPED_OUT</td>\n",
       "      <td></td>\n",
       "      <td></td>\n",
       "    </tr>\n",
       "    <tr>\n",
       "      <th>2</th>\n",
       "      <td>AAPL</td>\n",
       "      <td>MarketOrder</td>\n",
       "      <td>2023-01-12 09:31:00</td>\n",
       "      <td>0</td>\n",
       "      <td>POS_OVERNIGHT_RETURN</td>\n",
       "      <td></td>\n",
       "      <td></td>\n",
       "    </tr>\n",
       "    <tr>\n",
       "      <th>3</th>\n",
       "      <td>AAPL</td>\n",
       "      <td>MarketOrder</td>\n",
       "      <td>2023-01-12 09:32:00</td>\n",
       "      <td>0</td>\n",
       "      <td>STOPPED_OUT</td>\n",
       "      <td></td>\n",
       "      <td></td>\n",
       "    </tr>\n",
       "    <tr>\n",
       "      <th>4</th>\n",
       "      <td>AAPL</td>\n",
       "      <td>MarketOrder</td>\n",
       "      <td>2023-01-13 09:31:00</td>\n",
       "      <td>0</td>\n",
       "      <td>POS_OVERNIGHT_RETURN</td>\n",
       "      <td></td>\n",
       "      <td></td>\n",
       "    </tr>\n",
       "  </tbody>\n",
       "</table>\n",
       "</div>"
      ],
      "text/plain": [
       "  symbol         type           timestamp  qty           reason_code  \\\n",
       "0   AAPL  MarketOrder 2023-01-05 09:31:00    0  POS_OVERNIGHT_RETURN   \n",
       "1   AAPL  MarketOrder 2023-01-05 09:33:00    0           STOPPED_OUT   \n",
       "2   AAPL  MarketOrder 2023-01-12 09:31:00    0  POS_OVERNIGHT_RETURN   \n",
       "3   AAPL  MarketOrder 2023-01-12 09:32:00    0           STOPPED_OUT   \n",
       "4   AAPL  MarketOrder 2023-01-13 09:31:00    0  POS_OVERNIGHT_RETURN   \n",
       "\n",
       "  order_props contract_props  \n",
       "0                             \n",
       "1                             \n",
       "2                             \n",
       "3                             \n",
       "4                             "
      ]
     },
     "execution_count": 4,
     "metadata": {},
     "output_type": "execute_result"
    }
   ],
   "source": [
    "strategy.df_orders().head()"
   ]
  },
  {
   "cell_type": "code",
   "execution_count": 5,
   "metadata": {
    "ExecuteTime": {
     "end_time": "2023-10-29T17:05:28.525369Z",
     "start_time": "2023-10-29T17:05:28.518429Z"
    },
    "run_control": {
     "frozen": false,
     "read_only": false
    }
   },
   "outputs": [
    {
     "data": {
      "text/html": [
       "<div>\n",
       "<style scoped>\n",
       "    .dataframe tbody tr th:only-of-type {\n",
       "        vertical-align: middle;\n",
       "    }\n",
       "\n",
       "    .dataframe tbody tr th {\n",
       "        vertical-align: top;\n",
       "    }\n",
       "\n",
       "    .dataframe thead th {\n",
       "        text-align: right;\n",
       "    }\n",
       "</style>\n",
       "<table border=\"1\" class=\"dataframe\">\n",
       "  <thead>\n",
       "    <tr style=\"text-align: right;\">\n",
       "      <th></th>\n",
       "      <th>symbol</th>\n",
       "      <th>timestamp</th>\n",
       "      <th>qty</th>\n",
       "      <th>price</th>\n",
       "      <th>fee</th>\n",
       "      <th>commission</th>\n",
       "      <th>order_date</th>\n",
       "      <th>order_qty</th>\n",
       "      <th>reason_code</th>\n",
       "      <th>order_props</th>\n",
       "      <th>contract_props</th>\n",
       "    </tr>\n",
       "  </thead>\n",
       "  <tbody>\n",
       "    <tr>\n",
       "      <th>0</th>\n",
       "      <td>AAPL</td>\n",
       "      <td>2023-01-05 09:32:00</td>\n",
       "      <td>7901</td>\n",
       "      <td>126.505</td>\n",
       "      <td>0</td>\n",
       "      <td>0.0</td>\n",
       "      <td>2023-01-05 09:31:00</td>\n",
       "      <td>0</td>\n",
       "      <td>POS_OVERNIGHT_RETURN</td>\n",
       "      <td></td>\n",
       "      <td></td>\n",
       "    </tr>\n",
       "    <tr>\n",
       "      <th>1</th>\n",
       "      <td>AAPL</td>\n",
       "      <td>2023-01-05 09:34:00</td>\n",
       "      <td>-7901</td>\n",
       "      <td>125.670</td>\n",
       "      <td>0</td>\n",
       "      <td>0.0</td>\n",
       "      <td>2023-01-05 09:33:00</td>\n",
       "      <td>0</td>\n",
       "      <td>STOPPED_OUT</td>\n",
       "      <td></td>\n",
       "      <td></td>\n",
       "    </tr>\n",
       "    <tr>\n",
       "      <th>2</th>\n",
       "      <td>AAPL</td>\n",
       "      <td>2023-01-12 09:32:00</td>\n",
       "      <td>7443</td>\n",
       "      <td>132.945</td>\n",
       "      <td>0</td>\n",
       "      <td>0.0</td>\n",
       "      <td>2023-01-12 09:31:00</td>\n",
       "      <td>0</td>\n",
       "      <td>POS_OVERNIGHT_RETURN</td>\n",
       "      <td></td>\n",
       "      <td></td>\n",
       "    </tr>\n",
       "    <tr>\n",
       "      <th>3</th>\n",
       "      <td>AAPL</td>\n",
       "      <td>2023-01-12 09:33:00</td>\n",
       "      <td>-7443</td>\n",
       "      <td>132.810</td>\n",
       "      <td>0</td>\n",
       "      <td>0.0</td>\n",
       "      <td>2023-01-12 09:32:00</td>\n",
       "      <td>0</td>\n",
       "      <td>STOPPED_OUT</td>\n",
       "      <td></td>\n",
       "      <td></td>\n",
       "    </tr>\n",
       "    <tr>\n",
       "      <th>4</th>\n",
       "      <td>AAPL</td>\n",
       "      <td>2023-01-13 09:32:00</td>\n",
       "      <td>7515</td>\n",
       "      <td>131.770</td>\n",
       "      <td>0</td>\n",
       "      <td>0.0</td>\n",
       "      <td>2023-01-13 09:31:00</td>\n",
       "      <td>0</td>\n",
       "      <td>POS_OVERNIGHT_RETURN</td>\n",
       "      <td></td>\n",
       "      <td></td>\n",
       "    </tr>\n",
       "  </tbody>\n",
       "</table>\n",
       "</div>"
      ],
      "text/plain": [
       "  symbol           timestamp   qty    price  fee  commission  \\\n",
       "0   AAPL 2023-01-05 09:32:00  7901  126.505    0         0.0   \n",
       "1   AAPL 2023-01-05 09:34:00 -7901  125.670    0         0.0   \n",
       "2   AAPL 2023-01-12 09:32:00  7443  132.945    0         0.0   \n",
       "3   AAPL 2023-01-12 09:33:00 -7443  132.810    0         0.0   \n",
       "4   AAPL 2023-01-13 09:32:00  7515  131.770    0         0.0   \n",
       "\n",
       "           order_date  order_qty           reason_code order_props  \\\n",
       "0 2023-01-05 09:31:00          0  POS_OVERNIGHT_RETURN               \n",
       "1 2023-01-05 09:33:00          0           STOPPED_OUT               \n",
       "2 2023-01-12 09:31:00          0  POS_OVERNIGHT_RETURN               \n",
       "3 2023-01-12 09:32:00          0           STOPPED_OUT               \n",
       "4 2023-01-13 09:31:00          0  POS_OVERNIGHT_RETURN               \n",
       "\n",
       "  contract_props  \n",
       "0                 \n",
       "1                 \n",
       "2                 \n",
       "3                 \n",
       "4                 "
      ]
     },
     "execution_count": 5,
     "metadata": {},
     "output_type": "execute_result"
    }
   ],
   "source": [
    "strategy.df_trades().head()"
   ]
  },
  {
   "cell_type": "code",
   "execution_count": 6,
   "metadata": {
    "ExecuteTime": {
     "end_time": "2023-10-29T17:05:28.535646Z",
     "start_time": "2023-10-29T17:05:28.526485Z"
    }
   },
   "outputs": [
    {
     "data": {
      "text/html": [
       "<div>\n",
       "<style scoped>\n",
       "    .dataframe tbody tr th:only-of-type {\n",
       "        vertical-align: middle;\n",
       "    }\n",
       "\n",
       "    .dataframe tbody tr th {\n",
       "        vertical-align: top;\n",
       "    }\n",
       "\n",
       "    .dataframe thead th {\n",
       "        text-align: right;\n",
       "    }\n",
       "</style>\n",
       "<table border=\"1\" class=\"dataframe\">\n",
       "  <thead>\n",
       "    <tr style=\"text-align: right;\">\n",
       "      <th></th>\n",
       "      <th>symbol</th>\n",
       "      <th>multiplier</th>\n",
       "      <th>entry_timestamp</th>\n",
       "      <th>exit_timestamp</th>\n",
       "      <th>qty</th>\n",
       "      <th>entry_price</th>\n",
       "      <th>exit_price</th>\n",
       "      <th>entry_reason</th>\n",
       "      <th>exit_reason</th>\n",
       "      <th>entry_commission</th>\n",
       "      <th>exit_commission</th>\n",
       "      <th>net_pnl</th>\n",
       "    </tr>\n",
       "  </thead>\n",
       "  <tbody>\n",
       "    <tr>\n",
       "      <th>0</th>\n",
       "      <td>AAPL</td>\n",
       "      <td>1.0</td>\n",
       "      <td>2023-01-05 09:32:00</td>\n",
       "      <td>2023-01-05 09:34:00</td>\n",
       "      <td>7901</td>\n",
       "      <td>126.505</td>\n",
       "      <td>125.670</td>\n",
       "      <td>POS_OVERNIGHT_RETURN</td>\n",
       "      <td>STOPPED_OUT</td>\n",
       "      <td>0.0</td>\n",
       "      <td>0.0</td>\n",
       "      <td>-6597.335</td>\n",
       "    </tr>\n",
       "    <tr>\n",
       "      <th>1</th>\n",
       "      <td>AAPL</td>\n",
       "      <td>1.0</td>\n",
       "      <td>2023-01-12 09:32:00</td>\n",
       "      <td>2023-01-12 09:33:00</td>\n",
       "      <td>7443</td>\n",
       "      <td>132.945</td>\n",
       "      <td>132.810</td>\n",
       "      <td>POS_OVERNIGHT_RETURN</td>\n",
       "      <td>STOPPED_OUT</td>\n",
       "      <td>0.0</td>\n",
       "      <td>0.0</td>\n",
       "      <td>-1004.805</td>\n",
       "    </tr>\n",
       "    <tr>\n",
       "      <th>2</th>\n",
       "      <td>AAPL</td>\n",
       "      <td>1.0</td>\n",
       "      <td>2023-01-13 09:32:00</td>\n",
       "      <td>2023-01-13 09:33:00</td>\n",
       "      <td>7515</td>\n",
       "      <td>131.770</td>\n",
       "      <td>132.031</td>\n",
       "      <td>POS_OVERNIGHT_RETURN</td>\n",
       "      <td>STOPPED_OUT</td>\n",
       "      <td>0.0</td>\n",
       "      <td>0.0</td>\n",
       "      <td>1961.415</td>\n",
       "    </tr>\n",
       "    <tr>\n",
       "      <th>3</th>\n",
       "      <td>AAPL</td>\n",
       "      <td>1.0</td>\n",
       "      <td>2023-01-17 09:32:00</td>\n",
       "      <td>2023-01-17 09:39:00</td>\n",
       "      <td>7371</td>\n",
       "      <td>134.990</td>\n",
       "      <td>134.620</td>\n",
       "      <td>POS_OVERNIGHT_RETURN</td>\n",
       "      <td>STOPPED_OUT</td>\n",
       "      <td>0.0</td>\n",
       "      <td>0.0</td>\n",
       "      <td>-2727.270</td>\n",
       "    </tr>\n",
       "    <tr>\n",
       "      <th>4</th>\n",
       "      <td>AAPL</td>\n",
       "      <td>1.0</td>\n",
       "      <td>2023-01-19 09:32:00</td>\n",
       "      <td>2023-01-19 09:46:00</td>\n",
       "      <td>7374</td>\n",
       "      <td>134.770</td>\n",
       "      <td>134.310</td>\n",
       "      <td>POS_OVERNIGHT_RETURN</td>\n",
       "      <td>STOPPED_OUT</td>\n",
       "      <td>0.0</td>\n",
       "      <td>0.0</td>\n",
       "      <td>-3392.040</td>\n",
       "    </tr>\n",
       "    <tr>\n",
       "      <th>5</th>\n",
       "      <td>AAPL</td>\n",
       "      <td>1.0</td>\n",
       "      <td>2023-01-20 09:32:00</td>\n",
       "      <td>2023-01-20 09:33:00</td>\n",
       "      <td>7323</td>\n",
       "      <td>134.575</td>\n",
       "      <td>134.460</td>\n",
       "      <td>POS_OVERNIGHT_RETURN</td>\n",
       "      <td>STOPPED_OUT</td>\n",
       "      <td>0.0</td>\n",
       "      <td>0.0</td>\n",
       "      <td>-842.145</td>\n",
       "    </tr>\n",
       "    <tr>\n",
       "      <th>6</th>\n",
       "      <td>AAPL</td>\n",
       "      <td>1.0</td>\n",
       "      <td>2023-01-24 09:32:00</td>\n",
       "      <td>2023-01-24 16:00:00</td>\n",
       "      <td>7019</td>\n",
       "      <td>141.151</td>\n",
       "      <td>142.660</td>\n",
       "      <td>POS_OVERNIGHT_RETURN</td>\n",
       "      <td>EOD</td>\n",
       "      <td>0.0</td>\n",
       "      <td>0.0</td>\n",
       "      <td>10591.671</td>\n",
       "    </tr>\n",
       "    <tr>\n",
       "      <th>7</th>\n",
       "      <td>AAPL</td>\n",
       "      <td>1.0</td>\n",
       "      <td>2023-01-25 09:32:00</td>\n",
       "      <td>2023-01-25 10:35:00</td>\n",
       "      <td>7143</td>\n",
       "      <td>139.560</td>\n",
       "      <td>139.285</td>\n",
       "      <td>POS_OVERNIGHT_RETURN</td>\n",
       "      <td>STOPPED_OUT</td>\n",
       "      <td>0.0</td>\n",
       "      <td>0.0</td>\n",
       "      <td>-1964.325</td>\n",
       "    </tr>\n",
       "    <tr>\n",
       "      <th>8</th>\n",
       "      <td>AAPL</td>\n",
       "      <td>1.0</td>\n",
       "      <td>2023-01-27 09:32:00</td>\n",
       "      <td>2023-01-27 16:00:00</td>\n",
       "      <td>6921</td>\n",
       "      <td>144.240</td>\n",
       "      <td>145.930</td>\n",
       "      <td>POS_OVERNIGHT_RETURN</td>\n",
       "      <td>EOD</td>\n",
       "      <td>0.0</td>\n",
       "      <td>0.0</td>\n",
       "      <td>11696.490</td>\n",
       "    </tr>\n",
       "    <tr>\n",
       "      <th>9</th>\n",
       "      <td>AAPL</td>\n",
       "      <td>1.0</td>\n",
       "      <td>2023-01-30 09:32:00</td>\n",
       "      <td>2023-01-30 09:34:00</td>\n",
       "      <td>6934</td>\n",
       "      <td>145.345</td>\n",
       "      <td>144.640</td>\n",
       "      <td>POS_OVERNIGHT_RETURN</td>\n",
       "      <td>STOPPED_OUT</td>\n",
       "      <td>0.0</td>\n",
       "      <td>0.0</td>\n",
       "      <td>-4888.470</td>\n",
       "    </tr>\n",
       "  </tbody>\n",
       "</table>\n",
       "</div>"
      ],
      "text/plain": [
       "  symbol  multiplier     entry_timestamp      exit_timestamp   qty  \\\n",
       "0   AAPL         1.0 2023-01-05 09:32:00 2023-01-05 09:34:00  7901   \n",
       "1   AAPL         1.0 2023-01-12 09:32:00 2023-01-12 09:33:00  7443   \n",
       "2   AAPL         1.0 2023-01-13 09:32:00 2023-01-13 09:33:00  7515   \n",
       "3   AAPL         1.0 2023-01-17 09:32:00 2023-01-17 09:39:00  7371   \n",
       "4   AAPL         1.0 2023-01-19 09:32:00 2023-01-19 09:46:00  7374   \n",
       "5   AAPL         1.0 2023-01-20 09:32:00 2023-01-20 09:33:00  7323   \n",
       "6   AAPL         1.0 2023-01-24 09:32:00 2023-01-24 16:00:00  7019   \n",
       "7   AAPL         1.0 2023-01-25 09:32:00 2023-01-25 10:35:00  7143   \n",
       "8   AAPL         1.0 2023-01-27 09:32:00 2023-01-27 16:00:00  6921   \n",
       "9   AAPL         1.0 2023-01-30 09:32:00 2023-01-30 09:34:00  6934   \n",
       "\n",
       "   entry_price  exit_price          entry_reason  exit_reason  \\\n",
       "0      126.505     125.670  POS_OVERNIGHT_RETURN  STOPPED_OUT   \n",
       "1      132.945     132.810  POS_OVERNIGHT_RETURN  STOPPED_OUT   \n",
       "2      131.770     132.031  POS_OVERNIGHT_RETURN  STOPPED_OUT   \n",
       "3      134.990     134.620  POS_OVERNIGHT_RETURN  STOPPED_OUT   \n",
       "4      134.770     134.310  POS_OVERNIGHT_RETURN  STOPPED_OUT   \n",
       "5      134.575     134.460  POS_OVERNIGHT_RETURN  STOPPED_OUT   \n",
       "6      141.151     142.660  POS_OVERNIGHT_RETURN          EOD   \n",
       "7      139.560     139.285  POS_OVERNIGHT_RETURN  STOPPED_OUT   \n",
       "8      144.240     145.930  POS_OVERNIGHT_RETURN          EOD   \n",
       "9      145.345     144.640  POS_OVERNIGHT_RETURN  STOPPED_OUT   \n",
       "\n",
       "   entry_commission  exit_commission    net_pnl  \n",
       "0               0.0              0.0  -6597.335  \n",
       "1               0.0              0.0  -1004.805  \n",
       "2               0.0              0.0   1961.415  \n",
       "3               0.0              0.0  -2727.270  \n",
       "4               0.0              0.0  -3392.040  \n",
       "5               0.0              0.0   -842.145  \n",
       "6               0.0              0.0  10591.671  \n",
       "7               0.0              0.0  -1964.325  \n",
       "8               0.0              0.0  11696.490  \n",
       "9               0.0              0.0  -4888.470  "
      ]
     },
     "execution_count": 6,
     "metadata": {},
     "output_type": "execute_result"
    }
   ],
   "source": [
    "strategy.df_roundtrip_trades()"
   ]
  },
  {
   "cell_type": "markdown",
   "metadata": {
    "ExecuteTime": {
     "end_time": "2018-08-10T21:09:59.531818Z",
     "start_time": "2018-08-10T21:09:59.499471Z"
    }
   },
   "source": [
    "You can also look at the returns at the portfolio level (i.e. summing up several strategies)"
   ]
  },
  {
   "cell_type": "code",
   "execution_count": 7,
   "metadata": {
    "ExecuteTime": {
     "end_time": "2023-10-29T17:05:28.546683Z",
     "start_time": "2023-10-29T17:05:28.536921Z"
    },
    "run_control": {
     "frozen": false,
     "read_only": false
    }
   },
   "outputs": [
    {
     "data": {
      "text/html": [
       "<div>\n",
       "<style scoped>\n",
       "    .dataframe tbody tr th:only-of-type {\n",
       "        vertical-align: middle;\n",
       "    }\n",
       "\n",
       "    .dataframe tbody tr th {\n",
       "        vertical-align: top;\n",
       "    }\n",
       "\n",
       "    .dataframe thead th {\n",
       "        text-align: right;\n",
       "    }\n",
       "</style>\n",
       "<table border=\"1\" class=\"dataframe\">\n",
       "  <thead>\n",
       "    <tr style=\"text-align: right;\">\n",
       "      <th></th>\n",
       "      <th>timestamp</th>\n",
       "      <th>net_pnl</th>\n",
       "      <th>equity</th>\n",
       "      <th>ret</th>\n",
       "    </tr>\n",
       "  </thead>\n",
       "  <tbody>\n",
       "    <tr>\n",
       "      <th>22</th>\n",
       "      <td>2023-01-24</td>\n",
       "      <td>-2010.509</td>\n",
       "      <td>997989.491</td>\n",
       "      <td>0.010727</td>\n",
       "    </tr>\n",
       "    <tr>\n",
       "      <th>23</th>\n",
       "      <td>2023-01-25</td>\n",
       "      <td>-3974.834</td>\n",
       "      <td>996025.166</td>\n",
       "      <td>-0.001968</td>\n",
       "    </tr>\n",
       "    <tr>\n",
       "      <th>24</th>\n",
       "      <td>2023-01-26</td>\n",
       "      <td>-3974.834</td>\n",
       "      <td>996025.166</td>\n",
       "      <td>0.000000</td>\n",
       "    </tr>\n",
       "    <tr>\n",
       "      <th>25</th>\n",
       "      <td>2023-01-27</td>\n",
       "      <td>7721.656</td>\n",
       "      <td>1007721.656</td>\n",
       "      <td>0.011743</td>\n",
       "    </tr>\n",
       "    <tr>\n",
       "      <th>28</th>\n",
       "      <td>2023-01-30</td>\n",
       "      <td>2833.186</td>\n",
       "      <td>1002833.186</td>\n",
       "      <td>-0.004851</td>\n",
       "    </tr>\n",
       "  </tbody>\n",
       "</table>\n",
       "</div>"
      ],
      "text/plain": [
       "    timestamp   net_pnl       equity       ret\n",
       "22 2023-01-24 -2010.509   997989.491  0.010727\n",
       "23 2023-01-25 -3974.834   996025.166 -0.001968\n",
       "24 2023-01-26 -3974.834   996025.166  0.000000\n",
       "25 2023-01-27  7721.656  1007721.656  0.011743\n",
       "28 2023-01-30  2833.186  1002833.186 -0.004851"
      ]
     },
     "execution_count": 7,
     "metadata": {},
     "output_type": "execute_result"
    }
   ],
   "source": [
    "strategy.df_returns().tail()"
   ]
  },
  {
   "cell_type": "markdown",
   "metadata": {},
   "source": [
    "We can get data as native Python objects as opposed to pandas dataframes."
   ]
  },
  {
   "cell_type": "code",
   "execution_count": 8,
   "metadata": {
    "ExecuteTime": {
     "end_time": "2023-10-29T17:05:28.550594Z",
     "start_time": "2023-10-29T17:05:28.547891Z"
    },
    "run_control": {
     "frozen": false,
     "read_only": false
    }
   },
   "outputs": [
    {
     "data": {
      "text/plain": [
       "[AAPL  2023-01-13 09:32:00 qty: 7515 prc: 131.77   order: AAPL 2023-01-13 09:31:00 qty: 0 POS_OVERNIGHT_RETURN  OrderStatus.FILLED ,\n",
       " AAPL  2023-01-13 09:33:00 qty: -7515 prc: 132.031   order: AAPL 2023-01-13 09:32:00 qty: 0 STOPPED_OUT  OrderStatus.FILLED ]"
      ]
     },
     "execution_count": 8,
     "metadata": {},
     "output_type": "execute_result"
    }
   ],
   "source": [
    "strategy.trades(start_date = np.datetime64('2023-01-13'), end_date = np.datetime64('2023-01-15'))"
   ]
  },
  {
   "cell_type": "markdown",
   "metadata": {},
   "source": [
    "## Adding your Own Metrics ##\n",
    "\n",
    "Each strategy may have metrics that you want to measure that are specific to that strategy.  To add these, you can use the Evaluator object which can make things easier.\n",
    "\n",
    "To evaluate a strategy we use the evaluate returns function."
   ]
  },
  {
   "cell_type": "code",
   "execution_count": 9,
   "metadata": {
    "ExecuteTime": {
     "end_time": "2023-10-29T17:05:28.566281Z",
     "start_time": "2023-10-29T17:05:28.551555Z"
    },
    "run_control": {
     "frozen": false,
     "read_only": false
    }
   },
   "outputs": [
    {
     "data": {
      "text/html": [
       "<div>\n",
       "<style scoped>\n",
       "    .dataframe tbody tr th:only-of-type {\n",
       "        vertical-align: middle;\n",
       "    }\n",
       "\n",
       "    .dataframe tbody tr th {\n",
       "        vertical-align: top;\n",
       "    }\n",
       "\n",
       "    .dataframe thead th {\n",
       "        text-align: right;\n",
       "    }\n",
       "</style>\n",
       "<table border=\"1\" class=\"dataframe\">\n",
       "  <thead>\n",
       "    <tr style=\"text-align: right;\">\n",
       "      <th></th>\n",
       "      <th>gmean</th>\n",
       "      <th>amean</th>\n",
       "      <th>std</th>\n",
       "      <th>shrp</th>\n",
       "      <th>srt</th>\n",
       "      <th>k</th>\n",
       "      <th>calmar</th>\n",
       "      <th>mar</th>\n",
       "      <th>mdd_pct</th>\n",
       "      <th>mdd_dates</th>\n",
       "      <th>dd_3y_pct</th>\n",
       "      <th>dd_3y_timestamps</th>\n",
       "      <th>up_dwn</th>\n",
       "      <th>2023</th>\n",
       "    </tr>\n",
       "  </thead>\n",
       "  <tbody>\n",
       "    <tr>\n",
       "      <th></th>\n",
       "      <td>0.03824</td>\n",
       "      <td>0.03784</td>\n",
       "      <td>0.004173</td>\n",
       "      <td>0.5711</td>\n",
       "      <td>1.284</td>\n",
       "      <td>5.7</td>\n",
       "      <td>3.002</td>\n",
       "      <td>3.002</td>\n",
       "      <td>0.0126</td>\n",
       "      <td>2023-01-04/2023-01-20</td>\n",
       "      <td>0.0126</td>\n",
       "      <td>2023-01-04/2023-01-20</td>\n",
       "      <td>3/7/0.3</td>\n",
       "      <td>0.03824</td>\n",
       "    </tr>\n",
       "  </tbody>\n",
       "</table>\n",
       "</div>"
      ],
      "text/plain": [
       "    gmean    amean       std    shrp    srt    k calmar    mar mdd_pct  \\\n",
       "  0.03824  0.03784  0.004173  0.5711  1.284  5.7  3.002  3.002  0.0126   \n",
       "\n",
       "              mdd_dates dd_3y_pct       dd_3y_timestamps   up_dwn     2023  \n",
       "  2023-01-04/2023-01-20    0.0126  2023-01-04/2023-01-20  3/7/0.3  0.03824  "
      ]
     },
     "metadata": {},
     "output_type": "display_data"
    }
   ],
   "source": [
    "strategy.evaluate_returns(plot = False);"
   ]
  },
  {
   "cell_type": "markdown",
   "metadata": {},
   "source": [
    "What if we want to add some more metrics to this.  For example, lets say we want to add a metric that looks at how many long trades we had versus short trades.  We can do this using an Evaluator object."
   ]
  },
  {
   "cell_type": "code",
   "execution_count": 10,
   "metadata": {
    "ExecuteTime": {
     "end_time": "2023-10-29T17:05:28.569819Z",
     "start_time": "2023-10-29T17:05:28.567311Z"
    },
    "run_control": {
     "frozen": false,
     "read_only": false
    }
   },
   "outputs": [
    {
     "name": "stdout",
     "output_type": "stream",
     "text": [
      "Stopped Trades: 8\n"
     ]
    }
   ],
   "source": [
    "def compute_num_stopped_trades(trades):\n",
    "    return len([trade for trade in trades if trade.order.reason_code == 'STOPPED_OUT'])\n",
    "\n",
    "evaluator = pq.Evaluator(initial_metrics = {'trades' : strategy.trades()})\n",
    "\n",
    "evaluator.add_metric('num_stopped_trades', compute_num_stopped_trades, dependencies = ['trades'])\n",
    "\n",
    "evaluator.compute()\n",
    "\n",
    "print(f'Stopped Trades: {evaluator.metric(\"num_stopped_trades\")}')"
   ]
  },
  {
   "cell_type": "markdown",
   "metadata": {
    "ExecuteTime": {
     "end_time": "2018-08-10T21:35:46.005492Z",
     "start_time": "2018-08-10T21:35:46.002539Z"
    }
   },
   "source": [
    "The Evaluator takes care of dependency management so that if you want to compute a metric that relies on other metrics, it will compute the metrics in the right order.\n",
    "\n",
    "Lets compute Maximum Adverse Execution for each trade.  MAE tells you the maximum loss each trade had during its lifetime. It's useful for figuring out where to put trailing stops. For example, if most of your profitable trades had a maximum loss during their life up to 5% but many losing trades had losses of 50% and 60%, it might make sense to place a trailing stop around 6% or 7% so you don't get stopped out of your profitable trades but get out of the losing ones quickly. See Jaekle and Tomasini, page 66 for details"
   ]
  },
  {
   "cell_type": "code",
   "execution_count": 11,
   "metadata": {
    "ExecuteTime": {
     "end_time": "2023-10-29T17:05:28.576072Z",
     "start_time": "2023-10-29T17:05:28.570964Z"
    },
    "run_control": {
     "frozen": false,
     "read_only": false
    }
   },
   "outputs": [],
   "source": [
    "def compute_mae(rt_trades, c, timestamps):\n",
    "    mae = np.full(len(rt_trades), np.nan)\n",
    "    round_trip_pnl = np.full(len(rt_trades), np.nan)\n",
    "\n",
    "    for i, rt in enumerate(rt_trades):\n",
    "        _c = c[(timestamps >= rt.entry_timestamp) & (timestamps <= rt.exit_timestamp)]\n",
    "        _mae = np.min(_c) / rt.entry_price - 1\n",
    "        _mae = min(0, _mae)   # if we did not get a drawdown for this trade\n",
    "        mae[i] = -_mae\n",
    "        round_trip_pnl[i] = rt.net_pnl / rt.qty # Also store round trip pnl for this trade for plotting\n",
    "    return mae, round_trip_pnl\n",
    "        \n",
    "contract_group = strategy.contract_groups[0]\n",
    "evaluator = pq.Evaluator(initial_metrics = {'rt_trades' : strategy.roundtrip_trades(),\n",
    "                                            'c' : strategy.indicator_values[contract_group.name].c,\n",
    "                                            'timestamps' : strategy.timestamps})\n",
    "evaluator.add_metric('mae', compute_mae, dependencies=['rt_trades', 'c', 'timestamps'])\n",
    "evaluator.compute()"
   ]
  },
  {
   "cell_type": "markdown",
   "metadata": {},
   "source": [
    "We could have easily run the same computation without using the Evaluator.  The main advantage of using the Evaluator is that you can reuse other metrics you are dependent on without having to recompute them each time, i.e it provides a local cache of metrics."
   ]
  },
  {
   "cell_type": "code",
   "execution_count": 14,
   "metadata": {
    "ExecuteTime": {
     "end_time": "2023-10-29T17:06:15.123042Z",
     "start_time": "2023-10-29T17:06:15.093541Z"
    },
    "run_control": {
     "frozen": false,
     "read_only": false
    }
   },
   "outputs": [
    {
     "data": {
      "application/vnd.plotly.v1+json": {
       "config": {
        "plotlyServerURL": "https://plot.ly"
       },
       "data": [
        {
         "marker": {
          "color": "green",
          "size": 10,
          "symbol": "triangle-up"
         },
         "mode": "markers",
         "name": "Profitable Trade",
         "type": "scatter",
         "x": [
          0,
          0.02833136144980708,
          0.15945646145314463
         ],
         "y": [
          0.2609999999999957,
          1.5089999999999861,
          1.6899999999999975
         ]
        },
        {
         "marker": {
          "color": "red",
          "size": 10,
          "symbol": "triangle-down"
         },
         "mode": "markers",
         "name": "Losing Trade",
         "type": "scatter",
         "x": [
          0.6600529623335016,
          0.10154575200269633,
          0.34076598266539193,
          0.4377754693181024,
          0.08546163849153521,
          0.21496130696475602,
          0.4850528053940706
         ],
         "y": [
          0.8349999999999937,
          0.1349999999999909,
          0.37000000000000455,
          0.46000000000000796,
          0.11499999999998067,
          0.2750000000000057,
          0.7050000000000125
         ]
        }
       ],
       "layout": {
        "shapes": [
         {
          "opacity": 0.25,
          "type": "line",
          "x0": 0,
          "x1": 1,
          "xref": "x domain",
          "y0": 0,
          "y1": 0,
          "yref": "y"
         },
         {
          "opacity": 0.25,
          "type": "line",
          "x0": 0,
          "x1": 0,
          "xref": "x",
          "y0": 0,
          "y1": 1,
          "yref": "y domain"
         }
        ],
        "template": {
         "data": {
          "bar": [
           {
            "error_x": {
             "color": "#2a3f5f"
            },
            "error_y": {
             "color": "#2a3f5f"
            },
            "marker": {
             "line": {
              "color": "#E5ECF6",
              "width": 0.5
             },
             "pattern": {
              "fillmode": "overlay",
              "size": 10,
              "solidity": 0.2
             }
            },
            "type": "bar"
           }
          ],
          "barpolar": [
           {
            "marker": {
             "line": {
              "color": "#E5ECF6",
              "width": 0.5
             },
             "pattern": {
              "fillmode": "overlay",
              "size": 10,
              "solidity": 0.2
             }
            },
            "type": "barpolar"
           }
          ],
          "carpet": [
           {
            "aaxis": {
             "endlinecolor": "#2a3f5f",
             "gridcolor": "white",
             "linecolor": "white",
             "minorgridcolor": "white",
             "startlinecolor": "#2a3f5f"
            },
            "baxis": {
             "endlinecolor": "#2a3f5f",
             "gridcolor": "white",
             "linecolor": "white",
             "minorgridcolor": "white",
             "startlinecolor": "#2a3f5f"
            },
            "type": "carpet"
           }
          ],
          "choropleth": [
           {
            "colorbar": {
             "outlinewidth": 0,
             "ticks": ""
            },
            "type": "choropleth"
           }
          ],
          "contour": [
           {
            "colorbar": {
             "outlinewidth": 0,
             "ticks": ""
            },
            "colorscale": [
             [
              0,
              "#0d0887"
             ],
             [
              0.1111111111111111,
              "#46039f"
             ],
             [
              0.2222222222222222,
              "#7201a8"
             ],
             [
              0.3333333333333333,
              "#9c179e"
             ],
             [
              0.4444444444444444,
              "#bd3786"
             ],
             [
              0.5555555555555556,
              "#d8576b"
             ],
             [
              0.6666666666666666,
              "#ed7953"
             ],
             [
              0.7777777777777778,
              "#fb9f3a"
             ],
             [
              0.8888888888888888,
              "#fdca26"
             ],
             [
              1,
              "#f0f921"
             ]
            ],
            "type": "contour"
           }
          ],
          "contourcarpet": [
           {
            "colorbar": {
             "outlinewidth": 0,
             "ticks": ""
            },
            "type": "contourcarpet"
           }
          ],
          "heatmap": [
           {
            "colorbar": {
             "outlinewidth": 0,
             "ticks": ""
            },
            "colorscale": [
             [
              0,
              "#0d0887"
             ],
             [
              0.1111111111111111,
              "#46039f"
             ],
             [
              0.2222222222222222,
              "#7201a8"
             ],
             [
              0.3333333333333333,
              "#9c179e"
             ],
             [
              0.4444444444444444,
              "#bd3786"
             ],
             [
              0.5555555555555556,
              "#d8576b"
             ],
             [
              0.6666666666666666,
              "#ed7953"
             ],
             [
              0.7777777777777778,
              "#fb9f3a"
             ],
             [
              0.8888888888888888,
              "#fdca26"
             ],
             [
              1,
              "#f0f921"
             ]
            ],
            "type": "heatmap"
           }
          ],
          "heatmapgl": [
           {
            "colorbar": {
             "outlinewidth": 0,
             "ticks": ""
            },
            "colorscale": [
             [
              0,
              "#0d0887"
             ],
             [
              0.1111111111111111,
              "#46039f"
             ],
             [
              0.2222222222222222,
              "#7201a8"
             ],
             [
              0.3333333333333333,
              "#9c179e"
             ],
             [
              0.4444444444444444,
              "#bd3786"
             ],
             [
              0.5555555555555556,
              "#d8576b"
             ],
             [
              0.6666666666666666,
              "#ed7953"
             ],
             [
              0.7777777777777778,
              "#fb9f3a"
             ],
             [
              0.8888888888888888,
              "#fdca26"
             ],
             [
              1,
              "#f0f921"
             ]
            ],
            "type": "heatmapgl"
           }
          ],
          "histogram": [
           {
            "marker": {
             "pattern": {
              "fillmode": "overlay",
              "size": 10,
              "solidity": 0.2
             }
            },
            "type": "histogram"
           }
          ],
          "histogram2d": [
           {
            "colorbar": {
             "outlinewidth": 0,
             "ticks": ""
            },
            "colorscale": [
             [
              0,
              "#0d0887"
             ],
             [
              0.1111111111111111,
              "#46039f"
             ],
             [
              0.2222222222222222,
              "#7201a8"
             ],
             [
              0.3333333333333333,
              "#9c179e"
             ],
             [
              0.4444444444444444,
              "#bd3786"
             ],
             [
              0.5555555555555556,
              "#d8576b"
             ],
             [
              0.6666666666666666,
              "#ed7953"
             ],
             [
              0.7777777777777778,
              "#fb9f3a"
             ],
             [
              0.8888888888888888,
              "#fdca26"
             ],
             [
              1,
              "#f0f921"
             ]
            ],
            "type": "histogram2d"
           }
          ],
          "histogram2dcontour": [
           {
            "colorbar": {
             "outlinewidth": 0,
             "ticks": ""
            },
            "colorscale": [
             [
              0,
              "#0d0887"
             ],
             [
              0.1111111111111111,
              "#46039f"
             ],
             [
              0.2222222222222222,
              "#7201a8"
             ],
             [
              0.3333333333333333,
              "#9c179e"
             ],
             [
              0.4444444444444444,
              "#bd3786"
             ],
             [
              0.5555555555555556,
              "#d8576b"
             ],
             [
              0.6666666666666666,
              "#ed7953"
             ],
             [
              0.7777777777777778,
              "#fb9f3a"
             ],
             [
              0.8888888888888888,
              "#fdca26"
             ],
             [
              1,
              "#f0f921"
             ]
            ],
            "type": "histogram2dcontour"
           }
          ],
          "mesh3d": [
           {
            "colorbar": {
             "outlinewidth": 0,
             "ticks": ""
            },
            "type": "mesh3d"
           }
          ],
          "parcoords": [
           {
            "line": {
             "colorbar": {
              "outlinewidth": 0,
              "ticks": ""
             }
            },
            "type": "parcoords"
           }
          ],
          "pie": [
           {
            "automargin": true,
            "type": "pie"
           }
          ],
          "scatter": [
           {
            "fillpattern": {
             "fillmode": "overlay",
             "size": 10,
             "solidity": 0.2
            },
            "type": "scatter"
           }
          ],
          "scatter3d": [
           {
            "line": {
             "colorbar": {
              "outlinewidth": 0,
              "ticks": ""
             }
            },
            "marker": {
             "colorbar": {
              "outlinewidth": 0,
              "ticks": ""
             }
            },
            "type": "scatter3d"
           }
          ],
          "scattercarpet": [
           {
            "marker": {
             "colorbar": {
              "outlinewidth": 0,
              "ticks": ""
             }
            },
            "type": "scattercarpet"
           }
          ],
          "scattergeo": [
           {
            "marker": {
             "colorbar": {
              "outlinewidth": 0,
              "ticks": ""
             }
            },
            "type": "scattergeo"
           }
          ],
          "scattergl": [
           {
            "marker": {
             "colorbar": {
              "outlinewidth": 0,
              "ticks": ""
             }
            },
            "type": "scattergl"
           }
          ],
          "scattermapbox": [
           {
            "marker": {
             "colorbar": {
              "outlinewidth": 0,
              "ticks": ""
             }
            },
            "type": "scattermapbox"
           }
          ],
          "scatterpolar": [
           {
            "marker": {
             "colorbar": {
              "outlinewidth": 0,
              "ticks": ""
             }
            },
            "type": "scatterpolar"
           }
          ],
          "scatterpolargl": [
           {
            "marker": {
             "colorbar": {
              "outlinewidth": 0,
              "ticks": ""
             }
            },
            "type": "scatterpolargl"
           }
          ],
          "scatterternary": [
           {
            "marker": {
             "colorbar": {
              "outlinewidth": 0,
              "ticks": ""
             }
            },
            "type": "scatterternary"
           }
          ],
          "surface": [
           {
            "colorbar": {
             "outlinewidth": 0,
             "ticks": ""
            },
            "colorscale": [
             [
              0,
              "#0d0887"
             ],
             [
              0.1111111111111111,
              "#46039f"
             ],
             [
              0.2222222222222222,
              "#7201a8"
             ],
             [
              0.3333333333333333,
              "#9c179e"
             ],
             [
              0.4444444444444444,
              "#bd3786"
             ],
             [
              0.5555555555555556,
              "#d8576b"
             ],
             [
              0.6666666666666666,
              "#ed7953"
             ],
             [
              0.7777777777777778,
              "#fb9f3a"
             ],
             [
              0.8888888888888888,
              "#fdca26"
             ],
             [
              1,
              "#f0f921"
             ]
            ],
            "type": "surface"
           }
          ],
          "table": [
           {
            "cells": {
             "fill": {
              "color": "#EBF0F8"
             },
             "line": {
              "color": "white"
             }
            },
            "header": {
             "fill": {
              "color": "#C8D4E3"
             },
             "line": {
              "color": "white"
             }
            },
            "type": "table"
           }
          ]
         },
         "layout": {
          "annotationdefaults": {
           "arrowcolor": "#2a3f5f",
           "arrowhead": 0,
           "arrowwidth": 1
          },
          "autotypenumbers": "strict",
          "coloraxis": {
           "colorbar": {
            "outlinewidth": 0,
            "ticks": ""
           }
          },
          "colorscale": {
           "diverging": [
            [
             0,
             "#8e0152"
            ],
            [
             0.1,
             "#c51b7d"
            ],
            [
             0.2,
             "#de77ae"
            ],
            [
             0.3,
             "#f1b6da"
            ],
            [
             0.4,
             "#fde0ef"
            ],
            [
             0.5,
             "#f7f7f7"
            ],
            [
             0.6,
             "#e6f5d0"
            ],
            [
             0.7,
             "#b8e186"
            ],
            [
             0.8,
             "#7fbc41"
            ],
            [
             0.9,
             "#4d9221"
            ],
            [
             1,
             "#276419"
            ]
           ],
           "sequential": [
            [
             0,
             "#0d0887"
            ],
            [
             0.1111111111111111,
             "#46039f"
            ],
            [
             0.2222222222222222,
             "#7201a8"
            ],
            [
             0.3333333333333333,
             "#9c179e"
            ],
            [
             0.4444444444444444,
             "#bd3786"
            ],
            [
             0.5555555555555556,
             "#d8576b"
            ],
            [
             0.6666666666666666,
             "#ed7953"
            ],
            [
             0.7777777777777778,
             "#fb9f3a"
            ],
            [
             0.8888888888888888,
             "#fdca26"
            ],
            [
             1,
             "#f0f921"
            ]
           ],
           "sequentialminus": [
            [
             0,
             "#0d0887"
            ],
            [
             0.1111111111111111,
             "#46039f"
            ],
            [
             0.2222222222222222,
             "#7201a8"
            ],
            [
             0.3333333333333333,
             "#9c179e"
            ],
            [
             0.4444444444444444,
             "#bd3786"
            ],
            [
             0.5555555555555556,
             "#d8576b"
            ],
            [
             0.6666666666666666,
             "#ed7953"
            ],
            [
             0.7777777777777778,
             "#fb9f3a"
            ],
            [
             0.8888888888888888,
             "#fdca26"
            ],
            [
             1,
             "#f0f921"
            ]
           ]
          },
          "colorway": [
           "#636efa",
           "#EF553B",
           "#00cc96",
           "#ab63fa",
           "#FFA15A",
           "#19d3f3",
           "#FF6692",
           "#B6E880",
           "#FF97FF",
           "#FECB52"
          ],
          "font": {
           "color": "#2a3f5f"
          },
          "geo": {
           "bgcolor": "white",
           "lakecolor": "white",
           "landcolor": "#E5ECF6",
           "showlakes": true,
           "showland": true,
           "subunitcolor": "white"
          },
          "hoverlabel": {
           "align": "left"
          },
          "hovermode": "closest",
          "mapbox": {
           "style": "light"
          },
          "paper_bgcolor": "white",
          "plot_bgcolor": "#E5ECF6",
          "polar": {
           "angularaxis": {
            "gridcolor": "white",
            "linecolor": "white",
            "ticks": ""
           },
           "bgcolor": "#E5ECF6",
           "radialaxis": {
            "gridcolor": "white",
            "linecolor": "white",
            "ticks": ""
           }
          },
          "scene": {
           "xaxis": {
            "backgroundcolor": "#E5ECF6",
            "gridcolor": "white",
            "gridwidth": 2,
            "linecolor": "white",
            "showbackground": true,
            "ticks": "",
            "zerolinecolor": "white"
           },
           "yaxis": {
            "backgroundcolor": "#E5ECF6",
            "gridcolor": "white",
            "gridwidth": 2,
            "linecolor": "white",
            "showbackground": true,
            "ticks": "",
            "zerolinecolor": "white"
           },
           "zaxis": {
            "backgroundcolor": "#E5ECF6",
            "gridcolor": "white",
            "gridwidth": 2,
            "linecolor": "white",
            "showbackground": true,
            "ticks": "",
            "zerolinecolor": "white"
           }
          },
          "shapedefaults": {
           "line": {
            "color": "#2a3f5f"
           }
          },
          "ternary": {
           "aaxis": {
            "gridcolor": "white",
            "linecolor": "white",
            "ticks": ""
           },
           "baxis": {
            "gridcolor": "white",
            "linecolor": "white",
            "ticks": ""
           },
           "bgcolor": "#E5ECF6",
           "caxis": {
            "gridcolor": "white",
            "linecolor": "white",
            "ticks": ""
           }
          },
          "title": {
           "x": 0.05
          },
          "xaxis": {
           "automargin": true,
           "gridcolor": "white",
           "linecolor": "white",
           "ticks": "",
           "title": {
            "standoff": 15
           },
           "zerolinecolor": "white",
           "zerolinewidth": 2
          },
          "yaxis": {
           "automargin": true,
           "gridcolor": "white",
           "linecolor": "white",
           "ticks": "",
           "title": {
            "standoff": 15
           },
           "zerolinecolor": "white",
           "zerolinewidth": 2
          }
         }
        },
        "xaxis": {
         "title": {
          "text": "Drawdown %"
         }
        },
        "yaxis": {
         "title": {
          "text": "Profit / Loss %"
         }
        }
       }
      },
      "text/html": [
       "<div>                            <div id=\"b8f8b504-4aa6-45ea-a3c9-3b40009d665d\" class=\"plotly-graph-div\" style=\"height:525px; width:100%;\"></div>            <script type=\"text/javascript\">                require([\"plotly\"], function(Plotly) {                    window.PLOTLYENV=window.PLOTLYENV || {};                                    if (document.getElementById(\"b8f8b504-4aa6-45ea-a3c9-3b40009d665d\")) {                    Plotly.newPlot(                        \"b8f8b504-4aa6-45ea-a3c9-3b40009d665d\",                        [{\"marker\":{\"color\":\"green\",\"size\":10,\"symbol\":\"triangle-up\"},\"mode\":\"markers\",\"name\":\"Profitable Trade\",\"x\":[0.0,0.02833136144980708,0.15945646145314463],\"y\":[0.2609999999999957,1.5089999999999861,1.6899999999999975],\"type\":\"scatter\"},{\"marker\":{\"color\":\"red\",\"size\":10,\"symbol\":\"triangle-down\"},\"mode\":\"markers\",\"name\":\"Losing Trade\",\"x\":[0.6600529623335016,0.10154575200269633,0.34076598266539193,0.4377754693181024,0.08546163849153521,0.21496130696475602,0.4850528053940706],\"y\":[0.8349999999999937,0.1349999999999909,0.37000000000000455,0.46000000000000796,0.11499999999998067,0.2750000000000057,0.7050000000000125],\"type\":\"scatter\"}],                        {\"template\":{\"data\":{\"histogram2dcontour\":[{\"type\":\"histogram2dcontour\",\"colorbar\":{\"outlinewidth\":0,\"ticks\":\"\"},\"colorscale\":[[0.0,\"#0d0887\"],[0.1111111111111111,\"#46039f\"],[0.2222222222222222,\"#7201a8\"],[0.3333333333333333,\"#9c179e\"],[0.4444444444444444,\"#bd3786\"],[0.5555555555555556,\"#d8576b\"],[0.6666666666666666,\"#ed7953\"],[0.7777777777777778,\"#fb9f3a\"],[0.8888888888888888,\"#fdca26\"],[1.0,\"#f0f921\"]]}],\"choropleth\":[{\"type\":\"choropleth\",\"colorbar\":{\"outlinewidth\":0,\"ticks\":\"\"}}],\"histogram2d\":[{\"type\":\"histogram2d\",\"colorbar\":{\"outlinewidth\":0,\"ticks\":\"\"},\"colorscale\":[[0.0,\"#0d0887\"],[0.1111111111111111,\"#46039f\"],[0.2222222222222222,\"#7201a8\"],[0.3333333333333333,\"#9c179e\"],[0.4444444444444444,\"#bd3786\"],[0.5555555555555556,\"#d8576b\"],[0.6666666666666666,\"#ed7953\"],[0.7777777777777778,\"#fb9f3a\"],[0.8888888888888888,\"#fdca26\"],[1.0,\"#f0f921\"]]}],\"heatmap\":[{\"type\":\"heatmap\",\"colorbar\":{\"outlinewidth\":0,\"ticks\":\"\"},\"colorscale\":[[0.0,\"#0d0887\"],[0.1111111111111111,\"#46039f\"],[0.2222222222222222,\"#7201a8\"],[0.3333333333333333,\"#9c179e\"],[0.4444444444444444,\"#bd3786\"],[0.5555555555555556,\"#d8576b\"],[0.6666666666666666,\"#ed7953\"],[0.7777777777777778,\"#fb9f3a\"],[0.8888888888888888,\"#fdca26\"],[1.0,\"#f0f921\"]]}],\"heatmapgl\":[{\"type\":\"heatmapgl\",\"colorbar\":{\"outlinewidth\":0,\"ticks\":\"\"},\"colorscale\":[[0.0,\"#0d0887\"],[0.1111111111111111,\"#46039f\"],[0.2222222222222222,\"#7201a8\"],[0.3333333333333333,\"#9c179e\"],[0.4444444444444444,\"#bd3786\"],[0.5555555555555556,\"#d8576b\"],[0.6666666666666666,\"#ed7953\"],[0.7777777777777778,\"#fb9f3a\"],[0.8888888888888888,\"#fdca26\"],[1.0,\"#f0f921\"]]}],\"contourcarpet\":[{\"type\":\"contourcarpet\",\"colorbar\":{\"outlinewidth\":0,\"ticks\":\"\"}}],\"contour\":[{\"type\":\"contour\",\"colorbar\":{\"outlinewidth\":0,\"ticks\":\"\"},\"colorscale\":[[0.0,\"#0d0887\"],[0.1111111111111111,\"#46039f\"],[0.2222222222222222,\"#7201a8\"],[0.3333333333333333,\"#9c179e\"],[0.4444444444444444,\"#bd3786\"],[0.5555555555555556,\"#d8576b\"],[0.6666666666666666,\"#ed7953\"],[0.7777777777777778,\"#fb9f3a\"],[0.8888888888888888,\"#fdca26\"],[1.0,\"#f0f921\"]]}],\"surface\":[{\"type\":\"surface\",\"colorbar\":{\"outlinewidth\":0,\"ticks\":\"\"},\"colorscale\":[[0.0,\"#0d0887\"],[0.1111111111111111,\"#46039f\"],[0.2222222222222222,\"#7201a8\"],[0.3333333333333333,\"#9c179e\"],[0.4444444444444444,\"#bd3786\"],[0.5555555555555556,\"#d8576b\"],[0.6666666666666666,\"#ed7953\"],[0.7777777777777778,\"#fb9f3a\"],[0.8888888888888888,\"#fdca26\"],[1.0,\"#f0f921\"]]}],\"mesh3d\":[{\"type\":\"mesh3d\",\"colorbar\":{\"outlinewidth\":0,\"ticks\":\"\"}}],\"scatter\":[{\"fillpattern\":{\"fillmode\":\"overlay\",\"size\":10,\"solidity\":0.2},\"type\":\"scatter\"}],\"parcoords\":[{\"type\":\"parcoords\",\"line\":{\"colorbar\":{\"outlinewidth\":0,\"ticks\":\"\"}}}],\"scatterpolargl\":[{\"type\":\"scatterpolargl\",\"marker\":{\"colorbar\":{\"outlinewidth\":0,\"ticks\":\"\"}}}],\"bar\":[{\"error_x\":{\"color\":\"#2a3f5f\"},\"error_y\":{\"color\":\"#2a3f5f\"},\"marker\":{\"line\":{\"color\":\"#E5ECF6\",\"width\":0.5},\"pattern\":{\"fillmode\":\"overlay\",\"size\":10,\"solidity\":0.2}},\"type\":\"bar\"}],\"scattergeo\":[{\"type\":\"scattergeo\",\"marker\":{\"colorbar\":{\"outlinewidth\":0,\"ticks\":\"\"}}}],\"scatterpolar\":[{\"type\":\"scatterpolar\",\"marker\":{\"colorbar\":{\"outlinewidth\":0,\"ticks\":\"\"}}}],\"histogram\":[{\"marker\":{\"pattern\":{\"fillmode\":\"overlay\",\"size\":10,\"solidity\":0.2}},\"type\":\"histogram\"}],\"scattergl\":[{\"type\":\"scattergl\",\"marker\":{\"colorbar\":{\"outlinewidth\":0,\"ticks\":\"\"}}}],\"scatter3d\":[{\"type\":\"scatter3d\",\"line\":{\"colorbar\":{\"outlinewidth\":0,\"ticks\":\"\"}},\"marker\":{\"colorbar\":{\"outlinewidth\":0,\"ticks\":\"\"}}}],\"scattermapbox\":[{\"type\":\"scattermapbox\",\"marker\":{\"colorbar\":{\"outlinewidth\":0,\"ticks\":\"\"}}}],\"scatterternary\":[{\"type\":\"scatterternary\",\"marker\":{\"colorbar\":{\"outlinewidth\":0,\"ticks\":\"\"}}}],\"scattercarpet\":[{\"type\":\"scattercarpet\",\"marker\":{\"colorbar\":{\"outlinewidth\":0,\"ticks\":\"\"}}}],\"carpet\":[{\"aaxis\":{\"endlinecolor\":\"#2a3f5f\",\"gridcolor\":\"white\",\"linecolor\":\"white\",\"minorgridcolor\":\"white\",\"startlinecolor\":\"#2a3f5f\"},\"baxis\":{\"endlinecolor\":\"#2a3f5f\",\"gridcolor\":\"white\",\"linecolor\":\"white\",\"minorgridcolor\":\"white\",\"startlinecolor\":\"#2a3f5f\"},\"type\":\"carpet\"}],\"table\":[{\"cells\":{\"fill\":{\"color\":\"#EBF0F8\"},\"line\":{\"color\":\"white\"}},\"header\":{\"fill\":{\"color\":\"#C8D4E3\"},\"line\":{\"color\":\"white\"}},\"type\":\"table\"}],\"barpolar\":[{\"marker\":{\"line\":{\"color\":\"#E5ECF6\",\"width\":0.5},\"pattern\":{\"fillmode\":\"overlay\",\"size\":10,\"solidity\":0.2}},\"type\":\"barpolar\"}],\"pie\":[{\"automargin\":true,\"type\":\"pie\"}]},\"layout\":{\"autotypenumbers\":\"strict\",\"colorway\":[\"#636efa\",\"#EF553B\",\"#00cc96\",\"#ab63fa\",\"#FFA15A\",\"#19d3f3\",\"#FF6692\",\"#B6E880\",\"#FF97FF\",\"#FECB52\"],\"font\":{\"color\":\"#2a3f5f\"},\"hovermode\":\"closest\",\"hoverlabel\":{\"align\":\"left\"},\"paper_bgcolor\":\"white\",\"plot_bgcolor\":\"#E5ECF6\",\"polar\":{\"bgcolor\":\"#E5ECF6\",\"angularaxis\":{\"gridcolor\":\"white\",\"linecolor\":\"white\",\"ticks\":\"\"},\"radialaxis\":{\"gridcolor\":\"white\",\"linecolor\":\"white\",\"ticks\":\"\"}},\"ternary\":{\"bgcolor\":\"#E5ECF6\",\"aaxis\":{\"gridcolor\":\"white\",\"linecolor\":\"white\",\"ticks\":\"\"},\"baxis\":{\"gridcolor\":\"white\",\"linecolor\":\"white\",\"ticks\":\"\"},\"caxis\":{\"gridcolor\":\"white\",\"linecolor\":\"white\",\"ticks\":\"\"}},\"coloraxis\":{\"colorbar\":{\"outlinewidth\":0,\"ticks\":\"\"}},\"colorscale\":{\"sequential\":[[0.0,\"#0d0887\"],[0.1111111111111111,\"#46039f\"],[0.2222222222222222,\"#7201a8\"],[0.3333333333333333,\"#9c179e\"],[0.4444444444444444,\"#bd3786\"],[0.5555555555555556,\"#d8576b\"],[0.6666666666666666,\"#ed7953\"],[0.7777777777777778,\"#fb9f3a\"],[0.8888888888888888,\"#fdca26\"],[1.0,\"#f0f921\"]],\"sequentialminus\":[[0.0,\"#0d0887\"],[0.1111111111111111,\"#46039f\"],[0.2222222222222222,\"#7201a8\"],[0.3333333333333333,\"#9c179e\"],[0.4444444444444444,\"#bd3786\"],[0.5555555555555556,\"#d8576b\"],[0.6666666666666666,\"#ed7953\"],[0.7777777777777778,\"#fb9f3a\"],[0.8888888888888888,\"#fdca26\"],[1.0,\"#f0f921\"]],\"diverging\":[[0,\"#8e0152\"],[0.1,\"#c51b7d\"],[0.2,\"#de77ae\"],[0.3,\"#f1b6da\"],[0.4,\"#fde0ef\"],[0.5,\"#f7f7f7\"],[0.6,\"#e6f5d0\"],[0.7,\"#b8e186\"],[0.8,\"#7fbc41\"],[0.9,\"#4d9221\"],[1,\"#276419\"]]},\"xaxis\":{\"gridcolor\":\"white\",\"linecolor\":\"white\",\"ticks\":\"\",\"title\":{\"standoff\":15},\"zerolinecolor\":\"white\",\"automargin\":true,\"zerolinewidth\":2},\"yaxis\":{\"gridcolor\":\"white\",\"linecolor\":\"white\",\"ticks\":\"\",\"title\":{\"standoff\":15},\"zerolinecolor\":\"white\",\"automargin\":true,\"zerolinewidth\":2},\"scene\":{\"xaxis\":{\"backgroundcolor\":\"#E5ECF6\",\"gridcolor\":\"white\",\"linecolor\":\"white\",\"showbackground\":true,\"ticks\":\"\",\"zerolinecolor\":\"white\",\"gridwidth\":2},\"yaxis\":{\"backgroundcolor\":\"#E5ECF6\",\"gridcolor\":\"white\",\"linecolor\":\"white\",\"showbackground\":true,\"ticks\":\"\",\"zerolinecolor\":\"white\",\"gridwidth\":2},\"zaxis\":{\"backgroundcolor\":\"#E5ECF6\",\"gridcolor\":\"white\",\"linecolor\":\"white\",\"showbackground\":true,\"ticks\":\"\",\"zerolinecolor\":\"white\",\"gridwidth\":2}},\"shapedefaults\":{\"line\":{\"color\":\"#2a3f5f\"}},\"annotationdefaults\":{\"arrowcolor\":\"#2a3f5f\",\"arrowhead\":0,\"arrowwidth\":1},\"geo\":{\"bgcolor\":\"white\",\"landcolor\":\"#E5ECF6\",\"subunitcolor\":\"white\",\"showland\":true,\"showlakes\":true,\"lakecolor\":\"white\"},\"title\":{\"x\":0.05},\"mapbox\":{\"style\":\"light\"}}},\"shapes\":[{\"opacity\":0.25,\"type\":\"line\",\"x0\":0,\"x1\":1,\"xref\":\"x domain\",\"y0\":0,\"y1\":0,\"yref\":\"y\"},{\"opacity\":0.25,\"type\":\"line\",\"x0\":0,\"x1\":0,\"xref\":\"x\",\"y0\":0,\"y1\":1,\"yref\":\"y domain\"}],\"xaxis\":{\"title\":{\"text\":\"Drawdown %\"}},\"yaxis\":{\"title\":{\"text\":\"Profit / Loss %\"}}},                        {\"responsive\": true}                    ).then(function(){\n",
       "                            \n",
       "var gd = document.getElementById('b8f8b504-4aa6-45ea-a3c9-3b40009d665d');\n",
       "var x = new MutationObserver(function (mutations, observer) {{\n",
       "        var display = window.getComputedStyle(gd).display;\n",
       "        if (!display || display === 'none') {{\n",
       "            console.log([gd, 'removed!']);\n",
       "            Plotly.purge(gd);\n",
       "            observer.disconnect();\n",
       "        }}\n",
       "}});\n",
       "\n",
       "// Listen for the removal of the full notebook cells\n",
       "var notebookContainer = gd.closest('#notebook-container');\n",
       "if (notebookContainer) {{\n",
       "    x.observe(notebookContainer, {childList: true});\n",
       "}}\n",
       "\n",
       "// Listen for the clearing of the current output cell\n",
       "var outputEl = gd.closest('.output');\n",
       "if (outputEl) {{\n",
       "    x.observe(outputEl, {childList: true});\n",
       "}}\n",
       "\n",
       "                        })                };                });            </script>        </div>"
      ]
     },
     "metadata": {},
     "output_type": "display_data"
    }
   ],
   "source": [
    "mae = evaluator.metric('mae')[0]\n",
    "round_trip_pnl = evaluator.metric('mae')[1] \n",
    "\n",
    "# Separate out positive trades from negative trades\n",
    "round_trip_profit = round_trip_pnl[round_trip_pnl >= 0]\n",
    "mae_profit = mae[round_trip_pnl >= 0] \n",
    "\n",
    "round_trip_loss = round_trip_pnl[round_trip_pnl <= 0]\n",
    "mae_loss = mae[round_trip_pnl <= 0]\n",
    "\n",
    "import plotly.graph_objects as go\n",
    "fig = go.Figure()\n",
    "winners = go.Scatter(name='Profitable Trade', x=mae_profit * 100, y=round_trip_profit, mode='markers', marker_color='green', marker_size=10, marker_symbol='triangle-up')\n",
    "losers = go.Scatter(name='Losing Trade', x=mae_loss * 100, y=-round_trip_loss, mode='markers', marker_color='red', marker_size=10, marker_symbol='triangle-down')\n",
    "fig.add_trace(winners)\n",
    "fig.add_trace(losers)\n",
    "fig.add_hline(y=0, opacity=0.25)\n",
    "fig.add_vline(x=0, opacity=0.25)\n",
    "fig.update_xaxes(title_text='Drawdown %')\n",
    "fig.update_yaxes(title_text='Profit / Loss %')\n",
    "if pq.has_display():\n",
    "    fig.show()"
   ]
  },
  {
   "cell_type": "markdown",
   "metadata": {},
   "source": [
    "It looks like a good place to put a stop loss so we keep most of the winning trades but don't take big losses might be around 0.2%"
   ]
  },
  {
   "cell_type": "code",
   "execution_count": 13,
   "metadata": {
    "ExecuteTime": {
     "end_time": "2023-10-29T17:05:28.630476Z",
     "start_time": "2023-10-29T17:05:28.621132Z"
    }
   },
   "outputs": [
    {
     "data": {
      "text/html": [
       "<div>\n",
       "<style scoped>\n",
       "    .dataframe tbody tr th:only-of-type {\n",
       "        vertical-align: middle;\n",
       "    }\n",
       "\n",
       "    .dataframe tbody tr th {\n",
       "        vertical-align: top;\n",
       "    }\n",
       "\n",
       "    .dataframe thead th {\n",
       "        text-align: right;\n",
       "    }\n",
       "</style>\n",
       "<table border=\"1\" class=\"dataframe\">\n",
       "  <thead>\n",
       "    <tr style=\"text-align: right;\">\n",
       "      <th></th>\n",
       "      <th>symbol</th>\n",
       "      <th>multiplier</th>\n",
       "      <th>entry_timestamp</th>\n",
       "      <th>exit_timestamp</th>\n",
       "      <th>qty</th>\n",
       "      <th>entry_price</th>\n",
       "      <th>exit_price</th>\n",
       "      <th>entry_reason</th>\n",
       "      <th>exit_reason</th>\n",
       "      <th>entry_commission</th>\n",
       "      <th>exit_commission</th>\n",
       "      <th>net_pnl</th>\n",
       "    </tr>\n",
       "  </thead>\n",
       "  <tbody>\n",
       "    <tr>\n",
       "      <th>0</th>\n",
       "      <td>AAPL</td>\n",
       "      <td>1.0</td>\n",
       "      <td>2023-01-05 09:32:00</td>\n",
       "      <td>2023-01-05 09:34:00</td>\n",
       "      <td>7901</td>\n",
       "      <td>126.505</td>\n",
       "      <td>125.670</td>\n",
       "      <td>POS_OVERNIGHT_RETURN</td>\n",
       "      <td>STOPPED_OUT</td>\n",
       "      <td>0.0</td>\n",
       "      <td>0.0</td>\n",
       "      <td>-6597.335</td>\n",
       "    </tr>\n",
       "    <tr>\n",
       "      <th>1</th>\n",
       "      <td>AAPL</td>\n",
       "      <td>1.0</td>\n",
       "      <td>2023-01-12 09:32:00</td>\n",
       "      <td>2023-01-12 09:33:00</td>\n",
       "      <td>7443</td>\n",
       "      <td>132.945</td>\n",
       "      <td>132.810</td>\n",
       "      <td>POS_OVERNIGHT_RETURN</td>\n",
       "      <td>STOPPED_OUT</td>\n",
       "      <td>0.0</td>\n",
       "      <td>0.0</td>\n",
       "      <td>-1004.805</td>\n",
       "    </tr>\n",
       "    <tr>\n",
       "      <th>2</th>\n",
       "      <td>AAPL</td>\n",
       "      <td>1.0</td>\n",
       "      <td>2023-01-13 09:32:00</td>\n",
       "      <td>2023-01-13 09:33:00</td>\n",
       "      <td>7515</td>\n",
       "      <td>131.770</td>\n",
       "      <td>132.031</td>\n",
       "      <td>POS_OVERNIGHT_RETURN</td>\n",
       "      <td>STOPPED_OUT</td>\n",
       "      <td>0.0</td>\n",
       "      <td>0.0</td>\n",
       "      <td>1961.415</td>\n",
       "    </tr>\n",
       "    <tr>\n",
       "      <th>3</th>\n",
       "      <td>AAPL</td>\n",
       "      <td>1.0</td>\n",
       "      <td>2023-01-17 09:32:00</td>\n",
       "      <td>2023-01-17 09:39:00</td>\n",
       "      <td>7371</td>\n",
       "      <td>134.990</td>\n",
       "      <td>134.620</td>\n",
       "      <td>POS_OVERNIGHT_RETURN</td>\n",
       "      <td>STOPPED_OUT</td>\n",
       "      <td>0.0</td>\n",
       "      <td>0.0</td>\n",
       "      <td>-2727.270</td>\n",
       "    </tr>\n",
       "    <tr>\n",
       "      <th>4</th>\n",
       "      <td>AAPL</td>\n",
       "      <td>1.0</td>\n",
       "      <td>2023-01-19 09:32:00</td>\n",
       "      <td>2023-01-19 09:46:00</td>\n",
       "      <td>7374</td>\n",
       "      <td>134.770</td>\n",
       "      <td>134.310</td>\n",
       "      <td>POS_OVERNIGHT_RETURN</td>\n",
       "      <td>STOPPED_OUT</td>\n",
       "      <td>0.0</td>\n",
       "      <td>0.0</td>\n",
       "      <td>-3392.040</td>\n",
       "    </tr>\n",
       "    <tr>\n",
       "      <th>5</th>\n",
       "      <td>AAPL</td>\n",
       "      <td>1.0</td>\n",
       "      <td>2023-01-20 09:32:00</td>\n",
       "      <td>2023-01-20 09:33:00</td>\n",
       "      <td>7323</td>\n",
       "      <td>134.575</td>\n",
       "      <td>134.460</td>\n",
       "      <td>POS_OVERNIGHT_RETURN</td>\n",
       "      <td>STOPPED_OUT</td>\n",
       "      <td>0.0</td>\n",
       "      <td>0.0</td>\n",
       "      <td>-842.145</td>\n",
       "    </tr>\n",
       "    <tr>\n",
       "      <th>6</th>\n",
       "      <td>AAPL</td>\n",
       "      <td>1.0</td>\n",
       "      <td>2023-01-24 09:32:00</td>\n",
       "      <td>2023-01-24 16:00:00</td>\n",
       "      <td>7019</td>\n",
       "      <td>141.151</td>\n",
       "      <td>142.660</td>\n",
       "      <td>POS_OVERNIGHT_RETURN</td>\n",
       "      <td>EOD</td>\n",
       "      <td>0.0</td>\n",
       "      <td>0.0</td>\n",
       "      <td>10591.671</td>\n",
       "    </tr>\n",
       "    <tr>\n",
       "      <th>7</th>\n",
       "      <td>AAPL</td>\n",
       "      <td>1.0</td>\n",
       "      <td>2023-01-25 09:32:00</td>\n",
       "      <td>2023-01-25 10:35:00</td>\n",
       "      <td>7143</td>\n",
       "      <td>139.560</td>\n",
       "      <td>139.285</td>\n",
       "      <td>POS_OVERNIGHT_RETURN</td>\n",
       "      <td>STOPPED_OUT</td>\n",
       "      <td>0.0</td>\n",
       "      <td>0.0</td>\n",
       "      <td>-1964.325</td>\n",
       "    </tr>\n",
       "    <tr>\n",
       "      <th>8</th>\n",
       "      <td>AAPL</td>\n",
       "      <td>1.0</td>\n",
       "      <td>2023-01-27 09:32:00</td>\n",
       "      <td>2023-01-27 16:00:00</td>\n",
       "      <td>6921</td>\n",
       "      <td>144.240</td>\n",
       "      <td>145.930</td>\n",
       "      <td>POS_OVERNIGHT_RETURN</td>\n",
       "      <td>EOD</td>\n",
       "      <td>0.0</td>\n",
       "      <td>0.0</td>\n",
       "      <td>11696.490</td>\n",
       "    </tr>\n",
       "    <tr>\n",
       "      <th>9</th>\n",
       "      <td>AAPL</td>\n",
       "      <td>1.0</td>\n",
       "      <td>2023-01-30 09:32:00</td>\n",
       "      <td>2023-01-30 09:34:00</td>\n",
       "      <td>6934</td>\n",
       "      <td>145.345</td>\n",
       "      <td>144.640</td>\n",
       "      <td>POS_OVERNIGHT_RETURN</td>\n",
       "      <td>STOPPED_OUT</td>\n",
       "      <td>0.0</td>\n",
       "      <td>0.0</td>\n",
       "      <td>-4888.470</td>\n",
       "    </tr>\n",
       "  </tbody>\n",
       "</table>\n",
       "</div>"
      ],
      "text/plain": [
       "  symbol  multiplier     entry_timestamp      exit_timestamp   qty  \\\n",
       "0   AAPL         1.0 2023-01-05 09:32:00 2023-01-05 09:34:00  7901   \n",
       "1   AAPL         1.0 2023-01-12 09:32:00 2023-01-12 09:33:00  7443   \n",
       "2   AAPL         1.0 2023-01-13 09:32:00 2023-01-13 09:33:00  7515   \n",
       "3   AAPL         1.0 2023-01-17 09:32:00 2023-01-17 09:39:00  7371   \n",
       "4   AAPL         1.0 2023-01-19 09:32:00 2023-01-19 09:46:00  7374   \n",
       "5   AAPL         1.0 2023-01-20 09:32:00 2023-01-20 09:33:00  7323   \n",
       "6   AAPL         1.0 2023-01-24 09:32:00 2023-01-24 16:00:00  7019   \n",
       "7   AAPL         1.0 2023-01-25 09:32:00 2023-01-25 10:35:00  7143   \n",
       "8   AAPL         1.0 2023-01-27 09:32:00 2023-01-27 16:00:00  6921   \n",
       "9   AAPL         1.0 2023-01-30 09:32:00 2023-01-30 09:34:00  6934   \n",
       "\n",
       "   entry_price  exit_price          entry_reason  exit_reason  \\\n",
       "0      126.505     125.670  POS_OVERNIGHT_RETURN  STOPPED_OUT   \n",
       "1      132.945     132.810  POS_OVERNIGHT_RETURN  STOPPED_OUT   \n",
       "2      131.770     132.031  POS_OVERNIGHT_RETURN  STOPPED_OUT   \n",
       "3      134.990     134.620  POS_OVERNIGHT_RETURN  STOPPED_OUT   \n",
       "4      134.770     134.310  POS_OVERNIGHT_RETURN  STOPPED_OUT   \n",
       "5      134.575     134.460  POS_OVERNIGHT_RETURN  STOPPED_OUT   \n",
       "6      141.151     142.660  POS_OVERNIGHT_RETURN          EOD   \n",
       "7      139.560     139.285  POS_OVERNIGHT_RETURN  STOPPED_OUT   \n",
       "8      144.240     145.930  POS_OVERNIGHT_RETURN          EOD   \n",
       "9      145.345     144.640  POS_OVERNIGHT_RETURN  STOPPED_OUT   \n",
       "\n",
       "   entry_commission  exit_commission    net_pnl  \n",
       "0               0.0              0.0  -6597.335  \n",
       "1               0.0              0.0  -1004.805  \n",
       "2               0.0              0.0   1961.415  \n",
       "3               0.0              0.0  -2727.270  \n",
       "4               0.0              0.0  -3392.040  \n",
       "5               0.0              0.0   -842.145  \n",
       "6               0.0              0.0  10591.671  \n",
       "7               0.0              0.0  -1964.325  \n",
       "8               0.0              0.0  11696.490  \n",
       "9               0.0              0.0  -4888.470  "
      ]
     },
     "execution_count": 13,
     "metadata": {},
     "output_type": "execute_result"
    }
   ],
   "source": [
    "strategy.df_roundtrip_trades()"
   ]
  },
  {
   "cell_type": "code",
   "execution_count": null,
   "metadata": {},
   "outputs": [],
   "source": []
  }
 ],
 "metadata": {
  "kernelspec": {
   "display_name": "Python 3 (ipykernel)",
   "language": "python",
   "name": "python3"
  },
  "language_info": {
   "codemirror_mode": {
    "name": "ipython",
    "version": 3
   },
   "file_extension": ".py",
   "mimetype": "text/x-python",
   "name": "python",
   "nbconvert_exporter": "python",
   "pygments_lexer": "ipython3",
   "version": "3.10.12"
  },
  "latex_envs": {
   "LaTeX_envs_menu_present": true,
   "autoclose": false,
   "autocomplete": true,
   "bibliofile": "biblio.bib",
   "cite_by": "apalike",
   "current_citInitial": 1,
   "eqLabelWithNumbers": true,
   "eqNumInitial": 1,
   "hotkeys": {
    "equation": "Ctrl-E",
    "itemize": "Ctrl-I"
   },
   "labels_anchors": false,
   "latex_user_defs": false,
   "report_style_numbering": false,
   "user_envs_cfg": false
  }
 },
 "nbformat": 4,
 "nbformat_minor": 2
}
