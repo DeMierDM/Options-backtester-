{
 "cells": [
  {
   "cell_type": "markdown",
   "metadata": {
    "run_control": {
     "frozen": false,
     "read_only": false
    }
   },
   "source": [
    "Please go through the \"building_strategies\" notebook first before you go through this notebook\n"
   ]
  },
  {
   "cell_type": "markdown",
   "metadata": {},
   "source": [
    "## Some Prebuilt Reporting ##\n",
    "\n",
    "Lets first build the strategy described in that notebook, add it to a portfolio and run the portfolio"
   ]
  },
  {
   "cell_type": "code",
   "execution_count": 1,
   "metadata": {
    "ExecuteTime": {
     "end_time": "2023-10-14T21:04:03.165191Z",
     "start_time": "2023-10-14T21:04:02.611663Z"
    },
    "run_control": {
     "frozen": false,
     "read_only": false
    }
   },
   "outputs": [],
   "source": [
    "from types import SimpleNamespace\n",
    "import pandas as pd\n",
    "import numpy as np\n",
    "import pyqstrat as pq\n",
    "from pyqstrat.notebooks.support.build_example_strategy import build_example_strategy\n",
    "\n",
    "strategy = build_example_strategy(SimpleNamespace(lookback_period = 10, num_std = 2))\n",
    "strategy.run()"
   ]
  },
  {
   "cell_type": "markdown",
   "metadata": {},
   "source": [
    "Many objects have functions that return pandas dataframes for ease of use.  Any function that returns a dataframe starts with df_ so its easy to tell which dataframes an object returns.\n",
    "\n",
    "Probably the most common function you will use is df_data on the strategy object.  This returns the market data, indicators, signal values and P&L at each market data bar.  The last column, i is the integer index of that bar, and can be used to query data in other dataframes or objects for that strategy."
   ]
  },
  {
   "cell_type": "code",
   "execution_count": 2,
   "metadata": {
    "ExecuteTime": {
     "end_time": "2023-10-14T21:04:03.179907Z",
     "start_time": "2023-10-14T21:04:03.166013Z"
    },
    "run_control": {
     "frozen": false,
     "read_only": false
    }
   },
   "outputs": [
    {
     "data": {
      "text/html": [
       "<div>\n",
       "<style scoped>\n",
       "    .dataframe tbody tr th:only-of-type {\n",
       "        vertical-align: middle;\n",
       "    }\n",
       "\n",
       "    .dataframe tbody tr th {\n",
       "        vertical-align: top;\n",
       "    }\n",
       "\n",
       "    .dataframe thead th {\n",
       "        text-align: right;\n",
       "    }\n",
       "</style>\n",
       "<table border=\"1\" class=\"dataframe\">\n",
       "  <thead>\n",
       "    <tr style=\"text-align: right;\">\n",
       "      <th></th>\n",
       "      <th>timestamp</th>\n",
       "      <th>c</th>\n",
       "      <th>h</th>\n",
       "      <th>l</th>\n",
       "      <th>lower_band</th>\n",
       "      <th>o</th>\n",
       "      <th>sma</th>\n",
       "      <th>upper_band</th>\n",
       "      <th>bb_signal</th>\n",
       "      <th>position</th>\n",
       "      <th>unrealized</th>\n",
       "      <th>realized</th>\n",
       "      <th>commission</th>\n",
       "      <th>fee</th>\n",
       "      <th>net_pnl</th>\n",
       "      <th>equity</th>\n",
       "      <th>i</th>\n",
       "    </tr>\n",
       "  </thead>\n",
       "  <tbody>\n",
       "    <tr>\n",
       "      <th>550</th>\n",
       "      <td>2019-02-13 10:45:00</td>\n",
       "      <td>113.74</td>\n",
       "      <td>113.980</td>\n",
       "      <td>113.720</td>\n",
       "      <td>113.317057</td>\n",
       "      <td>113.9500</td>\n",
       "      <td>113.93401</td>\n",
       "      <td>114.550963</td>\n",
       "      <td>1</td>\n",
       "      <td>NaN</td>\n",
       "      <td>NaN</td>\n",
       "      <td>NaN</td>\n",
       "      <td>NaN</td>\n",
       "      <td>NaN</td>\n",
       "      <td>NaN</td>\n",
       "      <td>NaN</td>\n",
       "      <td>550</td>\n",
       "    </tr>\n",
       "    <tr>\n",
       "      <th>551</th>\n",
       "      <td>2019-02-13 11:00:00</td>\n",
       "      <td>113.90</td>\n",
       "      <td>113.905</td>\n",
       "      <td>113.680</td>\n",
       "      <td>113.325960</td>\n",
       "      <td>113.7500</td>\n",
       "      <td>113.94001</td>\n",
       "      <td>114.554060</td>\n",
       "      <td>-1</td>\n",
       "      <td>NaN</td>\n",
       "      <td>NaN</td>\n",
       "      <td>NaN</td>\n",
       "      <td>NaN</td>\n",
       "      <td>NaN</td>\n",
       "      <td>NaN</td>\n",
       "      <td>NaN</td>\n",
       "      <td>551</td>\n",
       "    </tr>\n",
       "    <tr>\n",
       "      <th>552</th>\n",
       "      <td>2019-02-13 11:15:00</td>\n",
       "      <td>113.99</td>\n",
       "      <td>114.045</td>\n",
       "      <td>113.870</td>\n",
       "      <td>113.367005</td>\n",
       "      <td>113.8700</td>\n",
       "      <td>113.96501</td>\n",
       "      <td>114.563015</td>\n",
       "      <td>1</td>\n",
       "      <td>NaN</td>\n",
       "      <td>NaN</td>\n",
       "      <td>NaN</td>\n",
       "      <td>NaN</td>\n",
       "      <td>NaN</td>\n",
       "      <td>NaN</td>\n",
       "      <td>NaN</td>\n",
       "      <td>552</td>\n",
       "    </tr>\n",
       "    <tr>\n",
       "      <th>553</th>\n",
       "      <td>2019-02-13 11:30:00</td>\n",
       "      <td>114.04</td>\n",
       "      <td>114.130</td>\n",
       "      <td>113.935</td>\n",
       "      <td>113.394339</td>\n",
       "      <td>113.9800</td>\n",
       "      <td>113.98600</td>\n",
       "      <td>114.577661</td>\n",
       "      <td>1</td>\n",
       "      <td>NaN</td>\n",
       "      <td>NaN</td>\n",
       "      <td>NaN</td>\n",
       "      <td>NaN</td>\n",
       "      <td>NaN</td>\n",
       "      <td>NaN</td>\n",
       "      <td>NaN</td>\n",
       "      <td>553</td>\n",
       "    </tr>\n",
       "    <tr>\n",
       "      <th>554</th>\n",
       "      <td>2019-02-13 11:45:00</td>\n",
       "      <td>114.04</td>\n",
       "      <td>114.040</td>\n",
       "      <td>113.850</td>\n",
       "      <td>113.539625</td>\n",
       "      <td>114.0400</td>\n",
       "      <td>114.03700</td>\n",
       "      <td>114.534375</td>\n",
       "      <td>1</td>\n",
       "      <td>NaN</td>\n",
       "      <td>NaN</td>\n",
       "      <td>NaN</td>\n",
       "      <td>NaN</td>\n",
       "      <td>NaN</td>\n",
       "      <td>NaN</td>\n",
       "      <td>NaN</td>\n",
       "      <td>554</td>\n",
       "    </tr>\n",
       "    <tr>\n",
       "      <th>555</th>\n",
       "      <td>2019-02-13 12:00:00</td>\n",
       "      <td>113.98</td>\n",
       "      <td>114.010</td>\n",
       "      <td>113.920</td>\n",
       "      <td>113.594123</td>\n",
       "      <td>113.9949</td>\n",
       "      <td>114.05800</td>\n",
       "      <td>114.521877</td>\n",
       "      <td>-1</td>\n",
       "      <td>NaN</td>\n",
       "      <td>NaN</td>\n",
       "      <td>NaN</td>\n",
       "      <td>NaN</td>\n",
       "      <td>NaN</td>\n",
       "      <td>NaN</td>\n",
       "      <td>NaN</td>\n",
       "      <td>555</td>\n",
       "    </tr>\n",
       "    <tr>\n",
       "      <th>556</th>\n",
       "      <td>2019-02-13 12:15:00</td>\n",
       "      <td>113.86</td>\n",
       "      <td>114.000</td>\n",
       "      <td>113.810</td>\n",
       "      <td>113.724008</td>\n",
       "      <td>114.0000</td>\n",
       "      <td>113.98200</td>\n",
       "      <td>114.239992</td>\n",
       "      <td>1</td>\n",
       "      <td>NaN</td>\n",
       "      <td>NaN</td>\n",
       "      <td>NaN</td>\n",
       "      <td>NaN</td>\n",
       "      <td>NaN</td>\n",
       "      <td>NaN</td>\n",
       "      <td>NaN</td>\n",
       "      <td>556</td>\n",
       "    </tr>\n",
       "    <tr>\n",
       "      <th>557</th>\n",
       "      <td>2019-02-13 12:30:00</td>\n",
       "      <td>113.87</td>\n",
       "      <td>113.870</td>\n",
       "      <td>113.790</td>\n",
       "      <td>113.730101</td>\n",
       "      <td>113.8500</td>\n",
       "      <td>113.95000</td>\n",
       "      <td>114.169899</td>\n",
       "      <td>-1</td>\n",
       "      <td>NaN</td>\n",
       "      <td>NaN</td>\n",
       "      <td>NaN</td>\n",
       "      <td>NaN</td>\n",
       "      <td>NaN</td>\n",
       "      <td>NaN</td>\n",
       "      <td>NaN</td>\n",
       "      <td>557</td>\n",
       "    </tr>\n",
       "    <tr>\n",
       "      <th>558</th>\n",
       "      <td>2019-02-13 12:45:00</td>\n",
       "      <td>113.81</td>\n",
       "      <td>113.890</td>\n",
       "      <td>113.770</td>\n",
       "      <td>113.719122</td>\n",
       "      <td>113.8650</td>\n",
       "      <td>113.91900</td>\n",
       "      <td>114.118878</td>\n",
       "      <td>-1</td>\n",
       "      <td>NaN</td>\n",
       "      <td>NaN</td>\n",
       "      <td>NaN</td>\n",
       "      <td>NaN</td>\n",
       "      <td>NaN</td>\n",
       "      <td>NaN</td>\n",
       "      <td>NaN</td>\n",
       "      <td>558</td>\n",
       "    </tr>\n",
       "    <tr>\n",
       "      <th>559</th>\n",
       "      <td>2019-02-13 13:00:00</td>\n",
       "      <td>113.86</td>\n",
       "      <td>113.860</td>\n",
       "      <td>113.790</td>\n",
       "      <td>113.708235</td>\n",
       "      <td>113.8000</td>\n",
       "      <td>113.90900</td>\n",
       "      <td>114.109765</td>\n",
       "      <td>-1</td>\n",
       "      <td>NaN</td>\n",
       "      <td>NaN</td>\n",
       "      <td>NaN</td>\n",
       "      <td>NaN</td>\n",
       "      <td>NaN</td>\n",
       "      <td>NaN</td>\n",
       "      <td>NaN</td>\n",
       "      <td>559</td>\n",
       "    </tr>\n",
       "  </tbody>\n",
       "</table>\n",
       "</div>"
      ],
      "text/plain": [
       "              timestamp       c        h        l  lower_band         o  \\\n",
       "550 2019-02-13 10:45:00  113.74  113.980  113.720  113.317057  113.9500   \n",
       "551 2019-02-13 11:00:00  113.90  113.905  113.680  113.325960  113.7500   \n",
       "552 2019-02-13 11:15:00  113.99  114.045  113.870  113.367005  113.8700   \n",
       "553 2019-02-13 11:30:00  114.04  114.130  113.935  113.394339  113.9800   \n",
       "554 2019-02-13 11:45:00  114.04  114.040  113.850  113.539625  114.0400   \n",
       "555 2019-02-13 12:00:00  113.98  114.010  113.920  113.594123  113.9949   \n",
       "556 2019-02-13 12:15:00  113.86  114.000  113.810  113.724008  114.0000   \n",
       "557 2019-02-13 12:30:00  113.87  113.870  113.790  113.730101  113.8500   \n",
       "558 2019-02-13 12:45:00  113.81  113.890  113.770  113.719122  113.8650   \n",
       "559 2019-02-13 13:00:00  113.86  113.860  113.790  113.708235  113.8000   \n",
       "\n",
       "           sma  upper_band  bb_signal  position  unrealized  realized  \\\n",
       "550  113.93401  114.550963          1       NaN         NaN       NaN   \n",
       "551  113.94001  114.554060         -1       NaN         NaN       NaN   \n",
       "552  113.96501  114.563015          1       NaN         NaN       NaN   \n",
       "553  113.98600  114.577661          1       NaN         NaN       NaN   \n",
       "554  114.03700  114.534375          1       NaN         NaN       NaN   \n",
       "555  114.05800  114.521877         -1       NaN         NaN       NaN   \n",
       "556  113.98200  114.239992          1       NaN         NaN       NaN   \n",
       "557  113.95000  114.169899         -1       NaN         NaN       NaN   \n",
       "558  113.91900  114.118878         -1       NaN         NaN       NaN   \n",
       "559  113.90900  114.109765         -1       NaN         NaN       NaN   \n",
       "\n",
       "     commission  fee  net_pnl  equity    i  \n",
       "550         NaN  NaN      NaN     NaN  550  \n",
       "551         NaN  NaN      NaN     NaN  551  \n",
       "552         NaN  NaN      NaN     NaN  552  \n",
       "553         NaN  NaN      NaN     NaN  553  \n",
       "554         NaN  NaN      NaN     NaN  554  \n",
       "555         NaN  NaN      NaN     NaN  555  \n",
       "556         NaN  NaN      NaN     NaN  556  \n",
       "557         NaN  NaN      NaN     NaN  557  \n",
       "558         NaN  NaN      NaN     NaN  558  \n",
       "559         NaN  NaN      NaN     NaN  559  "
      ]
     },
     "execution_count": 2,
     "metadata": {},
     "output_type": "execute_result"
    }
   ],
   "source": [
    "strategy.df_data().iloc[550:560]"
   ]
  },
  {
   "cell_type": "markdown",
   "metadata": {},
   "source": [
    "You can also look at just the PNL or just the marketdata by themselves."
   ]
  },
  {
   "cell_type": "code",
   "execution_count": 3,
   "metadata": {
    "ExecuteTime": {
     "end_time": "2023-10-14T21:04:03.188546Z",
     "start_time": "2023-10-14T21:04:03.181944Z"
    },
    "run_control": {
     "frozen": false,
     "read_only": false
    }
   },
   "outputs": [
    {
     "data": {
      "text/html": [
       "<div>\n",
       "<style scoped>\n",
       "    .dataframe tbody tr th:only-of-type {\n",
       "        vertical-align: middle;\n",
       "    }\n",
       "\n",
       "    .dataframe tbody tr th {\n",
       "        vertical-align: top;\n",
       "    }\n",
       "\n",
       "    .dataframe thead th {\n",
       "        text-align: right;\n",
       "    }\n",
       "</style>\n",
       "<table border=\"1\" class=\"dataframe\">\n",
       "  <thead>\n",
       "    <tr style=\"text-align: right;\">\n",
       "      <th></th>\n",
       "      <th>timestamp</th>\n",
       "      <th>position</th>\n",
       "      <th>unrealized</th>\n",
       "      <th>realized</th>\n",
       "      <th>commission</th>\n",
       "      <th>fee</th>\n",
       "      <th>net_pnl</th>\n",
       "      <th>equity</th>\n",
       "    </tr>\n",
       "  </thead>\n",
       "  <tbody>\n",
       "    <tr>\n",
       "      <th>0</th>\n",
       "      <td>2019-01-14 16:00:00</td>\n",
       "      <td>930.0</td>\n",
       "      <td>-209.25</td>\n",
       "      <td>-144.30500</td>\n",
       "      <td>4650.0</td>\n",
       "      <td>0.0</td>\n",
       "      <td>-5003.55500</td>\n",
       "      <td>9.949964e+05</td>\n",
       "    </tr>\n",
       "    <tr>\n",
       "      <th>1</th>\n",
       "      <td>2019-01-15 16:00:00</td>\n",
       "      <td>920.0</td>\n",
       "      <td>144.90</td>\n",
       "      <td>720.59500</td>\n",
       "      <td>4600.0</td>\n",
       "      <td>0.0</td>\n",
       "      <td>-3734.50500</td>\n",
       "      <td>9.962655e+05</td>\n",
       "    </tr>\n",
       "    <tr>\n",
       "      <th>2</th>\n",
       "      <td>2019-01-16 16:00:00</td>\n",
       "      <td>0.0</td>\n",
       "      <td>0.00</td>\n",
       "      <td>215.01495</td>\n",
       "      <td>0.0</td>\n",
       "      <td>0.0</td>\n",
       "      <td>215.01495</td>\n",
       "      <td>1.000215e+06</td>\n",
       "    </tr>\n",
       "    <tr>\n",
       "      <th>3</th>\n",
       "      <td>2019-01-17 16:00:00</td>\n",
       "      <td>917.0</td>\n",
       "      <td>-73.36</td>\n",
       "      <td>459.50495</td>\n",
       "      <td>4585.0</td>\n",
       "      <td>0.0</td>\n",
       "      <td>-4198.85505</td>\n",
       "      <td>9.958011e+05</td>\n",
       "    </tr>\n",
       "    <tr>\n",
       "      <th>4</th>\n",
       "      <td>2019-01-18 16:00:00</td>\n",
       "      <td>917.0</td>\n",
       "      <td>678.58</td>\n",
       "      <td>459.50495</td>\n",
       "      <td>4585.0</td>\n",
       "      <td>0.0</td>\n",
       "      <td>-3446.91505</td>\n",
       "      <td>9.965531e+05</td>\n",
       "    </tr>\n",
       "  </tbody>\n",
       "</table>\n",
       "</div>"
      ],
      "text/plain": [
       "            timestamp  position  unrealized   realized  commission  fee  \\\n",
       "0 2019-01-14 16:00:00     930.0     -209.25 -144.30500      4650.0  0.0   \n",
       "1 2019-01-15 16:00:00     920.0      144.90  720.59500      4600.0  0.0   \n",
       "2 2019-01-16 16:00:00       0.0        0.00  215.01495         0.0  0.0   \n",
       "3 2019-01-17 16:00:00     917.0      -73.36  459.50495      4585.0  0.0   \n",
       "4 2019-01-18 16:00:00     917.0      678.58  459.50495      4585.0  0.0   \n",
       "\n",
       "      net_pnl        equity  \n",
       "0 -5003.55500  9.949964e+05  \n",
       "1 -3734.50500  9.962655e+05  \n",
       "2   215.01495  1.000215e+06  \n",
       "3 -4198.85505  9.958011e+05  \n",
       "4 -3446.91505  9.965531e+05  "
      ]
     },
     "execution_count": 3,
     "metadata": {},
     "output_type": "execute_result"
    }
   ],
   "source": [
    "strategy.df_pnl().head()"
   ]
  },
  {
   "cell_type": "markdown",
   "metadata": {},
   "source": [
    "We can look at orders and trades that were created during this run"
   ]
  },
  {
   "cell_type": "code",
   "execution_count": 4,
   "metadata": {
    "ExecuteTime": {
     "end_time": "2023-10-14T21:04:03.194599Z",
     "start_time": "2023-10-14T21:04:03.189705Z"
    },
    "run_control": {
     "frozen": false,
     "read_only": false
    }
   },
   "outputs": [
    {
     "data": {
      "text/html": [
       "<div>\n",
       "<style scoped>\n",
       "    .dataframe tbody tr th:only-of-type {\n",
       "        vertical-align: middle;\n",
       "    }\n",
       "\n",
       "    .dataframe tbody tr th {\n",
       "        vertical-align: top;\n",
       "    }\n",
       "\n",
       "    .dataframe thead th {\n",
       "        text-align: right;\n",
       "    }\n",
       "</style>\n",
       "<table border=\"1\" class=\"dataframe\">\n",
       "  <thead>\n",
       "    <tr style=\"text-align: right;\">\n",
       "      <th></th>\n",
       "      <th>symbol</th>\n",
       "      <th>type</th>\n",
       "      <th>timestamp</th>\n",
       "      <th>qty</th>\n",
       "      <th>reason_code</th>\n",
       "      <th>order_props</th>\n",
       "      <th>contract_props</th>\n",
       "    </tr>\n",
       "  </thead>\n",
       "  <tbody>\n",
       "    <tr>\n",
       "      <th>0</th>\n",
       "      <td>PEP</td>\n",
       "      <td>StopLimitOrder</td>\n",
       "      <td>2019-01-14 09:45:00</td>\n",
       "      <td>931.0</td>\n",
       "      <td>enter long</td>\n",
       "      <td></td>\n",
       "      <td></td>\n",
       "    </tr>\n",
       "    <tr>\n",
       "      <th>1</th>\n",
       "      <td>PEP</td>\n",
       "      <td>MarketOrder</td>\n",
       "      <td>2019-01-14 12:15:00</td>\n",
       "      <td>-931.0</td>\n",
       "      <td>exit long</td>\n",
       "      <td></td>\n",
       "      <td></td>\n",
       "    </tr>\n",
       "    <tr>\n",
       "      <th>2</th>\n",
       "      <td>PEP</td>\n",
       "      <td>StopLimitOrder</td>\n",
       "      <td>2019-01-14 13:45:00</td>\n",
       "      <td>930.0</td>\n",
       "      <td>enter long</td>\n",
       "      <td></td>\n",
       "      <td></td>\n",
       "    </tr>\n",
       "    <tr>\n",
       "      <th>3</th>\n",
       "      <td>PEP</td>\n",
       "      <td>MarketOrder</td>\n",
       "      <td>2019-01-15 13:30:00</td>\n",
       "      <td>-930.0</td>\n",
       "      <td>exit long</td>\n",
       "      <td></td>\n",
       "      <td></td>\n",
       "    </tr>\n",
       "    <tr>\n",
       "      <th>4</th>\n",
       "      <td>PEP</td>\n",
       "      <td>StopLimitOrder</td>\n",
       "      <td>2019-01-15 15:30:00</td>\n",
       "      <td>920.0</td>\n",
       "      <td>enter long</td>\n",
       "      <td></td>\n",
       "      <td></td>\n",
       "    </tr>\n",
       "  </tbody>\n",
       "</table>\n",
       "</div>"
      ],
      "text/plain": [
       "  symbol            type           timestamp    qty reason_code order_props  \\\n",
       "0    PEP  StopLimitOrder 2019-01-14 09:45:00  931.0  enter long               \n",
       "1    PEP     MarketOrder 2019-01-14 12:15:00 -931.0   exit long               \n",
       "2    PEP  StopLimitOrder 2019-01-14 13:45:00  930.0  enter long               \n",
       "3    PEP     MarketOrder 2019-01-15 13:30:00 -930.0   exit long               \n",
       "4    PEP  StopLimitOrder 2019-01-15 15:30:00  920.0  enter long               \n",
       "\n",
       "  contract_props  \n",
       "0                 \n",
       "1                 \n",
       "2                 \n",
       "3                 \n",
       "4                 "
      ]
     },
     "execution_count": 4,
     "metadata": {},
     "output_type": "execute_result"
    }
   ],
   "source": [
    "strategy.df_orders().head()"
   ]
  },
  {
   "cell_type": "code",
   "execution_count": 5,
   "metadata": {
    "ExecuteTime": {
     "end_time": "2023-10-14T21:04:03.203528Z",
     "start_time": "2023-10-14T21:04:03.195765Z"
    },
    "run_control": {
     "frozen": false,
     "read_only": false
    }
   },
   "outputs": [
    {
     "data": {
      "text/html": [
       "<div>\n",
       "<style scoped>\n",
       "    .dataframe tbody tr th:only-of-type {\n",
       "        vertical-align: middle;\n",
       "    }\n",
       "\n",
       "    .dataframe tbody tr th {\n",
       "        vertical-align: top;\n",
       "    }\n",
       "\n",
       "    .dataframe thead th {\n",
       "        text-align: right;\n",
       "    }\n",
       "</style>\n",
       "<table border=\"1\" class=\"dataframe\">\n",
       "  <thead>\n",
       "    <tr style=\"text-align: right;\">\n",
       "      <th></th>\n",
       "      <th>symbol</th>\n",
       "      <th>timestamp</th>\n",
       "      <th>qty</th>\n",
       "      <th>price</th>\n",
       "      <th>fee</th>\n",
       "      <th>commission</th>\n",
       "      <th>order_date</th>\n",
       "      <th>order_qty</th>\n",
       "      <th>reason_code</th>\n",
       "      <th>order_props</th>\n",
       "      <th>contract_props</th>\n",
       "    </tr>\n",
       "  </thead>\n",
       "  <tbody>\n",
       "    <tr>\n",
       "      <th>0</th>\n",
       "      <td>PEP</td>\n",
       "      <td>2019-01-14 10:00:00</td>\n",
       "      <td>931.0</td>\n",
       "      <td>107.4800</td>\n",
       "      <td>0</td>\n",
       "      <td>4655.0</td>\n",
       "      <td>2019-01-14 09:45:00</td>\n",
       "      <td>931.0</td>\n",
       "      <td>enter long</td>\n",
       "      <td></td>\n",
       "      <td></td>\n",
       "    </tr>\n",
       "    <tr>\n",
       "      <th>1</th>\n",
       "      <td>PEP</td>\n",
       "      <td>2019-01-14 12:30:00</td>\n",
       "      <td>-931.0</td>\n",
       "      <td>107.3250</td>\n",
       "      <td>0</td>\n",
       "      <td>-4655.0</td>\n",
       "      <td>2019-01-14 12:15:00</td>\n",
       "      <td>-931.0</td>\n",
       "      <td>exit long</td>\n",
       "      <td></td>\n",
       "      <td></td>\n",
       "    </tr>\n",
       "    <tr>\n",
       "      <th>2</th>\n",
       "      <td>PEP</td>\n",
       "      <td>2019-01-14 14:00:00</td>\n",
       "      <td>930.0</td>\n",
       "      <td>107.5750</td>\n",
       "      <td>0</td>\n",
       "      <td>4650.0</td>\n",
       "      <td>2019-01-14 13:45:00</td>\n",
       "      <td>930.0</td>\n",
       "      <td>enter long</td>\n",
       "      <td></td>\n",
       "      <td></td>\n",
       "    </tr>\n",
       "    <tr>\n",
       "      <th>3</th>\n",
       "      <td>PEP</td>\n",
       "      <td>2019-01-15 13:45:00</td>\n",
       "      <td>-930.0</td>\n",
       "      <td>108.5050</td>\n",
       "      <td>0</td>\n",
       "      <td>-4650.0</td>\n",
       "      <td>2019-01-15 13:30:00</td>\n",
       "      <td>-930.0</td>\n",
       "      <td>exit long</td>\n",
       "      <td></td>\n",
       "      <td></td>\n",
       "    </tr>\n",
       "    <tr>\n",
       "      <th>4</th>\n",
       "      <td>PEP</td>\n",
       "      <td>2019-01-15 15:45:00</td>\n",
       "      <td>920.0</td>\n",
       "      <td>108.8225</td>\n",
       "      <td>0</td>\n",
       "      <td>4600.0</td>\n",
       "      <td>2019-01-15 15:30:00</td>\n",
       "      <td>920.0</td>\n",
       "      <td>enter long</td>\n",
       "      <td></td>\n",
       "      <td></td>\n",
       "    </tr>\n",
       "  </tbody>\n",
       "</table>\n",
       "</div>"
      ],
      "text/plain": [
       "  symbol           timestamp    qty     price  fee  commission  \\\n",
       "0    PEP 2019-01-14 10:00:00  931.0  107.4800    0      4655.0   \n",
       "1    PEP 2019-01-14 12:30:00 -931.0  107.3250    0     -4655.0   \n",
       "2    PEP 2019-01-14 14:00:00  930.0  107.5750    0      4650.0   \n",
       "3    PEP 2019-01-15 13:45:00 -930.0  108.5050    0     -4650.0   \n",
       "4    PEP 2019-01-15 15:45:00  920.0  108.8225    0      4600.0   \n",
       "\n",
       "           order_date  order_qty reason_code order_props contract_props  \n",
       "0 2019-01-14 09:45:00      931.0  enter long                             \n",
       "1 2019-01-14 12:15:00     -931.0   exit long                             \n",
       "2 2019-01-14 13:45:00      930.0  enter long                             \n",
       "3 2019-01-15 13:30:00     -930.0   exit long                             \n",
       "4 2019-01-15 15:30:00      920.0  enter long                             "
      ]
     },
     "execution_count": 5,
     "metadata": {},
     "output_type": "execute_result"
    }
   ],
   "source": [
    "strategy.df_trades().head()"
   ]
  },
  {
   "cell_type": "code",
   "execution_count": 22,
   "metadata": {
    "ExecuteTime": {
     "end_time": "2023-10-14T21:09:41.278688Z",
     "start_time": "2023-10-14T21:09:41.246364Z"
    }
   },
   "outputs": [
    {
     "data": {
      "text/html": [
       "<div>\n",
       "<style scoped>\n",
       "    .dataframe tbody tr th:only-of-type {\n",
       "        vertical-align: middle;\n",
       "    }\n",
       "\n",
       "    .dataframe tbody tr th {\n",
       "        vertical-align: top;\n",
       "    }\n",
       "\n",
       "    .dataframe thead th {\n",
       "        text-align: right;\n",
       "    }\n",
       "</style>\n",
       "<table border=\"1\" class=\"dataframe\">\n",
       "  <thead>\n",
       "    <tr style=\"text-align: right;\">\n",
       "      <th></th>\n",
       "      <th>symbol</th>\n",
       "      <th>multiplier</th>\n",
       "      <th>entry_timestamp</th>\n",
       "      <th>exit_timestamp</th>\n",
       "      <th>qty</th>\n",
       "      <th>entry_price</th>\n",
       "      <th>exit_price</th>\n",
       "      <th>entry_reason</th>\n",
       "      <th>exit_reason</th>\n",
       "      <th>entry_commission</th>\n",
       "      <th>exit_commission</th>\n",
       "      <th>net_pnl</th>\n",
       "    </tr>\n",
       "  </thead>\n",
       "  <tbody>\n",
       "    <tr>\n",
       "      <th>0</th>\n",
       "      <td>PEP</td>\n",
       "      <td>1.0</td>\n",
       "      <td>2019-01-14 10:00:00</td>\n",
       "      <td>2019-01-14 12:30:00</td>\n",
       "      <td>931.0</td>\n",
       "      <td>107.48000</td>\n",
       "      <td>107.3250</td>\n",
       "      <td>enter long</td>\n",
       "      <td>exit long</td>\n",
       "      <td>4655.0</td>\n",
       "      <td>-4655.0</td>\n",
       "      <td>-144.30500</td>\n",
       "    </tr>\n",
       "    <tr>\n",
       "      <th>1</th>\n",
       "      <td>PEP</td>\n",
       "      <td>1.0</td>\n",
       "      <td>2019-01-14 14:00:00</td>\n",
       "      <td>2019-01-15 13:45:00</td>\n",
       "      <td>930.0</td>\n",
       "      <td>107.57500</td>\n",
       "      <td>108.5050</td>\n",
       "      <td>enter long</td>\n",
       "      <td>exit long</td>\n",
       "      <td>4650.0</td>\n",
       "      <td>-4650.0</td>\n",
       "      <td>864.90000</td>\n",
       "    </tr>\n",
       "    <tr>\n",
       "      <th>2</th>\n",
       "      <td>PEP</td>\n",
       "      <td>1.0</td>\n",
       "      <td>2019-01-15 15:45:00</td>\n",
       "      <td>2019-01-16 10:15:00</td>\n",
       "      <td>920.0</td>\n",
       "      <td>108.82250</td>\n",
       "      <td>108.4575</td>\n",
       "      <td>enter long</td>\n",
       "      <td>exit long</td>\n",
       "      <td>4600.0</td>\n",
       "      <td>-4600.0</td>\n",
       "      <td>-335.80000</td>\n",
       "    </tr>\n",
       "    <tr>\n",
       "      <th>3</th>\n",
       "      <td>PEP</td>\n",
       "      <td>1.0</td>\n",
       "      <td>2019-01-16 11:30:00</td>\n",
       "      <td>2019-01-16 13:30:00</td>\n",
       "      <td>-927.0</td>\n",
       "      <td>107.90185</td>\n",
       "      <td>108.0850</td>\n",
       "      <td>enter short</td>\n",
       "      <td>exit short</td>\n",
       "      <td>-4635.0</td>\n",
       "      <td>4635.0</td>\n",
       "      <td>-169.78005</td>\n",
       "    </tr>\n",
       "    <tr>\n",
       "      <th>4</th>\n",
       "      <td>PEP</td>\n",
       "      <td>1.0</td>\n",
       "      <td>2019-01-17 09:45:00</td>\n",
       "      <td>2019-01-17 12:30:00</td>\n",
       "      <td>923.0</td>\n",
       "      <td>108.50000</td>\n",
       "      <td>108.7300</td>\n",
       "      <td>enter long</td>\n",
       "      <td>exit long</td>\n",
       "      <td>4615.0</td>\n",
       "      <td>-4615.0</td>\n",
       "      <td>212.29000</td>\n",
       "    </tr>\n",
       "  </tbody>\n",
       "</table>\n",
       "</div>"
      ],
      "text/plain": [
       "  symbol  multiplier     entry_timestamp      exit_timestamp    qty  \\\n",
       "0    PEP         1.0 2019-01-14 10:00:00 2019-01-14 12:30:00  931.0   \n",
       "1    PEP         1.0 2019-01-14 14:00:00 2019-01-15 13:45:00  930.0   \n",
       "2    PEP         1.0 2019-01-15 15:45:00 2019-01-16 10:15:00  920.0   \n",
       "3    PEP         1.0 2019-01-16 11:30:00 2019-01-16 13:30:00 -927.0   \n",
       "4    PEP         1.0 2019-01-17 09:45:00 2019-01-17 12:30:00  923.0   \n",
       "\n",
       "   entry_price  exit_price entry_reason exit_reason  entry_commission  \\\n",
       "0    107.48000    107.3250   enter long   exit long            4655.0   \n",
       "1    107.57500    108.5050   enter long   exit long            4650.0   \n",
       "2    108.82250    108.4575   enter long   exit long            4600.0   \n",
       "3    107.90185    108.0850  enter short  exit short           -4635.0   \n",
       "4    108.50000    108.7300   enter long   exit long            4615.0   \n",
       "\n",
       "   exit_commission    net_pnl  \n",
       "0          -4655.0 -144.30500  \n",
       "1          -4650.0  864.90000  \n",
       "2          -4600.0 -335.80000  \n",
       "3           4635.0 -169.78005  \n",
       "4          -4615.0  212.29000  "
      ]
     },
     "execution_count": 22,
     "metadata": {},
     "output_type": "execute_result"
    }
   ],
   "source": [
    "strategy.df_roundtrip_trades().head()"
   ]
  },
  {
   "cell_type": "markdown",
   "metadata": {
    "ExecuteTime": {
     "end_time": "2018-08-10T21:09:59.531818Z",
     "start_time": "2018-08-10T21:09:59.499471Z"
    }
   },
   "source": [
    "You can also look at the returns at the portfolio level (i.e. summing up several strategies)"
   ]
  },
  {
   "cell_type": "code",
   "execution_count": 6,
   "metadata": {
    "ExecuteTime": {
     "end_time": "2023-10-14T21:04:03.215129Z",
     "start_time": "2023-10-14T21:04:03.204440Z"
    },
    "run_control": {
     "frozen": false,
     "read_only": false
    }
   },
   "outputs": [
    {
     "data": {
      "text/html": [
       "<div>\n",
       "<style scoped>\n",
       "    .dataframe tbody tr th:only-of-type {\n",
       "        vertical-align: middle;\n",
       "    }\n",
       "\n",
       "    .dataframe tbody tr th {\n",
       "        vertical-align: top;\n",
       "    }\n",
       "\n",
       "    .dataframe thead th {\n",
       "        text-align: right;\n",
       "    }\n",
       "</style>\n",
       "<table border=\"1\" class=\"dataframe\">\n",
       "  <thead>\n",
       "    <tr style=\"text-align: right;\">\n",
       "      <th></th>\n",
       "      <th>timestamp</th>\n",
       "      <th>net_pnl</th>\n",
       "      <th>equity</th>\n",
       "      <th>ret</th>\n",
       "    </tr>\n",
       "  </thead>\n",
       "  <tbody>\n",
       "    <tr>\n",
       "      <th>0</th>\n",
       "      <td>2019-01-14</td>\n",
       "      <td>-5003.55500</td>\n",
       "      <td>9.949964e+05</td>\n",
       "      <td>-0.005004</td>\n",
       "    </tr>\n",
       "    <tr>\n",
       "      <th>1</th>\n",
       "      <td>2019-01-15</td>\n",
       "      <td>-3734.50500</td>\n",
       "      <td>9.962655e+05</td>\n",
       "      <td>0.001275</td>\n",
       "    </tr>\n",
       "    <tr>\n",
       "      <th>2</th>\n",
       "      <td>2019-01-16</td>\n",
       "      <td>215.01495</td>\n",
       "      <td>1.000215e+06</td>\n",
       "      <td>0.003964</td>\n",
       "    </tr>\n",
       "    <tr>\n",
       "      <th>3</th>\n",
       "      <td>2019-01-17</td>\n",
       "      <td>-4198.85505</td>\n",
       "      <td>9.958011e+05</td>\n",
       "      <td>-0.004413</td>\n",
       "    </tr>\n",
       "    <tr>\n",
       "      <th>4</th>\n",
       "      <td>2019-01-18</td>\n",
       "      <td>-3446.91505</td>\n",
       "      <td>9.965531e+05</td>\n",
       "      <td>0.000755</td>\n",
       "    </tr>\n",
       "  </tbody>\n",
       "</table>\n",
       "</div>"
      ],
      "text/plain": [
       "   timestamp     net_pnl        equity       ret\n",
       "0 2019-01-14 -5003.55500  9.949964e+05 -0.005004\n",
       "1 2019-01-15 -3734.50500  9.962655e+05  0.001275\n",
       "2 2019-01-16   215.01495  1.000215e+06  0.003964\n",
       "3 2019-01-17 -4198.85505  9.958011e+05 -0.004413\n",
       "4 2019-01-18 -3446.91505  9.965531e+05  0.000755"
      ]
     },
     "execution_count": 6,
     "metadata": {},
     "output_type": "execute_result"
    }
   ],
   "source": [
    "strategy.df_returns().head()"
   ]
  },
  {
   "cell_type": "markdown",
   "metadata": {},
   "source": [
    "We can get data as native Python objects as opposed to pandas dataframes."
   ]
  },
  {
   "cell_type": "code",
   "execution_count": 7,
   "metadata": {
    "ExecuteTime": {
     "end_time": "2023-10-14T21:04:03.219166Z",
     "start_time": "2023-10-14T21:04:03.216295Z"
    },
    "run_control": {
     "frozen": false,
     "read_only": false
    }
   },
   "outputs": [
    {
     "data": {
      "text/plain": [
       "[PEP 2019-01-15 13:45:00 qty: -930.0 prc: 108.505 commission: -4650 order: PEP 2019-01-15 13:30:00 qty: -930.0 exit long filled,\n",
       " PEP 2019-01-15 15:45:00 qty: 920.0 prc: 108.822 commission: 4600 order: PEP 2019-01-15 15:30:00 qty: 920.0 trigger_prc: 108.755 limit_prc: nan enter long filled,\n",
       " PEP 2019-01-16 10:15:00 qty: -920.0 prc: 108.458 commission: -4600 order: PEP 2019-01-16 10:00:00 qty: -920.0 exit long filled,\n",
       " PEP 2019-01-16 11:30:00 qty: -927.0 prc: 107.902 commission: -4635 order: PEP 2019-01-16 11:15:00 qty: -927.0 trigger_prc: 107.91 limit_prc: nan enter short filled,\n",
       " PEP 2019-01-16 13:30:00 qty: 927.0 prc: 108.085 commission: 4635 order: PEP 2019-01-16 13:15:00 qty: 927.0 exit short filled,\n",
       " PEP 2019-01-17 09:45:00 qty: 923.0 prc: 108.5 commission: 4615 order: PEP 2019-01-16 16:00:00 qty: 923.0 trigger_prc: 108.33 limit_prc: nan enter long filled,\n",
       " PEP 2019-01-17 12:30:00 qty: -923.0 prc: 108.73 commission: -4615 order: PEP 2019-01-17 12:15:00 qty: -923.0 exit long filled,\n",
       " PEP 2019-01-17 12:45:00 qty: -920.0 prc: 108.74 commission: -4600 order: PEP 2019-01-17 12:30:00 qty: -920.0 trigger_prc: 108.76 limit_prc: nan enter short filled,\n",
       " PEP 2019-01-17 14:30:00 qty: 920.0 prc: 108.705 commission: 4600 order: PEP 2019-01-17 14:15:00 qty: 920.0 exit short filled,\n",
       " PEP 2019-01-17 15:00:00 qty: 917.0 prc: 109.3 commission: 4585 order: PEP 2019-01-17 14:45:00 qty: 917.0 trigger_prc: 109.16 limit_prc: nan enter long filled]"
      ]
     },
     "execution_count": 7,
     "metadata": {},
     "output_type": "execute_result"
    }
   ],
   "source": [
    "strategy.trades(start_date = np.datetime64('2019-01-15'), end_date = np.datetime64('2019-01-20'))"
   ]
  },
  {
   "cell_type": "markdown",
   "metadata": {},
   "source": [
    "## Adding your Own Metrics ##\n",
    "\n",
    "Each strategy may have metrics that you want to measure that are specific to that strategy.  To add these, you can use the Evaluator object which can make things easier.\n",
    "\n",
    "To evaluate a strategy we use the evaluate returns function."
   ]
  },
  {
   "cell_type": "code",
   "execution_count": 8,
   "metadata": {
    "ExecuteTime": {
     "end_time": "2023-10-14T21:04:03.234541Z",
     "start_time": "2023-10-14T21:04:03.220371Z"
    },
    "run_control": {
     "frozen": false,
     "read_only": false
    }
   },
   "outputs": [
    {
     "data": {
      "text/html": [
       "<div>\n",
       "<style scoped>\n",
       "    .dataframe tbody tr th:only-of-type {\n",
       "        vertical-align: middle;\n",
       "    }\n",
       "\n",
       "    .dataframe tbody tr th {\n",
       "        vertical-align: top;\n",
       "    }\n",
       "\n",
       "    .dataframe thead th {\n",
       "        text-align: right;\n",
       "    }\n",
       "</style>\n",
       "<table border=\"1\" class=\"dataframe\">\n",
       "  <thead>\n",
       "    <tr style=\"text-align: right;\">\n",
       "      <th></th>\n",
       "      <th>gmean</th>\n",
       "      <th>amean</th>\n",
       "      <th>std</th>\n",
       "      <th>shrp</th>\n",
       "      <th>srt</th>\n",
       "      <th>k</th>\n",
       "      <th>calmar</th>\n",
       "      <th>mar</th>\n",
       "      <th>mdd_pct</th>\n",
       "      <th>mdd_dates</th>\n",
       "      <th>dd_3y_pct</th>\n",
       "      <th>dd_3y_timestamps</th>\n",
       "      <th>up_dwn</th>\n",
       "      <th>2019</th>\n",
       "    </tr>\n",
       "  </thead>\n",
       "  <tbody>\n",
       "    <tr>\n",
       "      <th></th>\n",
       "      <td>-0.09256</td>\n",
       "      <td>-0.09515</td>\n",
       "      <td>0.003949</td>\n",
       "      <td>-1.518</td>\n",
       "      <td>-2.791</td>\n",
       "      <td>4.772</td>\n",
       "      <td>-6.894</td>\n",
       "      <td>-6.894</td>\n",
       "      <td>0.0138</td>\n",
       "      <td>2019-01-25/2019-02-26</td>\n",
       "      <td>0.0138</td>\n",
       "      <td>2019-01-25/2019-02-26</td>\n",
       "      <td>11/19/0.367</td>\n",
       "      <td>-0.09256</td>\n",
       "    </tr>\n",
       "  </tbody>\n",
       "</table>\n",
       "</div>"
      ],
      "text/plain": [
       "     gmean     amean       std    shrp     srt      k  calmar     mar mdd_pct  \\\n",
       "  -0.09256  -0.09515  0.003949  -1.518  -2.791  4.772  -6.894  -6.894  0.0138   \n",
       "\n",
       "              mdd_dates dd_3y_pct       dd_3y_timestamps       up_dwn  \\\n",
       "  2019-01-25/2019-02-26    0.0138  2019-01-25/2019-02-26  11/19/0.367   \n",
       "\n",
       "      2019  \n",
       "  -0.09256  "
      ]
     },
     "metadata": {},
     "output_type": "display_data"
    }
   ],
   "source": [
    "strategy.evaluate_returns(plot = False);"
   ]
  },
  {
   "cell_type": "markdown",
   "metadata": {},
   "source": [
    "What if we want to add some more metrics to this.  For example, lets say we want to add a metric that looks at how many long trades we had versus short trades.  We can do this using an Evaluator object."
   ]
  },
  {
   "cell_type": "code",
   "execution_count": 9,
   "metadata": {
    "ExecuteTime": {
     "end_time": "2023-10-14T21:04:03.238478Z",
     "start_time": "2023-10-14T21:04:03.235620Z"
    },
    "run_control": {
     "frozen": false,
     "read_only": false
    }
   },
   "outputs": [
    {
     "name": "stdout",
     "output_type": "stream",
     "text": [
      "Long Trades: 29 Short Trades: 20\n"
     ]
    }
   ],
   "source": [
    "def compute_num_long_trades(trades):\n",
    "    return len([trade for trade in trades if trade.order.reason_code == pq.ReasonCode.ENTER_LONG])\n",
    "\n",
    "def compute_num_short_trades(trades):\n",
    "    return len([trade for trade in trades if trade.order.reason_code == pq.ReasonCode.ENTER_SHORT])\n",
    "\n",
    "evaluator = pq.Evaluator(initial_metrics = {'trades' : strategy.trades()})\n",
    "\n",
    "evaluator.add_metric('num_long_trades', compute_num_long_trades, dependencies = ['trades'])\n",
    "evaluator.add_metric('num_short_trades', compute_num_short_trades, dependencies = ['trades'])\n",
    "\n",
    "evaluator.compute()\n",
    "\n",
    "print('Long Trades: {} Short Trades: {}'.format(evaluator.metric('num_long_trades'), evaluator.metric('num_short_trades')))"
   ]
  },
  {
   "cell_type": "markdown",
   "metadata": {
    "ExecuteTime": {
     "end_time": "2018-08-10T21:35:46.005492Z",
     "start_time": "2018-08-10T21:35:46.002539Z"
    }
   },
   "source": [
    "The Evaluator takes care of dependency management so that if you want to compute a metric that relies on other metrics, it will compute the metrics in the right order.\n",
    "\n",
    "Lets compute Maximum Adverse Execution for each trade.  MAE tells you the maximum loss each trade in its lifetime.  It's useful for figuring out where to put trailing stops. For example, if most of your profitable trades had a maximum loss during their life up to 5% but many losing trades had losses of 50% and 60%, it might make sense to place a trailing stop around 6% or 7% so you don't get stopped out of your profitable trades but get out of the losing ones quickly.  See Jaekle and Tomasini, page 66 for details\n",
    "\n",
    "To do this we first have to first pair up entry and exit trades into a single \"round-trip\" trade."
   ]
  },
  {
   "cell_type": "code",
   "execution_count": 10,
   "metadata": {
    "ExecuteTime": {
     "end_time": "2023-10-14T21:04:03.245370Z",
     "start_time": "2023-10-14T21:04:03.239538Z"
    },
    "run_control": {
     "frozen": false,
     "read_only": false
    }
   },
   "outputs": [],
   "source": [
    "import collections\n",
    "\n",
    "trades = strategy.trades()\n",
    "\n",
    "entry_trades = [trade for trade in trades if trade.order.reason_code == pq.ReasonCode.ENTER_LONG]\n",
    "exit_trades = [trade for trade in trades if trade.order.reason_code == pq.ReasonCode.EXIT_LONG]\n",
    "\n",
    "def compute_mae(entry_trades, exit_trades, c, timestamps):\n",
    "    mae = np.empty(len(exit_trades)) * np.nan\n",
    "    \n",
    "    round_trip_pnl = np.empty(len(exit_trades)) * np.nan\n",
    "\n",
    "    for i, exit in enumerate(exit_trades):\n",
    "        #if i == len(exit_trades): break\n",
    "        entry = entry_trades[i]\n",
    "        _round_trip_pnl = entry.qty * (exit.price - entry.price)\n",
    "        running_price = c[(timestamps >= entry.timestamp) & (timestamps <= exit.timestamp)]\n",
    "        running_pnl = entry.qty * (running_price - entry.price)\n",
    "        _mae = -1 * min(_round_trip_pnl, np.min(running_pnl))\n",
    "        _mae = _mae / entry.price # Get mae in % terms\n",
    "        _mae = max(0, _mae) # If we have no drawdown for this trade, set it to 0\n",
    "        mae[i] = _mae\n",
    "        round_trip_pnl[i] = _round_trip_pnl / entry.price # Also store round trip pnl for this trade since we will have to plot it\n",
    "    return mae, round_trip_pnl\n",
    "        \n",
    "def get_trades(trades, entry):\n",
    "    rc = [pq.ReasonCode.ENTER_LONG, pq.ReasonCode.ENTER_SHORT] if entry else [pq.ReasonCode.EXIT_LONG, pq.ReasonCode.EXIT_SHORT]\n",
    "    return [trade for trade in trades if trade.order.reason_code in rc]\n",
    "\n",
    "contract_group = strategy.contract_groups[0]\n",
    "\n",
    "evaluator = pq.Evaluator(initial_metrics = {'trades' : strategy.trades(),\n",
    "                                            'c' : strategy.indicator_values[contract_group].c,\n",
    "                                            'timestamps' : strategy.timestamps})\n",
    "evaluator.add_metric('entry_trades', lambda trades : get_trades(trades, True), dependencies=['trades'])\n",
    "evaluator.add_metric('exit_trades', lambda trades : get_trades(trades, False), dependencies=['trades'])\n",
    "evaluator.add_metric('mae', compute_mae, dependencies=['entry_trades', 'exit_trades', 'c', 'timestamps'])\n",
    "\n",
    "evaluator.compute()\n",
    "\n"
   ]
  },
  {
   "cell_type": "markdown",
   "metadata": {},
   "source": [
    "We could have easily run the same computation without using the Evaluator.  The main advantage of using the Evaluator is that you can reuse other metrics you are dependent on without having to recompute them each time, i.e it provides a local cache of metrics."
   ]
  },
  {
   "cell_type": "code",
   "execution_count": 20,
   "metadata": {
    "ExecuteTime": {
     "end_time": "2023-10-14T21:08:19.530095Z",
     "start_time": "2023-10-14T21:08:19.502850Z"
    },
    "run_control": {
     "frozen": false,
     "read_only": false
    }
   },
   "outputs": [
    {
     "data": {
      "application/vnd.plotly.v1+json": {
       "config": {
        "plotlyServerURL": "https://plot.ly"
       },
       "data": [
        {
         "marker": {
          "color": "green",
          "size": 10,
          "symbol": "triangle-up"
         },
         "mode": "markers",
         "name": "Profitable Trade",
         "type": "scatter",
         "x": [
          2.1180571694167254,
          0,
          0.16921096192749988,
          2.349130832570915,
          0.6260010067267889,
          0,
          4.49560751452893,
          0,
          0,
          2.0112775330396873,
          1.5648008515922114,
          3.4322811248439167
         ],
         "y": [
          8.039972112479601,
          1.956589861751065,
          0.2961191833732751,
          0.545333943275489,
          7.17814487713357,
          5.352344392651618,
          7.440027931702553,
          5.601751925559838,
          1.5250044334101258,
          1.6631718061674272,
          23.432892752594732,
          0.719671848757565
         ]
        },
        {
         "marker": {
          "color": "red",
          "size": 10,
          "symbol": "triangle-down"
         },
         "mode": "markers",
         "name": "Losing Trade",
         "type": "scatter",
         "x": [
          2.512002232973508,
          3.149164924532969,
          1.9600688032688918,
          1.967741935483866,
          1.934066941769744,
          0.8329536134148163,
          3.492659797574556,
          12.201198474668637,
          2.7756301363573614,
          4.156963289013894,
          0.6881445066879741,
          7.217589558709388,
          3.809940577640634,
          3.315985790408427,
          6.64728836858675,
          2.554599924827107,
          3.317240923219324,
          1.0102599070179112,
          1.2534267843676261,
          5.041694330102324,
          5.648886471421737,
          2.609172349244538,
          1.4443528441879998,
          1.7392093002617794,
          6.640545220441318,
          6.972614686900415,
          1.0387354906788997,
          13.454324235448814,
          10.156158690994177,
          5.1364673444769995,
          2.10783553141968,
          4.248640983218997,
          2.8586387434555016,
          8.386371560417112,
          2.7018354567047775,
          0.4484454629761889
         ],
         "y": [
          1.3426218831410595,
          3.085758919340966,
          1.5734674614013666,
          0.2930679478379948,
          1.934066941769744,
          0.5414198487196838,
          3.076866964529873,
          11.21191211185763,
          2.7756301363573614,
          3.9100149748150366,
          0.6047330513318093,
          7.012823438141752,
          3.809940577640634,
          3.0396536412077437,
          5.467296350494382,
          1.5959424263193909,
          3.317240923219324,
          1.0102599070179112,
          1.2534267843676261,
          2.813968928429266,
          5.296882190851124,
          2.609172349244538,
          1.4443528441879998,
          1.4775826418777993,
          5.5403365448652355,
          5.987353915925284,
          1.0387354906787905,
          11.578756987832863,
          10.156158690994177,
          2.365672927796022,
          2.10783553141968,
          4.0279323607141,
          1.8691099476440498,
          7.854042044095117,
          2.5167782336427615,
          0.4484454629761889
         ]
        }
       ],
       "layout": {
        "shapes": [
         {
          "opacity": 0.25,
          "type": "line",
          "x0": 0,
          "x1": 1,
          "xref": "x domain",
          "y0": 0,
          "y1": 0,
          "yref": "y"
         },
         {
          "opacity": 0.25,
          "type": "line",
          "x0": 0,
          "x1": 0,
          "xref": "x",
          "y0": 0,
          "y1": 1,
          "yref": "y domain"
         }
        ],
        "template": {
         "data": {
          "bar": [
           {
            "error_x": {
             "color": "#2a3f5f"
            },
            "error_y": {
             "color": "#2a3f5f"
            },
            "marker": {
             "line": {
              "color": "#E5ECF6",
              "width": 0.5
             },
             "pattern": {
              "fillmode": "overlay",
              "size": 10,
              "solidity": 0.2
             }
            },
            "type": "bar"
           }
          ],
          "barpolar": [
           {
            "marker": {
             "line": {
              "color": "#E5ECF6",
              "width": 0.5
             },
             "pattern": {
              "fillmode": "overlay",
              "size": 10,
              "solidity": 0.2
             }
            },
            "type": "barpolar"
           }
          ],
          "carpet": [
           {
            "aaxis": {
             "endlinecolor": "#2a3f5f",
             "gridcolor": "white",
             "linecolor": "white",
             "minorgridcolor": "white",
             "startlinecolor": "#2a3f5f"
            },
            "baxis": {
             "endlinecolor": "#2a3f5f",
             "gridcolor": "white",
             "linecolor": "white",
             "minorgridcolor": "white",
             "startlinecolor": "#2a3f5f"
            },
            "type": "carpet"
           }
          ],
          "choropleth": [
           {
            "colorbar": {
             "outlinewidth": 0,
             "ticks": ""
            },
            "type": "choropleth"
           }
          ],
          "contour": [
           {
            "colorbar": {
             "outlinewidth": 0,
             "ticks": ""
            },
            "colorscale": [
             [
              0,
              "#0d0887"
             ],
             [
              0.1111111111111111,
              "#46039f"
             ],
             [
              0.2222222222222222,
              "#7201a8"
             ],
             [
              0.3333333333333333,
              "#9c179e"
             ],
             [
              0.4444444444444444,
              "#bd3786"
             ],
             [
              0.5555555555555556,
              "#d8576b"
             ],
             [
              0.6666666666666666,
              "#ed7953"
             ],
             [
              0.7777777777777778,
              "#fb9f3a"
             ],
             [
              0.8888888888888888,
              "#fdca26"
             ],
             [
              1,
              "#f0f921"
             ]
            ],
            "type": "contour"
           }
          ],
          "contourcarpet": [
           {
            "colorbar": {
             "outlinewidth": 0,
             "ticks": ""
            },
            "type": "contourcarpet"
           }
          ],
          "heatmap": [
           {
            "colorbar": {
             "outlinewidth": 0,
             "ticks": ""
            },
            "colorscale": [
             [
              0,
              "#0d0887"
             ],
             [
              0.1111111111111111,
              "#46039f"
             ],
             [
              0.2222222222222222,
              "#7201a8"
             ],
             [
              0.3333333333333333,
              "#9c179e"
             ],
             [
              0.4444444444444444,
              "#bd3786"
             ],
             [
              0.5555555555555556,
              "#d8576b"
             ],
             [
              0.6666666666666666,
              "#ed7953"
             ],
             [
              0.7777777777777778,
              "#fb9f3a"
             ],
             [
              0.8888888888888888,
              "#fdca26"
             ],
             [
              1,
              "#f0f921"
             ]
            ],
            "type": "heatmap"
           }
          ],
          "heatmapgl": [
           {
            "colorbar": {
             "outlinewidth": 0,
             "ticks": ""
            },
            "colorscale": [
             [
              0,
              "#0d0887"
             ],
             [
              0.1111111111111111,
              "#46039f"
             ],
             [
              0.2222222222222222,
              "#7201a8"
             ],
             [
              0.3333333333333333,
              "#9c179e"
             ],
             [
              0.4444444444444444,
              "#bd3786"
             ],
             [
              0.5555555555555556,
              "#d8576b"
             ],
             [
              0.6666666666666666,
              "#ed7953"
             ],
             [
              0.7777777777777778,
              "#fb9f3a"
             ],
             [
              0.8888888888888888,
              "#fdca26"
             ],
             [
              1,
              "#f0f921"
             ]
            ],
            "type": "heatmapgl"
           }
          ],
          "histogram": [
           {
            "marker": {
             "pattern": {
              "fillmode": "overlay",
              "size": 10,
              "solidity": 0.2
             }
            },
            "type": "histogram"
           }
          ],
          "histogram2d": [
           {
            "colorbar": {
             "outlinewidth": 0,
             "ticks": ""
            },
            "colorscale": [
             [
              0,
              "#0d0887"
             ],
             [
              0.1111111111111111,
              "#46039f"
             ],
             [
              0.2222222222222222,
              "#7201a8"
             ],
             [
              0.3333333333333333,
              "#9c179e"
             ],
             [
              0.4444444444444444,
              "#bd3786"
             ],
             [
              0.5555555555555556,
              "#d8576b"
             ],
             [
              0.6666666666666666,
              "#ed7953"
             ],
             [
              0.7777777777777778,
              "#fb9f3a"
             ],
             [
              0.8888888888888888,
              "#fdca26"
             ],
             [
              1,
              "#f0f921"
             ]
            ],
            "type": "histogram2d"
           }
          ],
          "histogram2dcontour": [
           {
            "colorbar": {
             "outlinewidth": 0,
             "ticks": ""
            },
            "colorscale": [
             [
              0,
              "#0d0887"
             ],
             [
              0.1111111111111111,
              "#46039f"
             ],
             [
              0.2222222222222222,
              "#7201a8"
             ],
             [
              0.3333333333333333,
              "#9c179e"
             ],
             [
              0.4444444444444444,
              "#bd3786"
             ],
             [
              0.5555555555555556,
              "#d8576b"
             ],
             [
              0.6666666666666666,
              "#ed7953"
             ],
             [
              0.7777777777777778,
              "#fb9f3a"
             ],
             [
              0.8888888888888888,
              "#fdca26"
             ],
             [
              1,
              "#f0f921"
             ]
            ],
            "type": "histogram2dcontour"
           }
          ],
          "mesh3d": [
           {
            "colorbar": {
             "outlinewidth": 0,
             "ticks": ""
            },
            "type": "mesh3d"
           }
          ],
          "parcoords": [
           {
            "line": {
             "colorbar": {
              "outlinewidth": 0,
              "ticks": ""
             }
            },
            "type": "parcoords"
           }
          ],
          "pie": [
           {
            "automargin": true,
            "type": "pie"
           }
          ],
          "scatter": [
           {
            "fillpattern": {
             "fillmode": "overlay",
             "size": 10,
             "solidity": 0.2
            },
            "type": "scatter"
           }
          ],
          "scatter3d": [
           {
            "line": {
             "colorbar": {
              "outlinewidth": 0,
              "ticks": ""
             }
            },
            "marker": {
             "colorbar": {
              "outlinewidth": 0,
              "ticks": ""
             }
            },
            "type": "scatter3d"
           }
          ],
          "scattercarpet": [
           {
            "marker": {
             "colorbar": {
              "outlinewidth": 0,
              "ticks": ""
             }
            },
            "type": "scattercarpet"
           }
          ],
          "scattergeo": [
           {
            "marker": {
             "colorbar": {
              "outlinewidth": 0,
              "ticks": ""
             }
            },
            "type": "scattergeo"
           }
          ],
          "scattergl": [
           {
            "marker": {
             "colorbar": {
              "outlinewidth": 0,
              "ticks": ""
             }
            },
            "type": "scattergl"
           }
          ],
          "scattermapbox": [
           {
            "marker": {
             "colorbar": {
              "outlinewidth": 0,
              "ticks": ""
             }
            },
            "type": "scattermapbox"
           }
          ],
          "scatterpolar": [
           {
            "marker": {
             "colorbar": {
              "outlinewidth": 0,
              "ticks": ""
             }
            },
            "type": "scatterpolar"
           }
          ],
          "scatterpolargl": [
           {
            "marker": {
             "colorbar": {
              "outlinewidth": 0,
              "ticks": ""
             }
            },
            "type": "scatterpolargl"
           }
          ],
          "scatterternary": [
           {
            "marker": {
             "colorbar": {
              "outlinewidth": 0,
              "ticks": ""
             }
            },
            "type": "scatterternary"
           }
          ],
          "surface": [
           {
            "colorbar": {
             "outlinewidth": 0,
             "ticks": ""
            },
            "colorscale": [
             [
              0,
              "#0d0887"
             ],
             [
              0.1111111111111111,
              "#46039f"
             ],
             [
              0.2222222222222222,
              "#7201a8"
             ],
             [
              0.3333333333333333,
              "#9c179e"
             ],
             [
              0.4444444444444444,
              "#bd3786"
             ],
             [
              0.5555555555555556,
              "#d8576b"
             ],
             [
              0.6666666666666666,
              "#ed7953"
             ],
             [
              0.7777777777777778,
              "#fb9f3a"
             ],
             [
              0.8888888888888888,
              "#fdca26"
             ],
             [
              1,
              "#f0f921"
             ]
            ],
            "type": "surface"
           }
          ],
          "table": [
           {
            "cells": {
             "fill": {
              "color": "#EBF0F8"
             },
             "line": {
              "color": "white"
             }
            },
            "header": {
             "fill": {
              "color": "#C8D4E3"
             },
             "line": {
              "color": "white"
             }
            },
            "type": "table"
           }
          ]
         },
         "layout": {
          "annotationdefaults": {
           "arrowcolor": "#2a3f5f",
           "arrowhead": 0,
           "arrowwidth": 1
          },
          "autotypenumbers": "strict",
          "coloraxis": {
           "colorbar": {
            "outlinewidth": 0,
            "ticks": ""
           }
          },
          "colorscale": {
           "diverging": [
            [
             0,
             "#8e0152"
            ],
            [
             0.1,
             "#c51b7d"
            ],
            [
             0.2,
             "#de77ae"
            ],
            [
             0.3,
             "#f1b6da"
            ],
            [
             0.4,
             "#fde0ef"
            ],
            [
             0.5,
             "#f7f7f7"
            ],
            [
             0.6,
             "#e6f5d0"
            ],
            [
             0.7,
             "#b8e186"
            ],
            [
             0.8,
             "#7fbc41"
            ],
            [
             0.9,
             "#4d9221"
            ],
            [
             1,
             "#276419"
            ]
           ],
           "sequential": [
            [
             0,
             "#0d0887"
            ],
            [
             0.1111111111111111,
             "#46039f"
            ],
            [
             0.2222222222222222,
             "#7201a8"
            ],
            [
             0.3333333333333333,
             "#9c179e"
            ],
            [
             0.4444444444444444,
             "#bd3786"
            ],
            [
             0.5555555555555556,
             "#d8576b"
            ],
            [
             0.6666666666666666,
             "#ed7953"
            ],
            [
             0.7777777777777778,
             "#fb9f3a"
            ],
            [
             0.8888888888888888,
             "#fdca26"
            ],
            [
             1,
             "#f0f921"
            ]
           ],
           "sequentialminus": [
            [
             0,
             "#0d0887"
            ],
            [
             0.1111111111111111,
             "#46039f"
            ],
            [
             0.2222222222222222,
             "#7201a8"
            ],
            [
             0.3333333333333333,
             "#9c179e"
            ],
            [
             0.4444444444444444,
             "#bd3786"
            ],
            [
             0.5555555555555556,
             "#d8576b"
            ],
            [
             0.6666666666666666,
             "#ed7953"
            ],
            [
             0.7777777777777778,
             "#fb9f3a"
            ],
            [
             0.8888888888888888,
             "#fdca26"
            ],
            [
             1,
             "#f0f921"
            ]
           ]
          },
          "colorway": [
           "#636efa",
           "#EF553B",
           "#00cc96",
           "#ab63fa",
           "#FFA15A",
           "#19d3f3",
           "#FF6692",
           "#B6E880",
           "#FF97FF",
           "#FECB52"
          ],
          "font": {
           "color": "#2a3f5f"
          },
          "geo": {
           "bgcolor": "white",
           "lakecolor": "white",
           "landcolor": "#E5ECF6",
           "showlakes": true,
           "showland": true,
           "subunitcolor": "white"
          },
          "hoverlabel": {
           "align": "left"
          },
          "hovermode": "closest",
          "mapbox": {
           "style": "light"
          },
          "paper_bgcolor": "white",
          "plot_bgcolor": "#E5ECF6",
          "polar": {
           "angularaxis": {
            "gridcolor": "white",
            "linecolor": "white",
            "ticks": ""
           },
           "bgcolor": "#E5ECF6",
           "radialaxis": {
            "gridcolor": "white",
            "linecolor": "white",
            "ticks": ""
           }
          },
          "scene": {
           "xaxis": {
            "backgroundcolor": "#E5ECF6",
            "gridcolor": "white",
            "gridwidth": 2,
            "linecolor": "white",
            "showbackground": true,
            "ticks": "",
            "zerolinecolor": "white"
           },
           "yaxis": {
            "backgroundcolor": "#E5ECF6",
            "gridcolor": "white",
            "gridwidth": 2,
            "linecolor": "white",
            "showbackground": true,
            "ticks": "",
            "zerolinecolor": "white"
           },
           "zaxis": {
            "backgroundcolor": "#E5ECF6",
            "gridcolor": "white",
            "gridwidth": 2,
            "linecolor": "white",
            "showbackground": true,
            "ticks": "",
            "zerolinecolor": "white"
           }
          },
          "shapedefaults": {
           "line": {
            "color": "#2a3f5f"
           }
          },
          "ternary": {
           "aaxis": {
            "gridcolor": "white",
            "linecolor": "white",
            "ticks": ""
           },
           "baxis": {
            "gridcolor": "white",
            "linecolor": "white",
            "ticks": ""
           },
           "bgcolor": "#E5ECF6",
           "caxis": {
            "gridcolor": "white",
            "linecolor": "white",
            "ticks": ""
           }
          },
          "title": {
           "x": 0.05
          },
          "xaxis": {
           "automargin": true,
           "gridcolor": "white",
           "linecolor": "white",
           "ticks": "",
           "title": {
            "standoff": 15
           },
           "zerolinecolor": "white",
           "zerolinewidth": 2
          },
          "yaxis": {
           "automargin": true,
           "gridcolor": "white",
           "linecolor": "white",
           "ticks": "",
           "title": {
            "standoff": 15
           },
           "zerolinecolor": "white",
           "zerolinewidth": 2
          }
         }
        },
        "xaxis": {
         "title": {
          "text": "Drawdown %"
         }
        },
        "yaxis": {
         "title": {
          "text": "Profit / Loss %"
         }
        }
       }
      },
      "text/html": [
       "<div>                            <div id=\"c1178920-2d49-468c-8c25-1b339a1b9a92\" class=\"plotly-graph-div\" style=\"height:525px; width:100%;\"></div>            <script type=\"text/javascript\">                require([\"plotly\"], function(Plotly) {                    window.PLOTLYENV=window.PLOTLYENV || {};                                    if (document.getElementById(\"c1178920-2d49-468c-8c25-1b339a1b9a92\")) {                    Plotly.newPlot(                        \"c1178920-2d49-468c-8c25-1b339a1b9a92\",                        [{\"marker\":{\"color\":\"green\",\"size\":10,\"symbol\":\"triangle-up\"},\"mode\":\"markers\",\"name\":\"Profitable Trade\",\"x\":[2.1180571694167254,0.0,0.16921096192749988,2.349130832570915,0.6260010067267889,0.0,4.49560751452893,0.0,0.0,2.0112775330396873,1.5648008515922114,3.4322811248439167],\"y\":[8.039972112479601,1.956589861751065,0.2961191833732751,0.545333943275489,7.17814487713357,5.352344392651618,7.440027931702553,5.601751925559838,1.5250044334101258,1.6631718061674272,23.432892752594732,0.719671848757565],\"type\":\"scatter\"},{\"marker\":{\"color\":\"red\",\"size\":10,\"symbol\":\"triangle-down\"},\"mode\":\"markers\",\"name\":\"Losing Trade\",\"x\":[2.512002232973508,3.149164924532969,1.9600688032688918,1.967741935483866,1.934066941769744,0.8329536134148163,3.492659797574556,12.201198474668637,2.7756301363573614,4.156963289013894,0.6881445066879741,7.217589558709388,3.809940577640634,3.315985790408427,6.64728836858675,2.554599924827107,3.317240923219324,1.0102599070179112,1.2534267843676261,5.041694330102324,5.648886471421737,2.609172349244538,1.4443528441879998,1.7392093002617794,6.640545220441318,6.972614686900415,1.0387354906788997,13.454324235448814,10.156158690994177,5.1364673444769995,2.10783553141968,4.248640983218997,2.8586387434555016,8.386371560417112,2.7018354567047775,0.4484454629761889],\"y\":[1.3426218831410595,3.085758919340966,1.5734674614013666,0.2930679478379948,1.934066941769744,0.5414198487196838,3.076866964529873,11.21191211185763,2.7756301363573614,3.9100149748150366,0.6047330513318093,7.012823438141752,3.809940577640634,3.0396536412077437,5.467296350494382,1.5959424263193909,3.317240923219324,1.0102599070179112,1.2534267843676261,2.813968928429266,5.296882190851124,2.609172349244538,1.4443528441879998,1.4775826418777993,5.5403365448652355,5.987353915925284,1.0387354906787905,11.578756987832863,10.156158690994177,2.365672927796022,2.10783553141968,4.0279323607141,1.8691099476440498,7.854042044095117,2.5167782336427615,0.4484454629761889],\"type\":\"scatter\"}],                        {\"template\":{\"data\":{\"histogram2dcontour\":[{\"type\":\"histogram2dcontour\",\"colorbar\":{\"outlinewidth\":0,\"ticks\":\"\"},\"colorscale\":[[0.0,\"#0d0887\"],[0.1111111111111111,\"#46039f\"],[0.2222222222222222,\"#7201a8\"],[0.3333333333333333,\"#9c179e\"],[0.4444444444444444,\"#bd3786\"],[0.5555555555555556,\"#d8576b\"],[0.6666666666666666,\"#ed7953\"],[0.7777777777777778,\"#fb9f3a\"],[0.8888888888888888,\"#fdca26\"],[1.0,\"#f0f921\"]]}],\"choropleth\":[{\"type\":\"choropleth\",\"colorbar\":{\"outlinewidth\":0,\"ticks\":\"\"}}],\"histogram2d\":[{\"type\":\"histogram2d\",\"colorbar\":{\"outlinewidth\":0,\"ticks\":\"\"},\"colorscale\":[[0.0,\"#0d0887\"],[0.1111111111111111,\"#46039f\"],[0.2222222222222222,\"#7201a8\"],[0.3333333333333333,\"#9c179e\"],[0.4444444444444444,\"#bd3786\"],[0.5555555555555556,\"#d8576b\"],[0.6666666666666666,\"#ed7953\"],[0.7777777777777778,\"#fb9f3a\"],[0.8888888888888888,\"#fdca26\"],[1.0,\"#f0f921\"]]}],\"heatmap\":[{\"type\":\"heatmap\",\"colorbar\":{\"outlinewidth\":0,\"ticks\":\"\"},\"colorscale\":[[0.0,\"#0d0887\"],[0.1111111111111111,\"#46039f\"],[0.2222222222222222,\"#7201a8\"],[0.3333333333333333,\"#9c179e\"],[0.4444444444444444,\"#bd3786\"],[0.5555555555555556,\"#d8576b\"],[0.6666666666666666,\"#ed7953\"],[0.7777777777777778,\"#fb9f3a\"],[0.8888888888888888,\"#fdca26\"],[1.0,\"#f0f921\"]]}],\"heatmapgl\":[{\"type\":\"heatmapgl\",\"colorbar\":{\"outlinewidth\":0,\"ticks\":\"\"},\"colorscale\":[[0.0,\"#0d0887\"],[0.1111111111111111,\"#46039f\"],[0.2222222222222222,\"#7201a8\"],[0.3333333333333333,\"#9c179e\"],[0.4444444444444444,\"#bd3786\"],[0.5555555555555556,\"#d8576b\"],[0.6666666666666666,\"#ed7953\"],[0.7777777777777778,\"#fb9f3a\"],[0.8888888888888888,\"#fdca26\"],[1.0,\"#f0f921\"]]}],\"contourcarpet\":[{\"type\":\"contourcarpet\",\"colorbar\":{\"outlinewidth\":0,\"ticks\":\"\"}}],\"contour\":[{\"type\":\"contour\",\"colorbar\":{\"outlinewidth\":0,\"ticks\":\"\"},\"colorscale\":[[0.0,\"#0d0887\"],[0.1111111111111111,\"#46039f\"],[0.2222222222222222,\"#7201a8\"],[0.3333333333333333,\"#9c179e\"],[0.4444444444444444,\"#bd3786\"],[0.5555555555555556,\"#d8576b\"],[0.6666666666666666,\"#ed7953\"],[0.7777777777777778,\"#fb9f3a\"],[0.8888888888888888,\"#fdca26\"],[1.0,\"#f0f921\"]]}],\"surface\":[{\"type\":\"surface\",\"colorbar\":{\"outlinewidth\":0,\"ticks\":\"\"},\"colorscale\":[[0.0,\"#0d0887\"],[0.1111111111111111,\"#46039f\"],[0.2222222222222222,\"#7201a8\"],[0.3333333333333333,\"#9c179e\"],[0.4444444444444444,\"#bd3786\"],[0.5555555555555556,\"#d8576b\"],[0.6666666666666666,\"#ed7953\"],[0.7777777777777778,\"#fb9f3a\"],[0.8888888888888888,\"#fdca26\"],[1.0,\"#f0f921\"]]}],\"mesh3d\":[{\"type\":\"mesh3d\",\"colorbar\":{\"outlinewidth\":0,\"ticks\":\"\"}}],\"scatter\":[{\"fillpattern\":{\"fillmode\":\"overlay\",\"size\":10,\"solidity\":0.2},\"type\":\"scatter\"}],\"parcoords\":[{\"type\":\"parcoords\",\"line\":{\"colorbar\":{\"outlinewidth\":0,\"ticks\":\"\"}}}],\"scatterpolargl\":[{\"type\":\"scatterpolargl\",\"marker\":{\"colorbar\":{\"outlinewidth\":0,\"ticks\":\"\"}}}],\"bar\":[{\"error_x\":{\"color\":\"#2a3f5f\"},\"error_y\":{\"color\":\"#2a3f5f\"},\"marker\":{\"line\":{\"color\":\"#E5ECF6\",\"width\":0.5},\"pattern\":{\"fillmode\":\"overlay\",\"size\":10,\"solidity\":0.2}},\"type\":\"bar\"}],\"scattergeo\":[{\"type\":\"scattergeo\",\"marker\":{\"colorbar\":{\"outlinewidth\":0,\"ticks\":\"\"}}}],\"scatterpolar\":[{\"type\":\"scatterpolar\",\"marker\":{\"colorbar\":{\"outlinewidth\":0,\"ticks\":\"\"}}}],\"histogram\":[{\"marker\":{\"pattern\":{\"fillmode\":\"overlay\",\"size\":10,\"solidity\":0.2}},\"type\":\"histogram\"}],\"scattergl\":[{\"type\":\"scattergl\",\"marker\":{\"colorbar\":{\"outlinewidth\":0,\"ticks\":\"\"}}}],\"scatter3d\":[{\"type\":\"scatter3d\",\"line\":{\"colorbar\":{\"outlinewidth\":0,\"ticks\":\"\"}},\"marker\":{\"colorbar\":{\"outlinewidth\":0,\"ticks\":\"\"}}}],\"scattermapbox\":[{\"type\":\"scattermapbox\",\"marker\":{\"colorbar\":{\"outlinewidth\":0,\"ticks\":\"\"}}}],\"scatterternary\":[{\"type\":\"scatterternary\",\"marker\":{\"colorbar\":{\"outlinewidth\":0,\"ticks\":\"\"}}}],\"scattercarpet\":[{\"type\":\"scattercarpet\",\"marker\":{\"colorbar\":{\"outlinewidth\":0,\"ticks\":\"\"}}}],\"carpet\":[{\"aaxis\":{\"endlinecolor\":\"#2a3f5f\",\"gridcolor\":\"white\",\"linecolor\":\"white\",\"minorgridcolor\":\"white\",\"startlinecolor\":\"#2a3f5f\"},\"baxis\":{\"endlinecolor\":\"#2a3f5f\",\"gridcolor\":\"white\",\"linecolor\":\"white\",\"minorgridcolor\":\"white\",\"startlinecolor\":\"#2a3f5f\"},\"type\":\"carpet\"}],\"table\":[{\"cells\":{\"fill\":{\"color\":\"#EBF0F8\"},\"line\":{\"color\":\"white\"}},\"header\":{\"fill\":{\"color\":\"#C8D4E3\"},\"line\":{\"color\":\"white\"}},\"type\":\"table\"}],\"barpolar\":[{\"marker\":{\"line\":{\"color\":\"#E5ECF6\",\"width\":0.5},\"pattern\":{\"fillmode\":\"overlay\",\"size\":10,\"solidity\":0.2}},\"type\":\"barpolar\"}],\"pie\":[{\"automargin\":true,\"type\":\"pie\"}]},\"layout\":{\"autotypenumbers\":\"strict\",\"colorway\":[\"#636efa\",\"#EF553B\",\"#00cc96\",\"#ab63fa\",\"#FFA15A\",\"#19d3f3\",\"#FF6692\",\"#B6E880\",\"#FF97FF\",\"#FECB52\"],\"font\":{\"color\":\"#2a3f5f\"},\"hovermode\":\"closest\",\"hoverlabel\":{\"align\":\"left\"},\"paper_bgcolor\":\"white\",\"plot_bgcolor\":\"#E5ECF6\",\"polar\":{\"bgcolor\":\"#E5ECF6\",\"angularaxis\":{\"gridcolor\":\"white\",\"linecolor\":\"white\",\"ticks\":\"\"},\"radialaxis\":{\"gridcolor\":\"white\",\"linecolor\":\"white\",\"ticks\":\"\"}},\"ternary\":{\"bgcolor\":\"#E5ECF6\",\"aaxis\":{\"gridcolor\":\"white\",\"linecolor\":\"white\",\"ticks\":\"\"},\"baxis\":{\"gridcolor\":\"white\",\"linecolor\":\"white\",\"ticks\":\"\"},\"caxis\":{\"gridcolor\":\"white\",\"linecolor\":\"white\",\"ticks\":\"\"}},\"coloraxis\":{\"colorbar\":{\"outlinewidth\":0,\"ticks\":\"\"}},\"colorscale\":{\"sequential\":[[0.0,\"#0d0887\"],[0.1111111111111111,\"#46039f\"],[0.2222222222222222,\"#7201a8\"],[0.3333333333333333,\"#9c179e\"],[0.4444444444444444,\"#bd3786\"],[0.5555555555555556,\"#d8576b\"],[0.6666666666666666,\"#ed7953\"],[0.7777777777777778,\"#fb9f3a\"],[0.8888888888888888,\"#fdca26\"],[1.0,\"#f0f921\"]],\"sequentialminus\":[[0.0,\"#0d0887\"],[0.1111111111111111,\"#46039f\"],[0.2222222222222222,\"#7201a8\"],[0.3333333333333333,\"#9c179e\"],[0.4444444444444444,\"#bd3786\"],[0.5555555555555556,\"#d8576b\"],[0.6666666666666666,\"#ed7953\"],[0.7777777777777778,\"#fb9f3a\"],[0.8888888888888888,\"#fdca26\"],[1.0,\"#f0f921\"]],\"diverging\":[[0,\"#8e0152\"],[0.1,\"#c51b7d\"],[0.2,\"#de77ae\"],[0.3,\"#f1b6da\"],[0.4,\"#fde0ef\"],[0.5,\"#f7f7f7\"],[0.6,\"#e6f5d0\"],[0.7,\"#b8e186\"],[0.8,\"#7fbc41\"],[0.9,\"#4d9221\"],[1,\"#276419\"]]},\"xaxis\":{\"gridcolor\":\"white\",\"linecolor\":\"white\",\"ticks\":\"\",\"title\":{\"standoff\":15},\"zerolinecolor\":\"white\",\"automargin\":true,\"zerolinewidth\":2},\"yaxis\":{\"gridcolor\":\"white\",\"linecolor\":\"white\",\"ticks\":\"\",\"title\":{\"standoff\":15},\"zerolinecolor\":\"white\",\"automargin\":true,\"zerolinewidth\":2},\"scene\":{\"xaxis\":{\"backgroundcolor\":\"#E5ECF6\",\"gridcolor\":\"white\",\"linecolor\":\"white\",\"showbackground\":true,\"ticks\":\"\",\"zerolinecolor\":\"white\",\"gridwidth\":2},\"yaxis\":{\"backgroundcolor\":\"#E5ECF6\",\"gridcolor\":\"white\",\"linecolor\":\"white\",\"showbackground\":true,\"ticks\":\"\",\"zerolinecolor\":\"white\",\"gridwidth\":2},\"zaxis\":{\"backgroundcolor\":\"#E5ECF6\",\"gridcolor\":\"white\",\"linecolor\":\"white\",\"showbackground\":true,\"ticks\":\"\",\"zerolinecolor\":\"white\",\"gridwidth\":2}},\"shapedefaults\":{\"line\":{\"color\":\"#2a3f5f\"}},\"annotationdefaults\":{\"arrowcolor\":\"#2a3f5f\",\"arrowhead\":0,\"arrowwidth\":1},\"geo\":{\"bgcolor\":\"white\",\"landcolor\":\"#E5ECF6\",\"subunitcolor\":\"white\",\"showland\":true,\"showlakes\":true,\"lakecolor\":\"white\"},\"title\":{\"x\":0.05},\"mapbox\":{\"style\":\"light\"}}},\"shapes\":[{\"opacity\":0.25,\"type\":\"line\",\"x0\":0,\"x1\":1,\"xref\":\"x domain\",\"y0\":0,\"y1\":0,\"yref\":\"y\"},{\"opacity\":0.25,\"type\":\"line\",\"x0\":0,\"x1\":0,\"xref\":\"x\",\"y0\":0,\"y1\":1,\"yref\":\"y domain\"}],\"xaxis\":{\"title\":{\"text\":\"Drawdown %\"}},\"yaxis\":{\"title\":{\"text\":\"Profit / Loss %\"}}},                        {\"responsive\": true}                    ).then(function(){\n",
       "                            \n",
       "var gd = document.getElementById('c1178920-2d49-468c-8c25-1b339a1b9a92');\n",
       "var x = new MutationObserver(function (mutations, observer) {{\n",
       "        var display = window.getComputedStyle(gd).display;\n",
       "        if (!display || display === 'none') {{\n",
       "            console.log([gd, 'removed!']);\n",
       "            Plotly.purge(gd);\n",
       "            observer.disconnect();\n",
       "        }}\n",
       "}});\n",
       "\n",
       "// Listen for the removal of the full notebook cells\n",
       "var notebookContainer = gd.closest('#notebook-container');\n",
       "if (notebookContainer) {{\n",
       "    x.observe(notebookContainer, {childList: true});\n",
       "}}\n",
       "\n",
       "// Listen for the clearing of the current output cell\n",
       "var outputEl = gd.closest('.output');\n",
       "if (outputEl) {{\n",
       "    x.observe(outputEl, {childList: true});\n",
       "}}\n",
       "\n",
       "                        })                };                });            </script>        </div>"
      ]
     },
     "metadata": {},
     "output_type": "display_data"
    }
   ],
   "source": [
    "mae = evaluator.metric('mae')[0]\n",
    "round_trip_pnl = evaluator.metric('mae')[1]\n",
    "\n",
    "# Separate out positive trades from negative trades\n",
    "round_trip_profit = round_trip_pnl[round_trip_pnl >= 0]\n",
    "mae_profit = mae[round_trip_pnl >= 0]\n",
    "\n",
    "round_trip_loss = round_trip_pnl[round_trip_pnl <= 0]\n",
    "mae_loss = mae[round_trip_pnl <= 0]\n",
    "\n",
    "import plotly.graph_objects as go\n",
    "fig = go.Figure()\n",
    "winners = go.Scatter(name='Profitable Trade', x=mae_profit, y=round_trip_profit, mode='markers', marker_color='green', marker_size=10, marker_symbol='triangle-up')\n",
    "losers = go.Scatter(name='Losing Trade', x=mae_loss, y=-round_trip_loss, mode='markers', marker_color='red', marker_size=10, marker_symbol='triangle-down')\n",
    "fig.add_trace(winners)\n",
    "fig.add_trace(losers)\n",
    "fig.add_hline(y=0, opacity=0.25)\n",
    "fig.add_vline(x=0, opacity=0.25)\n",
    "fig.update_xaxes(title_text='Drawdown %')\n",
    "fig.update_yaxes(title_text='Profit / Loss %')\n",
    "fig.show()"
   ]
  },
  {
   "cell_type": "markdown",
   "metadata": {},
   "source": [
    "It looks like a good place to put a stop loss so we keep most of the winning trades but don't take big losses might be around 4%."
   ]
  }
 ],
 "metadata": {
  "kernelspec": {
   "display_name": "Python 3 (ipykernel)",
   "language": "python",
   "name": "python3"
  },
  "language_info": {
   "codemirror_mode": {
    "name": "ipython",
    "version": 3
   },
   "file_extension": ".py",
   "mimetype": "text/x-python",
   "name": "python",
   "nbconvert_exporter": "python",
   "pygments_lexer": "ipython3",
   "version": "3.10.12"
  },
  "latex_envs": {
   "LaTeX_envs_menu_present": true,
   "autoclose": false,
   "autocomplete": true,
   "bibliofile": "biblio.bib",
   "cite_by": "apalike",
   "current_citInitial": 1,
   "eqLabelWithNumbers": true,
   "eqNumInitial": 1,
   "hotkeys": {
    "equation": "Ctrl-E",
    "itemize": "Ctrl-I"
   },
   "labels_anchors": false,
   "latex_user_defs": false,
   "report_style_numbering": false,
   "user_envs_cfg": false
  }
 },
 "nbformat": 4,
 "nbformat_minor": 2
}
