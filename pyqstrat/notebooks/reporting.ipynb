{
 "cells": [
  {
   "cell_type": "markdown",
   "metadata": {
    "run_control": {
     "frozen": false,
     "read_only": false
    }
   },
   "source": [
    "Please go through the \"building_strategies\" notebook first before you go through this notebook\n"
   ]
  },
  {
   "cell_type": "markdown",
   "metadata": {},
   "source": [
    "## Some Prebuilt Reporting ##\n",
    "\n",
    "Lets first build the strategy described in that notebook, add it to a portfolio and run the portfolio"
   ]
  },
  {
   "cell_type": "code",
   "execution_count": 1,
   "metadata": {
    "ExecuteTime": {
     "end_time": "2023-10-24T00:45:41.574182Z",
     "start_time": "2023-10-24T00:45:41.115489Z"
    },
    "run_control": {
     "frozen": false,
     "read_only": false
    }
   },
   "outputs": [
    {
     "name": "stdout",
     "output_type": "stream",
     "text": [
      "[2023-10-23 19:45:41.558 __call__] TRADE: 2023-01-13T09:32 AAPL  2023-01-13 09:32:00 qty: 151471 prc: 131.77   order: AAPL 2023-01-13 09:31:00 qty: 151471 POS_OVERNIGHT_RETURN  OrderStatus.OPEN \n",
      "[2023-10-23 19:45:41.559 __call__] ORDER: 2023-01-13T15:59 AAPL 2023-01-13 15:59:00 qty: -151471 EOD  OrderStatus.OPEN\n",
      "[2023-10-23 19:45:41.559 __call__] TRADE: 2023-01-13T16:00 AAPL  2023-01-13 16:00:00 qty: -151471 prc: 134.74   order: AAPL 2023-01-13 15:59:00 qty: -151471 EOD  OrderStatus.OPEN \n",
      "[2023-10-23 19:45:41.561 __call__] TRADE: 2023-01-19T09:32 AAPL  2023-01-19 09:32:00 qty: 215649 prc: 134.77   order: AAPL 2023-01-19 09:31:00 qty: 215649 POS_OVERNIGHT_RETURN  OrderStatus.OPEN \n",
      "[2023-10-23 19:45:41.562 __call__] ORDER: 2023-01-19T10:56 AAPL 2023-01-19 10:56:00 qty: -215649 STOPPED_OUT  OrderStatus.OPEN\n",
      "[2023-10-23 19:45:41.562 __call__] TRADE: 2023-01-19T10:57 AAPL  2023-01-19 10:57:00 qty: -215649 prc: 133.901   order: AAPL 2023-01-19 10:56:00 qty: -215649 STOPPED_OUT  OrderStatus.OPEN \n",
      "[2023-10-23 19:45:41.563 __call__] TRADE: 2023-01-20T09:32 AAPL  2023-01-20 09:32:00 qty: 187102 prc: 134.575   order: AAPL 2023-01-20 09:31:00 qty: 187102 POS_OVERNIGHT_RETURN  OrderStatus.OPEN \n",
      "[2023-10-23 19:45:41.563 __call__] ORDER: 2023-01-20T15:59 AAPL 2023-01-20 15:59:00 qty: -187102 EOD  OrderStatus.OPEN\n",
      "[2023-10-23 19:45:41.564 __call__] TRADE: 2023-01-20T16:00 AAPL  2023-01-20 16:00:00 qty: -187102 prc: 137.87   order: AAPL 2023-01-20 15:59:00 qty: -187102 EOD  OrderStatus.OPEN \n",
      "[2023-10-23 19:45:41.564 __call__] TRADE: 2023-01-24T09:32 AAPL  2023-01-24 09:32:00 qty: 267133 prc: 141.151   order: AAPL 2023-01-24 09:31:00 qty: 267133 POS_OVERNIGHT_RETURN  OrderStatus.OPEN \n",
      "[2023-10-23 19:45:41.565 __call__] ORDER: 2023-01-24T15:59 AAPL 2023-01-24 15:59:00 qty: -267133 EOD  OrderStatus.OPEN\n",
      "[2023-10-23 19:45:41.565 __call__] TRADE: 2023-01-24T16:00 AAPL  2023-01-24 16:00:00 qty: -267133 prc: 142.66   order: AAPL 2023-01-24 15:59:00 qty: -267133 EOD  OrderStatus.OPEN \n",
      "[2023-10-23 19:45:41.566 __call__] TRADE: 2023-01-25T09:32 AAPL  2023-01-25 09:32:00 qty: 326673 prc: 139.56   order: AAPL 2023-01-25 09:31:00 qty: 326673 POS_OVERNIGHT_RETURN  OrderStatus.OPEN \n",
      "[2023-10-23 19:45:41.566 __call__] ORDER: 2023-01-25T10:37 AAPL 2023-01-25 10:37:00 qty: -326673 STOPPED_OUT  OrderStatus.OPEN\n",
      "[2023-10-23 19:45:41.567 __call__] TRADE: 2023-01-25T10:38 AAPL  2023-01-25 10:38:00 qty: -326673 prc: 138.98   order: AAPL 2023-01-25 10:37:00 qty: -326673 STOPPED_OUT  OrderStatus.OPEN \n",
      "[2023-10-23 19:45:41.569 __call__] TRADE: 2023-01-27T09:32 AAPL  2023-01-27 09:32:00 qty: 290823 prc: 144.24   order: AAPL 2023-01-27 09:31:00 qty: 290823 POS_OVERNIGHT_RETURN  OrderStatus.OPEN \n",
      "[2023-10-23 19:45:41.569 __call__] ORDER: 2023-01-27T15:59 AAPL 2023-01-27 15:59:00 qty: -290823 EOD  OrderStatus.OPEN\n",
      "[2023-10-23 19:45:41.570 __call__] TRADE: 2023-01-27T16:00 AAPL  2023-01-27 16:00:00 qty: -290823 prc: 145.93   order: AAPL 2023-01-27 15:59:00 qty: -290823 EOD  OrderStatus.OPEN \n",
      "[2023-10-23 19:45:41.570 __call__] TRADE: 2023-01-30T09:32 AAPL  2023-01-30 09:32:00 qty: 355624 prc: 145.345   order: AAPL 2023-01-30 09:31:00 qty: 355624 POS_OVERNIGHT_RETURN  OrderStatus.OPEN \n",
      "[2023-10-23 19:45:41.571 __call__] ORDER: 2023-01-30T09:42 AAPL 2023-01-30 09:42:00 qty: -355624 STOPPED_OUT  OrderStatus.OPEN\n",
      "[2023-10-23 19:45:41.571 __call__] TRADE: 2023-01-30T09:43 AAPL  2023-01-30 09:43:00 qty: -355624 prc: 144.66   order: AAPL 2023-01-30 09:42:00 qty: -355624 STOPPED_OUT  OrderStatus.OPEN \n"
     ]
    }
   ],
   "source": [
    "from types import SimpleNamespace\n",
    "import pandas as pd\n",
    "import numpy as np\n",
    "import pyqstrat as pq\n",
    "from build_example_strategy import build_example_strategy\n",
    "pq.__file__\n",
    "strategy = build_example_strategy()\n",
    "strategy.run()\n",
    "# strategy = build_example_strategy(SimpleNamespace(lookback_period = 10, num_std = 2))\n",
    "# strategy.run()"
   ]
  },
  {
   "cell_type": "markdown",
   "metadata": {},
   "source": [
    "Many objects have functions that return pandas dataframes for ease of use.  Any function that returns a dataframe starts with df_ so its easy to tell which dataframes an object returns.\n",
    "\n",
    "df_data is a useful function. This returns the market data, indicators, signal values and P&L at each market data bar.  The last column, i is the integer index of that bar, and can be used to query data in other dataframes or objects for that strategy.\n",
    "\n",
    "Since we have daily pnl but minute bars a lot of the rows will have nans. So lets get EOD data (equity is not NaN in those rows)"
   ]
  },
  {
   "cell_type": "code",
   "execution_count": 2,
   "metadata": {
    "ExecuteTime": {
     "end_time": "2023-10-24T00:45:41.590469Z",
     "start_time": "2023-10-24T00:45:41.575168Z"
    },
    "run_control": {
     "frozen": false,
     "read_only": false
    }
   },
   "outputs": [
    {
     "data": {
      "text/html": [
       "<div>\n",
       "<style scoped>\n",
       "    .dataframe tbody tr th:only-of-type {\n",
       "        vertical-align: middle;\n",
       "    }\n",
       "\n",
       "    .dataframe tbody tr th {\n",
       "        vertical-align: top;\n",
       "    }\n",
       "\n",
       "    .dataframe thead th {\n",
       "        text-align: right;\n",
       "    }\n",
       "</style>\n",
       "<table border=\"1\" class=\"dataframe\">\n",
       "  <thead>\n",
       "    <tr style=\"text-align: right;\">\n",
       "      <th></th>\n",
       "      <th>timestamp</th>\n",
       "      <th>c</th>\n",
       "      <th>stop_price</th>\n",
       "      <th>eod_sig</th>\n",
       "      <th>overnight_ret_negative_sig</th>\n",
       "      <th>stop_sig</th>\n",
       "      <th>position</th>\n",
       "      <th>unrealized</th>\n",
       "      <th>realized</th>\n",
       "      <th>commission</th>\n",
       "      <th>fee</th>\n",
       "      <th>net_pnl</th>\n",
       "      <th>equity</th>\n",
       "      <th>i</th>\n",
       "    </tr>\n",
       "  </thead>\n",
       "  <tbody>\n",
       "    <tr>\n",
       "      <th>389</th>\n",
       "      <td>2023-01-03 16:00:00</td>\n",
       "      <td>125.000000</td>\n",
       "      <td>NaN</td>\n",
       "      <td>True</td>\n",
       "      <td>False</td>\n",
       "      <td>False</td>\n",
       "      <td>0.0</td>\n",
       "      <td>0.0</td>\n",
       "      <td>0.0</td>\n",
       "      <td>0.0</td>\n",
       "      <td>0.0</td>\n",
       "      <td>0.0</td>\n",
       "      <td>1000000.0</td>\n",
       "      <td>389</td>\n",
       "    </tr>\n",
       "    <tr>\n",
       "      <th>779</th>\n",
       "      <td>2023-01-04 16:00:00</td>\n",
       "      <td>126.360000</td>\n",
       "      <td>125.797054</td>\n",
       "      <td>True</td>\n",
       "      <td>False</td>\n",
       "      <td>False</td>\n",
       "      <td>0.0</td>\n",
       "      <td>0.0</td>\n",
       "      <td>0.0</td>\n",
       "      <td>0.0</td>\n",
       "      <td>0.0</td>\n",
       "      <td>0.0</td>\n",
       "      <td>1000000.0</td>\n",
       "      <td>779</td>\n",
       "    </tr>\n",
       "    <tr>\n",
       "      <th>1169</th>\n",
       "      <td>2023-01-05 16:00:00</td>\n",
       "      <td>125.120094</td>\n",
       "      <td>125.922225</td>\n",
       "      <td>True</td>\n",
       "      <td>False</td>\n",
       "      <td>True</td>\n",
       "      <td>0.0</td>\n",
       "      <td>0.0</td>\n",
       "      <td>0.0</td>\n",
       "      <td>0.0</td>\n",
       "      <td>0.0</td>\n",
       "      <td>0.0</td>\n",
       "      <td>1000000.0</td>\n",
       "      <td>1169</td>\n",
       "    </tr>\n",
       "    <tr>\n",
       "      <th>1559</th>\n",
       "      <td>2023-01-06 16:00:00</td>\n",
       "      <td>129.459990</td>\n",
       "      <td>125.240650</td>\n",
       "      <td>True</td>\n",
       "      <td>False</td>\n",
       "      <td>False</td>\n",
       "      <td>0.0</td>\n",
       "      <td>0.0</td>\n",
       "      <td>0.0</td>\n",
       "      <td>0.0</td>\n",
       "      <td>0.0</td>\n",
       "      <td>0.0</td>\n",
       "      <td>1000000.0</td>\n",
       "      <td>1559</td>\n",
       "    </tr>\n",
       "    <tr>\n",
       "      <th>1949</th>\n",
       "      <td>2023-01-09 16:00:00</td>\n",
       "      <td>130.140000</td>\n",
       "      <td>130.563900</td>\n",
       "      <td>True</td>\n",
       "      <td>False</td>\n",
       "      <td>True</td>\n",
       "      <td>0.0</td>\n",
       "      <td>0.0</td>\n",
       "      <td>0.0</td>\n",
       "      <td>0.0</td>\n",
       "      <td>0.0</td>\n",
       "      <td>0.0</td>\n",
       "      <td>1000000.0</td>\n",
       "      <td>1949</td>\n",
       "    </tr>\n",
       "  </tbody>\n",
       "</table>\n",
       "</div>"
      ],
      "text/plain": [
       "               timestamp           c  stop_price  eod_sig  \\\n",
       "389  2023-01-03 16:00:00  125.000000         NaN     True   \n",
       "779  2023-01-04 16:00:00  126.360000  125.797054     True   \n",
       "1169 2023-01-05 16:00:00  125.120094  125.922225     True   \n",
       "1559 2023-01-06 16:00:00  129.459990  125.240650     True   \n",
       "1949 2023-01-09 16:00:00  130.140000  130.563900     True   \n",
       "\n",
       "      overnight_ret_negative_sig  stop_sig  position  unrealized  realized  \\\n",
       "389                        False     False       0.0         0.0       0.0   \n",
       "779                        False     False       0.0         0.0       0.0   \n",
       "1169                       False      True       0.0         0.0       0.0   \n",
       "1559                       False     False       0.0         0.0       0.0   \n",
       "1949                       False      True       0.0         0.0       0.0   \n",
       "\n",
       "      commission  fee  net_pnl     equity     i  \n",
       "389          0.0  0.0      0.0  1000000.0   389  \n",
       "779          0.0  0.0      0.0  1000000.0   779  \n",
       "1169         0.0  0.0      0.0  1000000.0  1169  \n",
       "1559         0.0  0.0      0.0  1000000.0  1559  \n",
       "1949         0.0  0.0      0.0  1000000.0  1949  "
      ]
     },
     "execution_count": 2,
     "metadata": {},
     "output_type": "execute_result"
    }
   ],
   "source": [
    "df_data = strategy.df_data()\n",
    "df_data[np.isfinite(df_data.equity)].head()"
   ]
  },
  {
   "cell_type": "markdown",
   "metadata": {},
   "source": [
    "You can also look at just the PNL or just the marketdata by themselves."
   ]
  },
  {
   "cell_type": "code",
   "execution_count": 3,
   "metadata": {
    "ExecuteTime": {
     "end_time": "2023-10-24T00:45:41.598058Z",
     "start_time": "2023-10-24T00:45:41.591575Z"
    },
    "run_control": {
     "frozen": false,
     "read_only": false
    }
   },
   "outputs": [
    {
     "data": {
      "text/html": [
       "<div>\n",
       "<style scoped>\n",
       "    .dataframe tbody tr th:only-of-type {\n",
       "        vertical-align: middle;\n",
       "    }\n",
       "\n",
       "    .dataframe tbody tr th {\n",
       "        vertical-align: top;\n",
       "    }\n",
       "\n",
       "    .dataframe thead th {\n",
       "        text-align: right;\n",
       "    }\n",
       "</style>\n",
       "<table border=\"1\" class=\"dataframe\">\n",
       "  <thead>\n",
       "    <tr style=\"text-align: right;\">\n",
       "      <th></th>\n",
       "      <th>timestamp</th>\n",
       "      <th>position</th>\n",
       "      <th>unrealized</th>\n",
       "      <th>realized</th>\n",
       "      <th>commission</th>\n",
       "      <th>fee</th>\n",
       "      <th>net_pnl</th>\n",
       "      <th>equity</th>\n",
       "    </tr>\n",
       "  </thead>\n",
       "  <tbody>\n",
       "    <tr>\n",
       "      <th>15</th>\n",
       "      <td>2023-01-24 16:00:00</td>\n",
       "      <td>0.0</td>\n",
       "      <td>0.0</td>\n",
       "      <td>1.281979e+06</td>\n",
       "      <td>0.0</td>\n",
       "      <td>0.0</td>\n",
       "      <td>1.281979e+06</td>\n",
       "      <td>2.281979e+06</td>\n",
       "    </tr>\n",
       "    <tr>\n",
       "      <th>16</th>\n",
       "      <td>2023-01-25 16:00:00</td>\n",
       "      <td>0.0</td>\n",
       "      <td>0.0</td>\n",
       "      <td>1.092476e+06</td>\n",
       "      <td>0.0</td>\n",
       "      <td>0.0</td>\n",
       "      <td>1.092476e+06</td>\n",
       "      <td>2.092476e+06</td>\n",
       "    </tr>\n",
       "    <tr>\n",
       "      <th>17</th>\n",
       "      <td>2023-01-26 16:00:00</td>\n",
       "      <td>0.0</td>\n",
       "      <td>0.0</td>\n",
       "      <td>1.092476e+06</td>\n",
       "      <td>0.0</td>\n",
       "      <td>0.0</td>\n",
       "      <td>1.092476e+06</td>\n",
       "      <td>2.092476e+06</td>\n",
       "    </tr>\n",
       "    <tr>\n",
       "      <th>18</th>\n",
       "      <td>2023-01-27 16:00:00</td>\n",
       "      <td>0.0</td>\n",
       "      <td>0.0</td>\n",
       "      <td>1.583970e+06</td>\n",
       "      <td>0.0</td>\n",
       "      <td>0.0</td>\n",
       "      <td>1.583970e+06</td>\n",
       "      <td>2.583970e+06</td>\n",
       "    </tr>\n",
       "    <tr>\n",
       "      <th>19</th>\n",
       "      <td>2023-01-30 16:00:00</td>\n",
       "      <td>0.0</td>\n",
       "      <td>0.0</td>\n",
       "      <td>1.340368e+06</td>\n",
       "      <td>0.0</td>\n",
       "      <td>0.0</td>\n",
       "      <td>1.340368e+06</td>\n",
       "      <td>2.340368e+06</td>\n",
       "    </tr>\n",
       "  </tbody>\n",
       "</table>\n",
       "</div>"
      ],
      "text/plain": [
       "             timestamp  position  unrealized      realized  commission  fee  \\\n",
       "15 2023-01-24 16:00:00       0.0         0.0  1.281979e+06         0.0  0.0   \n",
       "16 2023-01-25 16:00:00       0.0         0.0  1.092476e+06         0.0  0.0   \n",
       "17 2023-01-26 16:00:00       0.0         0.0  1.092476e+06         0.0  0.0   \n",
       "18 2023-01-27 16:00:00       0.0         0.0  1.583970e+06         0.0  0.0   \n",
       "19 2023-01-30 16:00:00       0.0         0.0  1.340368e+06         0.0  0.0   \n",
       "\n",
       "         net_pnl        equity  \n",
       "15  1.281979e+06  2.281979e+06  \n",
       "16  1.092476e+06  2.092476e+06  \n",
       "17  1.092476e+06  2.092476e+06  \n",
       "18  1.583970e+06  2.583970e+06  \n",
       "19  1.340368e+06  2.340368e+06  "
      ]
     },
     "execution_count": 3,
     "metadata": {},
     "output_type": "execute_result"
    }
   ],
   "source": [
    "strategy.df_pnl().tail()"
   ]
  },
  {
   "cell_type": "markdown",
   "metadata": {},
   "source": [
    "We can look at orders and trades that were created during this run"
   ]
  },
  {
   "cell_type": "code",
   "execution_count": 4,
   "metadata": {
    "ExecuteTime": {
     "end_time": "2023-10-24T00:45:41.603525Z",
     "start_time": "2023-10-24T00:45:41.598792Z"
    },
    "run_control": {
     "frozen": false,
     "read_only": false
    }
   },
   "outputs": [
    {
     "data": {
      "text/html": [
       "<div>\n",
       "<style scoped>\n",
       "    .dataframe tbody tr th:only-of-type {\n",
       "        vertical-align: middle;\n",
       "    }\n",
       "\n",
       "    .dataframe tbody tr th {\n",
       "        vertical-align: top;\n",
       "    }\n",
       "\n",
       "    .dataframe thead th {\n",
       "        text-align: right;\n",
       "    }\n",
       "</style>\n",
       "<table border=\"1\" class=\"dataframe\">\n",
       "  <thead>\n",
       "    <tr style=\"text-align: right;\">\n",
       "      <th></th>\n",
       "      <th>symbol</th>\n",
       "      <th>type</th>\n",
       "      <th>timestamp</th>\n",
       "      <th>qty</th>\n",
       "      <th>reason_code</th>\n",
       "      <th>order_props</th>\n",
       "      <th>contract_props</th>\n",
       "    </tr>\n",
       "  </thead>\n",
       "  <tbody>\n",
       "    <tr>\n",
       "      <th>0</th>\n",
       "      <td>AAPL</td>\n",
       "      <td>MarketOrder</td>\n",
       "      <td>2023-01-13 09:31:00</td>\n",
       "      <td>0</td>\n",
       "      <td>POS_OVERNIGHT_RETURN</td>\n",
       "      <td></td>\n",
       "      <td></td>\n",
       "    </tr>\n",
       "    <tr>\n",
       "      <th>1</th>\n",
       "      <td>AAPL</td>\n",
       "      <td>MarketOrder</td>\n",
       "      <td>2023-01-13 15:59:00</td>\n",
       "      <td>0</td>\n",
       "      <td>EOD</td>\n",
       "      <td></td>\n",
       "      <td></td>\n",
       "    </tr>\n",
       "    <tr>\n",
       "      <th>2</th>\n",
       "      <td>AAPL</td>\n",
       "      <td>MarketOrder</td>\n",
       "      <td>2023-01-19 09:31:00</td>\n",
       "      <td>0</td>\n",
       "      <td>POS_OVERNIGHT_RETURN</td>\n",
       "      <td></td>\n",
       "      <td></td>\n",
       "    </tr>\n",
       "    <tr>\n",
       "      <th>3</th>\n",
       "      <td>AAPL</td>\n",
       "      <td>MarketOrder</td>\n",
       "      <td>2023-01-19 10:56:00</td>\n",
       "      <td>0</td>\n",
       "      <td>STOPPED_OUT</td>\n",
       "      <td></td>\n",
       "      <td></td>\n",
       "    </tr>\n",
       "    <tr>\n",
       "      <th>4</th>\n",
       "      <td>AAPL</td>\n",
       "      <td>MarketOrder</td>\n",
       "      <td>2023-01-20 09:31:00</td>\n",
       "      <td>0</td>\n",
       "      <td>POS_OVERNIGHT_RETURN</td>\n",
       "      <td></td>\n",
       "      <td></td>\n",
       "    </tr>\n",
       "  </tbody>\n",
       "</table>\n",
       "</div>"
      ],
      "text/plain": [
       "  symbol         type           timestamp  qty           reason_code  \\\n",
       "0   AAPL  MarketOrder 2023-01-13 09:31:00    0  POS_OVERNIGHT_RETURN   \n",
       "1   AAPL  MarketOrder 2023-01-13 15:59:00    0                   EOD   \n",
       "2   AAPL  MarketOrder 2023-01-19 09:31:00    0  POS_OVERNIGHT_RETURN   \n",
       "3   AAPL  MarketOrder 2023-01-19 10:56:00    0           STOPPED_OUT   \n",
       "4   AAPL  MarketOrder 2023-01-20 09:31:00    0  POS_OVERNIGHT_RETURN   \n",
       "\n",
       "  order_props contract_props  \n",
       "0                             \n",
       "1                             \n",
       "2                             \n",
       "3                             \n",
       "4                             "
      ]
     },
     "execution_count": 4,
     "metadata": {},
     "output_type": "execute_result"
    }
   ],
   "source": [
    "strategy.df_orders().head()"
   ]
  },
  {
   "cell_type": "code",
   "execution_count": 5,
   "metadata": {
    "ExecuteTime": {
     "end_time": "2023-10-24T00:45:41.611347Z",
     "start_time": "2023-10-24T00:45:41.604638Z"
    },
    "run_control": {
     "frozen": false,
     "read_only": false
    }
   },
   "outputs": [
    {
     "data": {
      "text/html": [
       "<div>\n",
       "<style scoped>\n",
       "    .dataframe tbody tr th:only-of-type {\n",
       "        vertical-align: middle;\n",
       "    }\n",
       "\n",
       "    .dataframe tbody tr th {\n",
       "        vertical-align: top;\n",
       "    }\n",
       "\n",
       "    .dataframe thead th {\n",
       "        text-align: right;\n",
       "    }\n",
       "</style>\n",
       "<table border=\"1\" class=\"dataframe\">\n",
       "  <thead>\n",
       "    <tr style=\"text-align: right;\">\n",
       "      <th></th>\n",
       "      <th>symbol</th>\n",
       "      <th>timestamp</th>\n",
       "      <th>qty</th>\n",
       "      <th>price</th>\n",
       "      <th>fee</th>\n",
       "      <th>commission</th>\n",
       "      <th>order_date</th>\n",
       "      <th>order_qty</th>\n",
       "      <th>reason_code</th>\n",
       "      <th>order_props</th>\n",
       "      <th>contract_props</th>\n",
       "    </tr>\n",
       "  </thead>\n",
       "  <tbody>\n",
       "    <tr>\n",
       "      <th>0</th>\n",
       "      <td>AAPL</td>\n",
       "      <td>2023-01-13 09:32:00</td>\n",
       "      <td>151471</td>\n",
       "      <td>131.77000</td>\n",
       "      <td>0</td>\n",
       "      <td>0.0</td>\n",
       "      <td>2023-01-13 09:31:00</td>\n",
       "      <td>0</td>\n",
       "      <td>POS_OVERNIGHT_RETURN</td>\n",
       "      <td></td>\n",
       "      <td></td>\n",
       "    </tr>\n",
       "    <tr>\n",
       "      <th>1</th>\n",
       "      <td>AAPL</td>\n",
       "      <td>2023-01-13 16:00:00</td>\n",
       "      <td>-151471</td>\n",
       "      <td>134.73999</td>\n",
       "      <td>0</td>\n",
       "      <td>0.0</td>\n",
       "      <td>2023-01-13 15:59:00</td>\n",
       "      <td>0</td>\n",
       "      <td>EOD</td>\n",
       "      <td></td>\n",
       "      <td></td>\n",
       "    </tr>\n",
       "    <tr>\n",
       "      <th>2</th>\n",
       "      <td>AAPL</td>\n",
       "      <td>2023-01-19 09:32:00</td>\n",
       "      <td>215649</td>\n",
       "      <td>134.77000</td>\n",
       "      <td>0</td>\n",
       "      <td>0.0</td>\n",
       "      <td>2023-01-19 09:31:00</td>\n",
       "      <td>0</td>\n",
       "      <td>POS_OVERNIGHT_RETURN</td>\n",
       "      <td></td>\n",
       "      <td></td>\n",
       "    </tr>\n",
       "    <tr>\n",
       "      <th>3</th>\n",
       "      <td>AAPL</td>\n",
       "      <td>2023-01-19 10:57:00</td>\n",
       "      <td>-215649</td>\n",
       "      <td>133.90059</td>\n",
       "      <td>0</td>\n",
       "      <td>0.0</td>\n",
       "      <td>2023-01-19 10:56:00</td>\n",
       "      <td>0</td>\n",
       "      <td>STOPPED_OUT</td>\n",
       "      <td></td>\n",
       "      <td></td>\n",
       "    </tr>\n",
       "    <tr>\n",
       "      <th>4</th>\n",
       "      <td>AAPL</td>\n",
       "      <td>2023-01-20 09:32:00</td>\n",
       "      <td>187102</td>\n",
       "      <td>134.57501</td>\n",
       "      <td>0</td>\n",
       "      <td>0.0</td>\n",
       "      <td>2023-01-20 09:31:00</td>\n",
       "      <td>0</td>\n",
       "      <td>POS_OVERNIGHT_RETURN</td>\n",
       "      <td></td>\n",
       "      <td></td>\n",
       "    </tr>\n",
       "  </tbody>\n",
       "</table>\n",
       "</div>"
      ],
      "text/plain": [
       "  symbol           timestamp     qty      price  fee  commission  \\\n",
       "0   AAPL 2023-01-13 09:32:00  151471  131.77000    0         0.0   \n",
       "1   AAPL 2023-01-13 16:00:00 -151471  134.73999    0         0.0   \n",
       "2   AAPL 2023-01-19 09:32:00  215649  134.77000    0         0.0   \n",
       "3   AAPL 2023-01-19 10:57:00 -215649  133.90059    0         0.0   \n",
       "4   AAPL 2023-01-20 09:32:00  187102  134.57501    0         0.0   \n",
       "\n",
       "           order_date  order_qty           reason_code order_props  \\\n",
       "0 2023-01-13 09:31:00          0  POS_OVERNIGHT_RETURN               \n",
       "1 2023-01-13 15:59:00          0                   EOD               \n",
       "2 2023-01-19 09:31:00          0  POS_OVERNIGHT_RETURN               \n",
       "3 2023-01-19 10:56:00          0           STOPPED_OUT               \n",
       "4 2023-01-20 09:31:00          0  POS_OVERNIGHT_RETURN               \n",
       "\n",
       "  contract_props  \n",
       "0                 \n",
       "1                 \n",
       "2                 \n",
       "3                 \n",
       "4                 "
      ]
     },
     "execution_count": 5,
     "metadata": {},
     "output_type": "execute_result"
    }
   ],
   "source": [
    "strategy.df_trades().head()"
   ]
  },
  {
   "cell_type": "code",
   "execution_count": 6,
   "metadata": {
    "ExecuteTime": {
     "end_time": "2023-10-24T00:45:41.621647Z",
     "start_time": "2023-10-24T00:45:41.613589Z"
    }
   },
   "outputs": [
    {
     "data": {
      "text/html": [
       "<div>\n",
       "<style scoped>\n",
       "    .dataframe tbody tr th:only-of-type {\n",
       "        vertical-align: middle;\n",
       "    }\n",
       "\n",
       "    .dataframe tbody tr th {\n",
       "        vertical-align: top;\n",
       "    }\n",
       "\n",
       "    .dataframe thead th {\n",
       "        text-align: right;\n",
       "    }\n",
       "</style>\n",
       "<table border=\"1\" class=\"dataframe\">\n",
       "  <thead>\n",
       "    <tr style=\"text-align: right;\">\n",
       "      <th></th>\n",
       "      <th>symbol</th>\n",
       "      <th>multiplier</th>\n",
       "      <th>entry_timestamp</th>\n",
       "      <th>exit_timestamp</th>\n",
       "      <th>qty</th>\n",
       "      <th>entry_price</th>\n",
       "      <th>exit_price</th>\n",
       "      <th>entry_reason</th>\n",
       "      <th>exit_reason</th>\n",
       "      <th>entry_commission</th>\n",
       "      <th>exit_commission</th>\n",
       "      <th>net_pnl</th>\n",
       "    </tr>\n",
       "  </thead>\n",
       "  <tbody>\n",
       "    <tr>\n",
       "      <th>0</th>\n",
       "      <td>AAPL</td>\n",
       "      <td>1.0</td>\n",
       "      <td>2023-01-13 09:32:00</td>\n",
       "      <td>2023-01-13 16:00:00</td>\n",
       "      <td>151471</td>\n",
       "      <td>131.77000</td>\n",
       "      <td>134.73999</td>\n",
       "      <td>POS_OVERNIGHT_RETURN</td>\n",
       "      <td>EOD</td>\n",
       "      <td>0.0</td>\n",
       "      <td>0.0</td>\n",
       "      <td>449867.35529</td>\n",
       "    </tr>\n",
       "    <tr>\n",
       "      <th>1</th>\n",
       "      <td>AAPL</td>\n",
       "      <td>1.0</td>\n",
       "      <td>2023-01-19 09:32:00</td>\n",
       "      <td>2023-01-19 10:57:00</td>\n",
       "      <td>215649</td>\n",
       "      <td>134.77000</td>\n",
       "      <td>133.90059</td>\n",
       "      <td>POS_OVERNIGHT_RETURN</td>\n",
       "      <td>STOPPED_OUT</td>\n",
       "      <td>0.0</td>\n",
       "      <td>0.0</td>\n",
       "      <td>-187487.39709</td>\n",
       "    </tr>\n",
       "    <tr>\n",
       "      <th>2</th>\n",
       "      <td>AAPL</td>\n",
       "      <td>1.0</td>\n",
       "      <td>2023-01-20 09:32:00</td>\n",
       "      <td>2023-01-20 16:00:00</td>\n",
       "      <td>187102</td>\n",
       "      <td>134.57501</td>\n",
       "      <td>137.87001</td>\n",
       "      <td>POS_OVERNIGHT_RETURN</td>\n",
       "      <td>EOD</td>\n",
       "      <td>0.0</td>\n",
       "      <td>0.0</td>\n",
       "      <td>616501.09000</td>\n",
       "    </tr>\n",
       "    <tr>\n",
       "      <th>3</th>\n",
       "      <td>AAPL</td>\n",
       "      <td>1.0</td>\n",
       "      <td>2023-01-24 09:32:00</td>\n",
       "      <td>2023-01-24 16:00:00</td>\n",
       "      <td>267133</td>\n",
       "      <td>141.15102</td>\n",
       "      <td>142.66000</td>\n",
       "      <td>POS_OVERNIGHT_RETURN</td>\n",
       "      <td>EOD</td>\n",
       "      <td>0.0</td>\n",
       "      <td>0.0</td>\n",
       "      <td>403098.35434</td>\n",
       "    </tr>\n",
       "    <tr>\n",
       "      <th>4</th>\n",
       "      <td>AAPL</td>\n",
       "      <td>1.0</td>\n",
       "      <td>2023-01-25 09:32:00</td>\n",
       "      <td>2023-01-25 10:38:00</td>\n",
       "      <td>326673</td>\n",
       "      <td>139.56000</td>\n",
       "      <td>138.97990</td>\n",
       "      <td>POS_OVERNIGHT_RETURN</td>\n",
       "      <td>STOPPED_OUT</td>\n",
       "      <td>0.0</td>\n",
       "      <td>0.0</td>\n",
       "      <td>-189503.00730</td>\n",
       "    </tr>\n",
       "    <tr>\n",
       "      <th>5</th>\n",
       "      <td>AAPL</td>\n",
       "      <td>1.0</td>\n",
       "      <td>2023-01-27 09:32:00</td>\n",
       "      <td>2023-01-27 16:00:00</td>\n",
       "      <td>290823</td>\n",
       "      <td>144.23999</td>\n",
       "      <td>145.93000</td>\n",
       "      <td>POS_OVERNIGHT_RETURN</td>\n",
       "      <td>EOD</td>\n",
       "      <td>0.0</td>\n",
       "      <td>0.0</td>\n",
       "      <td>491493.77823</td>\n",
       "    </tr>\n",
       "    <tr>\n",
       "      <th>6</th>\n",
       "      <td>AAPL</td>\n",
       "      <td>1.0</td>\n",
       "      <td>2023-01-30 09:32:00</td>\n",
       "      <td>2023-01-30 09:43:00</td>\n",
       "      <td>355624</td>\n",
       "      <td>145.34500</td>\n",
       "      <td>144.66000</td>\n",
       "      <td>POS_OVERNIGHT_RETURN</td>\n",
       "      <td>STOPPED_OUT</td>\n",
       "      <td>0.0</td>\n",
       "      <td>0.0</td>\n",
       "      <td>-243602.44000</td>\n",
       "    </tr>\n",
       "  </tbody>\n",
       "</table>\n",
       "</div>"
      ],
      "text/plain": [
       "  symbol  multiplier     entry_timestamp      exit_timestamp     qty  \\\n",
       "0   AAPL         1.0 2023-01-13 09:32:00 2023-01-13 16:00:00  151471   \n",
       "1   AAPL         1.0 2023-01-19 09:32:00 2023-01-19 10:57:00  215649   \n",
       "2   AAPL         1.0 2023-01-20 09:32:00 2023-01-20 16:00:00  187102   \n",
       "3   AAPL         1.0 2023-01-24 09:32:00 2023-01-24 16:00:00  267133   \n",
       "4   AAPL         1.0 2023-01-25 09:32:00 2023-01-25 10:38:00  326673   \n",
       "5   AAPL         1.0 2023-01-27 09:32:00 2023-01-27 16:00:00  290823   \n",
       "6   AAPL         1.0 2023-01-30 09:32:00 2023-01-30 09:43:00  355624   \n",
       "\n",
       "   entry_price  exit_price          entry_reason  exit_reason  \\\n",
       "0    131.77000   134.73999  POS_OVERNIGHT_RETURN          EOD   \n",
       "1    134.77000   133.90059  POS_OVERNIGHT_RETURN  STOPPED_OUT   \n",
       "2    134.57501   137.87001  POS_OVERNIGHT_RETURN          EOD   \n",
       "3    141.15102   142.66000  POS_OVERNIGHT_RETURN          EOD   \n",
       "4    139.56000   138.97990  POS_OVERNIGHT_RETURN  STOPPED_OUT   \n",
       "5    144.23999   145.93000  POS_OVERNIGHT_RETURN          EOD   \n",
       "6    145.34500   144.66000  POS_OVERNIGHT_RETURN  STOPPED_OUT   \n",
       "\n",
       "   entry_commission  exit_commission       net_pnl  \n",
       "0               0.0              0.0  449867.35529  \n",
       "1               0.0              0.0 -187487.39709  \n",
       "2               0.0              0.0  616501.09000  \n",
       "3               0.0              0.0  403098.35434  \n",
       "4               0.0              0.0 -189503.00730  \n",
       "5               0.0              0.0  491493.77823  \n",
       "6               0.0              0.0 -243602.44000  "
      ]
     },
     "execution_count": 6,
     "metadata": {},
     "output_type": "execute_result"
    }
   ],
   "source": [
    "strategy.df_roundtrip_trades()"
   ]
  },
  {
   "cell_type": "markdown",
   "metadata": {
    "ExecuteTime": {
     "end_time": "2018-08-10T21:09:59.531818Z",
     "start_time": "2018-08-10T21:09:59.499471Z"
    }
   },
   "source": [
    "You can also look at the returns at the portfolio level (i.e. summing up several strategies)"
   ]
  },
  {
   "cell_type": "code",
   "execution_count": 7,
   "metadata": {
    "ExecuteTime": {
     "end_time": "2023-10-24T00:45:41.632790Z",
     "start_time": "2023-10-24T00:45:41.622530Z"
    },
    "run_control": {
     "frozen": false,
     "read_only": false
    }
   },
   "outputs": [
    {
     "data": {
      "text/html": [
       "<div>\n",
       "<style scoped>\n",
       "    .dataframe tbody tr th:only-of-type {\n",
       "        vertical-align: middle;\n",
       "    }\n",
       "\n",
       "    .dataframe tbody tr th {\n",
       "        vertical-align: top;\n",
       "    }\n",
       "\n",
       "    .dataframe thead th {\n",
       "        text-align: right;\n",
       "    }\n",
       "</style>\n",
       "<table border=\"1\" class=\"dataframe\">\n",
       "  <thead>\n",
       "    <tr style=\"text-align: right;\">\n",
       "      <th></th>\n",
       "      <th>timestamp</th>\n",
       "      <th>net_pnl</th>\n",
       "      <th>equity</th>\n",
       "      <th>ret</th>\n",
       "    </tr>\n",
       "  </thead>\n",
       "  <tbody>\n",
       "    <tr>\n",
       "      <th>22</th>\n",
       "      <td>2023-01-24</td>\n",
       "      <td>1.281979e+06</td>\n",
       "      <td>2.281979e+06</td>\n",
       "      <td>0.214542</td>\n",
       "    </tr>\n",
       "    <tr>\n",
       "      <th>23</th>\n",
       "      <td>2023-01-25</td>\n",
       "      <td>1.092476e+06</td>\n",
       "      <td>2.092476e+06</td>\n",
       "      <td>-0.083043</td>\n",
       "    </tr>\n",
       "    <tr>\n",
       "      <th>24</th>\n",
       "      <td>2023-01-26</td>\n",
       "      <td>1.092476e+06</td>\n",
       "      <td>2.092476e+06</td>\n",
       "      <td>0.000000</td>\n",
       "    </tr>\n",
       "    <tr>\n",
       "      <th>25</th>\n",
       "      <td>2023-01-27</td>\n",
       "      <td>1.583970e+06</td>\n",
       "      <td>2.583970e+06</td>\n",
       "      <td>0.234886</td>\n",
       "    </tr>\n",
       "    <tr>\n",
       "      <th>28</th>\n",
       "      <td>2023-01-30</td>\n",
       "      <td>1.340368e+06</td>\n",
       "      <td>2.340368e+06</td>\n",
       "      <td>-0.094274</td>\n",
       "    </tr>\n",
       "  </tbody>\n",
       "</table>\n",
       "</div>"
      ],
      "text/plain": [
       "    timestamp       net_pnl        equity       ret\n",
       "22 2023-01-24  1.281979e+06  2.281979e+06  0.214542\n",
       "23 2023-01-25  1.092476e+06  2.092476e+06 -0.083043\n",
       "24 2023-01-26  1.092476e+06  2.092476e+06  0.000000\n",
       "25 2023-01-27  1.583970e+06  2.583970e+06  0.234886\n",
       "28 2023-01-30  1.340368e+06  2.340368e+06 -0.094274"
      ]
     },
     "execution_count": 7,
     "metadata": {},
     "output_type": "execute_result"
    }
   ],
   "source": [
    "strategy.df_returns().tail()"
   ]
  },
  {
   "cell_type": "markdown",
   "metadata": {},
   "source": [
    "We can get data as native Python objects as opposed to pandas dataframes."
   ]
  },
  {
   "cell_type": "code",
   "execution_count": 8,
   "metadata": {
    "ExecuteTime": {
     "end_time": "2023-10-24T00:45:41.636409Z",
     "start_time": "2023-10-24T00:45:41.633977Z"
    },
    "run_control": {
     "frozen": false,
     "read_only": false
    }
   },
   "outputs": [
    {
     "data": {
      "text/plain": [
       "[AAPL  2023-01-13 09:32:00 qty: 151471 prc: 131.77   order: AAPL 2023-01-13 09:31:00 qty: 0 POS_OVERNIGHT_RETURN  OrderStatus.FILLED ,\n",
       " AAPL  2023-01-13 16:00:00 qty: -151471 prc: 134.74   order: AAPL 2023-01-13 15:59:00 qty: 0 EOD  OrderStatus.FILLED ]"
      ]
     },
     "execution_count": 8,
     "metadata": {},
     "output_type": "execute_result"
    }
   ],
   "source": [
    "strategy.trades(start_date = np.datetime64('2023-01-13'), end_date = np.datetime64('2023-01-15'))"
   ]
  },
  {
   "cell_type": "markdown",
   "metadata": {},
   "source": [
    "## Adding your Own Metrics ##\n",
    "\n",
    "Each strategy may have metrics that you want to measure that are specific to that strategy.  To add these, you can use the Evaluator object which can make things easier.\n",
    "\n",
    "To evaluate a strategy we use the evaluate returns function."
   ]
  },
  {
   "cell_type": "code",
   "execution_count": 9,
   "metadata": {
    "ExecuteTime": {
     "end_time": "2023-10-24T00:45:41.651863Z",
     "start_time": "2023-10-24T00:45:41.637266Z"
    },
    "run_control": {
     "frozen": false,
     "read_only": false
    }
   },
   "outputs": [
    {
     "data": {
      "text/html": [
       "<div>\n",
       "<style scoped>\n",
       "    .dataframe tbody tr th:only-of-type {\n",
       "        vertical-align: middle;\n",
       "    }\n",
       "\n",
       "    .dataframe tbody tr th {\n",
       "        vertical-align: top;\n",
       "    }\n",
       "\n",
       "    .dataframe thead th {\n",
       "        text-align: right;\n",
       "    }\n",
       "</style>\n",
       "<table border=\"1\" class=\"dataframe\">\n",
       "  <thead>\n",
       "    <tr style=\"text-align: right;\">\n",
       "      <th></th>\n",
       "      <th>gmean</th>\n",
       "      <th>amean</th>\n",
       "      <th>std</th>\n",
       "      <th>shrp</th>\n",
       "      <th>srt</th>\n",
       "      <th>k</th>\n",
       "      <th>calmar</th>\n",
       "      <th>mar</th>\n",
       "      <th>mdd_pct</th>\n",
       "      <th>mdd_dates</th>\n",
       "      <th>dd_3y_pct</th>\n",
       "      <th>dd_3y_timestamps</th>\n",
       "      <th>up_dwn</th>\n",
       "      <th>2023</th>\n",
       "    </tr>\n",
       "  </thead>\n",
       "  <tbody>\n",
       "    <tr>\n",
       "      <th></th>\n",
       "      <td>7.904e+04</td>\n",
       "      <td>13.62</td>\n",
       "      <td>0.1606</td>\n",
       "      <td>5.341</td>\n",
       "      <td>23.01</td>\n",
       "      <td>6.003</td>\n",
       "      <td>105.3</td>\n",
       "      <td>105.3</td>\n",
       "      <td>0.1293</td>\n",
       "      <td>2023-01-18/2023-01-19</td>\n",
       "      <td>0.1293</td>\n",
       "      <td>2023-01-18/2023-01-19</td>\n",
       "      <td>4/3/0.571</td>\n",
       "      <td>7.904e+04</td>\n",
       "    </tr>\n",
       "  </tbody>\n",
       "</table>\n",
       "</div>"
      ],
      "text/plain": [
       "      gmean  amean     std   shrp    srt      k calmar    mar mdd_pct  \\\n",
       "  7.904e+04  13.62  0.1606  5.341  23.01  6.003  105.3  105.3  0.1293   \n",
       "\n",
       "              mdd_dates dd_3y_pct       dd_3y_timestamps     up_dwn       2023  \n",
       "  2023-01-18/2023-01-19    0.1293  2023-01-18/2023-01-19  4/3/0.571  7.904e+04  "
      ]
     },
     "metadata": {},
     "output_type": "display_data"
    }
   ],
   "source": [
    "strategy.evaluate_returns(plot = False);"
   ]
  },
  {
   "cell_type": "markdown",
   "metadata": {},
   "source": [
    "What if we want to add some more metrics to this.  For example, lets say we want to add a metric that looks at how many long trades we had versus short trades.  We can do this using an Evaluator object."
   ]
  },
  {
   "cell_type": "code",
   "execution_count": 10,
   "metadata": {
    "ExecuteTime": {
     "end_time": "2023-10-24T00:45:41.655402Z",
     "start_time": "2023-10-24T00:45:41.652899Z"
    },
    "run_control": {
     "frozen": false,
     "read_only": false
    }
   },
   "outputs": [
    {
     "name": "stdout",
     "output_type": "stream",
     "text": [
      "Stopped Tradess: 3\n"
     ]
    }
   ],
   "source": [
    "def compute_num_stopped_trades(trades):\n",
    "    return len([trade for trade in trades if trade.order.reason_code == 'STOPPED_OUT'])\n",
    "\n",
    "evaluator = pq.Evaluator(initial_metrics = {'trades' : strategy.trades()})\n",
    "\n",
    "evaluator.add_metric('num_stopped_trades', compute_num_stopped_trades, dependencies = ['trades'])\n",
    "\n",
    "evaluator.compute()\n",
    "\n",
    "print(f'Stopped Tradess: {evaluator.metric(\"num_stopped_trades\")}')"
   ]
  },
  {
   "cell_type": "markdown",
   "metadata": {
    "ExecuteTime": {
     "end_time": "2018-08-10T21:35:46.005492Z",
     "start_time": "2018-08-10T21:35:46.002539Z"
    }
   },
   "source": [
    "The Evaluator takes care of dependency management so that if you want to compute a metric that relies on other metrics, it will compute the metrics in the right order.\n",
    "\n",
    "Lets compute Maximum Adverse Execution for each trade.  MAE tells you the maximum loss each trade had during its lifetime. It's useful for figuring out where to put trailing stops. For example, if most of your profitable trades had a maximum loss during their life up to 5% but many losing trades had losses of 50% and 60%, it might make sense to place a trailing stop around 6% or 7% so you don't get stopped out of your profitable trades but get out of the losing ones quickly. See Jaekle and Tomasini, page 66 for details"
   ]
  },
  {
   "cell_type": "code",
   "execution_count": 11,
   "metadata": {
    "ExecuteTime": {
     "end_time": "2023-10-24T00:45:41.880024Z",
     "start_time": "2023-10-24T00:45:41.656442Z"
    },
    "run_control": {
     "frozen": false,
     "read_only": false
    }
   },
   "outputs": [
    {
     "ename": "TypeError",
     "evalue": "unhashable type: 'ContractGroup'",
     "output_type": "error",
     "traceback": [
      "\u001b[0;31m---------------------------------------------------------------------------\u001b[0m",
      "\u001b[0;31mTypeError\u001b[0m                                 Traceback (most recent call last)",
      "Cell \u001b[0;32mIn[11], line 15\u001b[0m\n\u001b[1;32m     11\u001b[0m     \u001b[38;5;28;01mreturn\u001b[39;00m mae, round_trip_pnl\n\u001b[1;32m     13\u001b[0m contract_group \u001b[38;5;241m=\u001b[39m strategy\u001b[38;5;241m.\u001b[39mcontract_groups[\u001b[38;5;241m0\u001b[39m]\n\u001b[1;32m     14\u001b[0m evaluator \u001b[38;5;241m=\u001b[39m pq\u001b[38;5;241m.\u001b[39mEvaluator(initial_metrics \u001b[38;5;241m=\u001b[39m {\u001b[38;5;124m'\u001b[39m\u001b[38;5;124mrt_trades\u001b[39m\u001b[38;5;124m'\u001b[39m : strategy\u001b[38;5;241m.\u001b[39mroundtrip_trades(),\n\u001b[0;32m---> 15\u001b[0m                                             \u001b[38;5;124m'\u001b[39m\u001b[38;5;124mc\u001b[39m\u001b[38;5;124m'\u001b[39m : \u001b[101mstrategy\u001b[49m\u001b[38;5;241;101m.\u001b[39;49m\u001b[101mindicator_values\u001b[49m\u001b[101m[\u001b[49m\u001b[101mcontract_group\u001b[49m\u001b[101m]\u001b[49m\u001b[38;5;241m.\u001b[39mc,\n\u001b[1;32m     16\u001b[0m                                             \u001b[38;5;124m'\u001b[39m\u001b[38;5;124mtimestamps\u001b[39m\u001b[38;5;124m'\u001b[39m : strategy\u001b[38;5;241m.\u001b[39mtimestamps})\n\u001b[1;32m     17\u001b[0m evaluator\u001b[38;5;241m.\u001b[39madd_metric(\u001b[38;5;124m'\u001b[39m\u001b[38;5;124mmae\u001b[39m\u001b[38;5;124m'\u001b[39m, compute_mae, dependencies\u001b[38;5;241m=\u001b[39m[\u001b[38;5;124m'\u001b[39m\u001b[38;5;124mrt_trades\u001b[39m\u001b[38;5;124m'\u001b[39m, \u001b[38;5;124m'\u001b[39m\u001b[38;5;124mc\u001b[39m\u001b[38;5;124m'\u001b[39m, \u001b[38;5;124m'\u001b[39m\u001b[38;5;124mtimestamps\u001b[39m\u001b[38;5;124m'\u001b[39m])\n\u001b[1;32m     18\u001b[0m evaluator\u001b[38;5;241m.\u001b[39mcompute()\n",
      "\u001b[0;31mTypeError\u001b[0m: unhashable type: 'ContractGroup'"
     ]
    }
   ],
   "source": [
    "def compute_mae(rt_trades, c, timestamps):\n",
    "    mae = np.full(len(rt_trades), np.nan)\n",
    "    round_trip_pnl = np.full(len(rt_trades), np.nan)\n",
    "\n",
    "    for i, rt in enumerate(rt_trades):\n",
    "        _c = c[(timestamps >= rt.entry_timestamp) & (timestamps <= rt.exit_timestamp)]\n",
    "        _mae = np.min(_c) / rt.entry_price - 1\n",
    "        _mae = min(0, _mae)   # if we did not get a drawdown for this trade\n",
    "        mae[i] = -_mae\n",
    "        round_trip_pnl[i] = rt.net_pnl / rt.qty # Also store round trip pnl for this trade for plotting\n",
    "    return mae, round_trip_pnl\n",
    "        \n",
    "contract_group = strategy.contract_groups[0]\n",
    "evaluator = pq.Evaluator(initial_metrics = {'rt_trades' : strategy.roundtrip_trades(),\n",
    "                                            'c' : strategy.indicator_values[contract_group].c,\n",
    "                                            'timestamps' : strategy.timestamps})\n",
    "evaluator.add_metric('mae', compute_mae, dependencies=['rt_trades', 'c', 'timestamps'])\n",
    "evaluator.compute()"
   ]
  },
  {
   "cell_type": "markdown",
   "metadata": {},
   "source": [
    "We could have easily run the same computation without using the Evaluator.  The main advantage of using the Evaluator is that you can reuse other metrics you are dependent on without having to recompute them each time, i.e it provides a local cache of metrics."
   ]
  },
  {
   "cell_type": "code",
   "execution_count": null,
   "metadata": {
    "ExecuteTime": {
     "end_time": "2023-10-24T00:45:41.880953Z",
     "start_time": "2023-10-24T00:45:41.880943Z"
    },
    "run_control": {
     "frozen": false,
     "read_only": false
    }
   },
   "outputs": [],
   "source": [
    "mae = evaluator.metric('mae')[0]\n",
    "round_trip_pnl = evaluator.metric('mae')[1] \n",
    "\n",
    "# Separate out positive trades from negative trades\n",
    "round_trip_profit = round_trip_pnl[round_trip_pnl >= 0]\n",
    "mae_profit = mae[round_trip_pnl >= 0] \n",
    "\n",
    "round_trip_loss = round_trip_pnl[round_trip_pnl <= 0]\n",
    "mae_loss = mae[round_trip_pnl <= 0]\n",
    "\n",
    "import plotly.graph_objects as go\n",
    "fig = go.Figure()\n",
    "winners = go.Scatter(name='Profitable Trade', x=mae_profit, y=round_trip_profit, mode='markers', marker_color='green', marker_size=10, marker_symbol='triangle-up')\n",
    "losers = go.Scatter(name='Losing Trade', x=mae_loss, y=-round_trip_loss, mode='markers', marker_color='red', marker_size=10, marker_symbol='triangle-down')\n",
    "fig.add_trace(winners)\n",
    "fig.add_trace(losers)\n",
    "fig.add_hline(y=0, opacity=0.25)\n",
    "fig.add_vline(x=0, opacity=0.25)\n",
    "fig.update_xaxes(title_text='Drawdown %')\n",
    "fig.update_yaxes(title_text='Profit / Loss %')\n",
    "fig.show()"
   ]
  },
  {
   "cell_type": "markdown",
   "metadata": {},
   "source": [
    "It looks like a good place to put a stop loss so we keep most of the winning trades but don't take big losses might be around 0.3%"
   ]
  }
 ],
 "metadata": {
  "kernelspec": {
   "display_name": "Python 3 (ipykernel)",
   "language": "python",
   "name": "python3"
  },
  "language_info": {
   "codemirror_mode": {
    "name": "ipython",
    "version": 3
   },
   "file_extension": ".py",
   "mimetype": "text/x-python",
   "name": "python",
   "nbconvert_exporter": "python",
   "pygments_lexer": "ipython3",
   "version": "3.10.12"
  },
  "latex_envs": {
   "LaTeX_envs_menu_present": true,
   "autoclose": false,
   "autocomplete": true,
   "bibliofile": "biblio.bib",
   "cite_by": "apalike",
   "current_citInitial": 1,
   "eqLabelWithNumbers": true,
   "eqNumInitial": 1,
   "hotkeys": {
    "equation": "Ctrl-E",
    "itemize": "Ctrl-I"
   },
   "labels_anchors": false,
   "latex_user_defs": false,
   "report_style_numbering": false,
   "user_envs_cfg": false
  }
 },
 "nbformat": 4,
 "nbformat_minor": 2
}
